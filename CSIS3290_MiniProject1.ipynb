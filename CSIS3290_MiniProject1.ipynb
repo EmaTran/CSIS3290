{
  "nbformat": 4,
  "nbformat_minor": 0,
  "metadata": {
    "colab": {
      "name": "CSIS3290_MiniProject1.ipynb",
      "provenance": [],
      "collapsed_sections": [],
      "authorship_tag": "ABX9TyMlyio16Ttrzc0FquMPRPpi",
      "include_colab_link": true
    },
    "kernelspec": {
      "name": "python3",
      "display_name": "Python 3"
    }
  },
  "cells": [
    {
      "cell_type": "markdown",
      "metadata": {
        "id": "view-in-github",
        "colab_type": "text"
      },
      "source": [
        "<a href=\"https://colab.research.google.com/github/EmaTran/CSIS3290_MiniProject1/blob/main/CSIS3290_MiniProject1.ipynb\" target=\"_parent\"><img src=\"https://colab.research.google.com/assets/colab-badge.svg\" alt=\"Open In Colab\"/></a>"
      ]
    },
    {
      "cell_type": "code",
      "metadata": {
        "colab": {
          "base_uri": "https://localhost:8080/"
        },
        "id": "G4gV3H2djBUM",
        "outputId": "7b8b653a-ee20-4450-bd82-08c0c8e829b2"
      },
      "source": [
        "print(\"Hello team\")"
      ],
      "execution_count": null,
      "outputs": [
        {
          "output_type": "stream",
          "text": [
            "Hello world\n"
          ],
          "name": "stdout"
        }
      ]
    },
    {
      "cell_type": "markdown",
      "metadata": {
        "id": "Ca2frybn4hU7"
      },
      "source": [
        "# 1. Title, Name and References"
      ]
    },
    {
      "cell_type": "markdown",
      "metadata": {
        "id": "gth_DpPO4lSl"
      },
      "source": [
        "Include a title of your regression project. Include your name and student ID. Add information about\r\n",
        "any references you used to help complete the project"
      ]
    },
    {
      "cell_type": "markdown",
      "metadata": {
        "id": "Z2G3-8zt5N5t"
      },
      "source": [
        "####Team member\r\n",
        "1. Ngoc Chau Tran - 300307368\r\n",
        "2.\r\n",
        "3. \r\n",
        "4. "
      ]
    },
    {
      "cell_type": "markdown",
      "metadata": {
        "id": "OPQlTA9V5a4A"
      },
      "source": [
        "####Reference\r\n"
      ]
    },
    {
      "cell_type": "markdown",
      "metadata": {
        "id": "fxM-jJdW4s3Z"
      },
      "source": [
        "# 2. Library import and data loading"
      ]
    },
    {
      "cell_type": "code",
      "metadata": {
        "id": "lvT6LLFdojvY"
      },
      "source": [
        "import pandas as pd\r\n",
        "import numpy as np"
      ],
      "execution_count": 6,
      "outputs": []
    },
    {
      "cell_type": "code",
      "metadata": {
        "colab": {
          "base_uri": "https://localhost:8080/"
        },
        "id": "mEcSIGue3KN0",
        "outputId": "20691c15-58d3-4080-dc17-96988a0e4fac"
      },
      "source": [
        "#read file from google drive, I create this in case we didnt need to upload file everytime we ran code, we can do read file on jupyter after saving it later\n",
        "from google.colab import drive\n",
        "drive.mount('/content/drive')"
      ],
      "execution_count": 4,
      "outputs": [
        {
          "output_type": "stream",
          "text": [
            "Drive already mounted at /content/drive; to attempt to forcibly remount, call drive.mount(\"/content/drive\", force_remount=True).\n"
          ],
          "name": "stdout"
        }
      ]
    },
    {
      "cell_type": "code",
      "metadata": {
        "id": "0zUnEf3c2z1W"
      },
      "source": [
        "path = \"/content/drive/MyDrive/CSIS 3290 - Python (ML)-Ivan/Projects/1/unclean_data.csv\"\r\n",
        "df_bonus = pd.read_csv(path)\r\n",
        "# Dataset is now stored in a Pandas Dataframe"
      ],
      "execution_count": 7,
      "outputs": []
    },
    {
      "cell_type": "code",
      "metadata": {
        "id": "N1_4RJPy59ZP"
      },
      "source": [
        ""
      ],
      "execution_count": null,
      "outputs": []
    },
    {
      "cell_type": "markdown",
      "metadata": {
        "id": "_43g_eVy4z0f"
      },
      "source": [
        "# 3. Data Analysis, Preparation and Wrangling"
      ]
    },
    {
      "cell_type": "markdown",
      "metadata": {
        "id": "ZYkFyGDo5qNI"
      },
      "source": [
        "# 4. Exploratory Data Analysis and Visualization"
      ]
    },
    {
      "cell_type": "code",
      "metadata": {
        "id": "lfZZp6f84upg"
      },
      "source": [
        ""
      ],
      "execution_count": 7,
      "outputs": []
    },
    {
      "cell_type": "markdown",
      "metadata": {
        "id": "nBCrpa615sZT"
      },
      "source": [
        "# 5. Feature Observation and Hypothesis"
      ]
    },
    {
      "cell_type": "code",
      "metadata": {
        "id": "pDoUnvw55t6_"
      },
      "source": [
        ""
      ],
      "execution_count": null,
      "outputs": []
    },
    {
      "cell_type": "markdown",
      "metadata": {
        "id": "p26HUA4Q5vg6"
      },
      "source": [
        "# 6. A Simple Linear Regression Model"
      ]
    },
    {
      "cell_type": "code",
      "metadata": {
        "id": "55lu48225wzo"
      },
      "source": [
        ""
      ],
      "execution_count": null,
      "outputs": []
    },
    {
      "cell_type": "markdown",
      "metadata": {
        "id": "pFA89H1a50hV"
      },
      "source": [
        "# 7. Linear Regression Model with Lasso/Ridge"
      ]
    },
    {
      "cell_type": "code",
      "metadata": {
        "id": "MEKFdVIk51ko"
      },
      "source": [
        ""
      ],
      "execution_count": null,
      "outputs": []
    },
    {
      "cell_type": "markdown",
      "metadata": {
        "id": "Q8UtsIJN52tf"
      },
      "source": [
        "# 8. Polynomial Regression Model (with Lasso/Ridge)"
      ]
    },
    {
      "cell_type": "code",
      "metadata": {
        "id": "yu534T_d53pX"
      },
      "source": [
        ""
      ],
      "execution_count": null,
      "outputs": []
    }
  ]
}