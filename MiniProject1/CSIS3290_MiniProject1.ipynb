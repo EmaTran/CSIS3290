{
 "cells": [
  {
   "cell_type": "code",
   "execution_count": 1,
   "metadata": {
    "colab": {
     "base_uri": "https://localhost:8080/"
    },
    "id": "G4gV3H2djBUM",
    "outputId": "5d2e7032-aa3d-4ed9-c534-ee67517c4b3a"
   },
   "outputs": [
    {
     "name": "stdout",
     "output_type": "stream",
     "text": [
      "Hello team\n"
     ]
    }
   ],
   "source": [
    "print(\"Hello team\")"
   ]
  },
  {
   "cell_type": "markdown",
   "metadata": {
    "id": "Ca2frybn4hU7"
   },
   "source": [
    "# 1. Title, Name and References"
   ]
  },
  {
   "cell_type": "markdown",
   "metadata": {
    "id": "gth_DpPO4lSl"
   },
   "source": [
    "Include a title of your regression project. Include your name and student ID. Add information about\n",
    "any references you used to help complete the project"
   ]
  },
  {
   "cell_type": "markdown",
   "metadata": {
    "id": "Z2G3-8zt5N5t"
   },
   "source": [
    "#### Team member\n",
    "1. Ngoc Chau Tran - 300307368\n",
    "2. Leozítor Floro de Souza - 300334919\n",
    "3. Carolina Henrique de Melo Louback - 300306289\n",
    "4. "
   ]
  },
  {
   "cell_type": "markdown",
   "metadata": {
    "id": "OPQlTA9V5a4A"
   },
   "source": [
    "#### Reference\n"
   ]
  },
  {
   "cell_type": "markdown",
   "metadata": {
    "id": "fxM-jJdW4s3Z"
   },
   "source": [
    "# 2. Library import and data loading"
   ]
  },
  {
   "cell_type": "code",
   "execution_count": 2,
   "metadata": {
    "colab": {
     "base_uri": "https://localhost:8080/"
    },
    "id": "lvT6LLFdojvY",
    "outputId": "158a9cfc-f599-4f06-e980-9d1654c3041f"
   },
   "outputs": [
    {
     "name": "stdout",
     "output_type": "stream",
     "text": [
      "Requirement already up-to-date: scikit-learn in c:\\users\\takil\\anaconda3\\lib\\site-packages (0.24.1)\n",
      "Requirement already up-to-date: pandas in c:\\users\\takil\\anaconda3\\lib\\site-packages (1.2.1)\n",
      "Requirement already up-to-date: numpy in c:\\users\\takil\\anaconda3\\lib\\site-packages (1.20.1)\n",
      "Requirement already satisfied, skipping upgrade: threadpoolctl>=2.0.0 in c:\\users\\takil\\anaconda3\\lib\\site-packages (from scikit-learn) (2.1.0)\n",
      "Requirement already satisfied, skipping upgrade: joblib>=0.11 in c:\\users\\takil\\anaconda3\\lib\\site-packages (from scikit-learn) (0.16.0)\n",
      "Requirement already satisfied, skipping upgrade: scipy>=0.19.1 in c:\\users\\takil\\anaconda3\\lib\\site-packages (from scikit-learn) (1.5.0)\n",
      "Requirement already satisfied, skipping upgrade: python-dateutil>=2.7.3 in c:\\users\\takil\\anaconda3\\lib\\site-packages (from pandas) (2.8.1)\n",
      "Requirement already satisfied, skipping upgrade: pytz>=2017.3 in c:\\users\\takil\\anaconda3\\lib\\site-packages (from pandas) (2020.1)\n",
      "Requirement already satisfied, skipping upgrade: six>=1.5 in c:\\users\\takil\\anaconda3\\lib\\site-packages (from python-dateutil>=2.7.3->pandas) (1.15.0)\n"
     ]
    }
   ],
   "source": [
    "!pip install --upgrade scikit-learn pandas numpy\n",
    "import pandas as pd\n",
    "import numpy as np\n",
    "import matplotlib.pyplot as plt\n",
    "\n",
    "from sklearn import datasets, linear_model\n",
    "from sklearn.model_selection import train_test_split\n",
    "from sklearn.metrics import mean_squared_error, r2_score\n",
    "\n",
    "import seaborn as sns\n",
    "%matplotlib inline"
   ]
  },
  {
   "cell_type": "code",
   "execution_count": 3,
   "metadata": {
    "colab": {
     "base_uri": "https://localhost:8080/",
     "height": 606
    },
    "id": "0zUnEf3c2z1W",
    "outputId": "20c67c78-638f-48a0-99dd-45483a793d09"
   },
   "outputs": [
    {
     "data": {
      "text/html": [
       "<div>\n",
       "<style scoped>\n",
       "    .dataframe tbody tr th:only-of-type {\n",
       "        vertical-align: middle;\n",
       "    }\n",
       "\n",
       "    .dataframe tbody tr th {\n",
       "        vertical-align: top;\n",
       "    }\n",
       "\n",
       "    .dataframe thead th {\n",
       "        text-align: right;\n",
       "    }\n",
       "</style>\n",
       "<table border=\"1\" class=\"dataframe\">\n",
       "  <thead>\n",
       "    <tr style=\"text-align: right;\">\n",
       "      <th></th>\n",
       "      <th>model</th>\n",
       "      <th>year</th>\n",
       "      <th>price</th>\n",
       "      <th>transmission</th>\n",
       "      <th>mileage</th>\n",
       "      <th>fuel type</th>\n",
       "      <th>engine size</th>\n",
       "      <th>mileage2</th>\n",
       "      <th>fuel type2</th>\n",
       "      <th>engine size2</th>\n",
       "      <th>reference</th>\n",
       "    </tr>\n",
       "  </thead>\n",
       "  <tbody>\n",
       "    <tr>\n",
       "      <th>0</th>\n",
       "      <td>C Class</td>\n",
       "      <td>2020.0</td>\n",
       "      <td>£30,495</td>\n",
       "      <td>Automatic</td>\n",
       "      <td>NaN</td>\n",
       "      <td>Diesel</td>\n",
       "      <td>2</td>\n",
       "      <td>1,200</td>\n",
       "      <td>NaN</td>\n",
       "      <td>NaN</td>\n",
       "      <td>/ad/25017331</td>\n",
       "    </tr>\n",
       "    <tr>\n",
       "      <th>1</th>\n",
       "      <td>C Class</td>\n",
       "      <td>2020.0</td>\n",
       "      <td>£29,989</td>\n",
       "      <td>Automatic</td>\n",
       "      <td>NaN</td>\n",
       "      <td>Petrol</td>\n",
       "      <td>1.5</td>\n",
       "      <td>1,000</td>\n",
       "      <td>NaN</td>\n",
       "      <td>NaN</td>\n",
       "      <td>/ad/25043746</td>\n",
       "    </tr>\n",
       "    <tr>\n",
       "      <th>2</th>\n",
       "      <td>C Class</td>\n",
       "      <td>2020.0</td>\n",
       "      <td>£37,899</td>\n",
       "      <td>Automatic</td>\n",
       "      <td>NaN</td>\n",
       "      <td>Diesel</td>\n",
       "      <td>2</td>\n",
       "      <td>500</td>\n",
       "      <td>NaN</td>\n",
       "      <td>NaN</td>\n",
       "      <td>/ad/25142894</td>\n",
       "    </tr>\n",
       "    <tr>\n",
       "      <th>3</th>\n",
       "      <td>C Class</td>\n",
       "      <td>2019.0</td>\n",
       "      <td>£30,399</td>\n",
       "      <td>Automatic</td>\n",
       "      <td>NaN</td>\n",
       "      <td>Diesel</td>\n",
       "      <td>2</td>\n",
       "      <td>5,000</td>\n",
       "      <td>NaN</td>\n",
       "      <td>NaN</td>\n",
       "      <td>/ad/24942816</td>\n",
       "    </tr>\n",
       "    <tr>\n",
       "      <th>4</th>\n",
       "      <td>C Class</td>\n",
       "      <td>2019.0</td>\n",
       "      <td>£29,899</td>\n",
       "      <td>Automatic</td>\n",
       "      <td>NaN</td>\n",
       "      <td>Diesel</td>\n",
       "      <td>2</td>\n",
       "      <td>4,500</td>\n",
       "      <td>NaN</td>\n",
       "      <td>NaN</td>\n",
       "      <td>/ad/24913660</td>\n",
       "    </tr>\n",
       "    <tr>\n",
       "      <th>...</th>\n",
       "      <td>...</td>\n",
       "      <td>...</td>\n",
       "      <td>...</td>\n",
       "      <td>...</td>\n",
       "      <td>...</td>\n",
       "      <td>...</td>\n",
       "      <td>...</td>\n",
       "      <td>...</td>\n",
       "      <td>...</td>\n",
       "      <td>...</td>\n",
       "      <td>...</td>\n",
       "    </tr>\n",
       "    <tr>\n",
       "      <th>4001</th>\n",
       "      <td>C Class</td>\n",
       "      <td>2017.0</td>\n",
       "      <td>£14,700</td>\n",
       "      <td>Manual</td>\n",
       "      <td>31,357</td>\n",
       "      <td>25</td>\n",
       "      <td>£150</td>\n",
       "      <td>70.6</td>\n",
       "      <td>Diesel</td>\n",
       "      <td>1.598</td>\n",
       "      <td>/ad/25451436</td>\n",
       "    </tr>\n",
       "    <tr>\n",
       "      <th>4002</th>\n",
       "      <td>C Class</td>\n",
       "      <td>2018.0</td>\n",
       "      <td>£18,500</td>\n",
       "      <td>Automatic</td>\n",
       "      <td>28,248</td>\n",
       "      <td>31</td>\n",
       "      <td>£150</td>\n",
       "      <td>64.2</td>\n",
       "      <td>Diesel</td>\n",
       "      <td>2.143</td>\n",
       "      <td>/ad/25451481</td>\n",
       "    </tr>\n",
       "    <tr>\n",
       "      <th>4003</th>\n",
       "      <td>C Class</td>\n",
       "      <td>2014.0</td>\n",
       "      <td>£11,900</td>\n",
       "      <td>Manual</td>\n",
       "      <td>48,055</td>\n",
       "      <td>31</td>\n",
       "      <td>£20</td>\n",
       "      <td>65.7</td>\n",
       "      <td>Diesel</td>\n",
       "      <td>2.143</td>\n",
       "      <td>/ad/25057204</td>\n",
       "    </tr>\n",
       "    <tr>\n",
       "      <th>4004</th>\n",
       "      <td>C Class</td>\n",
       "      <td>2014.0</td>\n",
       "      <td>£11,300</td>\n",
       "      <td>Automatic</td>\n",
       "      <td>49,865</td>\n",
       "      <td>46</td>\n",
       "      <td>£145</td>\n",
       "      <td>56.5</td>\n",
       "      <td>Diesel</td>\n",
       "      <td>2.143</td>\n",
       "      <td>/ad/25144481</td>\n",
       "    </tr>\n",
       "    <tr>\n",
       "      <th>4005</th>\n",
       "      <td>C Class</td>\n",
       "      <td>2014.0</td>\n",
       "      <td>£14,800</td>\n",
       "      <td>Automatic</td>\n",
       "      <td>55,445</td>\n",
       "      <td>37</td>\n",
       "      <td>£30</td>\n",
       "      <td>64.2</td>\n",
       "      <td>Diesel</td>\n",
       "      <td>2.143</td>\n",
       "      <td>/ad/25154247</td>\n",
       "    </tr>\n",
       "  </tbody>\n",
       "</table>\n",
       "<p>4006 rows × 11 columns</p>\n",
       "</div>"
      ],
      "text/plain": [
       "         model    year     price transmission mileage fuel type engine size  \\\n",
       "0      C Class  2020.0   £30,495    Automatic     NaN    Diesel           2   \n",
       "1      C Class  2020.0   £29,989    Automatic     NaN    Petrol         1.5   \n",
       "2      C Class  2020.0   £37,899    Automatic     NaN    Diesel           2   \n",
       "3      C Class  2019.0   £30,399    Automatic     NaN    Diesel           2   \n",
       "4      C Class  2019.0   £29,899    Automatic     NaN    Diesel           2   \n",
       "...        ...     ...       ...          ...     ...       ...         ...   \n",
       "4001   C Class  2017.0   £14,700       Manual  31,357        25        £150   \n",
       "4002   C Class  2018.0   £18,500    Automatic  28,248        31        £150   \n",
       "4003   C Class  2014.0   £11,900       Manual  48,055        31         £20   \n",
       "4004   C Class  2014.0   £11,300    Automatic  49,865        46        £145   \n",
       "4005   C Class  2014.0   £14,800    Automatic  55,445        37         £30   \n",
       "\n",
       "     mileage2 fuel type2 engine size2     reference  \n",
       "0       1,200        NaN          NaN  /ad/25017331  \n",
       "1       1,000        NaN          NaN  /ad/25043746  \n",
       "2         500        NaN          NaN  /ad/25142894  \n",
       "3       5,000        NaN          NaN  /ad/24942816  \n",
       "4       4,500        NaN          NaN  /ad/24913660  \n",
       "...       ...        ...          ...           ...  \n",
       "4001     70.6     Diesel        1.598  /ad/25451436  \n",
       "4002     64.2     Diesel        2.143  /ad/25451481  \n",
       "4003     65.7     Diesel        2.143  /ad/25057204  \n",
       "4004     56.5     Diesel        2.143  /ad/25144481  \n",
       "4005     64.2     Diesel        2.143  /ad/25154247  \n",
       "\n",
       "[4006 rows x 11 columns]"
      ]
     },
     "execution_count": 3,
     "metadata": {},
     "output_type": "execute_result"
    }
   ],
   "source": [
    "\n",
    "path=\"unclean_data.csv\"\n",
    "\n",
    "unclean_data = pd.read_csv(path)\n",
    "# Dataset is now stored in a Pandas Dataframe\n",
    "\n",
    "# Visualize dataset head apri\n",
    "unclean_data"
   ]
  },
  {
   "cell_type": "code",
   "execution_count": 4,
   "metadata": {
    "colab": {
     "base_uri": "https://localhost:8080/"
    },
    "id": "eiLLm2_bAMpc",
    "outputId": "f1e94e37-271c-4bbd-9524-6d6895629034"
   },
   "outputs": [
    {
     "data": {
      "text/plain": [
       "(4006, 11)"
      ]
     },
     "execution_count": 4,
     "metadata": {},
     "output_type": "execute_result"
    }
   ],
   "source": [
    "#Get shape\n",
    "unclean_data.shape"
   ]
  },
  {
   "cell_type": "code",
   "execution_count": 5,
   "metadata": {
    "colab": {
     "base_uri": "https://localhost:8080/"
    },
    "id": "PSCaB6_jAQvg",
    "outputId": "a8e9b995-156a-4abb-885d-ce93b35f0f66"
   },
   "outputs": [
    {
     "data": {
      "text/plain": [
       "model            object\n",
       "year            float64\n",
       "price            object\n",
       "transmission     object\n",
       "mileage          object\n",
       "fuel type        object\n",
       "engine size      object\n",
       "mileage2         object\n",
       "fuel type2       object\n",
       "engine size2     object\n",
       "reference        object\n",
       "dtype: object"
      ]
     },
     "execution_count": 5,
     "metadata": {},
     "output_type": "execute_result"
    }
   ],
   "source": [
    "#get column data value types\n",
    "unclean_data.dtypes"
   ]
  },
  {
   "cell_type": "code",
   "execution_count": 6,
   "metadata": {
    "colab": {
     "base_uri": "https://localhost:8080/"
    },
    "id": "6luKTIMUAVt8",
    "outputId": "2dab0699-c00c-4d63-cdfe-dce8f6c368a6"
   },
   "outputs": [
    {
     "data": {
      "text/plain": [
       "True"
      ]
     },
     "execution_count": 6,
     "metadata": {},
     "output_type": "execute_result"
    }
   ],
   "source": [
    "#Check for nan values in the dataset\n",
    "unclean_data.isnull().values.any()"
   ]
  },
  {
   "cell_type": "code",
   "execution_count": 7,
   "metadata": {
    "colab": {
     "base_uri": "https://localhost:8080/",
     "height": 433
    },
    "id": "XEeRBoZJ9wOH",
    "outputId": "bbeb0b9b-266a-48dc-979e-619f32cc1dbc"
   },
   "outputs": [
    {
     "data": {
      "text/html": [
       "<div>\n",
       "<style scoped>\n",
       "    .dataframe tbody tr th:only-of-type {\n",
       "        vertical-align: middle;\n",
       "    }\n",
       "\n",
       "    .dataframe tbody tr th {\n",
       "        vertical-align: top;\n",
       "    }\n",
       "\n",
       "    .dataframe thead th {\n",
       "        text-align: right;\n",
       "    }\n",
       "</style>\n",
       "<table border=\"1\" class=\"dataframe\">\n",
       "  <thead>\n",
       "    <tr style=\"text-align: right;\">\n",
       "      <th></th>\n",
       "      <th>model</th>\n",
       "      <th>year</th>\n",
       "      <th>price</th>\n",
       "      <th>transmission</th>\n",
       "      <th>mileage</th>\n",
       "      <th>fuel type</th>\n",
       "      <th>engine size</th>\n",
       "      <th>mileage2</th>\n",
       "      <th>fuel type2</th>\n",
       "      <th>engine size2</th>\n",
       "      <th>reference</th>\n",
       "    </tr>\n",
       "  </thead>\n",
       "  <tbody>\n",
       "    <tr>\n",
       "      <th>0</th>\n",
       "      <td>False</td>\n",
       "      <td>False</td>\n",
       "      <td>False</td>\n",
       "      <td>False</td>\n",
       "      <td>True</td>\n",
       "      <td>False</td>\n",
       "      <td>False</td>\n",
       "      <td>False</td>\n",
       "      <td>True</td>\n",
       "      <td>True</td>\n",
       "      <td>False</td>\n",
       "    </tr>\n",
       "    <tr>\n",
       "      <th>1</th>\n",
       "      <td>False</td>\n",
       "      <td>False</td>\n",
       "      <td>False</td>\n",
       "      <td>False</td>\n",
       "      <td>True</td>\n",
       "      <td>False</td>\n",
       "      <td>False</td>\n",
       "      <td>False</td>\n",
       "      <td>True</td>\n",
       "      <td>True</td>\n",
       "      <td>False</td>\n",
       "    </tr>\n",
       "    <tr>\n",
       "      <th>2</th>\n",
       "      <td>False</td>\n",
       "      <td>False</td>\n",
       "      <td>False</td>\n",
       "      <td>False</td>\n",
       "      <td>True</td>\n",
       "      <td>False</td>\n",
       "      <td>False</td>\n",
       "      <td>False</td>\n",
       "      <td>True</td>\n",
       "      <td>True</td>\n",
       "      <td>False</td>\n",
       "    </tr>\n",
       "    <tr>\n",
       "      <th>3</th>\n",
       "      <td>False</td>\n",
       "      <td>False</td>\n",
       "      <td>False</td>\n",
       "      <td>False</td>\n",
       "      <td>True</td>\n",
       "      <td>False</td>\n",
       "      <td>False</td>\n",
       "      <td>False</td>\n",
       "      <td>True</td>\n",
       "      <td>True</td>\n",
       "      <td>False</td>\n",
       "    </tr>\n",
       "    <tr>\n",
       "      <th>4</th>\n",
       "      <td>False</td>\n",
       "      <td>False</td>\n",
       "      <td>False</td>\n",
       "      <td>False</td>\n",
       "      <td>True</td>\n",
       "      <td>False</td>\n",
       "      <td>False</td>\n",
       "      <td>False</td>\n",
       "      <td>True</td>\n",
       "      <td>True</td>\n",
       "      <td>False</td>\n",
       "    </tr>\n",
       "    <tr>\n",
       "      <th>...</th>\n",
       "      <td>...</td>\n",
       "      <td>...</td>\n",
       "      <td>...</td>\n",
       "      <td>...</td>\n",
       "      <td>...</td>\n",
       "      <td>...</td>\n",
       "      <td>...</td>\n",
       "      <td>...</td>\n",
       "      <td>...</td>\n",
       "      <td>...</td>\n",
       "      <td>...</td>\n",
       "    </tr>\n",
       "    <tr>\n",
       "      <th>4001</th>\n",
       "      <td>False</td>\n",
       "      <td>False</td>\n",
       "      <td>False</td>\n",
       "      <td>False</td>\n",
       "      <td>False</td>\n",
       "      <td>False</td>\n",
       "      <td>False</td>\n",
       "      <td>False</td>\n",
       "      <td>False</td>\n",
       "      <td>False</td>\n",
       "      <td>False</td>\n",
       "    </tr>\n",
       "    <tr>\n",
       "      <th>4002</th>\n",
       "      <td>False</td>\n",
       "      <td>False</td>\n",
       "      <td>False</td>\n",
       "      <td>False</td>\n",
       "      <td>False</td>\n",
       "      <td>False</td>\n",
       "      <td>False</td>\n",
       "      <td>False</td>\n",
       "      <td>False</td>\n",
       "      <td>False</td>\n",
       "      <td>False</td>\n",
       "    </tr>\n",
       "    <tr>\n",
       "      <th>4003</th>\n",
       "      <td>False</td>\n",
       "      <td>False</td>\n",
       "      <td>False</td>\n",
       "      <td>False</td>\n",
       "      <td>False</td>\n",
       "      <td>False</td>\n",
       "      <td>False</td>\n",
       "      <td>False</td>\n",
       "      <td>False</td>\n",
       "      <td>False</td>\n",
       "      <td>False</td>\n",
       "    </tr>\n",
       "    <tr>\n",
       "      <th>4004</th>\n",
       "      <td>False</td>\n",
       "      <td>False</td>\n",
       "      <td>False</td>\n",
       "      <td>False</td>\n",
       "      <td>False</td>\n",
       "      <td>False</td>\n",
       "      <td>False</td>\n",
       "      <td>False</td>\n",
       "      <td>False</td>\n",
       "      <td>False</td>\n",
       "      <td>False</td>\n",
       "    </tr>\n",
       "    <tr>\n",
       "      <th>4005</th>\n",
       "      <td>False</td>\n",
       "      <td>False</td>\n",
       "      <td>False</td>\n",
       "      <td>False</td>\n",
       "      <td>False</td>\n",
       "      <td>False</td>\n",
       "      <td>False</td>\n",
       "      <td>False</td>\n",
       "      <td>False</td>\n",
       "      <td>False</td>\n",
       "      <td>False</td>\n",
       "    </tr>\n",
       "  </tbody>\n",
       "</table>\n",
       "<p>4006 rows × 11 columns</p>\n",
       "</div>"
      ],
      "text/plain": [
       "      model   year  price  transmission  mileage  fuel type  engine size  \\\n",
       "0     False  False  False         False     True      False        False   \n",
       "1     False  False  False         False     True      False        False   \n",
       "2     False  False  False         False     True      False        False   \n",
       "3     False  False  False         False     True      False        False   \n",
       "4     False  False  False         False     True      False        False   \n",
       "...     ...    ...    ...           ...      ...        ...          ...   \n",
       "4001  False  False  False         False    False      False        False   \n",
       "4002  False  False  False         False    False      False        False   \n",
       "4003  False  False  False         False    False      False        False   \n",
       "4004  False  False  False         False    False      False        False   \n",
       "4005  False  False  False         False    False      False        False   \n",
       "\n",
       "      mileage2  fuel type2  engine size2  reference  \n",
       "0        False        True          True      False  \n",
       "1        False        True          True      False  \n",
       "2        False        True          True      False  \n",
       "3        False        True          True      False  \n",
       "4        False        True          True      False  \n",
       "...        ...         ...           ...        ...  \n",
       "4001     False       False         False      False  \n",
       "4002     False       False         False      False  \n",
       "4003     False       False         False      False  \n",
       "4004     False       False         False      False  \n",
       "4005     False       False         False      False  \n",
       "\n",
       "[4006 rows x 11 columns]"
      ]
     },
     "execution_count": 7,
     "metadata": {},
     "output_type": "execute_result"
    }
   ],
   "source": [
    "unclean_data.isna()"
   ]
  },
  {
   "cell_type": "code",
   "execution_count": 8,
   "metadata": {
    "colab": {
     "base_uri": "https://localhost:8080/"
    },
    "id": "oZx-rDdMAYXn",
    "outputId": "3ed39ec2-2cd3-4090-8874-98526ff82259"
   },
   "outputs": [
    {
     "data": {
      "text/plain": [
       "model             99\n",
       "year             102\n",
       "price             99\n",
       "transmission      99\n",
       "mileage          198\n",
       "fuel type       2677\n",
       "engine size      164\n",
       "mileage2         116\n",
       "fuel type2       198\n",
       "engine size2     198\n",
       "reference         99\n",
       "dtype: int64"
      ]
     },
     "execution_count": 8,
     "metadata": {},
     "output_type": "execute_result"
    }
   ],
   "source": [
    "#Count how many nans in dataset columns\n",
    "unclean_data.isna().sum()"
   ]
  },
  {
   "cell_type": "code",
   "execution_count": 9,
   "metadata": {
    "colab": {
     "base_uri": "https://localhost:8080/"
    },
    "id": "jPpcHqgyAaGu",
    "outputId": "36522443-9bea-4eb9-8fa5-88207eab90e3"
   },
   "outputs": [
    {
     "data": {
      "text/plain": [
       "Semi-Auto    2071\n",
       "Automatic    1636\n",
       "Manual        199\n",
       "Other           1\n",
       "Name: transmission, dtype: int64"
      ]
     },
     "execution_count": 9,
     "metadata": {},
     "output_type": "execute_result"
    }
   ],
   "source": [
    "#Check categorical variables (transmission, fuel type)\n",
    "#transmission\n",
    "unclean_data['transmission'].value_counts()"
   ]
  },
  {
   "cell_type": "code",
   "execution_count": 10,
   "metadata": {
    "colab": {
     "base_uri": "https://localhost:8080/"
    },
    "id": "dL9PmoA_AdqZ",
    "outputId": "98a4e687-d46b-454f-fcd3-8717b2109e10"
   },
   "outputs": [
    {
     "data": {
      "text/plain": [
       "31        310\n",
       "32        240\n",
       "38        174\n",
       "37        101\n",
       "Diesel     83\n",
       "30         76\n",
       "25         65\n",
       "29         57\n",
       "33         50\n",
       "34         29\n",
       "26         25\n",
       "39         17\n",
       "36         17\n",
       "43         13\n",
       "Petrol     13\n",
       "27         12\n",
       "35         12\n",
       "40          8\n",
       "44          6\n",
       "46          4\n",
       "24          4\n",
       "Hybrid      3\n",
       "45          3\n",
       "47          3\n",
       "28          3\n",
       "48          1\n",
       "Name: fuel type, dtype: int64"
      ]
     },
     "execution_count": 10,
     "metadata": {},
     "output_type": "execute_result"
    }
   ],
   "source": [
    "#fuel type\n",
    "unclean_data['fuel type'].value_counts()"
   ]
  },
  {
   "cell_type": "markdown",
   "metadata": {
    "id": "_43g_eVy4z0f"
   },
   "source": [
    "# 3. Data Analysis, Preparation and Wrangling\n",
    "\n",
    "### Professor Project Directions\n",
    "Before you start, please take a look at the original csv file to find out about the data. Then, explore the dataset in your Jupyter notebook. Have a peek of the data. You should notice that the dataset is not clean. The followings are the issues that appear in the dataset:\n",
    "\n",
    "1. [ ] There are missing rows (rows that have all NaN)\n",
    "2. [ ] There are missing values in some columns\n",
    "3. [ ] There are fields that use a wrong datatype, i.e., year is in float64 instead of int64. Hint: You can\n",
    "use df.dtypes to look at the datatypes of each columns\n",
    "4. [ ] There are columns that have mixed values, i.e., string and numbers\n",
    "5. [ ] There is a column with currency symbol\n",
    "6. [ ] Some numerical values are displayed with comma format\n",
    "7. [ ] Some columns are using different standard values, i.e., engine size and engine size2\n",
    "8. [ ] Some columns do not have valid names\n",
    "9. [ ] There is a column with categorical data, i.e., transmission and fuel type\n",
    "10. [ ] There are some unneeded columns"
   ]
  },
  {
   "cell_type": "markdown",
   "metadata": {
    "id": "6L4nKCfJAlhk"
   },
   "source": [
    "### Step 3.1 - Handling missing values"
   ]
  },
  {
   "cell_type": "code",
   "execution_count": 11,
   "metadata": {
    "id": "7PDeAP_EAp2H"
   },
   "outputs": [],
   "source": [
    "#Drop rolls where all values are NaN values\n",
    "clean_df = unclean_data.dropna(how='all')\n",
    "#Reset index\n",
    "clean_df1 = clean_df.reset_index(drop=True)"
   ]
  },
  {
   "cell_type": "code",
   "execution_count": 12,
   "metadata": {
    "colab": {
     "base_uri": "https://localhost:8080/"
    },
    "id": "qc6ntt-mAs1R",
    "outputId": "e5e50a5d-eb77-4483-8b01-45f794bc210b"
   },
   "outputs": [
    {
     "data": {
      "text/plain": [
       "True"
      ]
     },
     "execution_count": 12,
     "metadata": {},
     "output_type": "execute_result"
    }
   ],
   "source": [
    "#Check how many  NaN values still exists and check data shape\n",
    "clean_df1.isnull().values.any()"
   ]
  },
  {
   "cell_type": "code",
   "execution_count": 13,
   "metadata": {
    "colab": {
     "base_uri": "https://localhost:8080/"
    },
    "id": "k4V5V-UKAwA_",
    "outputId": "270b81cf-7846-46dd-9fb1-b8728c1e6e97"
   },
   "outputs": [
    {
     "data": {
      "text/plain": [
       "model              0\n",
       "year               3\n",
       "price              0\n",
       "transmission       0\n",
       "mileage           99\n",
       "fuel type       2578\n",
       "engine size       65\n",
       "mileage2          17\n",
       "fuel type2        99\n",
       "engine size2      99\n",
       "reference          0\n",
       "dtype: int64"
      ]
     },
     "execution_count": 13,
     "metadata": {},
     "output_type": "execute_result"
    }
   ],
   "source": [
    "clean_df1.isna().sum()"
   ]
  },
  {
   "cell_type": "code",
   "execution_count": 14,
   "metadata": {
    "colab": {
     "base_uri": "https://localhost:8080/"
    },
    "id": "YsHTTuhYAzDE",
    "outputId": "4da4b1bc-5516-437e-ea16-b7ede799aeaa"
   },
   "outputs": [
    {
     "data": {
      "text/plain": [
       "(3907, 11)"
      ]
     },
     "execution_count": 14,
     "metadata": {},
     "output_type": "execute_result"
    }
   ],
   "source": [
    "clean_df1.shape #number of rows reduced from 4006 to 3907"
   ]
  },
  {
   "cell_type": "code",
   "execution_count": 15,
   "metadata": {
    "colab": {
     "base_uri": "https://localhost:8080/",
     "height": 306
    },
    "id": "Lowmysv9A6dJ",
    "outputId": "2815343a-85f5-41ff-de6a-89e5e8411e1c"
   },
   "outputs": [
    {
     "data": {
      "text/html": [
       "<div>\n",
       "<style scoped>\n",
       "    .dataframe tbody tr th:only-of-type {\n",
       "        vertical-align: middle;\n",
       "    }\n",
       "\n",
       "    .dataframe tbody tr th {\n",
       "        vertical-align: top;\n",
       "    }\n",
       "\n",
       "    .dataframe thead th {\n",
       "        text-align: right;\n",
       "    }\n",
       "</style>\n",
       "<table border=\"1\" class=\"dataframe\">\n",
       "  <thead>\n",
       "    <tr style=\"text-align: right;\">\n",
       "      <th></th>\n",
       "      <th>model</th>\n",
       "      <th>year</th>\n",
       "      <th>price</th>\n",
       "      <th>transmission</th>\n",
       "      <th>mileage</th>\n",
       "      <th>fuel type</th>\n",
       "      <th>engine size</th>\n",
       "      <th>mileage2</th>\n",
       "      <th>fuel type2</th>\n",
       "      <th>engine size2</th>\n",
       "      <th>reference</th>\n",
       "    </tr>\n",
       "  </thead>\n",
       "  <tbody>\n",
       "    <tr>\n",
       "      <th>0</th>\n",
       "      <td>C Class</td>\n",
       "      <td>2020.0</td>\n",
       "      <td>£30,495</td>\n",
       "      <td>Automatic</td>\n",
       "      <td>NaN</td>\n",
       "      <td>Diesel</td>\n",
       "      <td>2</td>\n",
       "      <td>1,200</td>\n",
       "      <td>NaN</td>\n",
       "      <td>NaN</td>\n",
       "      <td>/ad/25017331</td>\n",
       "    </tr>\n",
       "    <tr>\n",
       "      <th>1</th>\n",
       "      <td>C Class</td>\n",
       "      <td>2020.0</td>\n",
       "      <td>£29,989</td>\n",
       "      <td>Automatic</td>\n",
       "      <td>NaN</td>\n",
       "      <td>Petrol</td>\n",
       "      <td>1.5</td>\n",
       "      <td>1,000</td>\n",
       "      <td>NaN</td>\n",
       "      <td>NaN</td>\n",
       "      <td>/ad/25043746</td>\n",
       "    </tr>\n",
       "    <tr>\n",
       "      <th>2</th>\n",
       "      <td>C Class</td>\n",
       "      <td>2020.0</td>\n",
       "      <td>£37,899</td>\n",
       "      <td>Automatic</td>\n",
       "      <td>NaN</td>\n",
       "      <td>Diesel</td>\n",
       "      <td>2</td>\n",
       "      <td>500</td>\n",
       "      <td>NaN</td>\n",
       "      <td>NaN</td>\n",
       "      <td>/ad/25142894</td>\n",
       "    </tr>\n",
       "    <tr>\n",
       "      <th>3</th>\n",
       "      <td>C Class</td>\n",
       "      <td>2019.0</td>\n",
       "      <td>£30,399</td>\n",
       "      <td>Automatic</td>\n",
       "      <td>NaN</td>\n",
       "      <td>Diesel</td>\n",
       "      <td>2</td>\n",
       "      <td>5,000</td>\n",
       "      <td>NaN</td>\n",
       "      <td>NaN</td>\n",
       "      <td>/ad/24942816</td>\n",
       "    </tr>\n",
       "    <tr>\n",
       "      <th>4</th>\n",
       "      <td>C Class</td>\n",
       "      <td>2019.0</td>\n",
       "      <td>£29,899</td>\n",
       "      <td>Automatic</td>\n",
       "      <td>NaN</td>\n",
       "      <td>Diesel</td>\n",
       "      <td>2</td>\n",
       "      <td>4,500</td>\n",
       "      <td>NaN</td>\n",
       "      <td>NaN</td>\n",
       "      <td>/ad/24913660</td>\n",
       "    </tr>\n",
       "  </tbody>\n",
       "</table>\n",
       "</div>"
      ],
      "text/plain": [
       "      model    year     price transmission mileage fuel type engine size  \\\n",
       "0   C Class  2020.0   £30,495    Automatic     NaN    Diesel           2   \n",
       "1   C Class  2020.0   £29,989    Automatic     NaN    Petrol         1.5   \n",
       "2   C Class  2020.0   £37,899    Automatic     NaN    Diesel           2   \n",
       "3   C Class  2019.0   £30,399    Automatic     NaN    Diesel           2   \n",
       "4   C Class  2019.0   £29,899    Automatic     NaN    Diesel           2   \n",
       "\n",
       "  mileage2 fuel type2 engine size2     reference  \n",
       "0    1,200        NaN          NaN  /ad/25017331  \n",
       "1    1,000        NaN          NaN  /ad/25043746  \n",
       "2      500        NaN          NaN  /ad/25142894  \n",
       "3    5,000        NaN          NaN  /ad/24942816  \n",
       "4    4,500        NaN          NaN  /ad/24913660  "
      ]
     },
     "execution_count": 15,
     "metadata": {},
     "output_type": "execute_result"
    }
   ],
   "source": [
    "clean_df1.head()"
   ]
  },
  {
   "cell_type": "markdown",
   "metadata": {
    "id": "Ca21ZR6IA-Tk"
   },
   "source": [
    "### Step 3.2 - Handling the currency symbols and comma format"
   ]
  },
  {
   "cell_type": "code",
   "execution_count": 16,
   "metadata": {
    "id": "ZmPihJTzBA8b"
   },
   "outputs": [],
   "source": [
    "#Replace currency symbols with empt space at price column\n",
    "clean_df1['price'] = clean_df1['price'].str.replace('£','')"
   ]
  },
  {
   "cell_type": "code",
   "execution_count": 17,
   "metadata": {
    "colab": {
     "base_uri": "https://localhost:8080/",
     "height": 306
    },
    "id": "9B5lj3UuBGsz",
    "outputId": "2a011b88-de26-47b9-b089-e417a438984b"
   },
   "outputs": [
    {
     "data": {
      "text/html": [
       "<div>\n",
       "<style scoped>\n",
       "    .dataframe tbody tr th:only-of-type {\n",
       "        vertical-align: middle;\n",
       "    }\n",
       "\n",
       "    .dataframe tbody tr th {\n",
       "        vertical-align: top;\n",
       "    }\n",
       "\n",
       "    .dataframe thead th {\n",
       "        text-align: right;\n",
       "    }\n",
       "</style>\n",
       "<table border=\"1\" class=\"dataframe\">\n",
       "  <thead>\n",
       "    <tr style=\"text-align: right;\">\n",
       "      <th></th>\n",
       "      <th>model</th>\n",
       "      <th>year</th>\n",
       "      <th>price</th>\n",
       "      <th>transmission</th>\n",
       "      <th>mileage</th>\n",
       "      <th>fuel type</th>\n",
       "      <th>engine size</th>\n",
       "      <th>mileage2</th>\n",
       "      <th>fuel type2</th>\n",
       "      <th>engine size2</th>\n",
       "      <th>reference</th>\n",
       "    </tr>\n",
       "  </thead>\n",
       "  <tbody>\n",
       "    <tr>\n",
       "      <th>0</th>\n",
       "      <td>C Class</td>\n",
       "      <td>2020.0</td>\n",
       "      <td>30,495</td>\n",
       "      <td>Automatic</td>\n",
       "      <td>NaN</td>\n",
       "      <td>Diesel</td>\n",
       "      <td>2</td>\n",
       "      <td>1,200</td>\n",
       "      <td>NaN</td>\n",
       "      <td>NaN</td>\n",
       "      <td>/ad/25017331</td>\n",
       "    </tr>\n",
       "    <tr>\n",
       "      <th>1</th>\n",
       "      <td>C Class</td>\n",
       "      <td>2020.0</td>\n",
       "      <td>29,989</td>\n",
       "      <td>Automatic</td>\n",
       "      <td>NaN</td>\n",
       "      <td>Petrol</td>\n",
       "      <td>1.5</td>\n",
       "      <td>1,000</td>\n",
       "      <td>NaN</td>\n",
       "      <td>NaN</td>\n",
       "      <td>/ad/25043746</td>\n",
       "    </tr>\n",
       "    <tr>\n",
       "      <th>2</th>\n",
       "      <td>C Class</td>\n",
       "      <td>2020.0</td>\n",
       "      <td>37,899</td>\n",
       "      <td>Automatic</td>\n",
       "      <td>NaN</td>\n",
       "      <td>Diesel</td>\n",
       "      <td>2</td>\n",
       "      <td>500</td>\n",
       "      <td>NaN</td>\n",
       "      <td>NaN</td>\n",
       "      <td>/ad/25142894</td>\n",
       "    </tr>\n",
       "    <tr>\n",
       "      <th>3</th>\n",
       "      <td>C Class</td>\n",
       "      <td>2019.0</td>\n",
       "      <td>30,399</td>\n",
       "      <td>Automatic</td>\n",
       "      <td>NaN</td>\n",
       "      <td>Diesel</td>\n",
       "      <td>2</td>\n",
       "      <td>5,000</td>\n",
       "      <td>NaN</td>\n",
       "      <td>NaN</td>\n",
       "      <td>/ad/24942816</td>\n",
       "    </tr>\n",
       "    <tr>\n",
       "      <th>4</th>\n",
       "      <td>C Class</td>\n",
       "      <td>2019.0</td>\n",
       "      <td>29,899</td>\n",
       "      <td>Automatic</td>\n",
       "      <td>NaN</td>\n",
       "      <td>Diesel</td>\n",
       "      <td>2</td>\n",
       "      <td>4,500</td>\n",
       "      <td>NaN</td>\n",
       "      <td>NaN</td>\n",
       "      <td>/ad/24913660</td>\n",
       "    </tr>\n",
       "  </tbody>\n",
       "</table>\n",
       "</div>"
      ],
      "text/plain": [
       "      model    year    price transmission mileage fuel type engine size  \\\n",
       "0   C Class  2020.0   30,495    Automatic     NaN    Diesel           2   \n",
       "1   C Class  2020.0   29,989    Automatic     NaN    Petrol         1.5   \n",
       "2   C Class  2020.0   37,899    Automatic     NaN    Diesel           2   \n",
       "3   C Class  2019.0   30,399    Automatic     NaN    Diesel           2   \n",
       "4   C Class  2019.0   29,899    Automatic     NaN    Diesel           2   \n",
       "\n",
       "  mileage2 fuel type2 engine size2     reference  \n",
       "0    1,200        NaN          NaN  /ad/25017331  \n",
       "1    1,000        NaN          NaN  /ad/25043746  \n",
       "2      500        NaN          NaN  /ad/25142894  \n",
       "3    5,000        NaN          NaN  /ad/24942816  \n",
       "4    4,500        NaN          NaN  /ad/24913660  "
      ]
     },
     "execution_count": 17,
     "metadata": {},
     "output_type": "execute_result"
    }
   ],
   "source": [
    "clean_df1.head()"
   ]
  },
  {
   "cell_type": "code",
   "execution_count": 18,
   "metadata": {
    "colab": {
     "base_uri": "https://localhost:8080/",
     "height": 306
    },
    "id": "AnpwZy85BJl6",
    "outputId": "f3f7f55a-a8ba-45b1-c123-d62c6effee1c"
   },
   "outputs": [
    {
     "data": {
      "text/html": [
       "<div>\n",
       "<style scoped>\n",
       "    .dataframe tbody tr th:only-of-type {\n",
       "        vertical-align: middle;\n",
       "    }\n",
       "\n",
       "    .dataframe tbody tr th {\n",
       "        vertical-align: top;\n",
       "    }\n",
       "\n",
       "    .dataframe thead th {\n",
       "        text-align: right;\n",
       "    }\n",
       "</style>\n",
       "<table border=\"1\" class=\"dataframe\">\n",
       "  <thead>\n",
       "    <tr style=\"text-align: right;\">\n",
       "      <th></th>\n",
       "      <th>model</th>\n",
       "      <th>year</th>\n",
       "      <th>price</th>\n",
       "      <th>transmission</th>\n",
       "      <th>mileage</th>\n",
       "      <th>fuel type</th>\n",
       "      <th>engine size</th>\n",
       "      <th>mileage2</th>\n",
       "      <th>fuel type2</th>\n",
       "      <th>engine size2</th>\n",
       "      <th>reference</th>\n",
       "    </tr>\n",
       "  </thead>\n",
       "  <tbody>\n",
       "    <tr>\n",
       "      <th>0</th>\n",
       "      <td>C Class</td>\n",
       "      <td>2020.0</td>\n",
       "      <td>30495</td>\n",
       "      <td>Automatic</td>\n",
       "      <td>NaN</td>\n",
       "      <td>Diesel</td>\n",
       "      <td>2</td>\n",
       "      <td>1,200</td>\n",
       "      <td>NaN</td>\n",
       "      <td>NaN</td>\n",
       "      <td>/ad/25017331</td>\n",
       "    </tr>\n",
       "    <tr>\n",
       "      <th>1</th>\n",
       "      <td>C Class</td>\n",
       "      <td>2020.0</td>\n",
       "      <td>29989</td>\n",
       "      <td>Automatic</td>\n",
       "      <td>NaN</td>\n",
       "      <td>Petrol</td>\n",
       "      <td>1.5</td>\n",
       "      <td>1,000</td>\n",
       "      <td>NaN</td>\n",
       "      <td>NaN</td>\n",
       "      <td>/ad/25043746</td>\n",
       "    </tr>\n",
       "    <tr>\n",
       "      <th>2</th>\n",
       "      <td>C Class</td>\n",
       "      <td>2020.0</td>\n",
       "      <td>37899</td>\n",
       "      <td>Automatic</td>\n",
       "      <td>NaN</td>\n",
       "      <td>Diesel</td>\n",
       "      <td>2</td>\n",
       "      <td>500</td>\n",
       "      <td>NaN</td>\n",
       "      <td>NaN</td>\n",
       "      <td>/ad/25142894</td>\n",
       "    </tr>\n",
       "    <tr>\n",
       "      <th>3</th>\n",
       "      <td>C Class</td>\n",
       "      <td>2019.0</td>\n",
       "      <td>30399</td>\n",
       "      <td>Automatic</td>\n",
       "      <td>NaN</td>\n",
       "      <td>Diesel</td>\n",
       "      <td>2</td>\n",
       "      <td>5,000</td>\n",
       "      <td>NaN</td>\n",
       "      <td>NaN</td>\n",
       "      <td>/ad/24942816</td>\n",
       "    </tr>\n",
       "    <tr>\n",
       "      <th>4</th>\n",
       "      <td>C Class</td>\n",
       "      <td>2019.0</td>\n",
       "      <td>29899</td>\n",
       "      <td>Automatic</td>\n",
       "      <td>NaN</td>\n",
       "      <td>Diesel</td>\n",
       "      <td>2</td>\n",
       "      <td>4,500</td>\n",
       "      <td>NaN</td>\n",
       "      <td>NaN</td>\n",
       "      <td>/ad/24913660</td>\n",
       "    </tr>\n",
       "  </tbody>\n",
       "</table>\n",
       "</div>"
      ],
      "text/plain": [
       "      model    year   price transmission mileage fuel type engine size  \\\n",
       "0   C Class  2020.0   30495    Automatic     NaN    Diesel           2   \n",
       "1   C Class  2020.0   29989    Automatic     NaN    Petrol         1.5   \n",
       "2   C Class  2020.0   37899    Automatic     NaN    Diesel           2   \n",
       "3   C Class  2019.0   30399    Automatic     NaN    Diesel           2   \n",
       "4   C Class  2019.0   29899    Automatic     NaN    Diesel           2   \n",
       "\n",
       "  mileage2 fuel type2 engine size2     reference  \n",
       "0    1,200        NaN          NaN  /ad/25017331  \n",
       "1    1,000        NaN          NaN  /ad/25043746  \n",
       "2      500        NaN          NaN  /ad/25142894  \n",
       "3    5,000        NaN          NaN  /ad/24942816  \n",
       "4    4,500        NaN          NaN  /ad/24913660  "
      ]
     },
     "execution_count": 18,
     "metadata": {},
     "output_type": "execute_result"
    }
   ],
   "source": [
    "#Replace comma character with empt space at price column\n",
    "clean_df1['price'] = clean_df1['price'].str.replace(',','')\n",
    "clean_df1.head()"
   ]
  },
  {
   "cell_type": "code",
   "execution_count": 19,
   "metadata": {
    "colab": {
     "base_uri": "https://localhost:8080/"
    },
    "id": "ToddT39C3lxR",
    "outputId": "e52900a0-1eb0-40d4-a227-2622e5063ea2"
   },
   "outputs": [
    {
     "data": {
      "text/plain": [
       "model              0\n",
       "year               3\n",
       "price              0\n",
       "transmission       0\n",
       "mileage           99\n",
       "fuel type       2578\n",
       "engine size       65\n",
       "mileage2          17\n",
       "fuel type2        99\n",
       "engine size2      99\n",
       "reference          0\n",
       "dtype: int64"
      ]
     },
     "execution_count": 19,
     "metadata": {},
     "output_type": "execute_result"
    }
   ],
   "source": [
    "clean_df1.isna().sum()"
   ]
  },
  {
   "cell_type": "code",
   "execution_count": 20,
   "metadata": {
    "colab": {
     "base_uri": "https://localhost:8080/"
    },
    "id": "2olVLK6WRMgI",
    "outputId": "f6134b21-4061-411d-ee53-c5a0c4d12e99"
   },
   "outputs": [
    {
     "data": {
      "text/plain": [
       "model            object\n",
       "year            float64\n",
       "price            object\n",
       "transmission     object\n",
       "mileage          object\n",
       "fuel type        object\n",
       "engine size      object\n",
       "mileage2         object\n",
       "fuel type2       object\n",
       "engine size2     object\n",
       "reference        object\n",
       "dtype: object"
      ]
     },
     "execution_count": 20,
     "metadata": {},
     "output_type": "execute_result"
    }
   ],
   "source": [
    "clean_df1.dtypes"
   ]
  },
  {
   "cell_type": "code",
   "execution_count": 21,
   "metadata": {
    "id": "Cxv_z3y2RhAt"
   },
   "outputs": [],
   "source": [
    "#Change data type of price into numeric using pd.to_numeric()\n",
    "clean_df1['price'] = pd.to_numeric(clean_df1['price'])"
   ]
  },
  {
   "cell_type": "code",
   "execution_count": 22,
   "metadata": {
    "colab": {
     "base_uri": "https://localhost:8080/"
    },
    "id": "Avn-aWG6RsU5",
    "outputId": "a69f4e1f-554d-4734-f05f-07c01bfdf7a7"
   },
   "outputs": [
    {
     "data": {
      "text/plain": [
       "model            object\n",
       "year            float64\n",
       "price             int64\n",
       "transmission     object\n",
       "mileage          object\n",
       "fuel type        object\n",
       "engine size      object\n",
       "mileage2         object\n",
       "fuel type2       object\n",
       "engine size2     object\n",
       "reference        object\n",
       "dtype: object"
      ]
     },
     "execution_count": 22,
     "metadata": {},
     "output_type": "execute_result"
    }
   ],
   "source": [
    "clean_df1.dtypes"
   ]
  },
  {
   "cell_type": "markdown",
   "metadata": {
    "id": "cMROzCxaBNcr"
   },
   "source": [
    "### Step 3.3 - Handling non-valid column names"
   ]
  },
  {
   "cell_type": "code",
   "execution_count": 23,
   "metadata": {
    "colab": {
     "base_uri": "https://localhost:8080/",
     "height": 309
    },
    "id": "-B-2xleaBQdo",
    "outputId": "24c78a47-d78c-426c-a186-c397d3263c92"
   },
   "outputs": [
    {
     "data": {
      "text/html": [
       "<div>\n",
       "<style scoped>\n",
       "    .dataframe tbody tr th:only-of-type {\n",
       "        vertical-align: middle;\n",
       "    }\n",
       "\n",
       "    .dataframe tbody tr th {\n",
       "        vertical-align: top;\n",
       "    }\n",
       "\n",
       "    .dataframe thead th {\n",
       "        text-align: right;\n",
       "    }\n",
       "</style>\n",
       "<table border=\"1\" class=\"dataframe\">\n",
       "  <thead>\n",
       "    <tr style=\"text-align: right;\">\n",
       "      <th></th>\n",
       "      <th>model</th>\n",
       "      <th>year</th>\n",
       "      <th>price</th>\n",
       "      <th>transmission</th>\n",
       "      <th>mileage</th>\n",
       "      <th>fuel_type</th>\n",
       "      <th>engine_size</th>\n",
       "      <th>mileage2</th>\n",
       "      <th>fuel_type2</th>\n",
       "      <th>engine_size2</th>\n",
       "      <th>reference</th>\n",
       "    </tr>\n",
       "  </thead>\n",
       "  <tbody>\n",
       "    <tr>\n",
       "      <th>0</th>\n",
       "      <td>C Class</td>\n",
       "      <td>2020.0</td>\n",
       "      <td>30495</td>\n",
       "      <td>Automatic</td>\n",
       "      <td>NaN</td>\n",
       "      <td>Diesel</td>\n",
       "      <td>2</td>\n",
       "      <td>1,200</td>\n",
       "      <td>NaN</td>\n",
       "      <td>NaN</td>\n",
       "      <td>/ad/25017331</td>\n",
       "    </tr>\n",
       "    <tr>\n",
       "      <th>1</th>\n",
       "      <td>C Class</td>\n",
       "      <td>2020.0</td>\n",
       "      <td>29989</td>\n",
       "      <td>Automatic</td>\n",
       "      <td>NaN</td>\n",
       "      <td>Petrol</td>\n",
       "      <td>1.5</td>\n",
       "      <td>1,000</td>\n",
       "      <td>NaN</td>\n",
       "      <td>NaN</td>\n",
       "      <td>/ad/25043746</td>\n",
       "    </tr>\n",
       "    <tr>\n",
       "      <th>2</th>\n",
       "      <td>C Class</td>\n",
       "      <td>2020.0</td>\n",
       "      <td>37899</td>\n",
       "      <td>Automatic</td>\n",
       "      <td>NaN</td>\n",
       "      <td>Diesel</td>\n",
       "      <td>2</td>\n",
       "      <td>500</td>\n",
       "      <td>NaN</td>\n",
       "      <td>NaN</td>\n",
       "      <td>/ad/25142894</td>\n",
       "    </tr>\n",
       "    <tr>\n",
       "      <th>3</th>\n",
       "      <td>C Class</td>\n",
       "      <td>2019.0</td>\n",
       "      <td>30399</td>\n",
       "      <td>Automatic</td>\n",
       "      <td>NaN</td>\n",
       "      <td>Diesel</td>\n",
       "      <td>2</td>\n",
       "      <td>5,000</td>\n",
       "      <td>NaN</td>\n",
       "      <td>NaN</td>\n",
       "      <td>/ad/24942816</td>\n",
       "    </tr>\n",
       "    <tr>\n",
       "      <th>4</th>\n",
       "      <td>C Class</td>\n",
       "      <td>2019.0</td>\n",
       "      <td>29899</td>\n",
       "      <td>Automatic</td>\n",
       "      <td>NaN</td>\n",
       "      <td>Diesel</td>\n",
       "      <td>2</td>\n",
       "      <td>4,500</td>\n",
       "      <td>NaN</td>\n",
       "      <td>NaN</td>\n",
       "      <td>/ad/24913660</td>\n",
       "    </tr>\n",
       "  </tbody>\n",
       "</table>\n",
       "</div>"
      ],
      "text/plain": [
       "      model    year  price transmission mileage fuel_type engine_size  \\\n",
       "0   C Class  2020.0  30495    Automatic     NaN    Diesel           2   \n",
       "1   C Class  2020.0  29989    Automatic     NaN    Petrol         1.5   \n",
       "2   C Class  2020.0  37899    Automatic     NaN    Diesel           2   \n",
       "3   C Class  2019.0  30399    Automatic     NaN    Diesel           2   \n",
       "4   C Class  2019.0  29899    Automatic     NaN    Diesel           2   \n",
       "\n",
       "  mileage2 fuel_type2 engine_size2     reference  \n",
       "0    1,200        NaN          NaN  /ad/25017331  \n",
       "1    1,000        NaN          NaN  /ad/25043746  \n",
       "2      500        NaN          NaN  /ad/25142894  \n",
       "3    5,000        NaN          NaN  /ad/24942816  \n",
       "4    4,500        NaN          NaN  /ad/24913660  "
      ]
     },
     "execution_count": 23,
     "metadata": {},
     "output_type": "execute_result"
    }
   ],
   "source": [
    "#Replace “fuel type”, “fuel type2”, “engine size”, and “engine size2” columns names for \n",
    "# “fuel_type”, “fuel_type2”, “engine_size” and “engine_size2” respectively.\n",
    "clean_df1.rename(columns={'fuel type':'fuel_type',\n",
    "                          'fuel type2':'fuel_type2',\n",
    "                          'engine size':'engine_size',\n",
    "                          'engine size2':'engine_size2'}, \n",
    "                 inplace=True)\n",
    "clean_df1.head()"
   ]
  },
  {
   "cell_type": "markdown",
   "metadata": {
    "id": "_c1maSsEBT2y"
   },
   "source": [
    "### Step 3.4 - Handling missing values in columns: fuel_type"
   ]
  },
  {
   "cell_type": "code",
   "execution_count": 24,
   "metadata": {
    "colab": {
     "base_uri": "https://localhost:8080/"
    },
    "id": "SuVQCZPgSRWo",
    "outputId": "a030137b-6444-4d52-b467-bf733ca58922"
   },
   "outputs": [
    {
     "data": {
      "text/plain": [
       "model              0\n",
       "year               3\n",
       "price              0\n",
       "transmission       0\n",
       "mileage           99\n",
       "fuel_type       2578\n",
       "engine_size       65\n",
       "mileage2          17\n",
       "fuel_type2        99\n",
       "engine_size2      99\n",
       "reference          0\n",
       "dtype: int64"
      ]
     },
     "execution_count": 24,
     "metadata": {},
     "output_type": "execute_result"
    }
   ],
   "source": [
    "#Check for missing values in fuel type columns\n",
    "clean_df1.isna().sum()"
   ]
  },
  {
   "cell_type": "code",
   "execution_count": 25,
   "metadata": {
    "colab": {
     "base_uri": "https://localhost:8080/",
     "height": 309
    },
    "id": "ETu-qtSaBXgw",
    "outputId": "95160f73-e954-4861-fa82-cb985cd9eb58"
   },
   "outputs": [
    {
     "data": {
      "text/html": [
       "<div>\n",
       "<style scoped>\n",
       "    .dataframe tbody tr th:only-of-type {\n",
       "        vertical-align: middle;\n",
       "    }\n",
       "\n",
       "    .dataframe tbody tr th {\n",
       "        vertical-align: top;\n",
       "    }\n",
       "\n",
       "    .dataframe thead th {\n",
       "        text-align: right;\n",
       "    }\n",
       "</style>\n",
       "<table border=\"1\" class=\"dataframe\">\n",
       "  <thead>\n",
       "    <tr style=\"text-align: right;\">\n",
       "      <th></th>\n",
       "      <th>model</th>\n",
       "      <th>year</th>\n",
       "      <th>price</th>\n",
       "      <th>transmission</th>\n",
       "      <th>mileage</th>\n",
       "      <th>fuel_type</th>\n",
       "      <th>engine_size</th>\n",
       "      <th>mileage2</th>\n",
       "      <th>fuel_type2</th>\n",
       "      <th>engine_size2</th>\n",
       "      <th>reference</th>\n",
       "    </tr>\n",
       "  </thead>\n",
       "  <tbody>\n",
       "    <tr>\n",
       "      <th>0</th>\n",
       "      <td>C Class</td>\n",
       "      <td>2020.0</td>\n",
       "      <td>30495</td>\n",
       "      <td>Automatic</td>\n",
       "      <td>NaN</td>\n",
       "      <td>Diesel</td>\n",
       "      <td>2</td>\n",
       "      <td>1,200</td>\n",
       "      <td>Diesel</td>\n",
       "      <td>NaN</td>\n",
       "      <td>/ad/25017331</td>\n",
       "    </tr>\n",
       "    <tr>\n",
       "      <th>1</th>\n",
       "      <td>C Class</td>\n",
       "      <td>2020.0</td>\n",
       "      <td>29989</td>\n",
       "      <td>Automatic</td>\n",
       "      <td>NaN</td>\n",
       "      <td>Petrol</td>\n",
       "      <td>1.5</td>\n",
       "      <td>1,000</td>\n",
       "      <td>Petrol</td>\n",
       "      <td>NaN</td>\n",
       "      <td>/ad/25043746</td>\n",
       "    </tr>\n",
       "    <tr>\n",
       "      <th>2</th>\n",
       "      <td>C Class</td>\n",
       "      <td>2020.0</td>\n",
       "      <td>37899</td>\n",
       "      <td>Automatic</td>\n",
       "      <td>NaN</td>\n",
       "      <td>Diesel</td>\n",
       "      <td>2</td>\n",
       "      <td>500</td>\n",
       "      <td>Diesel</td>\n",
       "      <td>NaN</td>\n",
       "      <td>/ad/25142894</td>\n",
       "    </tr>\n",
       "    <tr>\n",
       "      <th>3</th>\n",
       "      <td>C Class</td>\n",
       "      <td>2019.0</td>\n",
       "      <td>30399</td>\n",
       "      <td>Automatic</td>\n",
       "      <td>NaN</td>\n",
       "      <td>Diesel</td>\n",
       "      <td>2</td>\n",
       "      <td>5,000</td>\n",
       "      <td>Diesel</td>\n",
       "      <td>NaN</td>\n",
       "      <td>/ad/24942816</td>\n",
       "    </tr>\n",
       "    <tr>\n",
       "      <th>4</th>\n",
       "      <td>C Class</td>\n",
       "      <td>2019.0</td>\n",
       "      <td>29899</td>\n",
       "      <td>Automatic</td>\n",
       "      <td>NaN</td>\n",
       "      <td>Diesel</td>\n",
       "      <td>2</td>\n",
       "      <td>4,500</td>\n",
       "      <td>Diesel</td>\n",
       "      <td>NaN</td>\n",
       "      <td>/ad/24913660</td>\n",
       "    </tr>\n",
       "  </tbody>\n",
       "</table>\n",
       "</div>"
      ],
      "text/plain": [
       "      model    year  price transmission mileage fuel_type engine_size  \\\n",
       "0   C Class  2020.0  30495    Automatic     NaN    Diesel           2   \n",
       "1   C Class  2020.0  29989    Automatic     NaN    Petrol         1.5   \n",
       "2   C Class  2020.0  37899    Automatic     NaN    Diesel           2   \n",
       "3   C Class  2019.0  30399    Automatic     NaN    Diesel           2   \n",
       "4   C Class  2019.0  29899    Automatic     NaN    Diesel           2   \n",
       "\n",
       "  mileage2 fuel_type2 engine_size2     reference  \n",
       "0    1,200     Diesel          NaN  /ad/25017331  \n",
       "1    1,000     Petrol          NaN  /ad/25043746  \n",
       "2      500     Diesel          NaN  /ad/25142894  \n",
       "3    5,000     Diesel          NaN  /ad/24942816  \n",
       "4    4,500     Diesel          NaN  /ad/24913660  "
      ]
     },
     "execution_count": 25,
     "metadata": {},
     "output_type": "execute_result"
    }
   ],
   "source": [
    "#fill nan values in column fuel_types2 with values from column fuel_type\n",
    "clean_df1['fuel_type2'] = clean_df1.fuel_type2.fillna(clean_df1.fuel_type)\n",
    "clean_df1.head()"
   ]
  },
  {
   "cell_type": "code",
   "execution_count": 26,
   "metadata": {
    "colab": {
     "base_uri": "https://localhost:8080/"
    },
    "id": "Qi3LdYCSBaAn",
    "outputId": "fc22c448-26b1-4562-ec61-f5415eee395a"
   },
   "outputs": [
    {
     "data": {
      "text/plain": [
       "model              0\n",
       "year               3\n",
       "price              0\n",
       "transmission       0\n",
       "mileage           99\n",
       "fuel_type       2578\n",
       "engine_size       65\n",
       "mileage2          17\n",
       "fuel_type2         0\n",
       "engine_size2      99\n",
       "reference          0\n",
       "dtype: int64"
      ]
     },
     "execution_count": 26,
     "metadata": {},
     "output_type": "execute_result"
    }
   ],
   "source": [
    "clean_df1.isna().sum()"
   ]
  },
  {
   "cell_type": "code",
   "execution_count": 27,
   "metadata": {
    "colab": {
     "base_uri": "https://localhost:8080/",
     "height": 202
    },
    "id": "eDpYQwS-BcAP",
    "outputId": "4608e890-3c2f-4812-df74-1495fcd69a36"
   },
   "outputs": [
    {
     "data": {
      "text/html": [
       "<div>\n",
       "<style scoped>\n",
       "    .dataframe tbody tr th:only-of-type {\n",
       "        vertical-align: middle;\n",
       "    }\n",
       "\n",
       "    .dataframe tbody tr th {\n",
       "        vertical-align: top;\n",
       "    }\n",
       "\n",
       "    .dataframe thead th {\n",
       "        text-align: right;\n",
       "    }\n",
       "</style>\n",
       "<table border=\"1\" class=\"dataframe\">\n",
       "  <thead>\n",
       "    <tr style=\"text-align: right;\">\n",
       "      <th></th>\n",
       "      <th>model</th>\n",
       "      <th>year</th>\n",
       "      <th>price</th>\n",
       "      <th>transmission</th>\n",
       "      <th>mileage</th>\n",
       "      <th>engine_size</th>\n",
       "      <th>mileage2</th>\n",
       "      <th>fuel_type2</th>\n",
       "      <th>engine_size2</th>\n",
       "      <th>reference</th>\n",
       "    </tr>\n",
       "  </thead>\n",
       "  <tbody>\n",
       "    <tr>\n",
       "      <th>0</th>\n",
       "      <td>C Class</td>\n",
       "      <td>2020.0</td>\n",
       "      <td>30495</td>\n",
       "      <td>Automatic</td>\n",
       "      <td>NaN</td>\n",
       "      <td>2</td>\n",
       "      <td>1,200</td>\n",
       "      <td>Diesel</td>\n",
       "      <td>NaN</td>\n",
       "      <td>/ad/25017331</td>\n",
       "    </tr>\n",
       "    <tr>\n",
       "      <th>1</th>\n",
       "      <td>C Class</td>\n",
       "      <td>2020.0</td>\n",
       "      <td>29989</td>\n",
       "      <td>Automatic</td>\n",
       "      <td>NaN</td>\n",
       "      <td>1.5</td>\n",
       "      <td>1,000</td>\n",
       "      <td>Petrol</td>\n",
       "      <td>NaN</td>\n",
       "      <td>/ad/25043746</td>\n",
       "    </tr>\n",
       "    <tr>\n",
       "      <th>2</th>\n",
       "      <td>C Class</td>\n",
       "      <td>2020.0</td>\n",
       "      <td>37899</td>\n",
       "      <td>Automatic</td>\n",
       "      <td>NaN</td>\n",
       "      <td>2</td>\n",
       "      <td>500</td>\n",
       "      <td>Diesel</td>\n",
       "      <td>NaN</td>\n",
       "      <td>/ad/25142894</td>\n",
       "    </tr>\n",
       "    <tr>\n",
       "      <th>3</th>\n",
       "      <td>C Class</td>\n",
       "      <td>2019.0</td>\n",
       "      <td>30399</td>\n",
       "      <td>Automatic</td>\n",
       "      <td>NaN</td>\n",
       "      <td>2</td>\n",
       "      <td>5,000</td>\n",
       "      <td>Diesel</td>\n",
       "      <td>NaN</td>\n",
       "      <td>/ad/24942816</td>\n",
       "    </tr>\n",
       "    <tr>\n",
       "      <th>4</th>\n",
       "      <td>C Class</td>\n",
       "      <td>2019.0</td>\n",
       "      <td>29899</td>\n",
       "      <td>Automatic</td>\n",
       "      <td>NaN</td>\n",
       "      <td>2</td>\n",
       "      <td>4,500</td>\n",
       "      <td>Diesel</td>\n",
       "      <td>NaN</td>\n",
       "      <td>/ad/24913660</td>\n",
       "    </tr>\n",
       "  </tbody>\n",
       "</table>\n",
       "</div>"
      ],
      "text/plain": [
       "      model    year  price transmission mileage engine_size mileage2  \\\n",
       "0   C Class  2020.0  30495    Automatic     NaN           2    1,200   \n",
       "1   C Class  2020.0  29989    Automatic     NaN         1.5    1,000   \n",
       "2   C Class  2020.0  37899    Automatic     NaN           2      500   \n",
       "3   C Class  2019.0  30399    Automatic     NaN           2    5,000   \n",
       "4   C Class  2019.0  29899    Automatic     NaN           2    4,500   \n",
       "\n",
       "  fuel_type2 engine_size2     reference  \n",
       "0     Diesel          NaN  /ad/25017331  \n",
       "1     Petrol          NaN  /ad/25043746  \n",
       "2     Diesel          NaN  /ad/25142894  \n",
       "3     Diesel          NaN  /ad/24942816  \n",
       "4     Diesel          NaN  /ad/24913660  "
      ]
     },
     "execution_count": 27,
     "metadata": {},
     "output_type": "execute_result"
    }
   ],
   "source": [
    "#since fuel_type still has a lot of missing values, we can drop this column\n",
    "clean_df2 = clean_df1.drop(columns=['fuel_type'],axis=1)\n",
    "clean_df2.head()"
   ]
  },
  {
   "cell_type": "code",
   "execution_count": 28,
   "metadata": {
    "colab": {
     "base_uri": "https://localhost:8080/"
    },
    "id": "TenHY95EBe3Q",
    "outputId": "a22f52c8-2602-4411-e3d1-c712a3c7db7b"
   },
   "outputs": [
    {
     "data": {
      "text/plain": [
       "(3907, 10)"
      ]
     },
     "execution_count": 28,
     "metadata": {},
     "output_type": "execute_result"
    }
   ],
   "source": [
    "clean_df2.shape"
   ]
  },
  {
   "cell_type": "code",
   "execution_count": 29,
   "metadata": {
    "colab": {
     "base_uri": "https://localhost:8080/"
    },
    "id": "SydqTjKo31Fk",
    "outputId": "6cfc8ac7-9696-49ab-cfd6-34bc16d9cae4"
   },
   "outputs": [
    {
     "data": {
      "text/plain": [
       "model            0\n",
       "year             3\n",
       "price            0\n",
       "transmission     0\n",
       "mileage         99\n",
       "engine_size     65\n",
       "mileage2        17\n",
       "fuel_type2       0\n",
       "engine_size2    99\n",
       "reference        0\n",
       "dtype: int64"
      ]
     },
     "execution_count": 29,
     "metadata": {},
     "output_type": "execute_result"
    }
   ],
   "source": [
    "clean_df2.isna().sum()"
   ]
  },
  {
   "cell_type": "code",
   "execution_count": 30,
   "metadata": {
    "id": "IzcZBYSHTBR_"
   },
   "outputs": [],
   "source": [
    "#Rename fuel_type2 column\n",
    "clean_df2.rename(columns={'fuel_type2':'fuel_type'},inplace=True)"
   ]
  },
  {
   "cell_type": "markdown",
   "metadata": {
    "id": "yPQvNXBwBhBY"
   },
   "source": [
    "### Step 3.5 - Handling missing values and comma format in columns: mileage"
   ]
  },
  {
   "cell_type": "code",
   "execution_count": 31,
   "metadata": {
    "colab": {
     "base_uri": "https://localhost:8080/",
     "height": 202
    },
    "id": "jZIuSj0eBkxQ",
    "outputId": "d5040021-baed-4d94-9ad1-e61546d51807"
   },
   "outputs": [
    {
     "data": {
      "text/html": [
       "<div>\n",
       "<style scoped>\n",
       "    .dataframe tbody tr th:only-of-type {\n",
       "        vertical-align: middle;\n",
       "    }\n",
       "\n",
       "    .dataframe tbody tr th {\n",
       "        vertical-align: top;\n",
       "    }\n",
       "\n",
       "    .dataframe thead th {\n",
       "        text-align: right;\n",
       "    }\n",
       "</style>\n",
       "<table border=\"1\" class=\"dataframe\">\n",
       "  <thead>\n",
       "    <tr style=\"text-align: right;\">\n",
       "      <th></th>\n",
       "      <th>model</th>\n",
       "      <th>year</th>\n",
       "      <th>price</th>\n",
       "      <th>transmission</th>\n",
       "      <th>mileage</th>\n",
       "      <th>engine_size</th>\n",
       "      <th>mileage2</th>\n",
       "      <th>fuel_type</th>\n",
       "      <th>engine_size2</th>\n",
       "      <th>reference</th>\n",
       "    </tr>\n",
       "  </thead>\n",
       "  <tbody>\n",
       "    <tr>\n",
       "      <th>0</th>\n",
       "      <td>C Class</td>\n",
       "      <td>2020.0</td>\n",
       "      <td>30495</td>\n",
       "      <td>Automatic</td>\n",
       "      <td>1,200</td>\n",
       "      <td>2</td>\n",
       "      <td>1,200</td>\n",
       "      <td>Diesel</td>\n",
       "      <td>NaN</td>\n",
       "      <td>/ad/25017331</td>\n",
       "    </tr>\n",
       "    <tr>\n",
       "      <th>1</th>\n",
       "      <td>C Class</td>\n",
       "      <td>2020.0</td>\n",
       "      <td>29989</td>\n",
       "      <td>Automatic</td>\n",
       "      <td>1,000</td>\n",
       "      <td>1.5</td>\n",
       "      <td>1,000</td>\n",
       "      <td>Petrol</td>\n",
       "      <td>NaN</td>\n",
       "      <td>/ad/25043746</td>\n",
       "    </tr>\n",
       "    <tr>\n",
       "      <th>2</th>\n",
       "      <td>C Class</td>\n",
       "      <td>2020.0</td>\n",
       "      <td>37899</td>\n",
       "      <td>Automatic</td>\n",
       "      <td>500</td>\n",
       "      <td>2</td>\n",
       "      <td>500</td>\n",
       "      <td>Diesel</td>\n",
       "      <td>NaN</td>\n",
       "      <td>/ad/25142894</td>\n",
       "    </tr>\n",
       "    <tr>\n",
       "      <th>3</th>\n",
       "      <td>C Class</td>\n",
       "      <td>2019.0</td>\n",
       "      <td>30399</td>\n",
       "      <td>Automatic</td>\n",
       "      <td>5,000</td>\n",
       "      <td>2</td>\n",
       "      <td>5,000</td>\n",
       "      <td>Diesel</td>\n",
       "      <td>NaN</td>\n",
       "      <td>/ad/24942816</td>\n",
       "    </tr>\n",
       "    <tr>\n",
       "      <th>4</th>\n",
       "      <td>C Class</td>\n",
       "      <td>2019.0</td>\n",
       "      <td>29899</td>\n",
       "      <td>Automatic</td>\n",
       "      <td>4,500</td>\n",
       "      <td>2</td>\n",
       "      <td>4,500</td>\n",
       "      <td>Diesel</td>\n",
       "      <td>NaN</td>\n",
       "      <td>/ad/24913660</td>\n",
       "    </tr>\n",
       "  </tbody>\n",
       "</table>\n",
       "</div>"
      ],
      "text/plain": [
       "      model    year  price transmission mileage engine_size mileage2  \\\n",
       "0   C Class  2020.0  30495    Automatic   1,200           2    1,200   \n",
       "1   C Class  2020.0  29989    Automatic   1,000         1.5    1,000   \n",
       "2   C Class  2020.0  37899    Automatic     500           2      500   \n",
       "3   C Class  2019.0  30399    Automatic   5,000           2    5,000   \n",
       "4   C Class  2019.0  29899    Automatic   4,500           2    4,500   \n",
       "\n",
       "  fuel_type engine_size2     reference  \n",
       "0    Diesel          NaN  /ad/25017331  \n",
       "1    Petrol          NaN  /ad/25043746  \n",
       "2    Diesel          NaN  /ad/25142894  \n",
       "3    Diesel          NaN  /ad/24942816  \n",
       "4    Diesel          NaN  /ad/24913660  "
      ]
     },
     "execution_count": 31,
     "metadata": {},
     "output_type": "execute_result"
    }
   ],
   "source": [
    "#fill nan values in column mileage with values from column mileage2\n",
    "clean_df2['mileage'] = clean_df2.mileage.fillna(clean_df2.mileage2)\n",
    "clean_df2.head()"
   ]
  },
  {
   "cell_type": "code",
   "execution_count": 32,
   "metadata": {
    "colab": {
     "base_uri": "https://localhost:8080/"
    },
    "id": "FJFwmqEVUAAW",
    "outputId": "e66e0ae6-315c-410f-eed8-8a074d60573f"
   },
   "outputs": [
    {
     "data": {
      "text/plain": [
       "model            0\n",
       "year             3\n",
       "price            0\n",
       "transmission     0\n",
       "mileage          0\n",
       "engine_size     65\n",
       "mileage2        17\n",
       "fuel_type        0\n",
       "engine_size2    99\n",
       "reference        0\n",
       "dtype: int64"
      ]
     },
     "execution_count": 32,
     "metadata": {},
     "output_type": "execute_result"
    }
   ],
   "source": [
    "clean_df2.isna().sum()"
   ]
  },
  {
   "cell_type": "code",
   "execution_count": 33,
   "metadata": {
    "colab": {
     "base_uri": "https://localhost:8080/",
     "height": 202
    },
    "id": "5fON9LNcBnGy",
    "outputId": "c8f58cef-bd28-4db1-ccf7-e214b0fba900"
   },
   "outputs": [
    {
     "data": {
      "text/html": [
       "<div>\n",
       "<style scoped>\n",
       "    .dataframe tbody tr th:only-of-type {\n",
       "        vertical-align: middle;\n",
       "    }\n",
       "\n",
       "    .dataframe tbody tr th {\n",
       "        vertical-align: top;\n",
       "    }\n",
       "\n",
       "    .dataframe thead th {\n",
       "        text-align: right;\n",
       "    }\n",
       "</style>\n",
       "<table border=\"1\" class=\"dataframe\">\n",
       "  <thead>\n",
       "    <tr style=\"text-align: right;\">\n",
       "      <th></th>\n",
       "      <th>model</th>\n",
       "      <th>year</th>\n",
       "      <th>price</th>\n",
       "      <th>transmission</th>\n",
       "      <th>mileage</th>\n",
       "      <th>engine_size</th>\n",
       "      <th>mileage2</th>\n",
       "      <th>fuel_type</th>\n",
       "      <th>engine_size2</th>\n",
       "      <th>reference</th>\n",
       "    </tr>\n",
       "  </thead>\n",
       "  <tbody>\n",
       "    <tr>\n",
       "      <th>0</th>\n",
       "      <td>C Class</td>\n",
       "      <td>2020.0</td>\n",
       "      <td>30495</td>\n",
       "      <td>Automatic</td>\n",
       "      <td>1200</td>\n",
       "      <td>2</td>\n",
       "      <td>1,200</td>\n",
       "      <td>Diesel</td>\n",
       "      <td>NaN</td>\n",
       "      <td>/ad/25017331</td>\n",
       "    </tr>\n",
       "    <tr>\n",
       "      <th>1</th>\n",
       "      <td>C Class</td>\n",
       "      <td>2020.0</td>\n",
       "      <td>29989</td>\n",
       "      <td>Automatic</td>\n",
       "      <td>1000</td>\n",
       "      <td>1.5</td>\n",
       "      <td>1,000</td>\n",
       "      <td>Petrol</td>\n",
       "      <td>NaN</td>\n",
       "      <td>/ad/25043746</td>\n",
       "    </tr>\n",
       "    <tr>\n",
       "      <th>2</th>\n",
       "      <td>C Class</td>\n",
       "      <td>2020.0</td>\n",
       "      <td>37899</td>\n",
       "      <td>Automatic</td>\n",
       "      <td>500</td>\n",
       "      <td>2</td>\n",
       "      <td>500</td>\n",
       "      <td>Diesel</td>\n",
       "      <td>NaN</td>\n",
       "      <td>/ad/25142894</td>\n",
       "    </tr>\n",
       "    <tr>\n",
       "      <th>3</th>\n",
       "      <td>C Class</td>\n",
       "      <td>2019.0</td>\n",
       "      <td>30399</td>\n",
       "      <td>Automatic</td>\n",
       "      <td>5000</td>\n",
       "      <td>2</td>\n",
       "      <td>5,000</td>\n",
       "      <td>Diesel</td>\n",
       "      <td>NaN</td>\n",
       "      <td>/ad/24942816</td>\n",
       "    </tr>\n",
       "    <tr>\n",
       "      <th>4</th>\n",
       "      <td>C Class</td>\n",
       "      <td>2019.0</td>\n",
       "      <td>29899</td>\n",
       "      <td>Automatic</td>\n",
       "      <td>4500</td>\n",
       "      <td>2</td>\n",
       "      <td>4,500</td>\n",
       "      <td>Diesel</td>\n",
       "      <td>NaN</td>\n",
       "      <td>/ad/24913660</td>\n",
       "    </tr>\n",
       "  </tbody>\n",
       "</table>\n",
       "</div>"
      ],
      "text/plain": [
       "      model    year  price transmission mileage engine_size mileage2  \\\n",
       "0   C Class  2020.0  30495    Automatic    1200           2    1,200   \n",
       "1   C Class  2020.0  29989    Automatic    1000         1.5    1,000   \n",
       "2   C Class  2020.0  37899    Automatic     500           2      500   \n",
       "3   C Class  2019.0  30399    Automatic    5000           2    5,000   \n",
       "4   C Class  2019.0  29899    Automatic    4500           2    4,500   \n",
       "\n",
       "  fuel_type engine_size2     reference  \n",
       "0    Diesel          NaN  /ad/25017331  \n",
       "1    Petrol          NaN  /ad/25043746  \n",
       "2    Diesel          NaN  /ad/25142894  \n",
       "3    Diesel          NaN  /ad/24942816  \n",
       "4    Diesel          NaN  /ad/24913660  "
      ]
     },
     "execution_count": 33,
     "metadata": {},
     "output_type": "execute_result"
    }
   ],
   "source": [
    "#Replace comma character with empt space at mileage column\n",
    "clean_df2['mileage'] = clean_df2['mileage'].str.replace(',','')\n",
    "clean_df2.head()"
   ]
  },
  {
   "cell_type": "code",
   "execution_count": 34,
   "metadata": {
    "colab": {
     "base_uri": "https://localhost:8080/",
     "height": 202
    },
    "id": "yOYVdJFDBpGe",
    "outputId": "c3f3e67a-7f80-4952-da8d-ba16925b44a9"
   },
   "outputs": [
    {
     "data": {
      "text/html": [
       "<div>\n",
       "<style scoped>\n",
       "    .dataframe tbody tr th:only-of-type {\n",
       "        vertical-align: middle;\n",
       "    }\n",
       "\n",
       "    .dataframe tbody tr th {\n",
       "        vertical-align: top;\n",
       "    }\n",
       "\n",
       "    .dataframe thead th {\n",
       "        text-align: right;\n",
       "    }\n",
       "</style>\n",
       "<table border=\"1\" class=\"dataframe\">\n",
       "  <thead>\n",
       "    <tr style=\"text-align: right;\">\n",
       "      <th></th>\n",
       "      <th>model</th>\n",
       "      <th>year</th>\n",
       "      <th>price</th>\n",
       "      <th>transmission</th>\n",
       "      <th>mileage</th>\n",
       "      <th>engine_size</th>\n",
       "      <th>fuel_type</th>\n",
       "      <th>engine_size2</th>\n",
       "      <th>reference</th>\n",
       "    </tr>\n",
       "  </thead>\n",
       "  <tbody>\n",
       "    <tr>\n",
       "      <th>0</th>\n",
       "      <td>C Class</td>\n",
       "      <td>2020.0</td>\n",
       "      <td>30495</td>\n",
       "      <td>Automatic</td>\n",
       "      <td>1200</td>\n",
       "      <td>2</td>\n",
       "      <td>Diesel</td>\n",
       "      <td>NaN</td>\n",
       "      <td>/ad/25017331</td>\n",
       "    </tr>\n",
       "    <tr>\n",
       "      <th>1</th>\n",
       "      <td>C Class</td>\n",
       "      <td>2020.0</td>\n",
       "      <td>29989</td>\n",
       "      <td>Automatic</td>\n",
       "      <td>1000</td>\n",
       "      <td>1.5</td>\n",
       "      <td>Petrol</td>\n",
       "      <td>NaN</td>\n",
       "      <td>/ad/25043746</td>\n",
       "    </tr>\n",
       "    <tr>\n",
       "      <th>2</th>\n",
       "      <td>C Class</td>\n",
       "      <td>2020.0</td>\n",
       "      <td>37899</td>\n",
       "      <td>Automatic</td>\n",
       "      <td>500</td>\n",
       "      <td>2</td>\n",
       "      <td>Diesel</td>\n",
       "      <td>NaN</td>\n",
       "      <td>/ad/25142894</td>\n",
       "    </tr>\n",
       "    <tr>\n",
       "      <th>3</th>\n",
       "      <td>C Class</td>\n",
       "      <td>2019.0</td>\n",
       "      <td>30399</td>\n",
       "      <td>Automatic</td>\n",
       "      <td>5000</td>\n",
       "      <td>2</td>\n",
       "      <td>Diesel</td>\n",
       "      <td>NaN</td>\n",
       "      <td>/ad/24942816</td>\n",
       "    </tr>\n",
       "    <tr>\n",
       "      <th>4</th>\n",
       "      <td>C Class</td>\n",
       "      <td>2019.0</td>\n",
       "      <td>29899</td>\n",
       "      <td>Automatic</td>\n",
       "      <td>4500</td>\n",
       "      <td>2</td>\n",
       "      <td>Diesel</td>\n",
       "      <td>NaN</td>\n",
       "      <td>/ad/24913660</td>\n",
       "    </tr>\n",
       "  </tbody>\n",
       "</table>\n",
       "</div>"
      ],
      "text/plain": [
       "      model    year  price transmission mileage engine_size fuel_type  \\\n",
       "0   C Class  2020.0  30495    Automatic    1200           2    Diesel   \n",
       "1   C Class  2020.0  29989    Automatic    1000         1.5    Petrol   \n",
       "2   C Class  2020.0  37899    Automatic     500           2    Diesel   \n",
       "3   C Class  2019.0  30399    Automatic    5000           2    Diesel   \n",
       "4   C Class  2019.0  29899    Automatic    4500           2    Diesel   \n",
       "\n",
       "  engine_size2     reference  \n",
       "0          NaN  /ad/25017331  \n",
       "1          NaN  /ad/25043746  \n",
       "2          NaN  /ad/25142894  \n",
       "3          NaN  /ad/24942816  \n",
       "4          NaN  /ad/24913660  "
      ]
     },
     "execution_count": 34,
     "metadata": {},
     "output_type": "execute_result"
    }
   ],
   "source": [
    "# drop the mileage2 column\n",
    "clean_df3 = clean_df2.drop(columns=['mileage2'],axis=1)\n",
    "clean_df3.head()"
   ]
  },
  {
   "cell_type": "code",
   "execution_count": 35,
   "metadata": {
    "colab": {
     "base_uri": "https://localhost:8080/"
    },
    "id": "7pw8KMtb72Ea",
    "outputId": "2f6c74df-2270-4531-e3c1-c4a9b445a91a"
   },
   "outputs": [
    {
     "data": {
      "text/plain": [
       "(3907, 9)"
      ]
     },
     "execution_count": 35,
     "metadata": {},
     "output_type": "execute_result"
    }
   ],
   "source": [
    "clean_df3.shape"
   ]
  },
  {
   "cell_type": "code",
   "execution_count": 36,
   "metadata": {
    "colab": {
     "base_uri": "https://localhost:8080/"
    },
    "id": "A6vRyMg02F8c",
    "outputId": "bc588619-7669-46a5-d626-7ac1aceff354"
   },
   "outputs": [
    {
     "data": {
      "text/plain": [
       "model            0\n",
       "year             3\n",
       "price            0\n",
       "transmission     0\n",
       "mileage          0\n",
       "engine_size     65\n",
       "fuel_type        0\n",
       "engine_size2    99\n",
       "reference        0\n",
       "dtype: int64"
      ]
     },
     "execution_count": 36,
     "metadata": {},
     "output_type": "execute_result"
    }
   ],
   "source": [
    "# check existing NaN values in the dataset\n",
    "clean_df3.isna().sum()"
   ]
  },
  {
   "cell_type": "code",
   "execution_count": 37,
   "metadata": {
    "id": "U7Np29nUUxIP"
   },
   "outputs": [],
   "source": [
    "#Convert mileage data type to numerical\n",
    "clean_df3['mileage'] = pd.to_numeric(clean_df3['mileage'],errors='coerce')\n",
    "\n",
    "\n",
    "# use a lambda function to standardize its numeric value\n",
    "#clean_df3['mileage'] = clean_df3['mileage'].apply(lambda x: round(x/1000, 1) if x > 1000 else round(x, 1))"
   ]
  },
  {
   "cell_type": "code",
   "execution_count": 38,
   "metadata": {
    "colab": {
     "base_uri": "https://localhost:8080/"
    },
    "id": "6I6sFuZ6VRZM",
    "outputId": "6783f7df-2843-4fd2-f2c7-aa74adbc8593"
   },
   "outputs": [
    {
     "data": {
      "text/plain": [
       "model            object\n",
       "year            float64\n",
       "price             int64\n",
       "transmission     object\n",
       "mileage         float64\n",
       "engine_size      object\n",
       "fuel_type        object\n",
       "engine_size2     object\n",
       "reference        object\n",
       "dtype: object"
      ]
     },
     "execution_count": 38,
     "metadata": {},
     "output_type": "execute_result"
    }
   ],
   "source": [
    "clean_df3.dtypes"
   ]
  },
  {
   "cell_type": "markdown",
   "metadata": {
    "id": "uxMQXQqe4Bnq"
   },
   "source": [
    "###Step 3.6 - Handling missing values and different value standard in columns: engine_size "
   ]
  },
  {
   "cell_type": "code",
   "execution_count": 39,
   "metadata": {
    "colab": {
     "base_uri": "https://localhost:8080/",
     "height": 202
    },
    "id": "YmSEAU5Mezjp",
    "outputId": "f842e6e7-f594-4820-9e20-1ad5bfe8a16f"
   },
   "outputs": [
    {
     "data": {
      "text/html": [
       "<div>\n",
       "<style scoped>\n",
       "    .dataframe tbody tr th:only-of-type {\n",
       "        vertical-align: middle;\n",
       "    }\n",
       "\n",
       "    .dataframe tbody tr th {\n",
       "        vertical-align: top;\n",
       "    }\n",
       "\n",
       "    .dataframe thead th {\n",
       "        text-align: right;\n",
       "    }\n",
       "</style>\n",
       "<table border=\"1\" class=\"dataframe\">\n",
       "  <thead>\n",
       "    <tr style=\"text-align: right;\">\n",
       "      <th></th>\n",
       "      <th>model</th>\n",
       "      <th>year</th>\n",
       "      <th>price</th>\n",
       "      <th>transmission</th>\n",
       "      <th>mileage</th>\n",
       "      <th>engine_size</th>\n",
       "      <th>fuel_type</th>\n",
       "      <th>engine_size2</th>\n",
       "      <th>reference</th>\n",
       "    </tr>\n",
       "  </thead>\n",
       "  <tbody>\n",
       "    <tr>\n",
       "      <th>0</th>\n",
       "      <td>C Class</td>\n",
       "      <td>2020.0</td>\n",
       "      <td>30495</td>\n",
       "      <td>Automatic</td>\n",
       "      <td>1200.0</td>\n",
       "      <td>2</td>\n",
       "      <td>Diesel</td>\n",
       "      <td>2</td>\n",
       "      <td>/ad/25017331</td>\n",
       "    </tr>\n",
       "    <tr>\n",
       "      <th>1</th>\n",
       "      <td>C Class</td>\n",
       "      <td>2020.0</td>\n",
       "      <td>29989</td>\n",
       "      <td>Automatic</td>\n",
       "      <td>1000.0</td>\n",
       "      <td>1.5</td>\n",
       "      <td>Petrol</td>\n",
       "      <td>1.5</td>\n",
       "      <td>/ad/25043746</td>\n",
       "    </tr>\n",
       "    <tr>\n",
       "      <th>2</th>\n",
       "      <td>C Class</td>\n",
       "      <td>2020.0</td>\n",
       "      <td>37899</td>\n",
       "      <td>Automatic</td>\n",
       "      <td>500.0</td>\n",
       "      <td>2</td>\n",
       "      <td>Diesel</td>\n",
       "      <td>2</td>\n",
       "      <td>/ad/25142894</td>\n",
       "    </tr>\n",
       "    <tr>\n",
       "      <th>3</th>\n",
       "      <td>C Class</td>\n",
       "      <td>2019.0</td>\n",
       "      <td>30399</td>\n",
       "      <td>Automatic</td>\n",
       "      <td>5000.0</td>\n",
       "      <td>2</td>\n",
       "      <td>Diesel</td>\n",
       "      <td>2</td>\n",
       "      <td>/ad/24942816</td>\n",
       "    </tr>\n",
       "    <tr>\n",
       "      <th>4</th>\n",
       "      <td>C Class</td>\n",
       "      <td>2019.0</td>\n",
       "      <td>29899</td>\n",
       "      <td>Automatic</td>\n",
       "      <td>4500.0</td>\n",
       "      <td>2</td>\n",
       "      <td>Diesel</td>\n",
       "      <td>2</td>\n",
       "      <td>/ad/24913660</td>\n",
       "    </tr>\n",
       "  </tbody>\n",
       "</table>\n",
       "</div>"
      ],
      "text/plain": [
       "      model    year  price transmission  mileage engine_size fuel_type  \\\n",
       "0   C Class  2020.0  30495    Automatic   1200.0           2    Diesel   \n",
       "1   C Class  2020.0  29989    Automatic   1000.0         1.5    Petrol   \n",
       "2   C Class  2020.0  37899    Automatic    500.0           2    Diesel   \n",
       "3   C Class  2019.0  30399    Automatic   5000.0           2    Diesel   \n",
       "4   C Class  2019.0  29899    Automatic   4500.0           2    Diesel   \n",
       "\n",
       "  engine_size2     reference  \n",
       "0            2  /ad/25017331  \n",
       "1          1.5  /ad/25043746  \n",
       "2            2  /ad/25142894  \n",
       "3            2  /ad/24942816  \n",
       "4            2  /ad/24913660  "
      ]
     },
     "execution_count": 39,
     "metadata": {},
     "output_type": "execute_result"
    }
   ],
   "source": [
    "#fill the missing values in engine_size2 with values from the engine_size column\n",
    "clean_df3['engine_size2']=clean_df3['engine_size2'].fillna(clean_df3.engine_size)\n",
    "clean_df3.head()"
   ]
  },
  {
   "cell_type": "code",
   "execution_count": 40,
   "metadata": {
    "colab": {
     "base_uri": "https://localhost:8080/"
    },
    "id": "kdHZIXp5Vi-z",
    "outputId": "795af888-89e5-4543-9011-e7700186136f"
   },
   "outputs": [
    {
     "data": {
      "text/plain": [
       "model            0\n",
       "year             3\n",
       "price            0\n",
       "transmission     0\n",
       "mileage          4\n",
       "engine_size     65\n",
       "fuel_type        0\n",
       "engine_size2     0\n",
       "reference        0\n",
       "dtype: int64"
      ]
     },
     "execution_count": 40,
     "metadata": {},
     "output_type": "execute_result"
    }
   ],
   "source": [
    "# check existing NaN values in the dataset\n",
    "clean_df3.isna().sum()"
   ]
  },
  {
   "cell_type": "markdown",
   "metadata": {
    "id": "fkJQWAZHV8cx"
   },
   "source": [
    "I dont know where those null values in the mileage column come from.. but I guess this is the problem, I am just going to drop them afterward since is just 4 roles and shouldnt be very significant for the analysis overall."
   ]
  },
  {
   "cell_type": "code",
   "execution_count": 41,
   "metadata": {
    "id": "oBZdDGWs1YMt"
   },
   "outputs": [],
   "source": [
    "#convert engine_size2 into numeric\n",
    "clean_df3['engine_size2']=pd.to_numeric(clean_df3['engine_size2'],errors='coerce')\n",
    "clean_df3['engine_size2'] = clean_df3['engine_size2'].apply(lambda x: round(x/1000, 1) if x > 1000 else round(x, 1))\n"
   ]
  },
  {
   "cell_type": "code",
   "execution_count": 42,
   "metadata": {
    "colab": {
     "base_uri": "https://localhost:8080/",
     "height": 202
    },
    "id": "vYFzCere1uQm",
    "outputId": "f8510078-80cd-469f-f0e5-b83dcbce55f6"
   },
   "outputs": [
    {
     "data": {
      "text/html": [
       "<div>\n",
       "<style scoped>\n",
       "    .dataframe tbody tr th:only-of-type {\n",
       "        vertical-align: middle;\n",
       "    }\n",
       "\n",
       "    .dataframe tbody tr th {\n",
       "        vertical-align: top;\n",
       "    }\n",
       "\n",
       "    .dataframe thead th {\n",
       "        text-align: right;\n",
       "    }\n",
       "</style>\n",
       "<table border=\"1\" class=\"dataframe\">\n",
       "  <thead>\n",
       "    <tr style=\"text-align: right;\">\n",
       "      <th></th>\n",
       "      <th>model</th>\n",
       "      <th>year</th>\n",
       "      <th>price</th>\n",
       "      <th>transmission</th>\n",
       "      <th>mileage</th>\n",
       "      <th>engine_size</th>\n",
       "      <th>fuel_type</th>\n",
       "      <th>engine_size2</th>\n",
       "      <th>reference</th>\n",
       "    </tr>\n",
       "  </thead>\n",
       "  <tbody>\n",
       "    <tr>\n",
       "      <th>0</th>\n",
       "      <td>C Class</td>\n",
       "      <td>2020.0</td>\n",
       "      <td>30495</td>\n",
       "      <td>Automatic</td>\n",
       "      <td>1200.0</td>\n",
       "      <td>2</td>\n",
       "      <td>Diesel</td>\n",
       "      <td>2.0</td>\n",
       "      <td>/ad/25017331</td>\n",
       "    </tr>\n",
       "    <tr>\n",
       "      <th>1</th>\n",
       "      <td>C Class</td>\n",
       "      <td>2020.0</td>\n",
       "      <td>29989</td>\n",
       "      <td>Automatic</td>\n",
       "      <td>1000.0</td>\n",
       "      <td>1.5</td>\n",
       "      <td>Petrol</td>\n",
       "      <td>1.5</td>\n",
       "      <td>/ad/25043746</td>\n",
       "    </tr>\n",
       "    <tr>\n",
       "      <th>2</th>\n",
       "      <td>C Class</td>\n",
       "      <td>2020.0</td>\n",
       "      <td>37899</td>\n",
       "      <td>Automatic</td>\n",
       "      <td>500.0</td>\n",
       "      <td>2</td>\n",
       "      <td>Diesel</td>\n",
       "      <td>2.0</td>\n",
       "      <td>/ad/25142894</td>\n",
       "    </tr>\n",
       "    <tr>\n",
       "      <th>3</th>\n",
       "      <td>C Class</td>\n",
       "      <td>2019.0</td>\n",
       "      <td>30399</td>\n",
       "      <td>Automatic</td>\n",
       "      <td>5000.0</td>\n",
       "      <td>2</td>\n",
       "      <td>Diesel</td>\n",
       "      <td>2.0</td>\n",
       "      <td>/ad/24942816</td>\n",
       "    </tr>\n",
       "    <tr>\n",
       "      <th>4</th>\n",
       "      <td>C Class</td>\n",
       "      <td>2019.0</td>\n",
       "      <td>29899</td>\n",
       "      <td>Automatic</td>\n",
       "      <td>4500.0</td>\n",
       "      <td>2</td>\n",
       "      <td>Diesel</td>\n",
       "      <td>2.0</td>\n",
       "      <td>/ad/24913660</td>\n",
       "    </tr>\n",
       "  </tbody>\n",
       "</table>\n",
       "</div>"
      ],
      "text/plain": [
       "      model    year  price transmission  mileage engine_size fuel_type  \\\n",
       "0   C Class  2020.0  30495    Automatic   1200.0           2    Diesel   \n",
       "1   C Class  2020.0  29989    Automatic   1000.0         1.5    Petrol   \n",
       "2   C Class  2020.0  37899    Automatic    500.0           2    Diesel   \n",
       "3   C Class  2019.0  30399    Automatic   5000.0           2    Diesel   \n",
       "4   C Class  2019.0  29899    Automatic   4500.0           2    Diesel   \n",
       "\n",
       "   engine_size2     reference  \n",
       "0           2.0  /ad/25017331  \n",
       "1           1.5  /ad/25043746  \n",
       "2           2.0  /ad/25142894  \n",
       "3           2.0  /ad/24942816  \n",
       "4           2.0  /ad/24913660  "
      ]
     },
     "execution_count": 42,
     "metadata": {},
     "output_type": "execute_result"
    }
   ],
   "source": [
    "clean_df3.head()\n"
   ]
  },
  {
   "cell_type": "code",
   "execution_count": 43,
   "metadata": {
    "colab": {
     "base_uri": "https://localhost:8080/"
    },
    "id": "wr9V8iX6a8Vz",
    "outputId": "f259f72f-add6-48df-b91e-e7db7b709c08"
   },
   "outputs": [
    {
     "data": {
      "text/plain": [
       "(3907, 8)"
      ]
     },
     "execution_count": 43,
     "metadata": {},
     "output_type": "execute_result"
    }
   ],
   "source": [
    "#drop column engine_size.\n",
    "clean_df4= clean_df3.drop(columns=['engine_size'],axis=1)\n",
    "clean_df4.shape"
   ]
  },
  {
   "cell_type": "code",
   "execution_count": 44,
   "metadata": {
    "colab": {
     "base_uri": "https://localhost:8080/"
    },
    "id": "ulj8rV4032v7",
    "outputId": "555ce883-2218-4388-9017-17e6b0076c0d"
   },
   "outputs": [
    {
     "data": {
      "text/plain": [
       "(3907, 8)"
      ]
     },
     "execution_count": 44,
     "metadata": {},
     "output_type": "execute_result"
    }
   ],
   "source": [
    "#rename columns\n",
    "clean_df4.rename(columns={'engine_size2':'engine_size'},inplace=True)\n",
    "clean_df4.shape\n"
   ]
  },
  {
   "cell_type": "markdown",
   "metadata": {
    "id": "fiqEzlwW4acb"
   },
   "source": [
    "###Step 3.7 - Handling wrong data type: year "
   ]
  },
  {
   "cell_type": "code",
   "execution_count": 45,
   "metadata": {
    "colab": {
     "base_uri": "https://localhost:8080/"
    },
    "id": "PAW7MppKSudf",
    "outputId": "8be48083-8b63-44e9-8737-ba0c6d2d5353"
   },
   "outputs": [
    {
     "data": {
      "text/plain": [
       "model            object\n",
       "year            float64\n",
       "price             int64\n",
       "transmission     object\n",
       "mileage         float64\n",
       "fuel_type        object\n",
       "engine_size     float64\n",
       "reference        object\n",
       "dtype: object"
      ]
     },
     "execution_count": 45,
     "metadata": {},
     "output_type": "execute_result"
    }
   ],
   "source": [
    "clean_df4.dtypes"
   ]
  },
  {
   "cell_type": "code",
   "execution_count": 46,
   "metadata": {
    "colab": {
     "base_uri": "https://localhost:8080/"
    },
    "id": "7x1vjcZnzbym",
    "outputId": "fa58017e-a4e7-415d-fa03-29f0a15a7515"
   },
   "outputs": [
    {
     "data": {
      "text/plain": [
       "model           0\n",
       "year            3\n",
       "price           0\n",
       "transmission    0\n",
       "mileage         4\n",
       "fuel_type       0\n",
       "engine_size     2\n",
       "reference       0\n",
       "dtype: int64"
      ]
     },
     "execution_count": 46,
     "metadata": {},
     "output_type": "execute_result"
    }
   ],
   "source": [
    "# check existing NaN values in the dataset\n",
    "clean_df4.isna().sum()"
   ]
  },
  {
   "cell_type": "code",
   "execution_count": 47,
   "metadata": {
    "id": "FfByQSKe1P6U"
   },
   "outputs": [],
   "source": [
    "# remove NaN values in the dataset\n",
    "clean_df5 = clean_df4.dropna()"
   ]
  },
  {
   "cell_type": "code",
   "execution_count": 48,
   "metadata": {
    "colab": {
     "base_uri": "https://localhost:8080/"
    },
    "id": "XuAFw1gv1a_E",
    "outputId": "0c1577d6-64d0-4096-f791-8bba7b90d44e"
   },
   "outputs": [
    {
     "data": {
      "text/plain": [
       "model           0\n",
       "year            0\n",
       "price           0\n",
       "transmission    0\n",
       "mileage         0\n",
       "fuel_type       0\n",
       "engine_size     0\n",
       "reference       0\n",
       "dtype: int64"
      ]
     },
     "execution_count": 48,
     "metadata": {},
     "output_type": "execute_result"
    }
   ],
   "source": [
    "# check existing NaN values in the dataset\n",
    "clean_df5.isna().sum()"
   ]
  },
  {
   "cell_type": "code",
   "execution_count": 49,
   "metadata": {
    "colab": {
     "base_uri": "https://localhost:8080/"
    },
    "id": "x7T3jb-k50r1",
    "outputId": "41169248-6286-4353-8faa-114db58e2f73"
   },
   "outputs": [
    {
     "data": {
      "text/plain": [
       "(3898, 8)"
      ]
     },
     "execution_count": 49,
     "metadata": {},
     "output_type": "execute_result"
    }
   ],
   "source": [
    "# change the data type of the year column into integer format\n",
    "clean_df5['year'].astype('int64')\n",
    "clean_df5.shape"
   ]
  },
  {
   "cell_type": "code",
   "execution_count": 50,
   "metadata": {
    "colab": {
     "base_uri": "https://localhost:8080/"
    },
    "id": "NCNApzC95bRk",
    "outputId": "074b8022-7a4c-4389-fb94-97138406de18"
   },
   "outputs": [
    {
     "data": {
      "text/plain": [
       "model            object\n",
       "year            float64\n",
       "price             int64\n",
       "transmission     object\n",
       "mileage         float64\n",
       "fuel_type        object\n",
       "engine_size     float64\n",
       "reference        object\n",
       "dtype: object"
      ]
     },
     "execution_count": 50,
     "metadata": {},
     "output_type": "execute_result"
    }
   ],
   "source": [
    "clean_df5.dtypes # show data type"
   ]
  },
  {
   "cell_type": "markdown",
   "metadata": {
    "id": "JBF9d-V54ji3"
   },
   "source": [
    "###Step 3.8 - Handling unneeded columns \n",
    "\n",
    "\n"
   ]
  },
  {
   "cell_type": "code",
   "execution_count": 51,
   "metadata": {
    "colab": {
     "base_uri": "https://localhost:8080/"
    },
    "id": "BOkNDqzK6Aiz",
    "outputId": "4ba420cc-c02b-4d00-b4ed-ab76c2c08325"
   },
   "outputs": [
    {
     "data": {
      "text/plain": [
       "(3898, 6)"
      ]
     },
     "execution_count": 51,
     "metadata": {},
     "output_type": "execute_result"
    }
   ],
   "source": [
    "clean_df5 = clean_df5.drop(columns=['model', 'reference'])\n",
    "clean_df5.shape\n"
   ]
  },
  {
   "cell_type": "markdown",
   "metadata": {
    "id": "RycoAbGU4rVo"
   },
   "source": [
    "### Step 3.9 - Handling categorical data "
   ]
  },
  {
   "cell_type": "code",
   "execution_count": 52,
   "metadata": {
    "colab": {
     "base_uri": "https://localhost:8080/",
     "height": 202
    },
    "id": "oozMbTYe6iLW",
    "outputId": "b0fcb657-d4d6-42ef-bea3-22bc4ab65616"
   },
   "outputs": [
    {
     "data": {
      "text/html": [
       "<div>\n",
       "<style scoped>\n",
       "    .dataframe tbody tr th:only-of-type {\n",
       "        vertical-align: middle;\n",
       "    }\n",
       "\n",
       "    .dataframe tbody tr th {\n",
       "        vertical-align: top;\n",
       "    }\n",
       "\n",
       "    .dataframe thead th {\n",
       "        text-align: right;\n",
       "    }\n",
       "</style>\n",
       "<table border=\"1\" class=\"dataframe\">\n",
       "  <thead>\n",
       "    <tr style=\"text-align: right;\">\n",
       "      <th></th>\n",
       "      <th>year</th>\n",
       "      <th>price</th>\n",
       "      <th>transmission</th>\n",
       "      <th>mileage</th>\n",
       "      <th>fuel_type</th>\n",
       "      <th>engine_size</th>\n",
       "      <th>Automatic</th>\n",
       "      <th>Manual</th>\n",
       "      <th>Other</th>\n",
       "      <th>Semi-Auto</th>\n",
       "    </tr>\n",
       "  </thead>\n",
       "  <tbody>\n",
       "    <tr>\n",
       "      <th>0</th>\n",
       "      <td>2020.0</td>\n",
       "      <td>30495</td>\n",
       "      <td>Automatic</td>\n",
       "      <td>1200.0</td>\n",
       "      <td>Diesel</td>\n",
       "      <td>2.0</td>\n",
       "      <td>1</td>\n",
       "      <td>0</td>\n",
       "      <td>0</td>\n",
       "      <td>0</td>\n",
       "    </tr>\n",
       "    <tr>\n",
       "      <th>1</th>\n",
       "      <td>2020.0</td>\n",
       "      <td>29989</td>\n",
       "      <td>Automatic</td>\n",
       "      <td>1000.0</td>\n",
       "      <td>Petrol</td>\n",
       "      <td>1.5</td>\n",
       "      <td>1</td>\n",
       "      <td>0</td>\n",
       "      <td>0</td>\n",
       "      <td>0</td>\n",
       "    </tr>\n",
       "    <tr>\n",
       "      <th>2</th>\n",
       "      <td>2020.0</td>\n",
       "      <td>37899</td>\n",
       "      <td>Automatic</td>\n",
       "      <td>500.0</td>\n",
       "      <td>Diesel</td>\n",
       "      <td>2.0</td>\n",
       "      <td>1</td>\n",
       "      <td>0</td>\n",
       "      <td>0</td>\n",
       "      <td>0</td>\n",
       "    </tr>\n",
       "    <tr>\n",
       "      <th>3</th>\n",
       "      <td>2019.0</td>\n",
       "      <td>30399</td>\n",
       "      <td>Automatic</td>\n",
       "      <td>5000.0</td>\n",
       "      <td>Diesel</td>\n",
       "      <td>2.0</td>\n",
       "      <td>1</td>\n",
       "      <td>0</td>\n",
       "      <td>0</td>\n",
       "      <td>0</td>\n",
       "    </tr>\n",
       "    <tr>\n",
       "      <th>4</th>\n",
       "      <td>2019.0</td>\n",
       "      <td>29899</td>\n",
       "      <td>Automatic</td>\n",
       "      <td>4500.0</td>\n",
       "      <td>Diesel</td>\n",
       "      <td>2.0</td>\n",
       "      <td>1</td>\n",
       "      <td>0</td>\n",
       "      <td>0</td>\n",
       "      <td>0</td>\n",
       "    </tr>\n",
       "  </tbody>\n",
       "</table>\n",
       "</div>"
      ],
      "text/plain": [
       "     year  price transmission  mileage fuel_type  engine_size  Automatic  \\\n",
       "0  2020.0  30495    Automatic   1200.0    Diesel          2.0          1   \n",
       "1  2020.0  29989    Automatic   1000.0    Petrol          1.5          1   \n",
       "2  2020.0  37899    Automatic    500.0    Diesel          2.0          1   \n",
       "3  2019.0  30399    Automatic   5000.0    Diesel          2.0          1   \n",
       "4  2019.0  29899    Automatic   4500.0    Diesel          2.0          1   \n",
       "\n",
       "   Manual  Other  Semi-Auto  \n",
       "0       0      0          0  \n",
       "1       0      0          0  \n",
       "2       0      0          0  \n",
       "3       0      0          0  \n",
       "4       0      0          0  "
      ]
     },
     "execution_count": 52,
     "metadata": {},
     "output_type": "execute_result"
    }
   ],
   "source": [
    "# change categorial data of transmission into dummy values\n",
    "transmission = pd.get_dummies(clean_df5['transmission']) # to get the dummy values and store in a variable called transmission\n",
    "clean_df5 = clean_df5.join(transmission) # add the dummy values to new columns\n",
    "clean_df5.head()\n"
   ]
  },
  {
   "cell_type": "code",
   "execution_count": 53,
   "metadata": {
    "colab": {
     "base_uri": "https://localhost:8080/",
     "height": 986
    },
    "id": "VA2Shl8HcO97",
    "outputId": "59de5dd9-1841-4d7d-9dcc-7731ebfd8e44"
   },
   "outputs": [
    {
     "data": {
      "text/html": [
       "<div>\n",
       "<style scoped>\n",
       "    .dataframe tbody tr th:only-of-type {\n",
       "        vertical-align: middle;\n",
       "    }\n",
       "\n",
       "    .dataframe tbody tr th {\n",
       "        vertical-align: top;\n",
       "    }\n",
       "\n",
       "    .dataframe thead th {\n",
       "        text-align: right;\n",
       "    }\n",
       "</style>\n",
       "<table border=\"1\" class=\"dataframe\">\n",
       "  <thead>\n",
       "    <tr style=\"text-align: right;\">\n",
       "      <th></th>\n",
       "      <th>year</th>\n",
       "      <th>price</th>\n",
       "      <th>transmission</th>\n",
       "      <th>mileage</th>\n",
       "      <th>fuel_type</th>\n",
       "      <th>engine_size</th>\n",
       "      <th>Automatic</th>\n",
       "      <th>Manual</th>\n",
       "      <th>OtherTransmission</th>\n",
       "      <th>Semi-Auto</th>\n",
       "    </tr>\n",
       "  </thead>\n",
       "  <tbody>\n",
       "    <tr>\n",
       "      <th>0</th>\n",
       "      <td>2020.0</td>\n",
       "      <td>30495</td>\n",
       "      <td>Automatic</td>\n",
       "      <td>1200.0</td>\n",
       "      <td>Diesel</td>\n",
       "      <td>2.0</td>\n",
       "      <td>1</td>\n",
       "      <td>0</td>\n",
       "      <td>0</td>\n",
       "      <td>0</td>\n",
       "    </tr>\n",
       "    <tr>\n",
       "      <th>1</th>\n",
       "      <td>2020.0</td>\n",
       "      <td>29989</td>\n",
       "      <td>Automatic</td>\n",
       "      <td>1000.0</td>\n",
       "      <td>Petrol</td>\n",
       "      <td>1.5</td>\n",
       "      <td>1</td>\n",
       "      <td>0</td>\n",
       "      <td>0</td>\n",
       "      <td>0</td>\n",
       "    </tr>\n",
       "    <tr>\n",
       "      <th>2</th>\n",
       "      <td>2020.0</td>\n",
       "      <td>37899</td>\n",
       "      <td>Automatic</td>\n",
       "      <td>500.0</td>\n",
       "      <td>Diesel</td>\n",
       "      <td>2.0</td>\n",
       "      <td>1</td>\n",
       "      <td>0</td>\n",
       "      <td>0</td>\n",
       "      <td>0</td>\n",
       "    </tr>\n",
       "    <tr>\n",
       "      <th>3</th>\n",
       "      <td>2019.0</td>\n",
       "      <td>30399</td>\n",
       "      <td>Automatic</td>\n",
       "      <td>5000.0</td>\n",
       "      <td>Diesel</td>\n",
       "      <td>2.0</td>\n",
       "      <td>1</td>\n",
       "      <td>0</td>\n",
       "      <td>0</td>\n",
       "      <td>0</td>\n",
       "    </tr>\n",
       "    <tr>\n",
       "      <th>4</th>\n",
       "      <td>2019.0</td>\n",
       "      <td>29899</td>\n",
       "      <td>Automatic</td>\n",
       "      <td>4500.0</td>\n",
       "      <td>Diesel</td>\n",
       "      <td>2.0</td>\n",
       "      <td>1</td>\n",
       "      <td>0</td>\n",
       "      <td>0</td>\n",
       "      <td>0</td>\n",
       "    </tr>\n",
       "    <tr>\n",
       "      <th>5</th>\n",
       "      <td>2020.0</td>\n",
       "      <td>30999</td>\n",
       "      <td>Automatic</td>\n",
       "      <td>1000.0</td>\n",
       "      <td>Diesel</td>\n",
       "      <td>2.0</td>\n",
       "      <td>1</td>\n",
       "      <td>0</td>\n",
       "      <td>0</td>\n",
       "      <td>0</td>\n",
       "    </tr>\n",
       "    <tr>\n",
       "      <th>6</th>\n",
       "      <td>2020.0</td>\n",
       "      <td>35999</td>\n",
       "      <td>Automatic</td>\n",
       "      <td>500.0</td>\n",
       "      <td>Diesel</td>\n",
       "      <td>2.0</td>\n",
       "      <td>1</td>\n",
       "      <td>0</td>\n",
       "      <td>0</td>\n",
       "      <td>0</td>\n",
       "    </tr>\n",
       "    <tr>\n",
       "      <th>7</th>\n",
       "      <td>2019.0</td>\n",
       "      <td>37990</td>\n",
       "      <td>Automatic</td>\n",
       "      <td>1412.0</td>\n",
       "      <td>Petrol</td>\n",
       "      <td>3.0</td>\n",
       "      <td>1</td>\n",
       "      <td>0</td>\n",
       "      <td>0</td>\n",
       "      <td>0</td>\n",
       "    </tr>\n",
       "    <tr>\n",
       "      <th>8</th>\n",
       "      <td>2019.0</td>\n",
       "      <td>28990</td>\n",
       "      <td>Automatic</td>\n",
       "      <td>3569.0</td>\n",
       "      <td>Diesel</td>\n",
       "      <td>2.0</td>\n",
       "      <td>1</td>\n",
       "      <td>0</td>\n",
       "      <td>0</td>\n",
       "      <td>0</td>\n",
       "    </tr>\n",
       "    <tr>\n",
       "      <th>9</th>\n",
       "      <td>2019.0</td>\n",
       "      <td>28990</td>\n",
       "      <td>Automatic</td>\n",
       "      <td>3635.0</td>\n",
       "      <td>Diesel</td>\n",
       "      <td>2.0</td>\n",
       "      <td>1</td>\n",
       "      <td>0</td>\n",
       "      <td>0</td>\n",
       "      <td>0</td>\n",
       "    </tr>\n",
       "    <tr>\n",
       "      <th>10</th>\n",
       "      <td>2013.0</td>\n",
       "      <td>9995</td>\n",
       "      <td>Automatic</td>\n",
       "      <td>44900.0</td>\n",
       "      <td>Petrol</td>\n",
       "      <td>1.6</td>\n",
       "      <td>1</td>\n",
       "      <td>0</td>\n",
       "      <td>0</td>\n",
       "      <td>0</td>\n",
       "    </tr>\n",
       "    <tr>\n",
       "      <th>11</th>\n",
       "      <td>2012.0</td>\n",
       "      <td>6995</td>\n",
       "      <td>Automatic</td>\n",
       "      <td>88200.0</td>\n",
       "      <td>Diesel</td>\n",
       "      <td>2.1</td>\n",
       "      <td>1</td>\n",
       "      <td>0</td>\n",
       "      <td>0</td>\n",
       "      <td>0</td>\n",
       "    </tr>\n",
       "    <tr>\n",
       "      <th>12</th>\n",
       "      <td>2012.0</td>\n",
       "      <td>7495</td>\n",
       "      <td>Automatic</td>\n",
       "      <td>115000.0</td>\n",
       "      <td>Diesel</td>\n",
       "      <td>2.1</td>\n",
       "      <td>1</td>\n",
       "      <td>0</td>\n",
       "      <td>0</td>\n",
       "      <td>0</td>\n",
       "    </tr>\n",
       "    <tr>\n",
       "      <th>13</th>\n",
       "      <td>2011.0</td>\n",
       "      <td>8995</td>\n",
       "      <td>Automatic</td>\n",
       "      <td>69250.0</td>\n",
       "      <td>Diesel</td>\n",
       "      <td>2.1</td>\n",
       "      <td>1</td>\n",
       "      <td>0</td>\n",
       "      <td>0</td>\n",
       "      <td>0</td>\n",
       "    </tr>\n",
       "    <tr>\n",
       "      <th>14</th>\n",
       "      <td>2015.0</td>\n",
       "      <td>14995</td>\n",
       "      <td>Automatic</td>\n",
       "      <td>49850.0</td>\n",
       "      <td>Diesel</td>\n",
       "      <td>2.1</td>\n",
       "      <td>1</td>\n",
       "      <td>0</td>\n",
       "      <td>0</td>\n",
       "      <td>0</td>\n",
       "    </tr>\n",
       "    <tr>\n",
       "      <th>15</th>\n",
       "      <td>2013.0</td>\n",
       "      <td>8595</td>\n",
       "      <td>Automatic</td>\n",
       "      <td>82685.0</td>\n",
       "      <td>Diesel</td>\n",
       "      <td>2.1</td>\n",
       "      <td>1</td>\n",
       "      <td>0</td>\n",
       "      <td>0</td>\n",
       "      <td>0</td>\n",
       "    </tr>\n",
       "    <tr>\n",
       "      <th>16</th>\n",
       "      <td>2016.0</td>\n",
       "      <td>19250</td>\n",
       "      <td>Semi-Auto</td>\n",
       "      <td>32506.0</td>\n",
       "      <td>Diesel</td>\n",
       "      <td>2.1</td>\n",
       "      <td>0</td>\n",
       "      <td>0</td>\n",
       "      <td>0</td>\n",
       "      <td>1</td>\n",
       "    </tr>\n",
       "    <tr>\n",
       "      <th>17</th>\n",
       "      <td>2017.0</td>\n",
       "      <td>23500</td>\n",
       "      <td>Semi-Auto</td>\n",
       "      <td>17000.0</td>\n",
       "      <td>Diesel</td>\n",
       "      <td>2.1</td>\n",
       "      <td>0</td>\n",
       "      <td>0</td>\n",
       "      <td>0</td>\n",
       "      <td>1</td>\n",
       "    </tr>\n",
       "    <tr>\n",
       "      <th>18</th>\n",
       "      <td>2018.0</td>\n",
       "      <td>24995</td>\n",
       "      <td>Semi-Auto</td>\n",
       "      <td>17744.0</td>\n",
       "      <td>Diesel</td>\n",
       "      <td>2.0</td>\n",
       "      <td>0</td>\n",
       "      <td>0</td>\n",
       "      <td>0</td>\n",
       "      <td>1</td>\n",
       "    </tr>\n",
       "    <tr>\n",
       "      <th>19</th>\n",
       "      <td>2016.0</td>\n",
       "      <td>29995</td>\n",
       "      <td>Semi-Auto</td>\n",
       "      <td>64291.0</td>\n",
       "      <td>Petrol</td>\n",
       "      <td>4.0</td>\n",
       "      <td>0</td>\n",
       "      <td>0</td>\n",
       "      <td>0</td>\n",
       "      <td>1</td>\n",
       "    </tr>\n",
       "    <tr>\n",
       "      <th>20</th>\n",
       "      <td>2014.0</td>\n",
       "      <td>17990</td>\n",
       "      <td>Automatic</td>\n",
       "      <td>41011.0</td>\n",
       "      <td>Petrol</td>\n",
       "      <td>2.0</td>\n",
       "      <td>1</td>\n",
       "      <td>0</td>\n",
       "      <td>0</td>\n",
       "      <td>0</td>\n",
       "    </tr>\n",
       "    <tr>\n",
       "      <th>21</th>\n",
       "      <td>2016.0</td>\n",
       "      <td>14477</td>\n",
       "      <td>Automatic</td>\n",
       "      <td>72000.0</td>\n",
       "      <td>Diesel</td>\n",
       "      <td>1.6</td>\n",
       "      <td>1</td>\n",
       "      <td>0</td>\n",
       "      <td>0</td>\n",
       "      <td>0</td>\n",
       "    </tr>\n",
       "    <tr>\n",
       "      <th>22</th>\n",
       "      <td>2013.0</td>\n",
       "      <td>10977</td>\n",
       "      <td>Automatic</td>\n",
       "      <td>72000.0</td>\n",
       "      <td>Diesel</td>\n",
       "      <td>2.1</td>\n",
       "      <td>1</td>\n",
       "      <td>0</td>\n",
       "      <td>0</td>\n",
       "      <td>0</td>\n",
       "    </tr>\n",
       "    <tr>\n",
       "      <th>23</th>\n",
       "      <td>2016.0</td>\n",
       "      <td>17977</td>\n",
       "      <td>Automatic</td>\n",
       "      <td>40000.0</td>\n",
       "      <td>Diesel</td>\n",
       "      <td>1.6</td>\n",
       "      <td>1</td>\n",
       "      <td>0</td>\n",
       "      <td>0</td>\n",
       "      <td>0</td>\n",
       "    </tr>\n",
       "    <tr>\n",
       "      <th>24</th>\n",
       "      <td>2015.0</td>\n",
       "      <td>12790</td>\n",
       "      <td>Automatic</td>\n",
       "      <td>52000.0</td>\n",
       "      <td>Diesel</td>\n",
       "      <td>2.1</td>\n",
       "      <td>1</td>\n",
       "      <td>0</td>\n",
       "      <td>0</td>\n",
       "      <td>0</td>\n",
       "    </tr>\n",
       "    <tr>\n",
       "      <th>26</th>\n",
       "      <td>2017.0</td>\n",
       "      <td>14488</td>\n",
       "      <td>Automatic</td>\n",
       "      <td>66472.0</td>\n",
       "      <td>Diesel</td>\n",
       "      <td>2.1</td>\n",
       "      <td>1</td>\n",
       "      <td>0</td>\n",
       "      <td>0</td>\n",
       "      <td>0</td>\n",
       "    </tr>\n",
       "    <tr>\n",
       "      <th>27</th>\n",
       "      <td>2011.0</td>\n",
       "      <td>7500</td>\n",
       "      <td>Manual</td>\n",
       "      <td>91000.0</td>\n",
       "      <td>Diesel</td>\n",
       "      <td>2.1</td>\n",
       "      <td>0</td>\n",
       "      <td>1</td>\n",
       "      <td>0</td>\n",
       "      <td>0</td>\n",
       "    </tr>\n",
       "    <tr>\n",
       "      <th>28</th>\n",
       "      <td>2013.0</td>\n",
       "      <td>9750</td>\n",
       "      <td>Automatic</td>\n",
       "      <td>69700.0</td>\n",
       "      <td>Diesel</td>\n",
       "      <td>2.1</td>\n",
       "      <td>1</td>\n",
       "      <td>0</td>\n",
       "      <td>0</td>\n",
       "      <td>0</td>\n",
       "    </tr>\n",
       "    <tr>\n",
       "      <th>29</th>\n",
       "      <td>2015.0</td>\n",
       "      <td>15995</td>\n",
       "      <td>Automatic</td>\n",
       "      <td>39000.0</td>\n",
       "      <td>Diesel</td>\n",
       "      <td>1.6</td>\n",
       "      <td>1</td>\n",
       "      <td>0</td>\n",
       "      <td>0</td>\n",
       "      <td>0</td>\n",
       "    </tr>\n",
       "    <tr>\n",
       "      <th>30</th>\n",
       "      <td>2016.0</td>\n",
       "      <td>15675</td>\n",
       "      <td>Manual</td>\n",
       "      <td>39287.0</td>\n",
       "      <td>Diesel</td>\n",
       "      <td>2.1</td>\n",
       "      <td>0</td>\n",
       "      <td>1</td>\n",
       "      <td>0</td>\n",
       "      <td>0</td>\n",
       "    </tr>\n",
       "  </tbody>\n",
       "</table>\n",
       "</div>"
      ],
      "text/plain": [
       "      year  price transmission   mileage fuel_type  engine_size  Automatic  \\\n",
       "0   2020.0  30495    Automatic    1200.0    Diesel          2.0          1   \n",
       "1   2020.0  29989    Automatic    1000.0    Petrol          1.5          1   \n",
       "2   2020.0  37899    Automatic     500.0    Diesel          2.0          1   \n",
       "3   2019.0  30399    Automatic    5000.0    Diesel          2.0          1   \n",
       "4   2019.0  29899    Automatic    4500.0    Diesel          2.0          1   \n",
       "5   2020.0  30999    Automatic    1000.0    Diesel          2.0          1   \n",
       "6   2020.0  35999    Automatic     500.0    Diesel          2.0          1   \n",
       "7   2019.0  37990    Automatic    1412.0    Petrol          3.0          1   \n",
       "8   2019.0  28990    Automatic    3569.0    Diesel          2.0          1   \n",
       "9   2019.0  28990    Automatic    3635.0    Diesel          2.0          1   \n",
       "10  2013.0   9995    Automatic   44900.0    Petrol          1.6          1   \n",
       "11  2012.0   6995    Automatic   88200.0    Diesel          2.1          1   \n",
       "12  2012.0   7495    Automatic  115000.0    Diesel          2.1          1   \n",
       "13  2011.0   8995    Automatic   69250.0    Diesel          2.1          1   \n",
       "14  2015.0  14995    Automatic   49850.0    Diesel          2.1          1   \n",
       "15  2013.0   8595    Automatic   82685.0    Diesel          2.1          1   \n",
       "16  2016.0  19250    Semi-Auto   32506.0    Diesel          2.1          0   \n",
       "17  2017.0  23500    Semi-Auto   17000.0    Diesel          2.1          0   \n",
       "18  2018.0  24995    Semi-Auto   17744.0    Diesel          2.0          0   \n",
       "19  2016.0  29995    Semi-Auto   64291.0    Petrol          4.0          0   \n",
       "20  2014.0  17990    Automatic   41011.0    Petrol          2.0          1   \n",
       "21  2016.0  14477    Automatic   72000.0    Diesel          1.6          1   \n",
       "22  2013.0  10977    Automatic   72000.0    Diesel          2.1          1   \n",
       "23  2016.0  17977    Automatic   40000.0    Diesel          1.6          1   \n",
       "24  2015.0  12790    Automatic   52000.0    Diesel          2.1          1   \n",
       "26  2017.0  14488    Automatic   66472.0    Diesel          2.1          1   \n",
       "27  2011.0   7500       Manual   91000.0    Diesel          2.1          0   \n",
       "28  2013.0   9750    Automatic   69700.0    Diesel          2.1          1   \n",
       "29  2015.0  15995    Automatic   39000.0    Diesel          1.6          1   \n",
       "30  2016.0  15675       Manual   39287.0    Diesel          2.1          0   \n",
       "\n",
       "    Manual  OtherTransmission  Semi-Auto  \n",
       "0        0                  0          0  \n",
       "1        0                  0          0  \n",
       "2        0                  0          0  \n",
       "3        0                  0          0  \n",
       "4        0                  0          0  \n",
       "5        0                  0          0  \n",
       "6        0                  0          0  \n",
       "7        0                  0          0  \n",
       "8        0                  0          0  \n",
       "9        0                  0          0  \n",
       "10       0                  0          0  \n",
       "11       0                  0          0  \n",
       "12       0                  0          0  \n",
       "13       0                  0          0  \n",
       "14       0                  0          0  \n",
       "15       0                  0          0  \n",
       "16       0                  0          1  \n",
       "17       0                  0          1  \n",
       "18       0                  0          1  \n",
       "19       0                  0          1  \n",
       "20       0                  0          0  \n",
       "21       0                  0          0  \n",
       "22       0                  0          0  \n",
       "23       0                  0          0  \n",
       "24       0                  0          0  \n",
       "26       0                  0          0  \n",
       "27       1                  0          0  \n",
       "28       0                  0          0  \n",
       "29       0                  0          0  \n",
       "30       1                  0          0  "
      ]
     },
     "execution_count": 53,
     "metadata": {},
     "output_type": "execute_result"
    }
   ],
   "source": [
    "# rename the column name of 'Other' (a dummy value of transmission column) into 'OtherTransmission' since fuel_type column has a dummy value named 'Other' too\n",
    "clean_df5.rename(columns={'Other' : 'OtherTransmission'}, inplace=True)\n",
    "clean_df5.head(30)"
   ]
  },
  {
   "cell_type": "code",
   "execution_count": 54,
   "metadata": {
    "colab": {
     "base_uri": "https://localhost:8080/"
    },
    "id": "wQBwMuiacz60",
    "outputId": "cc8043dc-47de-480f-b728-05a38c29cfea"
   },
   "outputs": [
    {
     "data": {
      "text/plain": [
       "year                 0\n",
       "price                0\n",
       "transmission         0\n",
       "mileage              0\n",
       "fuel_type            0\n",
       "engine_size          0\n",
       "Automatic            0\n",
       "Manual               0\n",
       "OtherTransmission    0\n",
       "Semi-Auto            0\n",
       "dtype: int64"
      ]
     },
     "execution_count": 54,
     "metadata": {},
     "output_type": "execute_result"
    }
   ],
   "source": [
    "clean_df5.isna().sum()"
   ]
  },
  {
   "cell_type": "code",
   "execution_count": 55,
   "metadata": {
    "colab": {
     "base_uri": "https://localhost:8080/",
     "height": 239
    },
    "id": "x7PDQ3t_62SJ",
    "outputId": "fe37d731-f8de-4d93-a85b-f92560b36215"
   },
   "outputs": [
    {
     "data": {
      "text/html": [
       "<div>\n",
       "<style scoped>\n",
       "    .dataframe tbody tr th:only-of-type {\n",
       "        vertical-align: middle;\n",
       "    }\n",
       "\n",
       "    .dataframe tbody tr th {\n",
       "        vertical-align: top;\n",
       "    }\n",
       "\n",
       "    .dataframe thead th {\n",
       "        text-align: right;\n",
       "    }\n",
       "</style>\n",
       "<table border=\"1\" class=\"dataframe\">\n",
       "  <thead>\n",
       "    <tr style=\"text-align: right;\">\n",
       "      <th></th>\n",
       "      <th>year</th>\n",
       "      <th>price</th>\n",
       "      <th>transmission</th>\n",
       "      <th>mileage</th>\n",
       "      <th>fuel_type</th>\n",
       "      <th>engine_size</th>\n",
       "      <th>Automatic</th>\n",
       "      <th>Manual</th>\n",
       "      <th>OtherTransmission</th>\n",
       "      <th>Semi-Auto</th>\n",
       "      <th>Diesel</th>\n",
       "      <th>Hybrid</th>\n",
       "      <th>Other</th>\n",
       "      <th>Petrol</th>\n",
       "    </tr>\n",
       "  </thead>\n",
       "  <tbody>\n",
       "    <tr>\n",
       "      <th>0</th>\n",
       "      <td>2020.0</td>\n",
       "      <td>30495</td>\n",
       "      <td>Automatic</td>\n",
       "      <td>1200.0</td>\n",
       "      <td>Diesel</td>\n",
       "      <td>2.0</td>\n",
       "      <td>1</td>\n",
       "      <td>0</td>\n",
       "      <td>0</td>\n",
       "      <td>0</td>\n",
       "      <td>1</td>\n",
       "      <td>0</td>\n",
       "      <td>0</td>\n",
       "      <td>0</td>\n",
       "    </tr>\n",
       "    <tr>\n",
       "      <th>1</th>\n",
       "      <td>2020.0</td>\n",
       "      <td>29989</td>\n",
       "      <td>Automatic</td>\n",
       "      <td>1000.0</td>\n",
       "      <td>Petrol</td>\n",
       "      <td>1.5</td>\n",
       "      <td>1</td>\n",
       "      <td>0</td>\n",
       "      <td>0</td>\n",
       "      <td>0</td>\n",
       "      <td>0</td>\n",
       "      <td>0</td>\n",
       "      <td>0</td>\n",
       "      <td>1</td>\n",
       "    </tr>\n",
       "    <tr>\n",
       "      <th>2</th>\n",
       "      <td>2020.0</td>\n",
       "      <td>37899</td>\n",
       "      <td>Automatic</td>\n",
       "      <td>500.0</td>\n",
       "      <td>Diesel</td>\n",
       "      <td>2.0</td>\n",
       "      <td>1</td>\n",
       "      <td>0</td>\n",
       "      <td>0</td>\n",
       "      <td>0</td>\n",
       "      <td>1</td>\n",
       "      <td>0</td>\n",
       "      <td>0</td>\n",
       "      <td>0</td>\n",
       "    </tr>\n",
       "    <tr>\n",
       "      <th>3</th>\n",
       "      <td>2019.0</td>\n",
       "      <td>30399</td>\n",
       "      <td>Automatic</td>\n",
       "      <td>5000.0</td>\n",
       "      <td>Diesel</td>\n",
       "      <td>2.0</td>\n",
       "      <td>1</td>\n",
       "      <td>0</td>\n",
       "      <td>0</td>\n",
       "      <td>0</td>\n",
       "      <td>1</td>\n",
       "      <td>0</td>\n",
       "      <td>0</td>\n",
       "      <td>0</td>\n",
       "    </tr>\n",
       "    <tr>\n",
       "      <th>4</th>\n",
       "      <td>2019.0</td>\n",
       "      <td>29899</td>\n",
       "      <td>Automatic</td>\n",
       "      <td>4500.0</td>\n",
       "      <td>Diesel</td>\n",
       "      <td>2.0</td>\n",
       "      <td>1</td>\n",
       "      <td>0</td>\n",
       "      <td>0</td>\n",
       "      <td>0</td>\n",
       "      <td>1</td>\n",
       "      <td>0</td>\n",
       "      <td>0</td>\n",
       "      <td>0</td>\n",
       "    </tr>\n",
       "  </tbody>\n",
       "</table>\n",
       "</div>"
      ],
      "text/plain": [
       "     year  price transmission  mileage fuel_type  engine_size  Automatic  \\\n",
       "0  2020.0  30495    Automatic   1200.0    Diesel          2.0          1   \n",
       "1  2020.0  29989    Automatic   1000.0    Petrol          1.5          1   \n",
       "2  2020.0  37899    Automatic    500.0    Diesel          2.0          1   \n",
       "3  2019.0  30399    Automatic   5000.0    Diesel          2.0          1   \n",
       "4  2019.0  29899    Automatic   4500.0    Diesel          2.0          1   \n",
       "\n",
       "   Manual  OtherTransmission  Semi-Auto  Diesel  Hybrid  Other  Petrol  \n",
       "0       0                  0          0       1       0      0       0  \n",
       "1       0                  0          0       0       0      0       1  \n",
       "2       0                  0          0       1       0      0       0  \n",
       "3       0                  0          0       1       0      0       0  \n",
       "4       0                  0          0       1       0      0       0  "
      ]
     },
     "execution_count": 55,
     "metadata": {},
     "output_type": "execute_result"
    }
   ],
   "source": [
    "# Process categories data for fuel type\n",
    "fuel_type = pd.get_dummies(clean_df5['fuel_type'])\n",
    "clean_df5 = clean_df5.join(fuel_type)\n",
    "clean_df5.head()"
   ]
  },
  {
   "cell_type": "code",
   "execution_count": 56,
   "metadata": {
    "colab": {
     "base_uri": "https://localhost:8080/",
     "height": 1000
    },
    "id": "MCtg9rg01gA9",
    "outputId": "35a4e0f3-9746-47a4-ca1f-86a85bd6502b"
   },
   "outputs": [
    {
     "data": {
      "text/html": [
       "<div>\n",
       "<style scoped>\n",
       "    .dataframe tbody tr th:only-of-type {\n",
       "        vertical-align: middle;\n",
       "    }\n",
       "\n",
       "    .dataframe tbody tr th {\n",
       "        vertical-align: top;\n",
       "    }\n",
       "\n",
       "    .dataframe thead th {\n",
       "        text-align: right;\n",
       "    }\n",
       "</style>\n",
       "<table border=\"1\" class=\"dataframe\">\n",
       "  <thead>\n",
       "    <tr style=\"text-align: right;\">\n",
       "      <th></th>\n",
       "      <th>year</th>\n",
       "      <th>price</th>\n",
       "      <th>transmission</th>\n",
       "      <th>mileage</th>\n",
       "      <th>fuel_type</th>\n",
       "      <th>engine_size</th>\n",
       "      <th>Automatic</th>\n",
       "      <th>Manual</th>\n",
       "      <th>OtherTransmission</th>\n",
       "      <th>Semi-Auto</th>\n",
       "      <th>Diesel</th>\n",
       "      <th>Hybrid</th>\n",
       "      <th>OtherFuel</th>\n",
       "      <th>Petrol</th>\n",
       "    </tr>\n",
       "  </thead>\n",
       "  <tbody>\n",
       "    <tr>\n",
       "      <th>0</th>\n",
       "      <td>2020.0</td>\n",
       "      <td>30495</td>\n",
       "      <td>Automatic</td>\n",
       "      <td>1200.0</td>\n",
       "      <td>Diesel</td>\n",
       "      <td>2.0</td>\n",
       "      <td>1</td>\n",
       "      <td>0</td>\n",
       "      <td>0</td>\n",
       "      <td>0</td>\n",
       "      <td>1</td>\n",
       "      <td>0</td>\n",
       "      <td>0</td>\n",
       "      <td>0</td>\n",
       "    </tr>\n",
       "    <tr>\n",
       "      <th>1</th>\n",
       "      <td>2020.0</td>\n",
       "      <td>29989</td>\n",
       "      <td>Automatic</td>\n",
       "      <td>1000.0</td>\n",
       "      <td>Petrol</td>\n",
       "      <td>1.5</td>\n",
       "      <td>1</td>\n",
       "      <td>0</td>\n",
       "      <td>0</td>\n",
       "      <td>0</td>\n",
       "      <td>0</td>\n",
       "      <td>0</td>\n",
       "      <td>0</td>\n",
       "      <td>1</td>\n",
       "    </tr>\n",
       "    <tr>\n",
       "      <th>2</th>\n",
       "      <td>2020.0</td>\n",
       "      <td>37899</td>\n",
       "      <td>Automatic</td>\n",
       "      <td>500.0</td>\n",
       "      <td>Diesel</td>\n",
       "      <td>2.0</td>\n",
       "      <td>1</td>\n",
       "      <td>0</td>\n",
       "      <td>0</td>\n",
       "      <td>0</td>\n",
       "      <td>1</td>\n",
       "      <td>0</td>\n",
       "      <td>0</td>\n",
       "      <td>0</td>\n",
       "    </tr>\n",
       "    <tr>\n",
       "      <th>3</th>\n",
       "      <td>2019.0</td>\n",
       "      <td>30399</td>\n",
       "      <td>Automatic</td>\n",
       "      <td>5000.0</td>\n",
       "      <td>Diesel</td>\n",
       "      <td>2.0</td>\n",
       "      <td>1</td>\n",
       "      <td>0</td>\n",
       "      <td>0</td>\n",
       "      <td>0</td>\n",
       "      <td>1</td>\n",
       "      <td>0</td>\n",
       "      <td>0</td>\n",
       "      <td>0</td>\n",
       "    </tr>\n",
       "    <tr>\n",
       "      <th>4</th>\n",
       "      <td>2019.0</td>\n",
       "      <td>29899</td>\n",
       "      <td>Automatic</td>\n",
       "      <td>4500.0</td>\n",
       "      <td>Diesel</td>\n",
       "      <td>2.0</td>\n",
       "      <td>1</td>\n",
       "      <td>0</td>\n",
       "      <td>0</td>\n",
       "      <td>0</td>\n",
       "      <td>1</td>\n",
       "      <td>0</td>\n",
       "      <td>0</td>\n",
       "      <td>0</td>\n",
       "    </tr>\n",
       "    <tr>\n",
       "      <th>5</th>\n",
       "      <td>2020.0</td>\n",
       "      <td>30999</td>\n",
       "      <td>Automatic</td>\n",
       "      <td>1000.0</td>\n",
       "      <td>Diesel</td>\n",
       "      <td>2.0</td>\n",
       "      <td>1</td>\n",
       "      <td>0</td>\n",
       "      <td>0</td>\n",
       "      <td>0</td>\n",
       "      <td>1</td>\n",
       "      <td>0</td>\n",
       "      <td>0</td>\n",
       "      <td>0</td>\n",
       "    </tr>\n",
       "    <tr>\n",
       "      <th>6</th>\n",
       "      <td>2020.0</td>\n",
       "      <td>35999</td>\n",
       "      <td>Automatic</td>\n",
       "      <td>500.0</td>\n",
       "      <td>Diesel</td>\n",
       "      <td>2.0</td>\n",
       "      <td>1</td>\n",
       "      <td>0</td>\n",
       "      <td>0</td>\n",
       "      <td>0</td>\n",
       "      <td>1</td>\n",
       "      <td>0</td>\n",
       "      <td>0</td>\n",
       "      <td>0</td>\n",
       "    </tr>\n",
       "    <tr>\n",
       "      <th>7</th>\n",
       "      <td>2019.0</td>\n",
       "      <td>37990</td>\n",
       "      <td>Automatic</td>\n",
       "      <td>1412.0</td>\n",
       "      <td>Petrol</td>\n",
       "      <td>3.0</td>\n",
       "      <td>1</td>\n",
       "      <td>0</td>\n",
       "      <td>0</td>\n",
       "      <td>0</td>\n",
       "      <td>0</td>\n",
       "      <td>0</td>\n",
       "      <td>0</td>\n",
       "      <td>1</td>\n",
       "    </tr>\n",
       "    <tr>\n",
       "      <th>8</th>\n",
       "      <td>2019.0</td>\n",
       "      <td>28990</td>\n",
       "      <td>Automatic</td>\n",
       "      <td>3569.0</td>\n",
       "      <td>Diesel</td>\n",
       "      <td>2.0</td>\n",
       "      <td>1</td>\n",
       "      <td>0</td>\n",
       "      <td>0</td>\n",
       "      <td>0</td>\n",
       "      <td>1</td>\n",
       "      <td>0</td>\n",
       "      <td>0</td>\n",
       "      <td>0</td>\n",
       "    </tr>\n",
       "    <tr>\n",
       "      <th>9</th>\n",
       "      <td>2019.0</td>\n",
       "      <td>28990</td>\n",
       "      <td>Automatic</td>\n",
       "      <td>3635.0</td>\n",
       "      <td>Diesel</td>\n",
       "      <td>2.0</td>\n",
       "      <td>1</td>\n",
       "      <td>0</td>\n",
       "      <td>0</td>\n",
       "      <td>0</td>\n",
       "      <td>1</td>\n",
       "      <td>0</td>\n",
       "      <td>0</td>\n",
       "      <td>0</td>\n",
       "    </tr>\n",
       "    <tr>\n",
       "      <th>10</th>\n",
       "      <td>2013.0</td>\n",
       "      <td>9995</td>\n",
       "      <td>Automatic</td>\n",
       "      <td>44900.0</td>\n",
       "      <td>Petrol</td>\n",
       "      <td>1.6</td>\n",
       "      <td>1</td>\n",
       "      <td>0</td>\n",
       "      <td>0</td>\n",
       "      <td>0</td>\n",
       "      <td>0</td>\n",
       "      <td>0</td>\n",
       "      <td>0</td>\n",
       "      <td>1</td>\n",
       "    </tr>\n",
       "    <tr>\n",
       "      <th>11</th>\n",
       "      <td>2012.0</td>\n",
       "      <td>6995</td>\n",
       "      <td>Automatic</td>\n",
       "      <td>88200.0</td>\n",
       "      <td>Diesel</td>\n",
       "      <td>2.1</td>\n",
       "      <td>1</td>\n",
       "      <td>0</td>\n",
       "      <td>0</td>\n",
       "      <td>0</td>\n",
       "      <td>1</td>\n",
       "      <td>0</td>\n",
       "      <td>0</td>\n",
       "      <td>0</td>\n",
       "    </tr>\n",
       "    <tr>\n",
       "      <th>12</th>\n",
       "      <td>2012.0</td>\n",
       "      <td>7495</td>\n",
       "      <td>Automatic</td>\n",
       "      <td>115000.0</td>\n",
       "      <td>Diesel</td>\n",
       "      <td>2.1</td>\n",
       "      <td>1</td>\n",
       "      <td>0</td>\n",
       "      <td>0</td>\n",
       "      <td>0</td>\n",
       "      <td>1</td>\n",
       "      <td>0</td>\n",
       "      <td>0</td>\n",
       "      <td>0</td>\n",
       "    </tr>\n",
       "    <tr>\n",
       "      <th>13</th>\n",
       "      <td>2011.0</td>\n",
       "      <td>8995</td>\n",
       "      <td>Automatic</td>\n",
       "      <td>69250.0</td>\n",
       "      <td>Diesel</td>\n",
       "      <td>2.1</td>\n",
       "      <td>1</td>\n",
       "      <td>0</td>\n",
       "      <td>0</td>\n",
       "      <td>0</td>\n",
       "      <td>1</td>\n",
       "      <td>0</td>\n",
       "      <td>0</td>\n",
       "      <td>0</td>\n",
       "    </tr>\n",
       "    <tr>\n",
       "      <th>14</th>\n",
       "      <td>2015.0</td>\n",
       "      <td>14995</td>\n",
       "      <td>Automatic</td>\n",
       "      <td>49850.0</td>\n",
       "      <td>Diesel</td>\n",
       "      <td>2.1</td>\n",
       "      <td>1</td>\n",
       "      <td>0</td>\n",
       "      <td>0</td>\n",
       "      <td>0</td>\n",
       "      <td>1</td>\n",
       "      <td>0</td>\n",
       "      <td>0</td>\n",
       "      <td>0</td>\n",
       "    </tr>\n",
       "    <tr>\n",
       "      <th>15</th>\n",
       "      <td>2013.0</td>\n",
       "      <td>8595</td>\n",
       "      <td>Automatic</td>\n",
       "      <td>82685.0</td>\n",
       "      <td>Diesel</td>\n",
       "      <td>2.1</td>\n",
       "      <td>1</td>\n",
       "      <td>0</td>\n",
       "      <td>0</td>\n",
       "      <td>0</td>\n",
       "      <td>1</td>\n",
       "      <td>0</td>\n",
       "      <td>0</td>\n",
       "      <td>0</td>\n",
       "    </tr>\n",
       "    <tr>\n",
       "      <th>16</th>\n",
       "      <td>2016.0</td>\n",
       "      <td>19250</td>\n",
       "      <td>Semi-Auto</td>\n",
       "      <td>32506.0</td>\n",
       "      <td>Diesel</td>\n",
       "      <td>2.1</td>\n",
       "      <td>0</td>\n",
       "      <td>0</td>\n",
       "      <td>0</td>\n",
       "      <td>1</td>\n",
       "      <td>1</td>\n",
       "      <td>0</td>\n",
       "      <td>0</td>\n",
       "      <td>0</td>\n",
       "    </tr>\n",
       "    <tr>\n",
       "      <th>17</th>\n",
       "      <td>2017.0</td>\n",
       "      <td>23500</td>\n",
       "      <td>Semi-Auto</td>\n",
       "      <td>17000.0</td>\n",
       "      <td>Diesel</td>\n",
       "      <td>2.1</td>\n",
       "      <td>0</td>\n",
       "      <td>0</td>\n",
       "      <td>0</td>\n",
       "      <td>1</td>\n",
       "      <td>1</td>\n",
       "      <td>0</td>\n",
       "      <td>0</td>\n",
       "      <td>0</td>\n",
       "    </tr>\n",
       "    <tr>\n",
       "      <th>18</th>\n",
       "      <td>2018.0</td>\n",
       "      <td>24995</td>\n",
       "      <td>Semi-Auto</td>\n",
       "      <td>17744.0</td>\n",
       "      <td>Diesel</td>\n",
       "      <td>2.0</td>\n",
       "      <td>0</td>\n",
       "      <td>0</td>\n",
       "      <td>0</td>\n",
       "      <td>1</td>\n",
       "      <td>1</td>\n",
       "      <td>0</td>\n",
       "      <td>0</td>\n",
       "      <td>0</td>\n",
       "    </tr>\n",
       "    <tr>\n",
       "      <th>19</th>\n",
       "      <td>2016.0</td>\n",
       "      <td>29995</td>\n",
       "      <td>Semi-Auto</td>\n",
       "      <td>64291.0</td>\n",
       "      <td>Petrol</td>\n",
       "      <td>4.0</td>\n",
       "      <td>0</td>\n",
       "      <td>0</td>\n",
       "      <td>0</td>\n",
       "      <td>1</td>\n",
       "      <td>0</td>\n",
       "      <td>0</td>\n",
       "      <td>0</td>\n",
       "      <td>1</td>\n",
       "    </tr>\n",
       "    <tr>\n",
       "      <th>20</th>\n",
       "      <td>2014.0</td>\n",
       "      <td>17990</td>\n",
       "      <td>Automatic</td>\n",
       "      <td>41011.0</td>\n",
       "      <td>Petrol</td>\n",
       "      <td>2.0</td>\n",
       "      <td>1</td>\n",
       "      <td>0</td>\n",
       "      <td>0</td>\n",
       "      <td>0</td>\n",
       "      <td>0</td>\n",
       "      <td>0</td>\n",
       "      <td>0</td>\n",
       "      <td>1</td>\n",
       "    </tr>\n",
       "    <tr>\n",
       "      <th>21</th>\n",
       "      <td>2016.0</td>\n",
       "      <td>14477</td>\n",
       "      <td>Automatic</td>\n",
       "      <td>72000.0</td>\n",
       "      <td>Diesel</td>\n",
       "      <td>1.6</td>\n",
       "      <td>1</td>\n",
       "      <td>0</td>\n",
       "      <td>0</td>\n",
       "      <td>0</td>\n",
       "      <td>1</td>\n",
       "      <td>0</td>\n",
       "      <td>0</td>\n",
       "      <td>0</td>\n",
       "    </tr>\n",
       "    <tr>\n",
       "      <th>22</th>\n",
       "      <td>2013.0</td>\n",
       "      <td>10977</td>\n",
       "      <td>Automatic</td>\n",
       "      <td>72000.0</td>\n",
       "      <td>Diesel</td>\n",
       "      <td>2.1</td>\n",
       "      <td>1</td>\n",
       "      <td>0</td>\n",
       "      <td>0</td>\n",
       "      <td>0</td>\n",
       "      <td>1</td>\n",
       "      <td>0</td>\n",
       "      <td>0</td>\n",
       "      <td>0</td>\n",
       "    </tr>\n",
       "    <tr>\n",
       "      <th>23</th>\n",
       "      <td>2016.0</td>\n",
       "      <td>17977</td>\n",
       "      <td>Automatic</td>\n",
       "      <td>40000.0</td>\n",
       "      <td>Diesel</td>\n",
       "      <td>1.6</td>\n",
       "      <td>1</td>\n",
       "      <td>0</td>\n",
       "      <td>0</td>\n",
       "      <td>0</td>\n",
       "      <td>1</td>\n",
       "      <td>0</td>\n",
       "      <td>0</td>\n",
       "      <td>0</td>\n",
       "    </tr>\n",
       "    <tr>\n",
       "      <th>24</th>\n",
       "      <td>2015.0</td>\n",
       "      <td>12790</td>\n",
       "      <td>Automatic</td>\n",
       "      <td>52000.0</td>\n",
       "      <td>Diesel</td>\n",
       "      <td>2.1</td>\n",
       "      <td>1</td>\n",
       "      <td>0</td>\n",
       "      <td>0</td>\n",
       "      <td>0</td>\n",
       "      <td>1</td>\n",
       "      <td>0</td>\n",
       "      <td>0</td>\n",
       "      <td>0</td>\n",
       "    </tr>\n",
       "    <tr>\n",
       "      <th>26</th>\n",
       "      <td>2017.0</td>\n",
       "      <td>14488</td>\n",
       "      <td>Automatic</td>\n",
       "      <td>66472.0</td>\n",
       "      <td>Diesel</td>\n",
       "      <td>2.1</td>\n",
       "      <td>1</td>\n",
       "      <td>0</td>\n",
       "      <td>0</td>\n",
       "      <td>0</td>\n",
       "      <td>1</td>\n",
       "      <td>0</td>\n",
       "      <td>0</td>\n",
       "      <td>0</td>\n",
       "    </tr>\n",
       "    <tr>\n",
       "      <th>27</th>\n",
       "      <td>2011.0</td>\n",
       "      <td>7500</td>\n",
       "      <td>Manual</td>\n",
       "      <td>91000.0</td>\n",
       "      <td>Diesel</td>\n",
       "      <td>2.1</td>\n",
       "      <td>0</td>\n",
       "      <td>1</td>\n",
       "      <td>0</td>\n",
       "      <td>0</td>\n",
       "      <td>1</td>\n",
       "      <td>0</td>\n",
       "      <td>0</td>\n",
       "      <td>0</td>\n",
       "    </tr>\n",
       "    <tr>\n",
       "      <th>28</th>\n",
       "      <td>2013.0</td>\n",
       "      <td>9750</td>\n",
       "      <td>Automatic</td>\n",
       "      <td>69700.0</td>\n",
       "      <td>Diesel</td>\n",
       "      <td>2.1</td>\n",
       "      <td>1</td>\n",
       "      <td>0</td>\n",
       "      <td>0</td>\n",
       "      <td>0</td>\n",
       "      <td>1</td>\n",
       "      <td>0</td>\n",
       "      <td>0</td>\n",
       "      <td>0</td>\n",
       "    </tr>\n",
       "    <tr>\n",
       "      <th>29</th>\n",
       "      <td>2015.0</td>\n",
       "      <td>15995</td>\n",
       "      <td>Automatic</td>\n",
       "      <td>39000.0</td>\n",
       "      <td>Diesel</td>\n",
       "      <td>1.6</td>\n",
       "      <td>1</td>\n",
       "      <td>0</td>\n",
       "      <td>0</td>\n",
       "      <td>0</td>\n",
       "      <td>1</td>\n",
       "      <td>0</td>\n",
       "      <td>0</td>\n",
       "      <td>0</td>\n",
       "    </tr>\n",
       "    <tr>\n",
       "      <th>30</th>\n",
       "      <td>2016.0</td>\n",
       "      <td>15675</td>\n",
       "      <td>Manual</td>\n",
       "      <td>39287.0</td>\n",
       "      <td>Diesel</td>\n",
       "      <td>2.1</td>\n",
       "      <td>0</td>\n",
       "      <td>1</td>\n",
       "      <td>0</td>\n",
       "      <td>0</td>\n",
       "      <td>1</td>\n",
       "      <td>0</td>\n",
       "      <td>0</td>\n",
       "      <td>0</td>\n",
       "    </tr>\n",
       "  </tbody>\n",
       "</table>\n",
       "</div>"
      ],
      "text/plain": [
       "      year  price transmission   mileage fuel_type  engine_size  Automatic  \\\n",
       "0   2020.0  30495    Automatic    1200.0    Diesel          2.0          1   \n",
       "1   2020.0  29989    Automatic    1000.0    Petrol          1.5          1   \n",
       "2   2020.0  37899    Automatic     500.0    Diesel          2.0          1   \n",
       "3   2019.0  30399    Automatic    5000.0    Diesel          2.0          1   \n",
       "4   2019.0  29899    Automatic    4500.0    Diesel          2.0          1   \n",
       "5   2020.0  30999    Automatic    1000.0    Diesel          2.0          1   \n",
       "6   2020.0  35999    Automatic     500.0    Diesel          2.0          1   \n",
       "7   2019.0  37990    Automatic    1412.0    Petrol          3.0          1   \n",
       "8   2019.0  28990    Automatic    3569.0    Diesel          2.0          1   \n",
       "9   2019.0  28990    Automatic    3635.0    Diesel          2.0          1   \n",
       "10  2013.0   9995    Automatic   44900.0    Petrol          1.6          1   \n",
       "11  2012.0   6995    Automatic   88200.0    Diesel          2.1          1   \n",
       "12  2012.0   7495    Automatic  115000.0    Diesel          2.1          1   \n",
       "13  2011.0   8995    Automatic   69250.0    Diesel          2.1          1   \n",
       "14  2015.0  14995    Automatic   49850.0    Diesel          2.1          1   \n",
       "15  2013.0   8595    Automatic   82685.0    Diesel          2.1          1   \n",
       "16  2016.0  19250    Semi-Auto   32506.0    Diesel          2.1          0   \n",
       "17  2017.0  23500    Semi-Auto   17000.0    Diesel          2.1          0   \n",
       "18  2018.0  24995    Semi-Auto   17744.0    Diesel          2.0          0   \n",
       "19  2016.0  29995    Semi-Auto   64291.0    Petrol          4.0          0   \n",
       "20  2014.0  17990    Automatic   41011.0    Petrol          2.0          1   \n",
       "21  2016.0  14477    Automatic   72000.0    Diesel          1.6          1   \n",
       "22  2013.0  10977    Automatic   72000.0    Diesel          2.1          1   \n",
       "23  2016.0  17977    Automatic   40000.0    Diesel          1.6          1   \n",
       "24  2015.0  12790    Automatic   52000.0    Diesel          2.1          1   \n",
       "26  2017.0  14488    Automatic   66472.0    Diesel          2.1          1   \n",
       "27  2011.0   7500       Manual   91000.0    Diesel          2.1          0   \n",
       "28  2013.0   9750    Automatic   69700.0    Diesel          2.1          1   \n",
       "29  2015.0  15995    Automatic   39000.0    Diesel          1.6          1   \n",
       "30  2016.0  15675       Manual   39287.0    Diesel          2.1          0   \n",
       "\n",
       "    Manual  OtherTransmission  Semi-Auto  Diesel  Hybrid  OtherFuel  Petrol  \n",
       "0        0                  0          0       1       0          0       0  \n",
       "1        0                  0          0       0       0          0       1  \n",
       "2        0                  0          0       1       0          0       0  \n",
       "3        0                  0          0       1       0          0       0  \n",
       "4        0                  0          0       1       0          0       0  \n",
       "5        0                  0          0       1       0          0       0  \n",
       "6        0                  0          0       1       0          0       0  \n",
       "7        0                  0          0       0       0          0       1  \n",
       "8        0                  0          0       1       0          0       0  \n",
       "9        0                  0          0       1       0          0       0  \n",
       "10       0                  0          0       0       0          0       1  \n",
       "11       0                  0          0       1       0          0       0  \n",
       "12       0                  0          0       1       0          0       0  \n",
       "13       0                  0          0       1       0          0       0  \n",
       "14       0                  0          0       1       0          0       0  \n",
       "15       0                  0          0       1       0          0       0  \n",
       "16       0                  0          1       1       0          0       0  \n",
       "17       0                  0          1       1       0          0       0  \n",
       "18       0                  0          1       1       0          0       0  \n",
       "19       0                  0          1       0       0          0       1  \n",
       "20       0                  0          0       0       0          0       1  \n",
       "21       0                  0          0       1       0          0       0  \n",
       "22       0                  0          0       1       0          0       0  \n",
       "23       0                  0          0       1       0          0       0  \n",
       "24       0                  0          0       1       0          0       0  \n",
       "26       0                  0          0       1       0          0       0  \n",
       "27       1                  0          0       1       0          0       0  \n",
       "28       0                  0          0       1       0          0       0  \n",
       "29       0                  0          0       1       0          0       0  \n",
       "30       1                  0          0       1       0          0       0  "
      ]
     },
     "execution_count": 56,
     "metadata": {},
     "output_type": "execute_result"
    }
   ],
   "source": [
    "# rename the new column name of 'Other' into 'OtherFuel' \n",
    "clean_df5.rename(columns={'Other' : 'OtherFuel'}, inplace=True)\n",
    "clean_df5.head(30)"
   ]
  },
  {
   "cell_type": "code",
   "execution_count": 57,
   "metadata": {
    "colab": {
     "base_uri": "https://localhost:8080/",
     "height": 239
    },
    "id": "oq8lG4dU8ciA",
    "outputId": "f46138b0-4c09-49ba-c47b-dcebf7506d26"
   },
   "outputs": [
    {
     "data": {
      "text/html": [
       "<div>\n",
       "<style scoped>\n",
       "    .dataframe tbody tr th:only-of-type {\n",
       "        vertical-align: middle;\n",
       "    }\n",
       "\n",
       "    .dataframe tbody tr th {\n",
       "        vertical-align: top;\n",
       "    }\n",
       "\n",
       "    .dataframe thead th {\n",
       "        text-align: right;\n",
       "    }\n",
       "</style>\n",
       "<table border=\"1\" class=\"dataframe\">\n",
       "  <thead>\n",
       "    <tr style=\"text-align: right;\">\n",
       "      <th></th>\n",
       "      <th>year</th>\n",
       "      <th>price</th>\n",
       "      <th>transmission</th>\n",
       "      <th>mileage</th>\n",
       "      <th>fuel_type</th>\n",
       "      <th>engine_size</th>\n",
       "      <th>Automatic</th>\n",
       "      <th>Manual</th>\n",
       "      <th>OtherTransmission</th>\n",
       "      <th>Semi-Auto</th>\n",
       "      <th>Diesel</th>\n",
       "      <th>Hybrid</th>\n",
       "      <th>OtherFuel</th>\n",
       "      <th>Petrol</th>\n",
       "    </tr>\n",
       "  </thead>\n",
       "  <tbody>\n",
       "    <tr>\n",
       "      <th>0</th>\n",
       "      <td>2020.0</td>\n",
       "      <td>30495</td>\n",
       "      <td>Automatic</td>\n",
       "      <td>1200.0</td>\n",
       "      <td>Diesel</td>\n",
       "      <td>2.0</td>\n",
       "      <td>1</td>\n",
       "      <td>0</td>\n",
       "      <td>0</td>\n",
       "      <td>0</td>\n",
       "      <td>1</td>\n",
       "      <td>0</td>\n",
       "      <td>0</td>\n",
       "      <td>0</td>\n",
       "    </tr>\n",
       "    <tr>\n",
       "      <th>1</th>\n",
       "      <td>2020.0</td>\n",
       "      <td>29989</td>\n",
       "      <td>Automatic</td>\n",
       "      <td>1000.0</td>\n",
       "      <td>Petrol</td>\n",
       "      <td>1.5</td>\n",
       "      <td>1</td>\n",
       "      <td>0</td>\n",
       "      <td>0</td>\n",
       "      <td>0</td>\n",
       "      <td>0</td>\n",
       "      <td>0</td>\n",
       "      <td>0</td>\n",
       "      <td>1</td>\n",
       "    </tr>\n",
       "    <tr>\n",
       "      <th>2</th>\n",
       "      <td>2020.0</td>\n",
       "      <td>37899</td>\n",
       "      <td>Automatic</td>\n",
       "      <td>500.0</td>\n",
       "      <td>Diesel</td>\n",
       "      <td>2.0</td>\n",
       "      <td>1</td>\n",
       "      <td>0</td>\n",
       "      <td>0</td>\n",
       "      <td>0</td>\n",
       "      <td>1</td>\n",
       "      <td>0</td>\n",
       "      <td>0</td>\n",
       "      <td>0</td>\n",
       "    </tr>\n",
       "    <tr>\n",
       "      <th>3</th>\n",
       "      <td>2019.0</td>\n",
       "      <td>30399</td>\n",
       "      <td>Automatic</td>\n",
       "      <td>5000.0</td>\n",
       "      <td>Diesel</td>\n",
       "      <td>2.0</td>\n",
       "      <td>1</td>\n",
       "      <td>0</td>\n",
       "      <td>0</td>\n",
       "      <td>0</td>\n",
       "      <td>1</td>\n",
       "      <td>0</td>\n",
       "      <td>0</td>\n",
       "      <td>0</td>\n",
       "    </tr>\n",
       "    <tr>\n",
       "      <th>4</th>\n",
       "      <td>2019.0</td>\n",
       "      <td>29899</td>\n",
       "      <td>Automatic</td>\n",
       "      <td>4500.0</td>\n",
       "      <td>Diesel</td>\n",
       "      <td>2.0</td>\n",
       "      <td>1</td>\n",
       "      <td>0</td>\n",
       "      <td>0</td>\n",
       "      <td>0</td>\n",
       "      <td>1</td>\n",
       "      <td>0</td>\n",
       "      <td>0</td>\n",
       "      <td>0</td>\n",
       "    </tr>\n",
       "  </tbody>\n",
       "</table>\n",
       "</div>"
      ],
      "text/plain": [
       "     year  price transmission  mileage fuel_type  engine_size  Automatic  \\\n",
       "0  2020.0  30495    Automatic   1200.0    Diesel          2.0          1   \n",
       "1  2020.0  29989    Automatic   1000.0    Petrol          1.5          1   \n",
       "2  2020.0  37899    Automatic    500.0    Diesel          2.0          1   \n",
       "3  2019.0  30399    Automatic   5000.0    Diesel          2.0          1   \n",
       "4  2019.0  29899    Automatic   4500.0    Diesel          2.0          1   \n",
       "\n",
       "   Manual  OtherTransmission  Semi-Auto  Diesel  Hybrid  OtherFuel  Petrol  \n",
       "0       0                  0          0       1       0          0       0  \n",
       "1       0                  0          0       0       0          0       1  \n",
       "2       0                  0          0       1       0          0       0  \n",
       "3       0                  0          0       1       0          0       0  \n",
       "4       0                  0          0       1       0          0       0  "
      ]
     },
     "execution_count": 57,
     "metadata": {},
     "output_type": "execute_result"
    }
   ],
   "source": [
    "clean_df5.head()"
   ]
  },
  {
   "cell_type": "code",
   "execution_count": 58,
   "metadata": {
    "colab": {
     "base_uri": "https://localhost:8080/"
    },
    "id": "O7FbSqOVgCF6",
    "outputId": "86d5d6bf-1f6d-4666-e338-aa2db10b96a5"
   },
   "outputs": [
    {
     "name": "stdout",
     "output_type": "stream",
     "text": [
      "Clean dataset with 3898 data points 14 variable each.\n"
     ]
    }
   ],
   "source": [
    "print(\"Clean dataset with {} data points {} variable each.\".format(*clean_df5.shape))"
   ]
  },
  {
   "cell_type": "code",
   "execution_count": 59,
   "metadata": {
    "colab": {
     "base_uri": "https://localhost:8080/"
    },
    "id": "LeAuPib-Ar0z",
    "outputId": "d41f72b6-b549-4a9d-ff89-c83fb972b4b5"
   },
   "outputs": [
    {
     "data": {
      "text/plain": [
       "year                 float64\n",
       "price                  int64\n",
       "transmission          object\n",
       "mileage              float64\n",
       "fuel_type             object\n",
       "engine_size          float64\n",
       "Automatic              uint8\n",
       "Manual                 uint8\n",
       "OtherTransmission      uint8\n",
       "Semi-Auto              uint8\n",
       "Diesel                 uint8\n",
       "Hybrid                 uint8\n",
       "OtherFuel              uint8\n",
       "Petrol                 uint8\n",
       "dtype: object"
      ]
     },
     "execution_count": 59,
     "metadata": {},
     "output_type": "execute_result"
    }
   ],
   "source": [
    "clean_df5.dtypes"
   ]
  },
  {
   "cell_type": "markdown",
   "metadata": {
    "id": "0mGkCPVEF4mH"
   },
   "source": [
    "Step 3.10 - Saving the cleaned data into csv"
   ]
  },
  {
   "cell_type": "code",
   "execution_count": 60,
   "metadata": {
    "id": "nuwGYVWjeVIY"
   },
   "outputs": [],
   "source": [
    "\n",
    "clean_df5.to_csv('cleaned_data_Group2.csv', index=False)"
   ]
  },
  {
   "cell_type": "markdown",
   "metadata": {
    "id": "ZYkFyGDo5qNI"
   },
   "source": [
    "# 4. Exploratory Data Analysis and Visualization"
   ]
  },
  {
   "cell_type": "code",
   "execution_count": 61,
   "metadata": {
    "colab": {
     "base_uri": "https://localhost:8080/",
     "height": 314
    },
    "id": "-oB9iInOu8Pl",
    "outputId": "a1443786-2fd7-4ed8-f930-02637124716e"
   },
   "outputs": [
    {
     "data": {
      "text/html": [
       "<div>\n",
       "<style scoped>\n",
       "    .dataframe tbody tr th:only-of-type {\n",
       "        vertical-align: middle;\n",
       "    }\n",
       "\n",
       "    .dataframe tbody tr th {\n",
       "        vertical-align: top;\n",
       "    }\n",
       "\n",
       "    .dataframe thead th {\n",
       "        text-align: right;\n",
       "    }\n",
       "</style>\n",
       "<table border=\"1\" class=\"dataframe\">\n",
       "  <thead>\n",
       "    <tr style=\"text-align: right;\">\n",
       "      <th></th>\n",
       "      <th>year</th>\n",
       "      <th>price</th>\n",
       "      <th>mileage</th>\n",
       "      <th>engine_size</th>\n",
       "      <th>Automatic</th>\n",
       "      <th>Manual</th>\n",
       "      <th>OtherTransmission</th>\n",
       "      <th>Semi-Auto</th>\n",
       "      <th>Diesel</th>\n",
       "      <th>Hybrid</th>\n",
       "      <th>OtherFuel</th>\n",
       "      <th>Petrol</th>\n",
       "    </tr>\n",
       "  </thead>\n",
       "  <tbody>\n",
       "    <tr>\n",
       "      <th>count</th>\n",
       "      <td>3898.000000</td>\n",
       "      <td>3898.000000</td>\n",
       "      <td>3898.000000</td>\n",
       "      <td>3898.000000</td>\n",
       "      <td>3898.000000</td>\n",
       "      <td>3898.000000</td>\n",
       "      <td>3898.000000</td>\n",
       "      <td>3898.000000</td>\n",
       "      <td>3898.000000</td>\n",
       "      <td>3898.000000</td>\n",
       "      <td>3898.000000</td>\n",
       "      <td>3898.000000</td>\n",
       "    </tr>\n",
       "    <tr>\n",
       "      <th>mean</th>\n",
       "      <td>2017.341714</td>\n",
       "      <td>23679.720369</td>\n",
       "      <td>22373.116727</td>\n",
       "      <td>2.036762</td>\n",
       "      <td>0.417394</td>\n",
       "      <td>0.051052</td>\n",
       "      <td>0.000257</td>\n",
       "      <td>0.531298</td>\n",
       "      <td>0.600051</td>\n",
       "      <td>0.038738</td>\n",
       "      <td>0.001539</td>\n",
       "      <td>0.359672</td>\n",
       "    </tr>\n",
       "    <tr>\n",
       "      <th>std</th>\n",
       "      <td>2.204856</td>\n",
       "      <td>8954.941562</td>\n",
       "      <td>22589.323398</td>\n",
       "      <td>0.487930</td>\n",
       "      <td>0.493192</td>\n",
       "      <td>0.220132</td>\n",
       "      <td>0.016017</td>\n",
       "      <td>0.499083</td>\n",
       "      <td>0.489950</td>\n",
       "      <td>0.192994</td>\n",
       "      <td>0.039208</td>\n",
       "      <td>0.479966</td>\n",
       "    </tr>\n",
       "    <tr>\n",
       "      <th>min</th>\n",
       "      <td>1991.000000</td>\n",
       "      <td>1290.000000</td>\n",
       "      <td>1.000000</td>\n",
       "      <td>0.000000</td>\n",
       "      <td>0.000000</td>\n",
       "      <td>0.000000</td>\n",
       "      <td>0.000000</td>\n",
       "      <td>0.000000</td>\n",
       "      <td>0.000000</td>\n",
       "      <td>0.000000</td>\n",
       "      <td>0.000000</td>\n",
       "      <td>0.000000</td>\n",
       "    </tr>\n",
       "    <tr>\n",
       "      <th>25%</th>\n",
       "      <td>2016.000000</td>\n",
       "      <td>17691.250000</td>\n",
       "      <td>6000.000000</td>\n",
       "      <td>2.000000</td>\n",
       "      <td>0.000000</td>\n",
       "      <td>0.000000</td>\n",
       "      <td>0.000000</td>\n",
       "      <td>0.000000</td>\n",
       "      <td>0.000000</td>\n",
       "      <td>0.000000</td>\n",
       "      <td>0.000000</td>\n",
       "      <td>0.000000</td>\n",
       "    </tr>\n",
       "    <tr>\n",
       "      <th>50%</th>\n",
       "      <td>2018.000000</td>\n",
       "      <td>22980.000000</td>\n",
       "      <td>14638.000000</td>\n",
       "      <td>2.000000</td>\n",
       "      <td>0.000000</td>\n",
       "      <td>0.000000</td>\n",
       "      <td>0.000000</td>\n",
       "      <td>1.000000</td>\n",
       "      <td>1.000000</td>\n",
       "      <td>0.000000</td>\n",
       "      <td>0.000000</td>\n",
       "      <td>0.000000</td>\n",
       "    </tr>\n",
       "    <tr>\n",
       "      <th>75%</th>\n",
       "      <td>2019.000000</td>\n",
       "      <td>28900.000000</td>\n",
       "      <td>32440.000000</td>\n",
       "      <td>2.100000</td>\n",
       "      <td>1.000000</td>\n",
       "      <td>0.000000</td>\n",
       "      <td>0.000000</td>\n",
       "      <td>1.000000</td>\n",
       "      <td>1.000000</td>\n",
       "      <td>0.000000</td>\n",
       "      <td>0.000000</td>\n",
       "      <td>1.000000</td>\n",
       "    </tr>\n",
       "    <tr>\n",
       "      <th>max</th>\n",
       "      <td>2020.000000</td>\n",
       "      <td>88995.000000</td>\n",
       "      <td>173000.000000</td>\n",
       "      <td>6.200000</td>\n",
       "      <td>1.000000</td>\n",
       "      <td>1.000000</td>\n",
       "      <td>1.000000</td>\n",
       "      <td>1.000000</td>\n",
       "      <td>1.000000</td>\n",
       "      <td>1.000000</td>\n",
       "      <td>1.000000</td>\n",
       "      <td>1.000000</td>\n",
       "    </tr>\n",
       "  </tbody>\n",
       "</table>\n",
       "</div>"
      ],
      "text/plain": [
       "              year         price        mileage  engine_size    Automatic  \\\n",
       "count  3898.000000   3898.000000    3898.000000  3898.000000  3898.000000   \n",
       "mean   2017.341714  23679.720369   22373.116727     2.036762     0.417394   \n",
       "std       2.204856   8954.941562   22589.323398     0.487930     0.493192   \n",
       "min    1991.000000   1290.000000       1.000000     0.000000     0.000000   \n",
       "25%    2016.000000  17691.250000    6000.000000     2.000000     0.000000   \n",
       "50%    2018.000000  22980.000000   14638.000000     2.000000     0.000000   \n",
       "75%    2019.000000  28900.000000   32440.000000     2.100000     1.000000   \n",
       "max    2020.000000  88995.000000  173000.000000     6.200000     1.000000   \n",
       "\n",
       "            Manual  OtherTransmission    Semi-Auto       Diesel       Hybrid  \\\n",
       "count  3898.000000        3898.000000  3898.000000  3898.000000  3898.000000   \n",
       "mean      0.051052           0.000257     0.531298     0.600051     0.038738   \n",
       "std       0.220132           0.016017     0.499083     0.489950     0.192994   \n",
       "min       0.000000           0.000000     0.000000     0.000000     0.000000   \n",
       "25%       0.000000           0.000000     0.000000     0.000000     0.000000   \n",
       "50%       0.000000           0.000000     1.000000     1.000000     0.000000   \n",
       "75%       0.000000           0.000000     1.000000     1.000000     0.000000   \n",
       "max       1.000000           1.000000     1.000000     1.000000     1.000000   \n",
       "\n",
       "         OtherFuel       Petrol  \n",
       "count  3898.000000  3898.000000  \n",
       "mean      0.001539     0.359672  \n",
       "std       0.039208     0.479966  \n",
       "min       0.000000     0.000000  \n",
       "25%       0.000000     0.000000  \n",
       "50%       0.000000     0.000000  \n",
       "75%       0.000000     1.000000  \n",
       "max       1.000000     1.000000  "
      ]
     },
     "execution_count": 61,
     "metadata": {},
     "output_type": "execute_result"
    }
   ],
   "source": [
    "#Observe the clean dataset statistics\n",
    "clean_df5.describe()"
   ]
  },
  {
   "cell_type": "markdown",
   "metadata": {},
   "source": [
    "#### Relationship between mileage and the price?"
   ]
  },
  {
   "cell_type": "code",
   "execution_count": 92,
   "metadata": {
    "colab": {
     "base_uri": "https://localhost:8080/",
     "height": 313
    },
    "id": "UewFbPJZx2ET",
    "outputId": "c561bd7d-cc6d-496b-f294-b5d87e032a25"
   },
   "outputs": [
    {
     "data": {
      "text/plain": [
       "Text(0.5, 1.0, 'Price vs Mileage count')"
      ]
     },
     "execution_count": 92,
     "metadata": {},
     "output_type": "execute_result"
    },
    {
     "data": {
      "image/png": "[encoded data removed]",
      "text/plain": [
       "<Figure size 432x288 with 1 Axes>"
      ]
     },
     "metadata": {
      "needs_background": "light"
     },
     "output_type": "display_data"
    }
   ],
   "source": [
    "#Is there any relationship between the average price of used cars and the mileage count? \n",
    "plt.scatter(clean_df5.mileage, clean_df5.price)\n",
    "plt.title('Price vs Mileage count')"
   ]
  },
  {
   "cell_type": "code",
   "execution_count": null,
   "metadata": {},
   "outputs": [],
   "source": [
    "As illustrated, the higher mileage, the lower price car may cost. There is one data point that price over 80000, we will remove it from dataset."
   ]
  },
  {
   "cell_type": "code",
   "execution_count": 91,
   "metadata": {},
   "outputs": [
    {
     "data": {
      "text/plain": [
       "Text(0, 0.5, 'Price')"
      ]
     },
     "execution_count": 91,
     "metadata": {},
     "output_type": "execute_result"
    },
    {
     "data": {
      "image/png": "[encoded data removed]",
      "text/plain": [
       "<Figure size 432x288 with 1 Axes>"
      ]
     },
     "metadata": {
      "needs_background": "light"
     },
     "output_type": "display_data"
    }
   ],
   "source": [
    "clean_df5.drop(clean_df5.loc[clean_df5[\"price\"]>80000].index, inplace=True) \n",
    "plt.scatter(clean_df5.mileage, clean_df5.price)\n",
    "plt.title(\"mileage vs Price\")\n",
    "plt.xlabel('Mileage')\n",
    "plt.ylabel('Price')\n",
    "#plt.savefig('mileage vs price.png', dpi=400, bbox_inches='tight')"
   ]
  },
  {
   "cell_type": "markdown",
   "metadata": {},
   "source": [
    "#### Relationship between year and the price?"
   ]
  },
  {
   "cell_type": "code",
   "execution_count": 93,
   "metadata": {
    "colab": {
     "base_uri": "https://localhost:8080/",
     "height": 313
    },
    "id": "Mh4LW5KczOey",
    "outputId": "114f5006-c065-421c-9ce9-9e17050999c4"
   },
   "outputs": [
    {
     "data": {
      "text/plain": [
       "Text(0.5, 1.0, 'Price vs Year')"
      ]
     },
     "execution_count": 93,
     "metadata": {},
     "output_type": "execute_result"
    },
    {
     "data": {
      "image/png": "[encoded data removed]",
      "text/plain": [
       "<Figure size 432x288 with 1 Axes>"
      ]
     },
     "metadata": {
      "needs_background": "light"
     },
     "output_type": "display_data"
    }
   ],
   "source": [
    "#Is there any relationship between the average price of used cars and the year it was manufactured?\n",
    "plt.scatter(clean_df5.year, clean_df5.price)\n",
    "plt.title('Price vs Year')\n"
   ]
  },
  {
   "cell_type": "markdown",
   "metadata": {},
   "source": [
    "As we can see though illustration, price affected by the fetures year significantly"
   ]
  },
  {
   "cell_type": "markdown",
   "metadata": {},
   "source": [
    "#### Relationship between engine size and the price?"
   ]
  },
  {
   "cell_type": "code",
   "execution_count": 94,
   "metadata": {
    "colab": {
     "base_uri": "https://localhost:8080/",
     "height": 313
    },
    "id": "suRdEJPp3ZPO",
    "outputId": "81d5b9ab-efaa-4ddd-cfbb-cce897f58ce9"
   },
   "outputs": [
    {
     "data": {
      "text/plain": [
       "Text(0.5, 1.0, 'Price vs Engine Size')"
      ]
     },
     "execution_count": 94,
     "metadata": {},
     "output_type": "execute_result"
    },
    {
     "data": {
      "image/png": "[encoded data removed]",
      "text/plain": [
       "<Figure size 432x288 with 1 Axes>"
      ]
     },
     "metadata": {
      "needs_background": "light"
     },
     "output_type": "display_data"
    }
   ],
   "source": [
    "#Is there any relationship between the average price of used cars and the engine size?\n",
    "plt.scatter(clean_df5.engine_size, clean_df5.price)\n",
    "plt.title('Price vs Engine Size')"
   ]
  },
  {
   "cell_type": "markdown",
   "metadata": {},
   "source": [
    "Similar to mileague, we can see there is outlier beyond point 5, we remove it from dataset"
   ]
  },
  {
   "cell_type": "code",
   "execution_count": 96,
   "metadata": {},
   "outputs": [],
   "source": [
    "clean_df5.drop(clean_df5.loc[clean_df5[\"engine_size\"]>5].index,inplace=True)"
   ]
  },
  {
   "cell_type": "code",
   "execution_count": 97,
   "metadata": {},
   "outputs": [
    {
     "data": {
      "text/plain": [
       "Text(0.5, 1.0, 'Price vs Engine Size')"
      ]
     },
     "execution_count": 97,
     "metadata": {},
     "output_type": "execute_result"
    },
    {
     "data": {
      "image/png": "[encoded data removed]",
      "text/plain": [
       "<Figure size 432x288 with 1 Axes>"
      ]
     },
     "metadata": {
      "needs_background": "light"
     },
     "output_type": "display_data"
    }
   ],
   "source": [
    "#relationship after dropping\n",
    "plt.scatter(clean_df5.engine_size, clean_df5.price)\n",
    "plt.title('Price vs Engine Size')"
   ]
  },
  {
   "cell_type": "markdown",
   "metadata": {},
   "source": [
    "#### Relationship between fuel type  and the price?"
   ]
  },
  {
   "cell_type": "code",
   "execution_count": 90,
   "metadata": {},
   "outputs": [
    {
     "data": {
      "text/plain": [
       "Text(0.5, 1.0, 'Price vs Fuel Type')"
      ]
     },
     "execution_count": 90,
     "metadata": {},
     "output_type": "execute_result"
    },
    {
     "data": {
      "image/png": "[encoded data removed]",
      "text/plain": [
       "<Figure size 432x288 with 1 Axes>"
      ]
     },
     "metadata": {
      "needs_background": "light"
     },
     "output_type": "display_data"
    }
   ],
   "source": [
    "#Is there any relationship between the average price of used cars and the fuel type?\n",
    "plt.scatter(clean_df5.fuel_type, clean_df5.price)\n",
    "plt.title('Price vs Fuel Type')"
   ]
  },
  {
   "cell_type": "code",
   "execution_count": null,
   "metadata": {},
   "outputs": [],
   "source": [
    "As illustated, transmission and fuel type are not really affected the price, so we dont put it here"
   ]
  },
  {
   "cell_type": "code",
   "execution_count": 65,
   "metadata": {
    "colab": {
     "base_uri": "https://localhost:8080/",
     "height": 874
    },
    "id": "lfZZp6f84upg",
    "outputId": "eef3f1a6-11f4-4c39-831d-6a8868ff6e7f"
   },
   "outputs": [
    {
     "data": {
      "image/png": "[encoded data removed]",
      "text/plain": [
       "<Figure size 2160x2160 with 156 Axes>"
      ]
     },
     "metadata": {
      "needs_background": "light"
     },
     "output_type": "display_data"
    }
   ],
   "source": [
    "sns.pairplot(clean_df5[['year', 'mileage', 'engine_size', 'Automatic', 'Manual', 'OtherTransmission',\n",
    "        'Semi-Auto', 'Diesel', 'Hybrid', 'OtherFuel', 'Petrol','price']], height=2.5)\n",
    "plt.tight_layout()"
   ]
  },
  {
   "cell_type": "code",
   "execution_count": 66,
   "metadata": {
    "colab": {
     "base_uri": "https://localhost:8080/",
     "height": 454
    },
    "id": "zeh-_f-m44MV",
    "outputId": "0fc6219f-1dcb-485c-ace0-58a739132b43"
   },
   "outputs": [
    {
     "data": {
      "text/html": [
       "<div>\n",
       "<style scoped>\n",
       "    .dataframe tbody tr th:only-of-type {\n",
       "        vertical-align: middle;\n",
       "    }\n",
       "\n",
       "    .dataframe tbody tr th {\n",
       "        vertical-align: top;\n",
       "    }\n",
       "\n",
       "    .dataframe thead th {\n",
       "        text-align: right;\n",
       "    }\n",
       "</style>\n",
       "<table border=\"1\" class=\"dataframe\">\n",
       "  <thead>\n",
       "    <tr style=\"text-align: right;\">\n",
       "      <th></th>\n",
       "      <th>year</th>\n",
       "      <th>price</th>\n",
       "      <th>mileage</th>\n",
       "      <th>engine_size</th>\n",
       "      <th>Automatic</th>\n",
       "      <th>Manual</th>\n",
       "      <th>OtherTransmission</th>\n",
       "      <th>Semi-Auto</th>\n",
       "      <th>Diesel</th>\n",
       "      <th>Hybrid</th>\n",
       "      <th>OtherFuel</th>\n",
       "      <th>Petrol</th>\n",
       "    </tr>\n",
       "  </thead>\n",
       "  <tbody>\n",
       "    <tr>\n",
       "      <th>year</th>\n",
       "      <td>1.000000</td>\n",
       "      <td>0.674218</td>\n",
       "      <td>-0.774710</td>\n",
       "      <td>-0.167651</td>\n",
       "      <td>-0.201754</td>\n",
       "      <td>-0.165483</td>\n",
       "      <td>-0.038814</td>\n",
       "      <td>0.273608</td>\n",
       "      <td>-0.133324</td>\n",
       "      <td>-0.096244</td>\n",
       "      <td>-0.009054</td>\n",
       "      <td>0.175537</td>\n",
       "    </tr>\n",
       "    <tr>\n",
       "      <th>price</th>\n",
       "      <td>0.674218</td>\n",
       "      <td>1.000000</td>\n",
       "      <td>-0.679101</td>\n",
       "      <td>0.373003</td>\n",
       "      <td>-0.098206</td>\n",
       "      <td>-0.241093</td>\n",
       "      <td>-0.020905</td>\n",
       "      <td>0.204057</td>\n",
       "      <td>-0.254683</td>\n",
       "      <td>-0.112066</td>\n",
       "      <td>-0.016542</td>\n",
       "      <td>0.306394</td>\n",
       "    </tr>\n",
       "    <tr>\n",
       "      <th>mileage</th>\n",
       "      <td>-0.774710</td>\n",
       "      <td>-0.679101</td>\n",
       "      <td>1.000000</td>\n",
       "      <td>0.100712</td>\n",
       "      <td>0.183310</td>\n",
       "      <td>0.220012</td>\n",
       "      <td>0.015795</td>\n",
       "      <td>-0.278694</td>\n",
       "      <td>0.176884</td>\n",
       "      <td>0.189994</td>\n",
       "      <td>0.045100</td>\n",
       "      <td>-0.260644</td>\n",
       "    </tr>\n",
       "    <tr>\n",
       "      <th>engine_size</th>\n",
       "      <td>-0.167651</td>\n",
       "      <td>0.373003</td>\n",
       "      <td>0.100712</td>\n",
       "      <td>1.000000</td>\n",
       "      <td>0.077083</td>\n",
       "      <td>-0.049730</td>\n",
       "      <td>0.031628</td>\n",
       "      <td>-0.055254</td>\n",
       "      <td>-0.033476</td>\n",
       "      <td>-0.002047</td>\n",
       "      <td>-0.002959</td>\n",
       "      <td>0.035237</td>\n",
       "    </tr>\n",
       "    <tr>\n",
       "      <th>Automatic</th>\n",
       "      <td>-0.201754</td>\n",
       "      <td>-0.098206</td>\n",
       "      <td>0.183310</td>\n",
       "      <td>0.077083</td>\n",
       "      <td>1.000000</td>\n",
       "      <td>-0.196322</td>\n",
       "      <td>-0.013559</td>\n",
       "      <td>-0.901168</td>\n",
       "      <td>0.022000</td>\n",
       "      <td>0.088895</td>\n",
       "      <td>0.046388</td>\n",
       "      <td>-0.061991</td>\n",
       "    </tr>\n",
       "    <tr>\n",
       "      <th>Manual</th>\n",
       "      <td>-0.165483</td>\n",
       "      <td>-0.241093</td>\n",
       "      <td>0.220012</td>\n",
       "      <td>-0.049730</td>\n",
       "      <td>-0.196322</td>\n",
       "      <td>1.000000</td>\n",
       "      <td>-0.003716</td>\n",
       "      <td>-0.246948</td>\n",
       "      <td>0.029954</td>\n",
       "      <td>-0.046562</td>\n",
       "      <td>-0.009107</td>\n",
       "      <td>-0.011111</td>\n",
       "    </tr>\n",
       "    <tr>\n",
       "      <th>OtherTransmission</th>\n",
       "      <td>-0.038814</td>\n",
       "      <td>-0.020905</td>\n",
       "      <td>0.015795</td>\n",
       "      <td>0.031628</td>\n",
       "      <td>-0.013559</td>\n",
       "      <td>-0.003716</td>\n",
       "      <td>1.000000</td>\n",
       "      <td>-0.017055</td>\n",
       "      <td>0.013078</td>\n",
       "      <td>-0.003216</td>\n",
       "      <td>-0.000629</td>\n",
       "      <td>-0.012006</td>\n",
       "    </tr>\n",
       "    <tr>\n",
       "      <th>Semi-Auto</th>\n",
       "      <td>0.273608</td>\n",
       "      <td>0.204057</td>\n",
       "      <td>-0.278694</td>\n",
       "      <td>-0.055254</td>\n",
       "      <td>-0.901168</td>\n",
       "      <td>-0.246948</td>\n",
       "      <td>-0.017055</td>\n",
       "      <td>1.000000</td>\n",
       "      <td>-0.035372</td>\n",
       "      <td>-0.067205</td>\n",
       "      <td>-0.041803</td>\n",
       "      <td>0.066545</td>\n",
       "    </tr>\n",
       "    <tr>\n",
       "      <th>Diesel</th>\n",
       "      <td>-0.133324</td>\n",
       "      <td>-0.254683</td>\n",
       "      <td>0.176884</td>\n",
       "      <td>-0.033476</td>\n",
       "      <td>0.022000</td>\n",
       "      <td>0.029954</td>\n",
       "      <td>0.013078</td>\n",
       "      <td>-0.035372</td>\n",
       "      <td>1.000000</td>\n",
       "      <td>-0.245889</td>\n",
       "      <td>-0.048093</td>\n",
       "      <td>-0.918002</td>\n",
       "    </tr>\n",
       "    <tr>\n",
       "      <th>Hybrid</th>\n",
       "      <td>-0.096244</td>\n",
       "      <td>-0.112066</td>\n",
       "      <td>0.189994</td>\n",
       "      <td>-0.002047</td>\n",
       "      <td>0.088895</td>\n",
       "      <td>-0.046562</td>\n",
       "      <td>-0.003216</td>\n",
       "      <td>-0.067205</td>\n",
       "      <td>-0.245889</td>\n",
       "      <td>1.000000</td>\n",
       "      <td>-0.007882</td>\n",
       "      <td>-0.150452</td>\n",
       "    </tr>\n",
       "    <tr>\n",
       "      <th>OtherFuel</th>\n",
       "      <td>-0.009054</td>\n",
       "      <td>-0.016542</td>\n",
       "      <td>0.045100</td>\n",
       "      <td>-0.002959</td>\n",
       "      <td>0.046388</td>\n",
       "      <td>-0.009107</td>\n",
       "      <td>-0.000629</td>\n",
       "      <td>-0.041803</td>\n",
       "      <td>-0.048093</td>\n",
       "      <td>-0.007882</td>\n",
       "      <td>1.000000</td>\n",
       "      <td>-0.029427</td>\n",
       "    </tr>\n",
       "    <tr>\n",
       "      <th>Petrol</th>\n",
       "      <td>0.175537</td>\n",
       "      <td>0.306394</td>\n",
       "      <td>-0.260644</td>\n",
       "      <td>0.035237</td>\n",
       "      <td>-0.061991</td>\n",
       "      <td>-0.011111</td>\n",
       "      <td>-0.012006</td>\n",
       "      <td>0.066545</td>\n",
       "      <td>-0.918002</td>\n",
       "      <td>-0.150452</td>\n",
       "      <td>-0.029427</td>\n",
       "      <td>1.000000</td>\n",
       "    </tr>\n",
       "  </tbody>\n",
       "</table>\n",
       "</div>"
      ],
      "text/plain": [
       "                       year     price   mileage  engine_size  Automatic  \\\n",
       "year               1.000000  0.674218 -0.774710    -0.167651  -0.201754   \n",
       "price              0.674218  1.000000 -0.679101     0.373003  -0.098206   \n",
       "mileage           -0.774710 -0.679101  1.000000     0.100712   0.183310   \n",
       "engine_size       -0.167651  0.373003  0.100712     1.000000   0.077083   \n",
       "Automatic         -0.201754 -0.098206  0.183310     0.077083   1.000000   \n",
       "Manual            -0.165483 -0.241093  0.220012    -0.049730  -0.196322   \n",
       "OtherTransmission -0.038814 -0.020905  0.015795     0.031628  -0.013559   \n",
       "Semi-Auto          0.273608  0.204057 -0.278694    -0.055254  -0.901168   \n",
       "Diesel            -0.133324 -0.254683  0.176884    -0.033476   0.022000   \n",
       "Hybrid            -0.096244 -0.112066  0.189994    -0.002047   0.088895   \n",
       "OtherFuel         -0.009054 -0.016542  0.045100    -0.002959   0.046388   \n",
       "Petrol             0.175537  0.306394 -0.260644     0.035237  -0.061991   \n",
       "\n",
       "                     Manual  OtherTransmission  Semi-Auto    Diesel    Hybrid  \\\n",
       "year              -0.165483          -0.038814   0.273608 -0.133324 -0.096244   \n",
       "price             -0.241093          -0.020905   0.204057 -0.254683 -0.112066   \n",
       "mileage            0.220012           0.015795  -0.278694  0.176884  0.189994   \n",
       "engine_size       -0.049730           0.031628  -0.055254 -0.033476 -0.002047   \n",
       "Automatic         -0.196322          -0.013559  -0.901168  0.022000  0.088895   \n",
       "Manual             1.000000          -0.003716  -0.246948  0.029954 -0.046562   \n",
       "OtherTransmission -0.003716           1.000000  -0.017055  0.013078 -0.003216   \n",
       "Semi-Auto         -0.246948          -0.017055   1.000000 -0.035372 -0.067205   \n",
       "Diesel             0.029954           0.013078  -0.035372  1.000000 -0.245889   \n",
       "Hybrid            -0.046562          -0.003216  -0.067205 -0.245889  1.000000   \n",
       "OtherFuel         -0.009107          -0.000629  -0.041803 -0.048093 -0.007882   \n",
       "Petrol            -0.011111          -0.012006   0.066545 -0.918002 -0.150452   \n",
       "\n",
       "                   OtherFuel    Petrol  \n",
       "year               -0.009054  0.175537  \n",
       "price              -0.016542  0.306394  \n",
       "mileage             0.045100 -0.260644  \n",
       "engine_size        -0.002959  0.035237  \n",
       "Automatic           0.046388 -0.061991  \n",
       "Manual             -0.009107 -0.011111  \n",
       "OtherTransmission  -0.000629 -0.012006  \n",
       "Semi-Auto          -0.041803  0.066545  \n",
       "Diesel             -0.048093 -0.918002  \n",
       "Hybrid             -0.007882 -0.150452  \n",
       "OtherFuel           1.000000 -0.029427  \n",
       "Petrol             -0.029427  1.000000  "
      ]
     },
     "execution_count": 66,
     "metadata": {},
     "output_type": "execute_result"
    }
   ],
   "source": [
    "#Correlations\n",
    "clean_df5.corr()"
   ]
  },
  {
   "cell_type": "code",
   "execution_count": 67,
   "metadata": {
    "id": "89zv3qlL5m-Y"
   },
   "outputs": [],
   "source": [
    "#Select only numericalvariables to visualize heatmap\n",
    "num_var = clean_df5[['year', 'mileage', 'engine_size','price']]"
   ]
  },
  {
   "cell_type": "code",
   "execution_count": 68,
   "metadata": {
    "colab": {
     "base_uri": "https://localhost:8080/",
     "height": 361
    },
    "id": "sPFysYLG5D4k",
    "outputId": "a830a108-af0d-425c-937f-83f513a7b454"
   },
   "outputs": [
    {
     "data": {
      "image/png": "[encoded data removed]",
      "text/plain": [
       "<Figure size 432x288 with 2 Axes>"
      ]
     },
     "metadata": {},
     "output_type": "display_data"
    }
   ],
   "source": [
    "#Correlations heatmap\n",
    "cm = np.corrcoef(num_var.values.T)\n",
    "sns.set(font_scale=1.5)\n",
    "hm = sns.heatmap(cm,\n",
    "               cbar=True,\n",
    "               annot=True,\n",
    "               square=True,\n",
    "               fmt='.2f',\n",
    "               annot_kws={'size':15},\n",
    "               yticklabels=num_var.columns,\n",
    "               xticklabels=num_var.columns)"
   ]
  },
  {
   "cell_type": "code",
   "execution_count": null,
   "metadata": {},
   "outputs": [],
   "source": []
  },
  {
   "cell_type": "markdown",
   "metadata": {
    "id": "nBCrpa615sZT"
   },
   "source": [
    "# 5. Feature Observation and Hypothesis"
   ]
  },
  {
   "cell_type": "code",
   "execution_count": 69,
   "metadata": {},
   "outputs": [
    {
     "data": {
      "text/html": [
       "<div>\n",
       "<style scoped>\n",
       "    .dataframe tbody tr th:only-of-type {\n",
       "        vertical-align: middle;\n",
       "    }\n",
       "\n",
       "    .dataframe tbody tr th {\n",
       "        vertical-align: top;\n",
       "    }\n",
       "\n",
       "    .dataframe thead th {\n",
       "        text-align: right;\n",
       "    }\n",
       "</style>\n",
       "<table border=\"1\" class=\"dataframe\">\n",
       "  <thead>\n",
       "    <tr style=\"text-align: right;\">\n",
       "      <th></th>\n",
       "      <th>year</th>\n",
       "      <th>price</th>\n",
       "      <th>mileage</th>\n",
       "      <th>engine_size</th>\n",
       "      <th>Automatic</th>\n",
       "      <th>Manual</th>\n",
       "      <th>OtherTransmission</th>\n",
       "      <th>Semi-Auto</th>\n",
       "      <th>Diesel</th>\n",
       "      <th>Hybrid</th>\n",
       "      <th>OtherFuel</th>\n",
       "      <th>Petrol</th>\n",
       "    </tr>\n",
       "  </thead>\n",
       "  <tbody>\n",
       "    <tr>\n",
       "      <th>count</th>\n",
       "      <td>3898.000000</td>\n",
       "      <td>3898.000000</td>\n",
       "      <td>3898.000000</td>\n",
       "      <td>3898.000000</td>\n",
       "      <td>3898.000000</td>\n",
       "      <td>3898.000000</td>\n",
       "      <td>3898.000000</td>\n",
       "      <td>3898.000000</td>\n",
       "      <td>3898.000000</td>\n",
       "      <td>3898.000000</td>\n",
       "      <td>3898.000000</td>\n",
       "      <td>3898.000000</td>\n",
       "    </tr>\n",
       "    <tr>\n",
       "      <th>mean</th>\n",
       "      <td>2017.341714</td>\n",
       "      <td>23679.720369</td>\n",
       "      <td>22373.116727</td>\n",
       "      <td>2.036762</td>\n",
       "      <td>0.417394</td>\n",
       "      <td>0.051052</td>\n",
       "      <td>0.000257</td>\n",
       "      <td>0.531298</td>\n",
       "      <td>0.600051</td>\n",
       "      <td>0.038738</td>\n",
       "      <td>0.001539</td>\n",
       "      <td>0.359672</td>\n",
       "    </tr>\n",
       "    <tr>\n",
       "      <th>std</th>\n",
       "      <td>2.204856</td>\n",
       "      <td>8954.941562</td>\n",
       "      <td>22589.323398</td>\n",
       "      <td>0.487930</td>\n",
       "      <td>0.493192</td>\n",
       "      <td>0.220132</td>\n",
       "      <td>0.016017</td>\n",
       "      <td>0.499083</td>\n",
       "      <td>0.489950</td>\n",
       "      <td>0.192994</td>\n",
       "      <td>0.039208</td>\n",
       "      <td>0.479966</td>\n",
       "    </tr>\n",
       "    <tr>\n",
       "      <th>min</th>\n",
       "      <td>1991.000000</td>\n",
       "      <td>1290.000000</td>\n",
       "      <td>1.000000</td>\n",
       "      <td>0.000000</td>\n",
       "      <td>0.000000</td>\n",
       "      <td>0.000000</td>\n",
       "      <td>0.000000</td>\n",
       "      <td>0.000000</td>\n",
       "      <td>0.000000</td>\n",
       "      <td>0.000000</td>\n",
       "      <td>0.000000</td>\n",
       "      <td>0.000000</td>\n",
       "    </tr>\n",
       "    <tr>\n",
       "      <th>25%</th>\n",
       "      <td>2016.000000</td>\n",
       "      <td>17691.250000</td>\n",
       "      <td>6000.000000</td>\n",
       "      <td>2.000000</td>\n",
       "      <td>0.000000</td>\n",
       "      <td>0.000000</td>\n",
       "      <td>0.000000</td>\n",
       "      <td>0.000000</td>\n",
       "      <td>0.000000</td>\n",
       "      <td>0.000000</td>\n",
       "      <td>0.000000</td>\n",
       "      <td>0.000000</td>\n",
       "    </tr>\n",
       "    <tr>\n",
       "      <th>50%</th>\n",
       "      <td>2018.000000</td>\n",
       "      <td>22980.000000</td>\n",
       "      <td>14638.000000</td>\n",
       "      <td>2.000000</td>\n",
       "      <td>0.000000</td>\n",
       "      <td>0.000000</td>\n",
       "      <td>0.000000</td>\n",
       "      <td>1.000000</td>\n",
       "      <td>1.000000</td>\n",
       "      <td>0.000000</td>\n",
       "      <td>0.000000</td>\n",
       "      <td>0.000000</td>\n",
       "    </tr>\n",
       "    <tr>\n",
       "      <th>75%</th>\n",
       "      <td>2019.000000</td>\n",
       "      <td>28900.000000</td>\n",
       "      <td>32440.000000</td>\n",
       "      <td>2.100000</td>\n",
       "      <td>1.000000</td>\n",
       "      <td>0.000000</td>\n",
       "      <td>0.000000</td>\n",
       "      <td>1.000000</td>\n",
       "      <td>1.000000</td>\n",
       "      <td>0.000000</td>\n",
       "      <td>0.000000</td>\n",
       "      <td>1.000000</td>\n",
       "    </tr>\n",
       "    <tr>\n",
       "      <th>max</th>\n",
       "      <td>2020.000000</td>\n",
       "      <td>88995.000000</td>\n",
       "      <td>173000.000000</td>\n",
       "      <td>6.200000</td>\n",
       "      <td>1.000000</td>\n",
       "      <td>1.000000</td>\n",
       "      <td>1.000000</td>\n",
       "      <td>1.000000</td>\n",
       "      <td>1.000000</td>\n",
       "      <td>1.000000</td>\n",
       "      <td>1.000000</td>\n",
       "      <td>1.000000</td>\n",
       "    </tr>\n",
       "  </tbody>\n",
       "</table>\n",
       "</div>"
      ],
      "text/plain": [
       "              year         price        mileage  engine_size    Automatic  \\\n",
       "count  3898.000000   3898.000000    3898.000000  3898.000000  3898.000000   \n",
       "mean   2017.341714  23679.720369   22373.116727     2.036762     0.417394   \n",
       "std       2.204856   8954.941562   22589.323398     0.487930     0.493192   \n",
       "min    1991.000000   1290.000000       1.000000     0.000000     0.000000   \n",
       "25%    2016.000000  17691.250000    6000.000000     2.000000     0.000000   \n",
       "50%    2018.000000  22980.000000   14638.000000     2.000000     0.000000   \n",
       "75%    2019.000000  28900.000000   32440.000000     2.100000     1.000000   \n",
       "max    2020.000000  88995.000000  173000.000000     6.200000     1.000000   \n",
       "\n",
       "            Manual  OtherTransmission    Semi-Auto       Diesel       Hybrid  \\\n",
       "count  3898.000000        3898.000000  3898.000000  3898.000000  3898.000000   \n",
       "mean      0.051052           0.000257     0.531298     0.600051     0.038738   \n",
       "std       0.220132           0.016017     0.499083     0.489950     0.192994   \n",
       "min       0.000000           0.000000     0.000000     0.000000     0.000000   \n",
       "25%       0.000000           0.000000     0.000000     0.000000     0.000000   \n",
       "50%       0.000000           0.000000     1.000000     1.000000     0.000000   \n",
       "75%       0.000000           0.000000     1.000000     1.000000     0.000000   \n",
       "max       1.000000           1.000000     1.000000     1.000000     1.000000   \n",
       "\n",
       "         OtherFuel       Petrol  \n",
       "count  3898.000000  3898.000000  \n",
       "mean      0.001539     0.359672  \n",
       "std       0.039208     0.479966  \n",
       "min       0.000000     0.000000  \n",
       "25%       0.000000     0.000000  \n",
       "50%       0.000000     0.000000  \n",
       "75%       0.000000     1.000000  \n",
       "max       1.000000     1.000000  "
      ]
     },
     "execution_count": 69,
     "metadata": {},
     "output_type": "execute_result"
    }
   ],
   "source": [
    "#Observe the clean dataset statistics\n",
    "clean_df5.describe()"
   ]
  },
  {
   "cell_type": "markdown",
   "metadata": {},
   "source": [
    "## Feature observation\n",
    "1. As we can observe here, engize_size after cleaning has value minimum of 0, it's quite illogical as no car may have. Hence, it should be cleaned.\n",
    "2. there are some outliers with the year as the minimum year is 1991, while the 1st quartile of year is 2016, median is 2018, 3rd IQR is 2019, so we will drop these outliers"
   ]
  },
  {
   "cell_type": "code",
   "execution_count": 70,
   "metadata": {},
   "outputs": [
    {
     "data": {
      "text/plain": [
       "Text(0.5, 1.0, 'Price vs Year')"
      ]
     },
     "execution_count": 70,
     "metadata": {},
     "output_type": "execute_result"
    },
    {
     "data": {
      "image/png": "[encoded data removed]",
      "text/plain": [
       "<Figure size 432x288 with 1 Axes>"
      ]
     },
     "metadata": {},
     "output_type": "display_data"
    }
   ],
   "source": [
    "#Is there any relationship between the average price of used cars and the year it was manufactured?\n",
    "plt.scatter(clean_df5.year, clean_df5.price)\n",
    "plt.title('Price vs Year')\n",
    "#=> drop outlier for the year before 2000"
   ]
  },
  {
   "cell_type": "code",
   "execution_count": 71,
   "metadata": {},
   "outputs": [],
   "source": [
    "# drop rows that has 0 value in engine_size column\n",
    "clean_df5.drop(clean_df5.loc[clean_df5[\"engine_size\"]==0].index, inplace=True)\n"
   ]
  },
  {
   "cell_type": "code",
   "execution_count": 72,
   "metadata": {},
   "outputs": [
    {
     "data": {
      "text/html": [
       "<div>\n",
       "<style scoped>\n",
       "    .dataframe tbody tr th:only-of-type {\n",
       "        vertical-align: middle;\n",
       "    }\n",
       "\n",
       "    .dataframe tbody tr th {\n",
       "        vertical-align: top;\n",
       "    }\n",
       "\n",
       "    .dataframe thead th {\n",
       "        text-align: right;\n",
       "    }\n",
       "</style>\n",
       "<table border=\"1\" class=\"dataframe\">\n",
       "  <thead>\n",
       "    <tr style=\"text-align: right;\">\n",
       "      <th></th>\n",
       "      <th>year</th>\n",
       "      <th>price</th>\n",
       "      <th>transmission</th>\n",
       "      <th>mileage</th>\n",
       "      <th>fuel_type</th>\n",
       "      <th>engine_size</th>\n",
       "      <th>Automatic</th>\n",
       "      <th>Manual</th>\n",
       "      <th>OtherTransmission</th>\n",
       "      <th>Semi-Auto</th>\n",
       "      <th>Diesel</th>\n",
       "      <th>Hybrid</th>\n",
       "      <th>OtherFuel</th>\n",
       "      <th>Petrol</th>\n",
       "    </tr>\n",
       "  </thead>\n",
       "  <tbody>\n",
       "    <tr>\n",
       "      <th>0</th>\n",
       "      <td>2020.0</td>\n",
       "      <td>30495</td>\n",
       "      <td>Automatic</td>\n",
       "      <td>1200.0</td>\n",
       "      <td>Diesel</td>\n",
       "      <td>2.0</td>\n",
       "      <td>1</td>\n",
       "      <td>0</td>\n",
       "      <td>0</td>\n",
       "      <td>0</td>\n",
       "      <td>1</td>\n",
       "      <td>0</td>\n",
       "      <td>0</td>\n",
       "      <td>0</td>\n",
       "    </tr>\n",
       "    <tr>\n",
       "      <th>1</th>\n",
       "      <td>2020.0</td>\n",
       "      <td>29989</td>\n",
       "      <td>Automatic</td>\n",
       "      <td>1000.0</td>\n",
       "      <td>Petrol</td>\n",
       "      <td>1.5</td>\n",
       "      <td>1</td>\n",
       "      <td>0</td>\n",
       "      <td>0</td>\n",
       "      <td>0</td>\n",
       "      <td>0</td>\n",
       "      <td>0</td>\n",
       "      <td>0</td>\n",
       "      <td>1</td>\n",
       "    </tr>\n",
       "    <tr>\n",
       "      <th>2</th>\n",
       "      <td>2020.0</td>\n",
       "      <td>37899</td>\n",
       "      <td>Automatic</td>\n",
       "      <td>500.0</td>\n",
       "      <td>Diesel</td>\n",
       "      <td>2.0</td>\n",
       "      <td>1</td>\n",
       "      <td>0</td>\n",
       "      <td>0</td>\n",
       "      <td>0</td>\n",
       "      <td>1</td>\n",
       "      <td>0</td>\n",
       "      <td>0</td>\n",
       "      <td>0</td>\n",
       "    </tr>\n",
       "    <tr>\n",
       "      <th>3</th>\n",
       "      <td>2019.0</td>\n",
       "      <td>30399</td>\n",
       "      <td>Automatic</td>\n",
       "      <td>5000.0</td>\n",
       "      <td>Diesel</td>\n",
       "      <td>2.0</td>\n",
       "      <td>1</td>\n",
       "      <td>0</td>\n",
       "      <td>0</td>\n",
       "      <td>0</td>\n",
       "      <td>1</td>\n",
       "      <td>0</td>\n",
       "      <td>0</td>\n",
       "      <td>0</td>\n",
       "    </tr>\n",
       "    <tr>\n",
       "      <th>4</th>\n",
       "      <td>2019.0</td>\n",
       "      <td>29899</td>\n",
       "      <td>Automatic</td>\n",
       "      <td>4500.0</td>\n",
       "      <td>Diesel</td>\n",
       "      <td>2.0</td>\n",
       "      <td>1</td>\n",
       "      <td>0</td>\n",
       "      <td>0</td>\n",
       "      <td>0</td>\n",
       "      <td>1</td>\n",
       "      <td>0</td>\n",
       "      <td>0</td>\n",
       "      <td>0</td>\n",
       "    </tr>\n",
       "    <tr>\n",
       "      <th>...</th>\n",
       "      <td>...</td>\n",
       "      <td>...</td>\n",
       "      <td>...</td>\n",
       "      <td>...</td>\n",
       "      <td>...</td>\n",
       "      <td>...</td>\n",
       "      <td>...</td>\n",
       "      <td>...</td>\n",
       "      <td>...</td>\n",
       "      <td>...</td>\n",
       "      <td>...</td>\n",
       "      <td>...</td>\n",
       "      <td>...</td>\n",
       "      <td>...</td>\n",
       "    </tr>\n",
       "    <tr>\n",
       "      <th>3902</th>\n",
       "      <td>2017.0</td>\n",
       "      <td>14700</td>\n",
       "      <td>Manual</td>\n",
       "      <td>31357.0</td>\n",
       "      <td>Diesel</td>\n",
       "      <td>1.6</td>\n",
       "      <td>0</td>\n",
       "      <td>1</td>\n",
       "      <td>0</td>\n",
       "      <td>0</td>\n",
       "      <td>1</td>\n",
       "      <td>0</td>\n",
       "      <td>0</td>\n",
       "      <td>0</td>\n",
       "    </tr>\n",
       "    <tr>\n",
       "      <th>3903</th>\n",
       "      <td>2018.0</td>\n",
       "      <td>18500</td>\n",
       "      <td>Automatic</td>\n",
       "      <td>28248.0</td>\n",
       "      <td>Diesel</td>\n",
       "      <td>2.1</td>\n",
       "      <td>1</td>\n",
       "      <td>0</td>\n",
       "      <td>0</td>\n",
       "      <td>0</td>\n",
       "      <td>1</td>\n",
       "      <td>0</td>\n",
       "      <td>0</td>\n",
       "      <td>0</td>\n",
       "    </tr>\n",
       "    <tr>\n",
       "      <th>3904</th>\n",
       "      <td>2014.0</td>\n",
       "      <td>11900</td>\n",
       "      <td>Manual</td>\n",
       "      <td>48055.0</td>\n",
       "      <td>Diesel</td>\n",
       "      <td>2.1</td>\n",
       "      <td>0</td>\n",
       "      <td>1</td>\n",
       "      <td>0</td>\n",
       "      <td>0</td>\n",
       "      <td>1</td>\n",
       "      <td>0</td>\n",
       "      <td>0</td>\n",
       "      <td>0</td>\n",
       "    </tr>\n",
       "    <tr>\n",
       "      <th>3905</th>\n",
       "      <td>2014.0</td>\n",
       "      <td>11300</td>\n",
       "      <td>Automatic</td>\n",
       "      <td>49865.0</td>\n",
       "      <td>Diesel</td>\n",
       "      <td>2.1</td>\n",
       "      <td>1</td>\n",
       "      <td>0</td>\n",
       "      <td>0</td>\n",
       "      <td>0</td>\n",
       "      <td>1</td>\n",
       "      <td>0</td>\n",
       "      <td>0</td>\n",
       "      <td>0</td>\n",
       "    </tr>\n",
       "    <tr>\n",
       "      <th>3906</th>\n",
       "      <td>2014.0</td>\n",
       "      <td>14800</td>\n",
       "      <td>Automatic</td>\n",
       "      <td>55445.0</td>\n",
       "      <td>Diesel</td>\n",
       "      <td>2.1</td>\n",
       "      <td>1</td>\n",
       "      <td>0</td>\n",
       "      <td>0</td>\n",
       "      <td>0</td>\n",
       "      <td>1</td>\n",
       "      <td>0</td>\n",
       "      <td>0</td>\n",
       "      <td>0</td>\n",
       "    </tr>\n",
       "  </tbody>\n",
       "</table>\n",
       "<p>3894 rows × 14 columns</p>\n",
       "</div>"
      ],
      "text/plain": [
       "        year  price transmission  mileage fuel_type  engine_size  Automatic  \\\n",
       "0     2020.0  30495    Automatic   1200.0    Diesel          2.0          1   \n",
       "1     2020.0  29989    Automatic   1000.0    Petrol          1.5          1   \n",
       "2     2020.0  37899    Automatic    500.0    Diesel          2.0          1   \n",
       "3     2019.0  30399    Automatic   5000.0    Diesel          2.0          1   \n",
       "4     2019.0  29899    Automatic   4500.0    Diesel          2.0          1   \n",
       "...      ...    ...          ...      ...       ...          ...        ...   \n",
       "3902  2017.0  14700       Manual  31357.0    Diesel          1.6          0   \n",
       "3903  2018.0  18500    Automatic  28248.0    Diesel          2.1          1   \n",
       "3904  2014.0  11900       Manual  48055.0    Diesel          2.1          0   \n",
       "3905  2014.0  11300    Automatic  49865.0    Diesel          2.1          1   \n",
       "3906  2014.0  14800    Automatic  55445.0    Diesel          2.1          1   \n",
       "\n",
       "      Manual  OtherTransmission  Semi-Auto  Diesel  Hybrid  OtherFuel  Petrol  \n",
       "0          0                  0          0       1       0          0       0  \n",
       "1          0                  0          0       0       0          0       1  \n",
       "2          0                  0          0       1       0          0       0  \n",
       "3          0                  0          0       1       0          0       0  \n",
       "4          0                  0          0       1       0          0       0  \n",
       "...      ...                ...        ...     ...     ...        ...     ...  \n",
       "3902       1                  0          0       1       0          0       0  \n",
       "3903       0                  0          0       1       0          0       0  \n",
       "3904       1                  0          0       1       0          0       0  \n",
       "3905       0                  0          0       1       0          0       0  \n",
       "3906       0                  0          0       1       0          0       0  \n",
       "\n",
       "[3894 rows x 14 columns]"
      ]
     },
     "execution_count": 72,
     "metadata": {},
     "output_type": "execute_result"
    }
   ],
   "source": [
    "## drop rows which have value in year columns less than 2000, drop the ouliers\n",
    "clean_df5.drop(clean_df5.loc[clean_df5[\"year\"]<2000].index, inplace=True)\n",
    "clean_df5"
   ]
  },
  {
   "cell_type": "code",
   "execution_count": 73,
   "metadata": {},
   "outputs": [
    {
     "data": {
      "text/html": [
       "<div>\n",
       "<style scoped>\n",
       "    .dataframe tbody tr th:only-of-type {\n",
       "        vertical-align: middle;\n",
       "    }\n",
       "\n",
       "    .dataframe tbody tr th {\n",
       "        vertical-align: top;\n",
       "    }\n",
       "\n",
       "    .dataframe thead th {\n",
       "        text-align: right;\n",
       "    }\n",
       "</style>\n",
       "<table border=\"1\" class=\"dataframe\">\n",
       "  <thead>\n",
       "    <tr style=\"text-align: right;\">\n",
       "      <th></th>\n",
       "      <th>year</th>\n",
       "      <th>price</th>\n",
       "      <th>mileage</th>\n",
       "      <th>engine_size</th>\n",
       "      <th>Automatic</th>\n",
       "      <th>Manual</th>\n",
       "      <th>OtherTransmission</th>\n",
       "      <th>Semi-Auto</th>\n",
       "      <th>Diesel</th>\n",
       "      <th>Hybrid</th>\n",
       "      <th>OtherFuel</th>\n",
       "      <th>Petrol</th>\n",
       "    </tr>\n",
       "  </thead>\n",
       "  <tbody>\n",
       "    <tr>\n",
       "      <th>count</th>\n",
       "      <td>3894.000000</td>\n",
       "      <td>3894.000000</td>\n",
       "      <td>3894.000000</td>\n",
       "      <td>3894.000000</td>\n",
       "      <td>3894.000000</td>\n",
       "      <td>3894.000000</td>\n",
       "      <td>3894.000000</td>\n",
       "      <td>3894.000000</td>\n",
       "      <td>3894.000000</td>\n",
       "      <td>3894.000000</td>\n",
       "      <td>3894.000000</td>\n",
       "      <td>3894.000000</td>\n",
       "    </tr>\n",
       "    <tr>\n",
       "      <th>mean</th>\n",
       "      <td>2017.360041</td>\n",
       "      <td>23697.562917</td>\n",
       "      <td>22257.408064</td>\n",
       "      <td>2.036646</td>\n",
       "      <td>0.417052</td>\n",
       "      <td>0.050847</td>\n",
       "      <td>0.000257</td>\n",
       "      <td>0.531844</td>\n",
       "      <td>0.600411</td>\n",
       "      <td>0.038778</td>\n",
       "      <td>0.001541</td>\n",
       "      <td>0.359271</td>\n",
       "    </tr>\n",
       "    <tr>\n",
       "      <th>std</th>\n",
       "      <td>2.112020</td>\n",
       "      <td>8940.736569</td>\n",
       "      <td>22259.808223</td>\n",
       "      <td>0.486198</td>\n",
       "      <td>0.493135</td>\n",
       "      <td>0.219714</td>\n",
       "      <td>0.016025</td>\n",
       "      <td>0.499049</td>\n",
       "      <td>0.489877</td>\n",
       "      <td>0.193089</td>\n",
       "      <td>0.039228</td>\n",
       "      <td>0.479848</td>\n",
       "    </tr>\n",
       "    <tr>\n",
       "      <th>min</th>\n",
       "      <td>2002.000000</td>\n",
       "      <td>1295.000000</td>\n",
       "      <td>1.000000</td>\n",
       "      <td>1.500000</td>\n",
       "      <td>0.000000</td>\n",
       "      <td>0.000000</td>\n",
       "      <td>0.000000</td>\n",
       "      <td>0.000000</td>\n",
       "      <td>0.000000</td>\n",
       "      <td>0.000000</td>\n",
       "      <td>0.000000</td>\n",
       "      <td>0.000000</td>\n",
       "    </tr>\n",
       "    <tr>\n",
       "      <th>25%</th>\n",
       "      <td>2016.000000</td>\n",
       "      <td>17699.000000</td>\n",
       "      <td>6000.000000</td>\n",
       "      <td>2.000000</td>\n",
       "      <td>0.000000</td>\n",
       "      <td>0.000000</td>\n",
       "      <td>0.000000</td>\n",
       "      <td>0.000000</td>\n",
       "      <td>0.000000</td>\n",
       "      <td>0.000000</td>\n",
       "      <td>0.000000</td>\n",
       "      <td>0.000000</td>\n",
       "    </tr>\n",
       "    <tr>\n",
       "      <th>50%</th>\n",
       "      <td>2018.000000</td>\n",
       "      <td>22985.000000</td>\n",
       "      <td>14629.500000</td>\n",
       "      <td>2.000000</td>\n",
       "      <td>0.000000</td>\n",
       "      <td>0.000000</td>\n",
       "      <td>0.000000</td>\n",
       "      <td>1.000000</td>\n",
       "      <td>1.000000</td>\n",
       "      <td>0.000000</td>\n",
       "      <td>0.000000</td>\n",
       "      <td>0.000000</td>\n",
       "    </tr>\n",
       "    <tr>\n",
       "      <th>75%</th>\n",
       "      <td>2019.000000</td>\n",
       "      <td>28900.000000</td>\n",
       "      <td>32390.750000</td>\n",
       "      <td>2.100000</td>\n",
       "      <td>1.000000</td>\n",
       "      <td>0.000000</td>\n",
       "      <td>0.000000</td>\n",
       "      <td>1.000000</td>\n",
       "      <td>1.000000</td>\n",
       "      <td>0.000000</td>\n",
       "      <td>0.000000</td>\n",
       "      <td>1.000000</td>\n",
       "    </tr>\n",
       "    <tr>\n",
       "      <th>max</th>\n",
       "      <td>2020.000000</td>\n",
       "      <td>88995.000000</td>\n",
       "      <td>170000.000000</td>\n",
       "      <td>6.200000</td>\n",
       "      <td>1.000000</td>\n",
       "      <td>1.000000</td>\n",
       "      <td>1.000000</td>\n",
       "      <td>1.000000</td>\n",
       "      <td>1.000000</td>\n",
       "      <td>1.000000</td>\n",
       "      <td>1.000000</td>\n",
       "      <td>1.000000</td>\n",
       "    </tr>\n",
       "  </tbody>\n",
       "</table>\n",
       "</div>"
      ],
      "text/plain": [
       "              year         price        mileage  engine_size    Automatic  \\\n",
       "count  3894.000000   3894.000000    3894.000000  3894.000000  3894.000000   \n",
       "mean   2017.360041  23697.562917   22257.408064     2.036646     0.417052   \n",
       "std       2.112020   8940.736569   22259.808223     0.486198     0.493135   \n",
       "min    2002.000000   1295.000000       1.000000     1.500000     0.000000   \n",
       "25%    2016.000000  17699.000000    6000.000000     2.000000     0.000000   \n",
       "50%    2018.000000  22985.000000   14629.500000     2.000000     0.000000   \n",
       "75%    2019.000000  28900.000000   32390.750000     2.100000     1.000000   \n",
       "max    2020.000000  88995.000000  170000.000000     6.200000     1.000000   \n",
       "\n",
       "            Manual  OtherTransmission    Semi-Auto       Diesel       Hybrid  \\\n",
       "count  3894.000000        3894.000000  3894.000000  3894.000000  3894.000000   \n",
       "mean      0.050847           0.000257     0.531844     0.600411     0.038778   \n",
       "std       0.219714           0.016025     0.499049     0.489877     0.193089   \n",
       "min       0.000000           0.000000     0.000000     0.000000     0.000000   \n",
       "25%       0.000000           0.000000     0.000000     0.000000     0.000000   \n",
       "50%       0.000000           0.000000     1.000000     1.000000     0.000000   \n",
       "75%       0.000000           0.000000     1.000000     1.000000     0.000000   \n",
       "max       1.000000           1.000000     1.000000     1.000000     1.000000   \n",
       "\n",
       "         OtherFuel       Petrol  \n",
       "count  3894.000000  3894.000000  \n",
       "mean      0.001541     0.359271  \n",
       "std       0.039228     0.479848  \n",
       "min       0.000000     0.000000  \n",
       "25%       0.000000     0.000000  \n",
       "50%       0.000000     0.000000  \n",
       "75%       0.000000     1.000000  \n",
       "max       1.000000     1.000000  "
      ]
     },
     "execution_count": 73,
     "metadata": {},
     "output_type": "execute_result"
    }
   ],
   "source": [
    "clean_df5.describe()"
   ]
  },
  {
   "cell_type": "code",
   "execution_count": 85,
   "metadata": {},
   "outputs": [
    {
     "data": {
      "text/plain": [
       "<matplotlib.axes._subplots.AxesSubplot at 0x26cfd0f7c10>"
      ]
     },
     "execution_count": 85,
     "metadata": {},
     "output_type": "execute_result"
    },
    {
     "data": {
      "image/png": "[encoded data removed]",
      "text/plain": [
       "<Figure size 1080x1440 with 5 Axes>"
      ]
     },
     "metadata": {
      "needs_background": "light"
     },
     "output_type": "display_data"
    }
   ],
   "source": [
    "import seaborn as sns\n",
    "%matplotlib inline\n",
    "\n",
    "plt.figure(figsize=[15,20])\n",
    "plt.subplot(421)\n",
    "sns.lineplot(x='mileage',y='price',data=clean_df5)\n",
    "\n",
    "plt.subplot(422)\n",
    "sns.lineplot(x='year',y='price',data=clean_df5)\n",
    "\n",
    "plt.subplot(423)\n",
    "sns.countplot('fuel_type',hue='transmission',data=clean_df5)\n",
    "plt.legend(loc='upper right')\n",
    "\n",
    "plt.subplot(424)\n",
    "sns.barplot(x='fuel_type',y='price',data=clean_df5)\n",
    "\n",
    "plt.subplot(425)\n",
    "sns.boxplot(x='transmission',y='price',data=clean_df5)"
   ]
  },
  {
   "cell_type": "markdown",
   "metadata": {},
   "source": [
    "From the data visualization, we can make some predictions based on those features:\n",
    "1. The higher mileague, the lower price for the car. It's reasonable that car that has been used for longer time, will have more mileague and it's cheaper.\n",
    "2.Car price increasing days by days\n",
    "3.Price depends on tramission type and fuel type\n"
   ]
  },
  {
   "cell_type": "markdown",
   "metadata": {
    "id": "O3ixOaCfvy0k"
   },
   "source": [
    "# 6. Training Models"
   ]
  },
  {
   "cell_type": "markdown",
   "metadata": {
    "id": "UobA1PS1wJea"
   },
   "source": [
    "### Useful Functions"
   ]
  },
  {
   "cell_type": "code",
   "execution_count": 74,
   "metadata": {
    "colab": {
     "base_uri": "https://localhost:8080/",
     "height": 606
    },
    "id": "55lu48225wzo",
    "outputId": "310ee0aa-3181-4992-c95f-69c358b82740"
   },
   "outputs": [],
   "source": [
    "def plot_pred_act(y_pred, y_test):\n",
    "    # plot the prediction vs actual(y test or ground truth)\n",
    "    plt.scatter(y_pred, y_test, alpha=.7, color='b')\n",
    "    plt.plot(y_test, y_test, color='r')\n",
    "    plt.xlabel('Predicted Price')\n",
    "    plt.ylabel('Actual Price')\n",
    "    plt.title('Linear Regression Model')\n",
    "    plt.rcParams['figure.figsize'] = [15, 10]\n",
    "    plt.show()"
   ]
  },
  {
   "cell_type": "markdown",
   "metadata": {
    "id": "jRLuI7LYymMM"
   },
   "source": [
    "Loading Cleaned CSV"
   ]
  },
  {
   "cell_type": "code",
   "execution_count": 75,
   "metadata": {
    "id": "Gxtglh4MXJke"
   },
   "outputs": [
    {
     "data": {
      "text/html": [
       "<div>\n",
       "<style scoped>\n",
       "    .dataframe tbody tr th:only-of-type {\n",
       "        vertical-align: middle;\n",
       "    }\n",
       "\n",
       "    .dataframe tbody tr th {\n",
       "        vertical-align: top;\n",
       "    }\n",
       "\n",
       "    .dataframe thead th {\n",
       "        text-align: right;\n",
       "    }\n",
       "</style>\n",
       "<table border=\"1\" class=\"dataframe\">\n",
       "  <thead>\n",
       "    <tr style=\"text-align: right;\">\n",
       "      <th></th>\n",
       "      <th>year</th>\n",
       "      <th>price</th>\n",
       "      <th>transmission</th>\n",
       "      <th>mileage</th>\n",
       "      <th>fuel_type</th>\n",
       "      <th>engine_size</th>\n",
       "      <th>Automatic</th>\n",
       "      <th>Manual</th>\n",
       "      <th>OtherTransmission</th>\n",
       "      <th>Semi-Auto</th>\n",
       "      <th>Diesel</th>\n",
       "      <th>Hybrid</th>\n",
       "      <th>OtherFuel</th>\n",
       "      <th>Petrol</th>\n",
       "    </tr>\n",
       "  </thead>\n",
       "  <tbody>\n",
       "    <tr>\n",
       "      <th>0</th>\n",
       "      <td>2020.0</td>\n",
       "      <td>30495</td>\n",
       "      <td>Automatic</td>\n",
       "      <td>1200.0</td>\n",
       "      <td>Diesel</td>\n",
       "      <td>2.0</td>\n",
       "      <td>1</td>\n",
       "      <td>0</td>\n",
       "      <td>0</td>\n",
       "      <td>0</td>\n",
       "      <td>1</td>\n",
       "      <td>0</td>\n",
       "      <td>0</td>\n",
       "      <td>0</td>\n",
       "    </tr>\n",
       "    <tr>\n",
       "      <th>1</th>\n",
       "      <td>2020.0</td>\n",
       "      <td>29989</td>\n",
       "      <td>Automatic</td>\n",
       "      <td>1000.0</td>\n",
       "      <td>Petrol</td>\n",
       "      <td>1.5</td>\n",
       "      <td>1</td>\n",
       "      <td>0</td>\n",
       "      <td>0</td>\n",
       "      <td>0</td>\n",
       "      <td>0</td>\n",
       "      <td>0</td>\n",
       "      <td>0</td>\n",
       "      <td>1</td>\n",
       "    </tr>\n",
       "    <tr>\n",
       "      <th>2</th>\n",
       "      <td>2020.0</td>\n",
       "      <td>37899</td>\n",
       "      <td>Automatic</td>\n",
       "      <td>500.0</td>\n",
       "      <td>Diesel</td>\n",
       "      <td>2.0</td>\n",
       "      <td>1</td>\n",
       "      <td>0</td>\n",
       "      <td>0</td>\n",
       "      <td>0</td>\n",
       "      <td>1</td>\n",
       "      <td>0</td>\n",
       "      <td>0</td>\n",
       "      <td>0</td>\n",
       "    </tr>\n",
       "    <tr>\n",
       "      <th>3</th>\n",
       "      <td>2019.0</td>\n",
       "      <td>30399</td>\n",
       "      <td>Automatic</td>\n",
       "      <td>5000.0</td>\n",
       "      <td>Diesel</td>\n",
       "      <td>2.0</td>\n",
       "      <td>1</td>\n",
       "      <td>0</td>\n",
       "      <td>0</td>\n",
       "      <td>0</td>\n",
       "      <td>1</td>\n",
       "      <td>0</td>\n",
       "      <td>0</td>\n",
       "      <td>0</td>\n",
       "    </tr>\n",
       "    <tr>\n",
       "      <th>4</th>\n",
       "      <td>2019.0</td>\n",
       "      <td>29899</td>\n",
       "      <td>Automatic</td>\n",
       "      <td>4500.0</td>\n",
       "      <td>Diesel</td>\n",
       "      <td>2.0</td>\n",
       "      <td>1</td>\n",
       "      <td>0</td>\n",
       "      <td>0</td>\n",
       "      <td>0</td>\n",
       "      <td>1</td>\n",
       "      <td>0</td>\n",
       "      <td>0</td>\n",
       "      <td>0</td>\n",
       "    </tr>\n",
       "    <tr>\n",
       "      <th>...</th>\n",
       "      <td>...</td>\n",
       "      <td>...</td>\n",
       "      <td>...</td>\n",
       "      <td>...</td>\n",
       "      <td>...</td>\n",
       "      <td>...</td>\n",
       "      <td>...</td>\n",
       "      <td>...</td>\n",
       "      <td>...</td>\n",
       "      <td>...</td>\n",
       "      <td>...</td>\n",
       "      <td>...</td>\n",
       "      <td>...</td>\n",
       "      <td>...</td>\n",
       "    </tr>\n",
       "    <tr>\n",
       "      <th>3893</th>\n",
       "      <td>2017.0</td>\n",
       "      <td>14700</td>\n",
       "      <td>Manual</td>\n",
       "      <td>31357.0</td>\n",
       "      <td>Diesel</td>\n",
       "      <td>1.6</td>\n",
       "      <td>0</td>\n",
       "      <td>1</td>\n",
       "      <td>0</td>\n",
       "      <td>0</td>\n",
       "      <td>1</td>\n",
       "      <td>0</td>\n",
       "      <td>0</td>\n",
       "      <td>0</td>\n",
       "    </tr>\n",
       "    <tr>\n",
       "      <th>3894</th>\n",
       "      <td>2018.0</td>\n",
       "      <td>18500</td>\n",
       "      <td>Automatic</td>\n",
       "      <td>28248.0</td>\n",
       "      <td>Diesel</td>\n",
       "      <td>2.1</td>\n",
       "      <td>1</td>\n",
       "      <td>0</td>\n",
       "      <td>0</td>\n",
       "      <td>0</td>\n",
       "      <td>1</td>\n",
       "      <td>0</td>\n",
       "      <td>0</td>\n",
       "      <td>0</td>\n",
       "    </tr>\n",
       "    <tr>\n",
       "      <th>3895</th>\n",
       "      <td>2014.0</td>\n",
       "      <td>11900</td>\n",
       "      <td>Manual</td>\n",
       "      <td>48055.0</td>\n",
       "      <td>Diesel</td>\n",
       "      <td>2.1</td>\n",
       "      <td>0</td>\n",
       "      <td>1</td>\n",
       "      <td>0</td>\n",
       "      <td>0</td>\n",
       "      <td>1</td>\n",
       "      <td>0</td>\n",
       "      <td>0</td>\n",
       "      <td>0</td>\n",
       "    </tr>\n",
       "    <tr>\n",
       "      <th>3896</th>\n",
       "      <td>2014.0</td>\n",
       "      <td>11300</td>\n",
       "      <td>Automatic</td>\n",
       "      <td>49865.0</td>\n",
       "      <td>Diesel</td>\n",
       "      <td>2.1</td>\n",
       "      <td>1</td>\n",
       "      <td>0</td>\n",
       "      <td>0</td>\n",
       "      <td>0</td>\n",
       "      <td>1</td>\n",
       "      <td>0</td>\n",
       "      <td>0</td>\n",
       "      <td>0</td>\n",
       "    </tr>\n",
       "    <tr>\n",
       "      <th>3897</th>\n",
       "      <td>2014.0</td>\n",
       "      <td>14800</td>\n",
       "      <td>Automatic</td>\n",
       "      <td>55445.0</td>\n",
       "      <td>Diesel</td>\n",
       "      <td>2.1</td>\n",
       "      <td>1</td>\n",
       "      <td>0</td>\n",
       "      <td>0</td>\n",
       "      <td>0</td>\n",
       "      <td>1</td>\n",
       "      <td>0</td>\n",
       "      <td>0</td>\n",
       "      <td>0</td>\n",
       "    </tr>\n",
       "  </tbody>\n",
       "</table>\n",
       "<p>3898 rows × 14 columns</p>\n",
       "</div>"
      ],
      "text/plain": [
       "        year  price transmission  mileage fuel_type  engine_size  Automatic  \\\n",
       "0     2020.0  30495    Automatic   1200.0    Diesel          2.0          1   \n",
       "1     2020.0  29989    Automatic   1000.0    Petrol          1.5          1   \n",
       "2     2020.0  37899    Automatic    500.0    Diesel          2.0          1   \n",
       "3     2019.0  30399    Automatic   5000.0    Diesel          2.0          1   \n",
       "4     2019.0  29899    Automatic   4500.0    Diesel          2.0          1   \n",
       "...      ...    ...          ...      ...       ...          ...        ...   \n",
       "3893  2017.0  14700       Manual  31357.0    Diesel          1.6          0   \n",
       "3894  2018.0  18500    Automatic  28248.0    Diesel          2.1          1   \n",
       "3895  2014.0  11900       Manual  48055.0    Diesel          2.1          0   \n",
       "3896  2014.0  11300    Automatic  49865.0    Diesel          2.1          1   \n",
       "3897  2014.0  14800    Automatic  55445.0    Diesel          2.1          1   \n",
       "\n",
       "      Manual  OtherTransmission  Semi-Auto  Diesel  Hybrid  OtherFuel  Petrol  \n",
       "0          0                  0          0       1       0          0       0  \n",
       "1          0                  0          0       0       0          0       1  \n",
       "2          0                  0          0       1       0          0       0  \n",
       "3          0                  0          0       1       0          0       0  \n",
       "4          0                  0          0       1       0          0       0  \n",
       "...      ...                ...        ...     ...     ...        ...     ...  \n",
       "3893       1                  0          0       1       0          0       0  \n",
       "3894       0                  0          0       1       0          0       0  \n",
       "3895       1                  0          0       1       0          0       0  \n",
       "3896       0                  0          0       1       0          0       0  \n",
       "3897       0                  0          0       1       0          0       0  \n",
       "\n",
       "[3898 rows x 14 columns]"
      ]
     },
     "execution_count": 75,
     "metadata": {},
     "output_type": "execute_result"
    }
   ],
   "source": [
    "#PATH = '/content/CSIS3290/cleaned_data.csv'\n",
    "#PATH = '/content/drive/MyDrive/CSIS3290/cleaned_data.csv'\n",
    "#PATH = 'cleaned_data.csv'\n",
    "PATH = 'cleaned_data_Group2.csv'\n",
    "SEED=42\n",
    "df = pd.read_csv(PATH); df"
   ]
  },
  {
   "cell_type": "markdown",
   "metadata": {
    "id": "BJYGDOSx0XsQ"
   },
   "source": [
    "Selecting useful columns to be used as input: **indep_var** and to be predicted: **dep_var**\n"
   ]
  },
  {
   "cell_type": "code",
   "execution_count": 76,
   "metadata": {
    "id": "5v_GI3Y5BH-t"
   },
   "outputs": [],
   "source": [
    "indep_var = ['year', 'mileage', 'engine_size', 'Automatic', 'Manual', 'OtherTransmission', # independent vars\n",
    "        'Semi-Auto', 'Diesel', 'Hybrid', 'OtherFuel', 'Petrol']\n",
    "dep_var = 'price' # dependent var"
   ]
  },
  {
   "cell_type": "markdown",
   "metadata": {
    "id": "p26HUA4Q5vg6"
   },
   "source": [
    "Split Train and Test sets chosen randomly, 20% full dataset for Test and 80% for Train\n",
    "\n",
    "Splitting both **Train** and **Test** sets into **X** dependent and **y** the independent variables dataframes for each"
   ]
  },
  {
   "cell_type": "code",
   "execution_count": 77,
   "metadata": {
    "colab": {
     "base_uri": "https://localhost:8080/"
    },
    "id": "rO0Dz7UGxAFf",
    "outputId": "ab48f0dd-3d88-450b-d923-7aee677c68df"
   },
   "outputs": [],
   "source": [
    "X_train, X_test, y_train, y_test = train_test_split(df[indep_var], df[dep_var], test_size=0.2, random_state = 42)"
   ]
  },
  {
   "cell_type": "markdown",
   "metadata": {
    "colab": {
     "base_uri": "https://localhost:8080/"
    },
    "id": "oSvdFLqux3nu",
    "outputId": "8c3af173-0c02-469e-f27d-6da356c64ed5",
    "pycharm": {
     "name": "#%% md\n"
    }
   },
   "source": [
    "## 6.1 A Simple Linear Regression Model"
   ]
  },
  {
   "cell_type": "code",
   "execution_count": 83,
   "metadata": {
    "colab": {
     "base_uri": "https://localhost:8080/"
    },
    "id": "irTCtHvHyDyU",
    "outputId": "be8d8841-f0b5-4232-e518-67d84c0a7d11"
   },
   "outputs": [
    {
     "ename": "NameError",
     "evalue": "name 'LinearRegression' is not defined",
     "output_type": "error",
     "traceback": [
      "\u001b[1;31m---------------------------------------------------------------------------\u001b[0m",
      "\u001b[1;31mNameError\u001b[0m                                 Traceback (most recent call last)",
      "\u001b[1;32m<ipython-input-83-d9d837bc9ebd>\u001b[0m in \u001b[0;36m<module>\u001b[1;34m\u001b[0m\n\u001b[0;32m      1\u001b[0m \u001b[1;31m# Creating linear regression object\u001b[0m\u001b[1;33m\u001b[0m\u001b[1;33m\u001b[0m\u001b[1;33m\u001b[0m\u001b[0m\n\u001b[1;32m----> 2\u001b[1;33m \u001b[0mregr\u001b[0m \u001b[1;33m=\u001b[0m \u001b[0mLinearRegression\u001b[0m\u001b[1;33m(\u001b[0m\u001b[1;33m)\u001b[0m\u001b[1;33m\u001b[0m\u001b[1;33m\u001b[0m\u001b[0m\n\u001b[0m\u001b[0;32m      3\u001b[0m \u001b[0mprint\u001b[0m\u001b[1;33m(\u001b[0m\u001b[1;34m\"Linear Regression Model object Created\"\u001b[0m\u001b[1;33m)\u001b[0m\u001b[1;33m\u001b[0m\u001b[1;33m\u001b[0m\u001b[0m\n",
      "\u001b[1;31mNameError\u001b[0m: name 'LinearRegression' is not defined"
     ]
    }
   ],
   "source": [
    "# Creating linear regression object\n",
    "regr = LinearRegression()\n",
    "print(\"Linear Regression Model object Created\")"
   ]
  },
  {
   "cell_type": "code",
   "execution_count": null,
   "metadata": {
    "colab": {
     "base_uri": "https://localhost:8080/"
    },
    "id": "wVXJNGVxH32o",
    "outputId": "2f89b427-0efb-4d8d-f4b6-07acbf9fb644"
   },
   "outputs": [],
   "source": [
    "# Training the Model\n",
    "regr.fit(X_train, y_train)\n",
    "print(\"Linear Regression Model Trained\")"
   ]
  },
  {
   "cell_type": "code",
   "execution_count": null,
   "metadata": {
    "colab": {
     "base_uri": "https://localhost:8080/"
    },
    "id": "yeK27up58LHT",
    "outputId": "1e6ee483-91c5-456c-99ee-163dcc789db5"
   },
   "outputs": [],
   "source": [
    "# getting the predictions on Test set\n",
    "y_pred = regr.predict(X_test)\n",
    "print(\"Predictions in Testset Calculated\")"
   ]
  },
  {
   "cell_type": "code",
   "execution_count": null,
   "metadata": {
    "id": "dhxg5IWuHaLt",
    "pycharm": {
     "name": "#%%\n"
    }
   },
   "outputs": [],
   "source": [
    "# Checking the Roots Mean Squared Error\n",
    "mse = mean_squared_error(y_test, y_pred)\n",
    "print(f\"RMSE is {mse**0.5}\")"
   ]
  },
  {
   "cell_type": "code",
   "execution_count": null,
   "metadata": {
    "colab": {
     "base_uri": "https://localhost:8080/",
     "height": 318
    },
    "id": "PTngFtBO8sen",
    "outputId": "7b8a414f-1528-465e-e805-8673a56340eb"
   },
   "outputs": [],
   "source": [
    "# Checking the Score\n",
    "r2 = regr.score(X_train, y_train)\n",
    "print(f\"R2 Train Score is {r2:.2f}\\n\")\n",
    "r2 = regr.score(X_test, y_test)\n",
    "print(f\"R2 Test Score is {r2}\\n\")"
   ]
  },
  {
   "cell_type": "markdown",
   "metadata": {
    "id": "s-6D0svpIyEy"
   },
   "source": [
    "Considering that the R2 score is a metric that goes from 0 ( Bad ) to 1 (Best).\n",
    "A score of 0.77 means that the model is ok, but A Linear model is the simplest model for prediction, let's try a better one."
   ]
  },
  {
   "cell_type": "markdown",
   "metadata": {
    "id": "4SydPjkwMgSU",
    "pycharm": {
     "name": "#%% md\n"
    }
   },
   "source": [
    "Plotting the predictions vs actual prices"
   ]
  },
  {
   "cell_type": "code",
   "execution_count": null,
   "metadata": {
    "colab": {
     "base_uri": "https://localhost:8080/",
     "height": 704
    },
    "id": "i6dSIw244BZ2",
    "outputId": "8fed940d-c950-43ef-c688-868c2203cdd3"
   },
   "outputs": [],
   "source": [
    "plot_pred_act(y_pred, y_test)"
   ]
  },
  {
   "cell_type": "markdown",
   "metadata": {
    "id": "pFA89H1a50hV"
   },
   "source": [
    "Looking at the Plot we can see that somes minor cases get a negative predictions what is not realistic and the values are a little bit to the right,most are near the red line that would be the goal, a really linear model."
   ]
  },
  {
   "cell_type": "code",
   "execution_count": null,
   "metadata": {
    "id": "u9hCPM5mN43y"
   },
   "outputs": [],
   "source": [
    " # Try using positive"
   ]
  },
  {
   "cell_type": "code",
   "execution_count": null,
   "metadata": {
    "id": "hQJJlLHROdxH",
    "pycharm": {
     "name": "#%%\n"
    }
   },
   "outputs": [],
   "source": [
    "# The coefficients\n",
    "print('Coefficients: \\n', regr.coef_)\n",
    "# The mean squared error\n",
    "print('Mean squared error: %.2f'\n",
    "      % mean_squared_error(y_test, y_pred))\n",
    "# The coefficient of determination: 1 is perfect prediction\n",
    "print('Coefficient of determination: %.2f'\n",
    "      % r2_score(y_test, y_pred))\n",
    "\n",
    "# Plot outputs\n",
    "t = np.arange(0, len(y_test), 1)\n",
    "\n",
    "# red dashes, blue squares and green triangles\n",
    "plt.rcParams['figure.figsize'] = [15, 10]\n",
    "plt.plot(t, y_test, 'bo')\n",
    "plt.plot(t, y_pred, 'go')\n",
    "m, b = np.polyfit(t, y_pred, 1)\n",
    "\n",
    "plt.plot(t, m*t + b)\n",
    "plt.show()\n"
   ]
  },
  {
   "cell_type": "markdown",
   "metadata": {
    "id": "PTo458PJOqxR",
    "pycharm": {
     "name": "#%% md\n"
    }
   },
   "source": [
    "## 6.2 Linear Regression Model with Lasso/Ridge"
   ]
  },
  {
   "cell_type": "code",
   "execution_count": null,
   "metadata": {
    "id": "CpylNXqLM7v2"
   },
   "outputs": [],
   "source": [
    "clf = Lasso(alpha=0.1, random_state=SEED)"
   ]
  },
  {
   "cell_type": "markdown",
   "metadata": {
    "id": "H5KoySpWO1NZ",
    "pycharm": {
     "name": "#%% md\n"
    }
   },
   "source": [
    "Need to do the one hot encoding about the cat vars"
   ]
  },
  {
   "cell_type": "code",
   "execution_count": null,
   "metadata": {
    "id": "MEKFdVIk51ko"
   },
   "outputs": [],
   "source": [
    "clf.fit(X_train, y_train)"
   ]
  },
  {
   "cell_type": "code",
   "execution_count": null,
   "metadata": {
    "id": "n-gUxnqdNH-X"
   },
   "outputs": [],
   "source": [
    "clf.coef_"
   ]
  },
  {
   "cell_type": "code",
   "execution_count": null,
   "metadata": {
    "colab": {
     "base_uri": "https://localhost:8080/",
     "height": 644
    },
    "id": "ik3ELHMSNfK5",
    "outputId": "af73935d-2285-4976-8746-d01be38f9f7e"
   },
   "outputs": [],
   "source": [
    "clf.intercept_"
   ]
  },
  {
   "cell_type": "code",
   "execution_count": null,
   "metadata": {
    "colab": {
     "base_uri": "https://localhost:8080/"
    },
    "id": "qiu1HLuqNpsh",
    "outputId": "4e5b0a99-3ef3-406f-c8a0-cb2d814f37de"
   },
   "outputs": [],
   "source": [
    "# getting the predictions on Test set\n",
    "y_pred = clf.predict(X_test)\n",
    "print(\"Predictions in Testset Calculated\")"
   ]
  },
  {
   "cell_type": "code",
   "execution_count": null,
   "metadata": {
    "id": "Q8UtsIJN52tf",
    "pycharm": {
     "name": "#%%\n"
    }
   },
   "outputs": [],
   "source": [
    "# Checking the Score\n",
    "r2 = clf.score(X_train, y_train)\n",
    "print(f\"R2 Train Score is {r2:.2f}\\n\")\n",
    "r2 = clf.score(X_test, y_test)\n",
    "print(f\"R2 Test Score is {r2}\\n\")"
   ]
  },
  {
   "cell_type": "code",
   "execution_count": null,
   "metadata": {
    "id": "yu534T_d53pX"
   },
   "outputs": [],
   "source": [
    "# plot the prediction vs actual\n",
    "actual_values = y_test\n",
    "plt.scatter(y_pred, actual_values, alpha=.7, color='b')\n",
    "plt.plot(actual_values, actual_values, color='r')\n",
    "plt.xlabel('Predicted Price')\n",
    "plt.ylabel('Actual Price')\n",
    "plt.title('Linear Regression Model')\n",
    "plt.rcParams['figure.figsize'] = [15, 10]\n",
    "plt.show()"
   ]
  },
  {
   "cell_type": "code",
   "execution_count": null,
   "metadata": {
    "colab": {
     "base_uri": "https://localhost:8080/"
    },
    "id": "wnUUX07uwGxQ",
    "outputId": "dc1e245b-381f-4efe-fc12-1dd6840dc16f"
   },
   "outputs": [],
   "source": [
    "# Checking the Roots Mean Squared Error\n",
    "mse = mean_squared_error(y_test, y_pred)\n",
    "print(f\"RMSE is {mse**0.5}\")"
   ]
  },
  {
   "cell_type": "markdown",
   "metadata": {
    "id": "yV7yfUrVOcUu",
    "pycharm": {
     "name": "#%% md\n"
    }
   },
   "source": [
    " Now let's run Lasso trying more parameters for alpha and check the results"
   ]
  },
  {
   "cell_type": "code",
   "execution_count": null,
   "metadata": {
    "pycharm": {
     "name": "#%%\n"
    }
   },
   "outputs": [],
   "source": [
    "# Define function to run multiple times the linear regression with lasso\n",
    "def linear_regression_lasso(alpha):\n",
    "    clf.fit(X_train, y_train)\n",
    "    y_pred = clf.predict(X_test)\n",
    "    r2 = clf.score(X_test, y_test)\n",
    "    print(f\"R2 Test Score is {r2}\\n\")\n",
    "    se = mean_squared_error(y_test, y_pred)\n",
    "    print(f\"RMSE is {mse**0.5}\")"
   ]
  },
  {
   "cell_type": "code",
   "execution_count": null,
   "metadata": {
    "pycharm": {
     "name": "#%%\n"
    }
   },
   "outputs": [],
   "source": [
    "alphas = np.linspace(0, 2, 21)\n",
    "alphas"
   ]
  },
  {
   "cell_type": "markdown",
   "metadata": {},
   "source": [
    "## 6.3 Polynomial Regression Model (with Lasso/Ridge)"
   ]
  },
  {
   "cell_type": "markdown",
   "metadata": {},
   "source": [
    "Defining method to Create the Polynomial regression model calculate the RMSE, r2 score, plot the graph actual prices x predictions"
   ]
  },
  {
   "cell_type": "code",
   "execution_count": null,
   "metadata": {
    "pycharm": {
     "name": "#%%\n"
    }
   },
   "outputs": [],
   "source": [
    "def create_polynomial_regression_model(degree, X_train, Y_train, X_test, Y_test):\n",
    "    \"Creates a polynomial regression model for the given degree and X_train,Y_train, X_test, Y_test\"\n",
    "\n",
    "    poly_features = PolynomialFeatures(degree=degree)\n",
    "\n",
    "    # transforms the existing features to higher degree features.\n",
    "    X_train_poly = poly_features.fit_transform(X_train)\n",
    "\n",
    "    # fit the transformed features to Linear Regression\n",
    "    poly_model = LinearRegression()\n",
    "    poly_model.fit(X_train_poly, Y_train)\n",
    "\n",
    "    # predicting on training data-set\n",
    "    y_train_predicted = poly_model.predict(X_train_poly)\n",
    "\n",
    "    # predicting on test data-set\n",
    "    y_test_predict = poly_model.predict(poly_features.fit_transform(X_test))\n",
    "\n",
    "    # evaluating the model on training dataset\n",
    "    rmse_train = np.sqrt(mean_squared_error(Y_train, y_train_predicted))\n",
    "    r2_train = r2_score(Y_train, y_train_predicted)\n",
    "\n",
    "    # evaluating the model on test dataset\n",
    "    rmse_test = np.sqrt(mean_squared_error(Y_test, y_test_predict))\n",
    "    r2_test = r2_score(Y_test, y_test_predict)\n",
    "\n",
    "    print(\"The model performance for the training set\")\n",
    "    print(\"-------------------------------------------\")\n",
    "    print(f\"RMSE of training set is {rmse_train:.3f}\")\n",
    "    print(f\"R2 score of training set is {r2_train:.3f}\")\n",
    "\n",
    "    print(\"\\n\")\n",
    "\n",
    "    print(\"The model performance for the test set\")\n",
    "    print(\"-------------------------------------------\")\n",
    "    print(f\"RMSE of test set is {rmse_test:.3f}\")\n",
    "    print(f\"R2 score of test set is {r2_test:.3f}\")\n",
    "\n",
    "    print(\"The model plot for test set for predictions x actual prices\")\n",
    "    print(\"-------------------------------------------\")\n",
    "    plot_pred_act(y_test_predict, Y_test)"
   ]
  },
  {
   "cell_type": "markdown",
   "metadata": {},
   "source": [
    "#### let's try different deegrees examples and compare the results."
   ]
  },
  {
   "cell_type": "markdown",
   "metadata": {},
   "source": [
    "Degree = 2"
   ]
  },
  {
   "cell_type": "code",
   "execution_count": null,
   "metadata": {
    "pycharm": {
     "name": "#%%\n"
    }
   },
   "outputs": [],
   "source": [
    "create_polynomial_regression_model(2, X_train, y_train, X_test, y_test)"
   ]
  },
  {
   "cell_type": "markdown",
   "metadata": {},
   "source": [
    "Using polynomial of degree 2 gives a better result than previous linear models,\n",
    "RMSE of 3233 and\n",
    "R2 Score of 0.881 in Test Set\n",
    "let's keep increasing the deegree ans see what happens..."
   ]
  },
  {
   "cell_type": "markdown",
   "metadata": {},
   "source": [
    "Degree = 3"
   ]
  },
  {
   "cell_type": "code",
   "execution_count": null,
   "metadata": {
    "pycharm": {
     "name": "#%%\n"
    }
   },
   "outputs": [],
   "source": [
    "create_polynomial_regression_model(3, X_train, y_train, X_test, y_test)"
   ]
  },
  {
   "cell_type": "markdown",
   "metadata": {},
   "source": [
    "We can see that using a Degree of 3 gives a much better result that the previous polynomial deegree = 2 model.\n",
    "What happens if we keep increading the deegree of polynom?"
   ]
  },
  {
   "cell_type": "markdown",
   "metadata": {},
   "source": [
    "Let's see Degree = 4"
   ]
  },
  {
   "cell_type": "code",
   "execution_count": null,
   "metadata": {
    "pycharm": {
     "name": "#%%\n"
    }
   },
   "outputs": [],
   "source": [
    "create_polynomial_regression_model(4, X_train, y_train, X_test, y_test)"
   ]
  },
  {
   "cell_type": "markdown",
   "metadata": {},
   "source": [
    "Using a polynom deegre = 4 we reach a different situation, the RMSE on training was improved compared to the degree=3 model, but the RMSE on test set decreased comparing to the deegree=3 model which tell us that this model is overffiting and if we keep increasing the deegre, it will improve perfoemance on training set but decrease on test set!"
   ]
  },
  {
   "cell_type": "markdown",
   "metadata": {},
   "source": [
    "The conslusion using the polynomial is that the degree =3 fit better than other models\n",
    "\n"
   ]
  }
 ],
 "metadata": {
  "colab": {
   "collapsed_sections": [],
   "name": "CSIS3290_MiniProject1.ipynb",
   "provenance": [],
   "toc_visible": true
  },
  "kernelspec": {
   "display_name": "Python 3",
   "language": "python",
   "name": "python3"
  },
  "language_info": {
   "codemirror_mode": {
    "name": "ipython",
    "version": 3
   },
   "file_extension": ".py",
   "mimetype": "text/x-python",
   "name": "python",
   "nbconvert_exporter": "python",
   "pygments_lexer": "ipython3",
   "version": "3.8.3"
  }
 },
 "nbformat": 4,
 "nbformat_minor": 4
}
