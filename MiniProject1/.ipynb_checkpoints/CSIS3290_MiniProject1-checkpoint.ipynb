{
 "cells": [
  {
   "cell_type": "markdown",
   "metadata": {
    "id": "Ca2frybn4hU7"
   },
   "source": [
    "# 1. Title, Name and References"
   ]
  },
  {
   "cell_type": "markdown",
   "metadata": {},
   "source": [
    "## Factors of influence in the Price of Used Cars in The Uk"
   ]
  },
  {
   "cell_type": "markdown",
   "metadata": {},
   "source": [
    "#### Introduction\n",
    "\n",
    "This project’s goal is to analyse what are the independent variables that can cause an impact over the price (outcome variable) of resale used car through different regression models and exercises. The dataset used for the study was obtained from the UK’s craigslist website, containing an initial shape of 4006 values rows, and 11 variables columns including the car model, year, price, transmission type, two columns for mileage travelled, two columns for fuel type, two columns for engine size, and the advertisement reference number. \n",
    "The methodology consisted of data cleansing and preparation, exploratory data analysis, construction of hypothesis and features observation, a simple linear regression model, linear regression model with Lasso/Ridge, and a polynomial regression exercise with Lasso/Ridge."
   ]
  },
  {
   "cell_type": "markdown",
   "metadata": {
    "id": "Z2G3-8zt5N5t"
   },
   "source": [
    "#### Team member\n",
    "1. Ngoc Chau Tran - 300307368\n",
    "2. Leozítor Floro de Souza - 300334919\n",
    "3. Carolina Henrique de Melo Louback - 300306289"
   ]
  },
  {
   "cell_type": "markdown",
   "metadata": {
    "id": "OPQlTA9V5a4A"
   },
   "source": [
    "#### Reference\n",
    "* [Predicting Boston House Prices](https://towardsdatascience.com/machine-learning-project-predicting-boston-house-prices-with-regression-b4e47493633d)\n",
    "* Class Notes"
   ]
  },
  {
   "cell_type": "markdown",
   "metadata": {
    "id": "fxM-jJdW4s3Z"
   },
   "source": [
    "# 2. Library import and data loading"
   ]
  },
  {
   "cell_type": "code",
   "execution_count": 1,
   "metadata": {
    "colab": {
     "base_uri": "https://localhost:8080/"
    },
    "id": "lvT6LLFdojvY",
    "outputId": "158a9cfc-f599-4f06-e980-9d1654c3041f"
   },
   "outputs": [],
   "source": [
    "# all imports required for the project\n",
    "#!pip install --upgrade scikit-learn pandas numpy\n",
    "import pandas as pd\n",
    "import numpy as np\n",
    "import matplotlib.pyplot as plt\n",
    "\n",
    "from sklearn import datasets, linear_model\n",
    "from sklearn.linear_model import LinearRegression, Ridge, Lasso\n",
    "from sklearn.preprocessing import PolynomialFeatures\n",
    "from sklearn.model_selection import train_test_split\n",
    "from sklearn.metrics import mean_squared_error, r2_score\n",
    "\n",
    "import seaborn as sns\n",
    "%matplotlib inline"
   ]
  },
  {
   "cell_type": "markdown",
   "metadata": {},
   "source": [
    "#### Brief Explanation of data preparation\n",
    "\n",
    "In order to clean the data, the first action was to drop the rolls with missing values as well as the columns that were not going to be used in the analysis. Secondly, the columns “price” and  “mileage” had special characters removed to enable converting their data types from string to numerical along with the numerical conversion for columns “engine_size” and \"year\". The duplicated columns for mileage, engine type, and fuel type were merged into one of each by filling the null values of the most complete column with the values from the least complete. Finaly, the categorical variables were processed by obtaining their dummy variables. The final clean data resulted with a shape of 14 variables with 3898 data points each. "
   ]
  },
  {
   "cell_type": "code",
   "execution_count": 2,
   "metadata": {
    "colab": {
     "base_uri": "https://localhost:8080/",
     "height": 606
    },
    "id": "0zUnEf3c2z1W",
    "outputId": "20c67c78-638f-48a0-99dd-45483a793d09"
   },
   "outputs": [
    {
     "data": {
      "text/html": [
       "<div>\n",
       "<style scoped>\n",
       "    .dataframe tbody tr th:only-of-type {\n",
       "        vertical-align: middle;\n",
       "    }\n",
       "\n",
       "    .dataframe tbody tr th {\n",
       "        vertical-align: top;\n",
       "    }\n",
       "\n",
       "    .dataframe thead th {\n",
       "        text-align: right;\n",
       "    }\n",
       "</style>\n",
       "<table border=\"1\" class=\"dataframe\">\n",
       "  <thead>\n",
       "    <tr style=\"text-align: right;\">\n",
       "      <th></th>\n",
       "      <th>model</th>\n",
       "      <th>year</th>\n",
       "      <th>price</th>\n",
       "      <th>transmission</th>\n",
       "      <th>mileage</th>\n",
       "      <th>fuel type</th>\n",
       "      <th>engine size</th>\n",
       "      <th>mileage2</th>\n",
       "      <th>fuel type2</th>\n",
       "      <th>engine size2</th>\n",
       "      <th>reference</th>\n",
       "    </tr>\n",
       "  </thead>\n",
       "  <tbody>\n",
       "    <tr>\n",
       "      <th>0</th>\n",
       "      <td>C Class</td>\n",
       "      <td>2020.0</td>\n",
       "      <td>£30,495</td>\n",
       "      <td>Automatic</td>\n",
       "      <td>NaN</td>\n",
       "      <td>Diesel</td>\n",
       "      <td>2</td>\n",
       "      <td>1,200</td>\n",
       "      <td>NaN</td>\n",
       "      <td>NaN</td>\n",
       "      <td>/ad/25017331</td>\n",
       "    </tr>\n",
       "    <tr>\n",
       "      <th>1</th>\n",
       "      <td>C Class</td>\n",
       "      <td>2020.0</td>\n",
       "      <td>£29,989</td>\n",
       "      <td>Automatic</td>\n",
       "      <td>NaN</td>\n",
       "      <td>Petrol</td>\n",
       "      <td>1.5</td>\n",
       "      <td>1,000</td>\n",
       "      <td>NaN</td>\n",
       "      <td>NaN</td>\n",
       "      <td>/ad/25043746</td>\n",
       "    </tr>\n",
       "    <tr>\n",
       "      <th>2</th>\n",
       "      <td>C Class</td>\n",
       "      <td>2020.0</td>\n",
       "      <td>£37,899</td>\n",
       "      <td>Automatic</td>\n",
       "      <td>NaN</td>\n",
       "      <td>Diesel</td>\n",
       "      <td>2</td>\n",
       "      <td>500</td>\n",
       "      <td>NaN</td>\n",
       "      <td>NaN</td>\n",
       "      <td>/ad/25142894</td>\n",
       "    </tr>\n",
       "    <tr>\n",
       "      <th>3</th>\n",
       "      <td>C Class</td>\n",
       "      <td>2019.0</td>\n",
       "      <td>£30,399</td>\n",
       "      <td>Automatic</td>\n",
       "      <td>NaN</td>\n",
       "      <td>Diesel</td>\n",
       "      <td>2</td>\n",
       "      <td>5,000</td>\n",
       "      <td>NaN</td>\n",
       "      <td>NaN</td>\n",
       "      <td>/ad/24942816</td>\n",
       "    </tr>\n",
       "    <tr>\n",
       "      <th>4</th>\n",
       "      <td>C Class</td>\n",
       "      <td>2019.0</td>\n",
       "      <td>£29,899</td>\n",
       "      <td>Automatic</td>\n",
       "      <td>NaN</td>\n",
       "      <td>Diesel</td>\n",
       "      <td>2</td>\n",
       "      <td>4,500</td>\n",
       "      <td>NaN</td>\n",
       "      <td>NaN</td>\n",
       "      <td>/ad/24913660</td>\n",
       "    </tr>\n",
       "    <tr>\n",
       "      <th>...</th>\n",
       "      <td>...</td>\n",
       "      <td>...</td>\n",
       "      <td>...</td>\n",
       "      <td>...</td>\n",
       "      <td>...</td>\n",
       "      <td>...</td>\n",
       "      <td>...</td>\n",
       "      <td>...</td>\n",
       "      <td>...</td>\n",
       "      <td>...</td>\n",
       "      <td>...</td>\n",
       "    </tr>\n",
       "    <tr>\n",
       "      <th>4001</th>\n",
       "      <td>C Class</td>\n",
       "      <td>2017.0</td>\n",
       "      <td>£14,700</td>\n",
       "      <td>Manual</td>\n",
       "      <td>31,357</td>\n",
       "      <td>25</td>\n",
       "      <td>£150</td>\n",
       "      <td>70.6</td>\n",
       "      <td>Diesel</td>\n",
       "      <td>1.598</td>\n",
       "      <td>/ad/25451436</td>\n",
       "    </tr>\n",
       "    <tr>\n",
       "      <th>4002</th>\n",
       "      <td>C Class</td>\n",
       "      <td>2018.0</td>\n",
       "      <td>£18,500</td>\n",
       "      <td>Automatic</td>\n",
       "      <td>28,248</td>\n",
       "      <td>31</td>\n",
       "      <td>£150</td>\n",
       "      <td>64.2</td>\n",
       "      <td>Diesel</td>\n",
       "      <td>2.143</td>\n",
       "      <td>/ad/25451481</td>\n",
       "    </tr>\n",
       "    <tr>\n",
       "      <th>4003</th>\n",
       "      <td>C Class</td>\n",
       "      <td>2014.0</td>\n",
       "      <td>£11,900</td>\n",
       "      <td>Manual</td>\n",
       "      <td>48,055</td>\n",
       "      <td>31</td>\n",
       "      <td>£20</td>\n",
       "      <td>65.7</td>\n",
       "      <td>Diesel</td>\n",
       "      <td>2.143</td>\n",
       "      <td>/ad/25057204</td>\n",
       "    </tr>\n",
       "    <tr>\n",
       "      <th>4004</th>\n",
       "      <td>C Class</td>\n",
       "      <td>2014.0</td>\n",
       "      <td>£11,300</td>\n",
       "      <td>Automatic</td>\n",
       "      <td>49,865</td>\n",
       "      <td>46</td>\n",
       "      <td>£145</td>\n",
       "      <td>56.5</td>\n",
       "      <td>Diesel</td>\n",
       "      <td>2.143</td>\n",
       "      <td>/ad/25144481</td>\n",
       "    </tr>\n",
       "    <tr>\n",
       "      <th>4005</th>\n",
       "      <td>C Class</td>\n",
       "      <td>2014.0</td>\n",
       "      <td>£14,800</td>\n",
       "      <td>Automatic</td>\n",
       "      <td>55,445</td>\n",
       "      <td>37</td>\n",
       "      <td>£30</td>\n",
       "      <td>64.2</td>\n",
       "      <td>Diesel</td>\n",
       "      <td>2.143</td>\n",
       "      <td>/ad/25154247</td>\n",
       "    </tr>\n",
       "  </tbody>\n",
       "</table>\n",
       "<p>4006 rows × 11 columns</p>\n",
       "</div>"
      ],
      "text/plain": [
       "         model    year     price transmission mileage fuel type engine size  \\\n",
       "0      C Class  2020.0   £30,495    Automatic     NaN    Diesel           2   \n",
       "1      C Class  2020.0   £29,989    Automatic     NaN    Petrol         1.5   \n",
       "2      C Class  2020.0   £37,899    Automatic     NaN    Diesel           2   \n",
       "3      C Class  2019.0   £30,399    Automatic     NaN    Diesel           2   \n",
       "4      C Class  2019.0   £29,899    Automatic     NaN    Diesel           2   \n",
       "...        ...     ...       ...          ...     ...       ...         ...   \n",
       "4001   C Class  2017.0   £14,700       Manual  31,357        25        £150   \n",
       "4002   C Class  2018.0   £18,500    Automatic  28,248        31        £150   \n",
       "4003   C Class  2014.0   £11,900       Manual  48,055        31         £20   \n",
       "4004   C Class  2014.0   £11,300    Automatic  49,865        46        £145   \n",
       "4005   C Class  2014.0   £14,800    Automatic  55,445        37         £30   \n",
       "\n",
       "     mileage2 fuel type2 engine size2     reference  \n",
       "0       1,200        NaN          NaN  /ad/25017331  \n",
       "1       1,000        NaN          NaN  /ad/25043746  \n",
       "2         500        NaN          NaN  /ad/25142894  \n",
       "3       5,000        NaN          NaN  /ad/24942816  \n",
       "4       4,500        NaN          NaN  /ad/24913660  \n",
       "...       ...        ...          ...           ...  \n",
       "4001     70.6     Diesel        1.598  /ad/25451436  \n",
       "4002     64.2     Diesel        2.143  /ad/25451481  \n",
       "4003     65.7     Diesel        2.143  /ad/25057204  \n",
       "4004     56.5     Diesel        2.143  /ad/25144481  \n",
       "4005     64.2     Diesel        2.143  /ad/25154247  \n",
       "\n",
       "[4006 rows x 11 columns]"
      ]
     },
     "execution_count": 2,
     "metadata": {},
     "output_type": "execute_result"
    }
   ],
   "source": [
    "#Visualize uncleaned dataset dataframe head and tail\n",
    "path=\"unclean_data.csv\"\n",
    "\n",
    "unclean_data = pd.read_csv(path)\n",
    "# Dataset is now stored in a Pandas Dataframe\n",
    "\n",
    "unclean_data"
   ]
  },
  {
   "cell_type": "code",
   "execution_count": 3,
   "metadata": {
    "colab": {
     "base_uri": "https://localhost:8080/"
    },
    "id": "eiLLm2_bAMpc",
    "outputId": "f1e94e37-271c-4bbd-9524-6d6895629034"
   },
   "outputs": [
    {
     "data": {
      "text/plain": [
       "(4006, 11)"
      ]
     },
     "execution_count": 3,
     "metadata": {},
     "output_type": "execute_result"
    }
   ],
   "source": [
    "#Check how many rows and columns the dataset has\n",
    "#Get shape\n",
    "unclean_data.shape"
   ]
  },
  {
   "cell_type": "code",
   "execution_count": 4,
   "metadata": {
    "colab": {
     "base_uri": "https://localhost:8080/"
    },
    "id": "PSCaB6_jAQvg",
    "outputId": "a8e9b995-156a-4abb-885d-ce93b35f0f66"
   },
   "outputs": [
    {
     "data": {
      "text/plain": [
       "model            object\n",
       "year            float64\n",
       "price            object\n",
       "transmission     object\n",
       "mileage          object\n",
       "fuel type        object\n",
       "engine size      object\n",
       "mileage2         object\n",
       "fuel type2       object\n",
       "engine size2     object\n",
       "reference        object\n",
       "dtype: object"
      ]
     },
     "execution_count": 4,
     "metadata": {},
     "output_type": "execute_result"
    }
   ],
   "source": [
    "#get column data value types\n",
    "unclean_data.dtypes"
   ]
  },
  {
   "cell_type": "code",
   "execution_count": 5,
   "metadata": {
    "colab": {
     "base_uri": "https://localhost:8080/"
    },
    "id": "6luKTIMUAVt8",
    "outputId": "2dab0699-c00c-4d63-cdfe-dce8f6c368a6"
   },
   "outputs": [
    {
     "data": {
      "text/plain": [
       "True"
      ]
     },
     "execution_count": 5,
     "metadata": {},
     "output_type": "execute_result"
    }
   ],
   "source": [
    "#Check for nan values in the dataset\n",
    "unclean_data.isnull().values.any()"
   ]
  },
  {
   "cell_type": "code",
   "execution_count": 6,
   "metadata": {
    "colab": {
     "base_uri": "https://localhost:8080/",
     "height": 433
    },
    "id": "XEeRBoZJ9wOH",
    "outputId": "bbeb0b9b-266a-48dc-979e-619f32cc1dbc"
   },
   "outputs": [
    {
     "data": {
      "text/html": [
       "<div>\n",
       "<style scoped>\n",
       "    .dataframe tbody tr th:only-of-type {\n",
       "        vertical-align: middle;\n",
       "    }\n",
       "\n",
       "    .dataframe tbody tr th {\n",
       "        vertical-align: top;\n",
       "    }\n",
       "\n",
       "    .dataframe thead th {\n",
       "        text-align: right;\n",
       "    }\n",
       "</style>\n",
       "<table border=\"1\" class=\"dataframe\">\n",
       "  <thead>\n",
       "    <tr style=\"text-align: right;\">\n",
       "      <th></th>\n",
       "      <th>model</th>\n",
       "      <th>year</th>\n",
       "      <th>price</th>\n",
       "      <th>transmission</th>\n",
       "      <th>mileage</th>\n",
       "      <th>fuel type</th>\n",
       "      <th>engine size</th>\n",
       "      <th>mileage2</th>\n",
       "      <th>fuel type2</th>\n",
       "      <th>engine size2</th>\n",
       "      <th>reference</th>\n",
       "    </tr>\n",
       "  </thead>\n",
       "  <tbody>\n",
       "    <tr>\n",
       "      <th>0</th>\n",
       "      <td>False</td>\n",
       "      <td>False</td>\n",
       "      <td>False</td>\n",
       "      <td>False</td>\n",
       "      <td>True</td>\n",
       "      <td>False</td>\n",
       "      <td>False</td>\n",
       "      <td>False</td>\n",
       "      <td>True</td>\n",
       "      <td>True</td>\n",
       "      <td>False</td>\n",
       "    </tr>\n",
       "    <tr>\n",
       "      <th>1</th>\n",
       "      <td>False</td>\n",
       "      <td>False</td>\n",
       "      <td>False</td>\n",
       "      <td>False</td>\n",
       "      <td>True</td>\n",
       "      <td>False</td>\n",
       "      <td>False</td>\n",
       "      <td>False</td>\n",
       "      <td>True</td>\n",
       "      <td>True</td>\n",
       "      <td>False</td>\n",
       "    </tr>\n",
       "    <tr>\n",
       "      <th>2</th>\n",
       "      <td>False</td>\n",
       "      <td>False</td>\n",
       "      <td>False</td>\n",
       "      <td>False</td>\n",
       "      <td>True</td>\n",
       "      <td>False</td>\n",
       "      <td>False</td>\n",
       "      <td>False</td>\n",
       "      <td>True</td>\n",
       "      <td>True</td>\n",
       "      <td>False</td>\n",
       "    </tr>\n",
       "    <tr>\n",
       "      <th>3</th>\n",
       "      <td>False</td>\n",
       "      <td>False</td>\n",
       "      <td>False</td>\n",
       "      <td>False</td>\n",
       "      <td>True</td>\n",
       "      <td>False</td>\n",
       "      <td>False</td>\n",
       "      <td>False</td>\n",
       "      <td>True</td>\n",
       "      <td>True</td>\n",
       "      <td>False</td>\n",
       "    </tr>\n",
       "    <tr>\n",
       "      <th>4</th>\n",
       "      <td>False</td>\n",
       "      <td>False</td>\n",
       "      <td>False</td>\n",
       "      <td>False</td>\n",
       "      <td>True</td>\n",
       "      <td>False</td>\n",
       "      <td>False</td>\n",
       "      <td>False</td>\n",
       "      <td>True</td>\n",
       "      <td>True</td>\n",
       "      <td>False</td>\n",
       "    </tr>\n",
       "    <tr>\n",
       "      <th>...</th>\n",
       "      <td>...</td>\n",
       "      <td>...</td>\n",
       "      <td>...</td>\n",
       "      <td>...</td>\n",
       "      <td>...</td>\n",
       "      <td>...</td>\n",
       "      <td>...</td>\n",
       "      <td>...</td>\n",
       "      <td>...</td>\n",
       "      <td>...</td>\n",
       "      <td>...</td>\n",
       "    </tr>\n",
       "    <tr>\n",
       "      <th>4001</th>\n",
       "      <td>False</td>\n",
       "      <td>False</td>\n",
       "      <td>False</td>\n",
       "      <td>False</td>\n",
       "      <td>False</td>\n",
       "      <td>False</td>\n",
       "      <td>False</td>\n",
       "      <td>False</td>\n",
       "      <td>False</td>\n",
       "      <td>False</td>\n",
       "      <td>False</td>\n",
       "    </tr>\n",
       "    <tr>\n",
       "      <th>4002</th>\n",
       "      <td>False</td>\n",
       "      <td>False</td>\n",
       "      <td>False</td>\n",
       "      <td>False</td>\n",
       "      <td>False</td>\n",
       "      <td>False</td>\n",
       "      <td>False</td>\n",
       "      <td>False</td>\n",
       "      <td>False</td>\n",
       "      <td>False</td>\n",
       "      <td>False</td>\n",
       "    </tr>\n",
       "    <tr>\n",
       "      <th>4003</th>\n",
       "      <td>False</td>\n",
       "      <td>False</td>\n",
       "      <td>False</td>\n",
       "      <td>False</td>\n",
       "      <td>False</td>\n",
       "      <td>False</td>\n",
       "      <td>False</td>\n",
       "      <td>False</td>\n",
       "      <td>False</td>\n",
       "      <td>False</td>\n",
       "      <td>False</td>\n",
       "    </tr>\n",
       "    <tr>\n",
       "      <th>4004</th>\n",
       "      <td>False</td>\n",
       "      <td>False</td>\n",
       "      <td>False</td>\n",
       "      <td>False</td>\n",
       "      <td>False</td>\n",
       "      <td>False</td>\n",
       "      <td>False</td>\n",
       "      <td>False</td>\n",
       "      <td>False</td>\n",
       "      <td>False</td>\n",
       "      <td>False</td>\n",
       "    </tr>\n",
       "    <tr>\n",
       "      <th>4005</th>\n",
       "      <td>False</td>\n",
       "      <td>False</td>\n",
       "      <td>False</td>\n",
       "      <td>False</td>\n",
       "      <td>False</td>\n",
       "      <td>False</td>\n",
       "      <td>False</td>\n",
       "      <td>False</td>\n",
       "      <td>False</td>\n",
       "      <td>False</td>\n",
       "      <td>False</td>\n",
       "    </tr>\n",
       "  </tbody>\n",
       "</table>\n",
       "<p>4006 rows × 11 columns</p>\n",
       "</div>"
      ],
      "text/plain": [
       "      model   year  price  transmission  mileage  fuel type  engine size  \\\n",
       "0     False  False  False         False     True      False        False   \n",
       "1     False  False  False         False     True      False        False   \n",
       "2     False  False  False         False     True      False        False   \n",
       "3     False  False  False         False     True      False        False   \n",
       "4     False  False  False         False     True      False        False   \n",
       "...     ...    ...    ...           ...      ...        ...          ...   \n",
       "4001  False  False  False         False    False      False        False   \n",
       "4002  False  False  False         False    False      False        False   \n",
       "4003  False  False  False         False    False      False        False   \n",
       "4004  False  False  False         False    False      False        False   \n",
       "4005  False  False  False         False    False      False        False   \n",
       "\n",
       "      mileage2  fuel type2  engine size2  reference  \n",
       "0        False        True          True      False  \n",
       "1        False        True          True      False  \n",
       "2        False        True          True      False  \n",
       "3        False        True          True      False  \n",
       "4        False        True          True      False  \n",
       "...        ...         ...           ...        ...  \n",
       "4001     False       False         False      False  \n",
       "4002     False       False         False      False  \n",
       "4003     False       False         False      False  \n",
       "4004     False       False         False      False  \n",
       "4005     False       False         False      False  \n",
       "\n",
       "[4006 rows x 11 columns]"
      ]
     },
     "execution_count": 6,
     "metadata": {},
     "output_type": "execute_result"
    }
   ],
   "source": [
    "unclean_data.isna()"
   ]
  },
  {
   "cell_type": "code",
   "execution_count": 7,
   "metadata": {
    "colab": {
     "base_uri": "https://localhost:8080/"
    },
    "id": "oZx-rDdMAYXn",
    "outputId": "3ed39ec2-2cd3-4090-8874-98526ff82259"
   },
   "outputs": [
    {
     "data": {
      "text/plain": [
       "model             99\n",
       "year             102\n",
       "price             99\n",
       "transmission      99\n",
       "mileage          198\n",
       "fuel type       2677\n",
       "engine size      164\n",
       "mileage2         116\n",
       "fuel type2       198\n",
       "engine size2     198\n",
       "reference         99\n",
       "dtype: int64"
      ]
     },
     "execution_count": 7,
     "metadata": {},
     "output_type": "execute_result"
    }
   ],
   "source": [
    "#Count how many nans in dataset columns\n",
    "unclean_data.isna().sum()"
   ]
  },
  {
   "cell_type": "code",
   "execution_count": 8,
   "metadata": {
    "colab": {
     "base_uri": "https://localhost:8080/"
    },
    "id": "jPpcHqgyAaGu",
    "outputId": "36522443-9bea-4eb9-8fa5-88207eab90e3"
   },
   "outputs": [
    {
     "data": {
      "text/plain": [
       "Semi-Auto    2071\n",
       "Automatic    1636\n",
       "Manual        199\n",
       "Other           1\n",
       "Name: transmission, dtype: int64"
      ]
     },
     "execution_count": 8,
     "metadata": {},
     "output_type": "execute_result"
    }
   ],
   "source": [
    "#Check categorical variables (transmission, fuel type)\n",
    "#transmission\n",
    "unclean_data['transmission'].value_counts()"
   ]
  },
  {
   "cell_type": "code",
   "execution_count": 9,
   "metadata": {
    "colab": {
     "base_uri": "https://localhost:8080/"
    },
    "id": "dL9PmoA_AdqZ",
    "outputId": "98a4e687-d46b-454f-fcd3-8717b2109e10"
   },
   "outputs": [
    {
     "data": {
      "text/plain": [
       "31        310\n",
       "32        240\n",
       "38        174\n",
       "37        101\n",
       "Diesel     83\n",
       "30         76\n",
       "25         65\n",
       "29         57\n",
       "33         50\n",
       "34         29\n",
       "26         25\n",
       "36         17\n",
       "39         17\n",
       "43         13\n",
       "Petrol     13\n",
       "27         12\n",
       "35         12\n",
       "40          8\n",
       "44          6\n",
       "24          4\n",
       "46          4\n",
       "45          3\n",
       "28          3\n",
       "Hybrid      3\n",
       "47          3\n",
       "48          1\n",
       "Name: fuel type, dtype: int64"
      ]
     },
     "execution_count": 9,
     "metadata": {},
     "output_type": "execute_result"
    }
   ],
   "source": [
    "#fuel type\n",
    "unclean_data['fuel type'].value_counts()"
   ]
  },
  {
   "cell_type": "markdown",
   "metadata": {
    "id": "_43g_eVy4z0f"
   },
   "source": [
    "# 3. Data Analysis, Preparation and Wrangling\n",
    "\n",
    "### Professor Project Directions\n",
    "Before you start, please take a look at the original csv file to find out about the data. Then, explore the dataset in your Jupyter notebook. Have a peek of the data. You should notice that the dataset is not clean. The followings are the issues that appear in the dataset:\n",
    "\n",
    "1. [ ] There are missing rows (rows that have all NaN)\n",
    "2. [ ] There are missing values in some columns\n",
    "3. [ ] There are fields that use a wrong datatype, i.e., year is in float64 instead of int64. Hint: You can\n",
    "use df.dtypes to look at the datatypes of each columns\n",
    "4. [ ] There are columns that have mixed values, i.e., string and numbers\n",
    "5. [ ] There is a column with currency symbol\n",
    "6. [ ] Some numerical values are displayed with comma format\n",
    "7. [ ] Some columns are using different standard values, i.e., engine size and engine size2\n",
    "8. [ ] Some columns do not have valid names\n",
    "9. [ ] There is a column with categorical data, i.e., transmission and fuel type\n",
    "10. [ ] There are some unneeded columns"
   ]
  },
  {
   "cell_type": "markdown",
   "metadata": {
    "id": "6L4nKCfJAlhk"
   },
   "source": [
    "### Step 3.1 - Handling missing values"
   ]
  },
  {
   "cell_type": "code",
   "execution_count": 10,
   "metadata": {
    "id": "7PDeAP_EAp2H"
   },
   "outputs": [],
   "source": [
    "#Drop rolls where all values are NaN values\n",
    "clean_df = unclean_data.dropna(how='all')\n",
    "#Reset index from dataframe\n",
    "clean_df = clean_df.reset_index(drop=True)"
   ]
  },
  {
   "cell_type": "code",
   "execution_count": 11,
   "metadata": {
    "colab": {
     "base_uri": "https://localhost:8080/"
    },
    "id": "qc6ntt-mAs1R",
    "outputId": "e5e50a5d-eb77-4483-8b01-45f794bc210b"
   },
   "outputs": [
    {
     "data": {
      "text/plain": [
       "True"
      ]
     },
     "execution_count": 11,
     "metadata": {},
     "output_type": "execute_result"
    }
   ],
   "source": [
    "#Check how many  NaN values still exists and check data shape\n",
    "clean_df.isnull().values.any()"
   ]
  },
  {
   "cell_type": "code",
   "execution_count": 12,
   "metadata": {
    "colab": {
     "base_uri": "https://localhost:8080/"
    },
    "id": "k4V5V-UKAwA_",
    "outputId": "270b81cf-7846-46dd-9fb1-b8728c1e6e97"
   },
   "outputs": [
    {
     "data": {
      "text/plain": [
       "model              0\n",
       "year               3\n",
       "price              0\n",
       "transmission       0\n",
       "mileage           99\n",
       "fuel type       2578\n",
       "engine size       65\n",
       "mileage2          17\n",
       "fuel type2        99\n",
       "engine size2      99\n",
       "reference          0\n",
       "dtype: int64"
      ]
     },
     "execution_count": 12,
     "metadata": {},
     "output_type": "execute_result"
    }
   ],
   "source": [
    "clean_df.isna().sum()"
   ]
  },
  {
   "cell_type": "code",
   "execution_count": 13,
   "metadata": {
    "colab": {
     "base_uri": "https://localhost:8080/"
    },
    "id": "YsHTTuhYAzDE",
    "outputId": "4da4b1bc-5516-437e-ea16-b7ede799aeaa"
   },
   "outputs": [
    {
     "data": {
      "text/plain": [
       "(3907, 11)"
      ]
     },
     "execution_count": 13,
     "metadata": {},
     "output_type": "execute_result"
    }
   ],
   "source": [
    "clean_df.shape #number of rows reduced from 4006 to 3907"
   ]
  },
  {
   "cell_type": "code",
   "execution_count": 14,
   "metadata": {
    "colab": {
     "base_uri": "https://localhost:8080/",
     "height": 306
    },
    "id": "Lowmysv9A6dJ",
    "outputId": "2815343a-85f5-41ff-de6a-89e5e8411e1c"
   },
   "outputs": [
    {
     "data": {
      "text/html": [
       "<div>\n",
       "<style scoped>\n",
       "    .dataframe tbody tr th:only-of-type {\n",
       "        vertical-align: middle;\n",
       "    }\n",
       "\n",
       "    .dataframe tbody tr th {\n",
       "        vertical-align: top;\n",
       "    }\n",
       "\n",
       "    .dataframe thead th {\n",
       "        text-align: right;\n",
       "    }\n",
       "</style>\n",
       "<table border=\"1\" class=\"dataframe\">\n",
       "  <thead>\n",
       "    <tr style=\"text-align: right;\">\n",
       "      <th></th>\n",
       "      <th>model</th>\n",
       "      <th>year</th>\n",
       "      <th>price</th>\n",
       "      <th>transmission</th>\n",
       "      <th>mileage</th>\n",
       "      <th>fuel type</th>\n",
       "      <th>engine size</th>\n",
       "      <th>mileage2</th>\n",
       "      <th>fuel type2</th>\n",
       "      <th>engine size2</th>\n",
       "      <th>reference</th>\n",
       "    </tr>\n",
       "  </thead>\n",
       "  <tbody>\n",
       "    <tr>\n",
       "      <th>0</th>\n",
       "      <td>C Class</td>\n",
       "      <td>2020.0</td>\n",
       "      <td>£30,495</td>\n",
       "      <td>Automatic</td>\n",
       "      <td>NaN</td>\n",
       "      <td>Diesel</td>\n",
       "      <td>2</td>\n",
       "      <td>1,200</td>\n",
       "      <td>NaN</td>\n",
       "      <td>NaN</td>\n",
       "      <td>/ad/25017331</td>\n",
       "    </tr>\n",
       "    <tr>\n",
       "      <th>1</th>\n",
       "      <td>C Class</td>\n",
       "      <td>2020.0</td>\n",
       "      <td>£29,989</td>\n",
       "      <td>Automatic</td>\n",
       "      <td>NaN</td>\n",
       "      <td>Petrol</td>\n",
       "      <td>1.5</td>\n",
       "      <td>1,000</td>\n",
       "      <td>NaN</td>\n",
       "      <td>NaN</td>\n",
       "      <td>/ad/25043746</td>\n",
       "    </tr>\n",
       "    <tr>\n",
       "      <th>2</th>\n",
       "      <td>C Class</td>\n",
       "      <td>2020.0</td>\n",
       "      <td>£37,899</td>\n",
       "      <td>Automatic</td>\n",
       "      <td>NaN</td>\n",
       "      <td>Diesel</td>\n",
       "      <td>2</td>\n",
       "      <td>500</td>\n",
       "      <td>NaN</td>\n",
       "      <td>NaN</td>\n",
       "      <td>/ad/25142894</td>\n",
       "    </tr>\n",
       "    <tr>\n",
       "      <th>3</th>\n",
       "      <td>C Class</td>\n",
       "      <td>2019.0</td>\n",
       "      <td>£30,399</td>\n",
       "      <td>Automatic</td>\n",
       "      <td>NaN</td>\n",
       "      <td>Diesel</td>\n",
       "      <td>2</td>\n",
       "      <td>5,000</td>\n",
       "      <td>NaN</td>\n",
       "      <td>NaN</td>\n",
       "      <td>/ad/24942816</td>\n",
       "    </tr>\n",
       "    <tr>\n",
       "      <th>4</th>\n",
       "      <td>C Class</td>\n",
       "      <td>2019.0</td>\n",
       "      <td>£29,899</td>\n",
       "      <td>Automatic</td>\n",
       "      <td>NaN</td>\n",
       "      <td>Diesel</td>\n",
       "      <td>2</td>\n",
       "      <td>4,500</td>\n",
       "      <td>NaN</td>\n",
       "      <td>NaN</td>\n",
       "      <td>/ad/24913660</td>\n",
       "    </tr>\n",
       "  </tbody>\n",
       "</table>\n",
       "</div>"
      ],
      "text/plain": [
       "      model    year     price transmission mileage fuel type engine size  \\\n",
       "0   C Class  2020.0   £30,495    Automatic     NaN    Diesel           2   \n",
       "1   C Class  2020.0   £29,989    Automatic     NaN    Petrol         1.5   \n",
       "2   C Class  2020.0   £37,899    Automatic     NaN    Diesel           2   \n",
       "3   C Class  2019.0   £30,399    Automatic     NaN    Diesel           2   \n",
       "4   C Class  2019.0   £29,899    Automatic     NaN    Diesel           2   \n",
       "\n",
       "  mileage2 fuel type2 engine size2     reference  \n",
       "0    1,200        NaN          NaN  /ad/25017331  \n",
       "1    1,000        NaN          NaN  /ad/25043746  \n",
       "2      500        NaN          NaN  /ad/25142894  \n",
       "3    5,000        NaN          NaN  /ad/24942816  \n",
       "4    4,500        NaN          NaN  /ad/24913660  "
      ]
     },
     "execution_count": 14,
     "metadata": {},
     "output_type": "execute_result"
    }
   ],
   "source": [
    "clean_df.head()"
   ]
  },
  {
   "cell_type": "markdown",
   "metadata": {
    "id": "Ca21ZR6IA-Tk"
   },
   "source": [
    "### Step 3.2 - Handling the currency symbols and comma format"
   ]
  },
  {
   "cell_type": "code",
   "execution_count": 15,
   "metadata": {
    "id": "ZmPihJTzBA8b"
   },
   "outputs": [],
   "source": [
    "#Replace currency symbols with empt space at price column\n",
    "clean_df['price'] = clean_df['price'].str.replace('£','')"
   ]
  },
  {
   "cell_type": "code",
   "execution_count": 16,
   "metadata": {
    "colab": {
     "base_uri": "https://localhost:8080/",
     "height": 306
    },
    "id": "9B5lj3UuBGsz",
    "outputId": "2a011b88-de26-47b9-b089-e417a438984b"
   },
   "outputs": [
    {
     "data": {
      "text/html": [
       "<div>\n",
       "<style scoped>\n",
       "    .dataframe tbody tr th:only-of-type {\n",
       "        vertical-align: middle;\n",
       "    }\n",
       "\n",
       "    .dataframe tbody tr th {\n",
       "        vertical-align: top;\n",
       "    }\n",
       "\n",
       "    .dataframe thead th {\n",
       "        text-align: right;\n",
       "    }\n",
       "</style>\n",
       "<table border=\"1\" class=\"dataframe\">\n",
       "  <thead>\n",
       "    <tr style=\"text-align: right;\">\n",
       "      <th></th>\n",
       "      <th>model</th>\n",
       "      <th>year</th>\n",
       "      <th>price</th>\n",
       "      <th>transmission</th>\n",
       "      <th>mileage</th>\n",
       "      <th>fuel type</th>\n",
       "      <th>engine size</th>\n",
       "      <th>mileage2</th>\n",
       "      <th>fuel type2</th>\n",
       "      <th>engine size2</th>\n",
       "      <th>reference</th>\n",
       "    </tr>\n",
       "  </thead>\n",
       "  <tbody>\n",
       "    <tr>\n",
       "      <th>0</th>\n",
       "      <td>C Class</td>\n",
       "      <td>2020.0</td>\n",
       "      <td>30,495</td>\n",
       "      <td>Automatic</td>\n",
       "      <td>NaN</td>\n",
       "      <td>Diesel</td>\n",
       "      <td>2</td>\n",
       "      <td>1,200</td>\n",
       "      <td>NaN</td>\n",
       "      <td>NaN</td>\n",
       "      <td>/ad/25017331</td>\n",
       "    </tr>\n",
       "    <tr>\n",
       "      <th>1</th>\n",
       "      <td>C Class</td>\n",
       "      <td>2020.0</td>\n",
       "      <td>29,989</td>\n",
       "      <td>Automatic</td>\n",
       "      <td>NaN</td>\n",
       "      <td>Petrol</td>\n",
       "      <td>1.5</td>\n",
       "      <td>1,000</td>\n",
       "      <td>NaN</td>\n",
       "      <td>NaN</td>\n",
       "      <td>/ad/25043746</td>\n",
       "    </tr>\n",
       "    <tr>\n",
       "      <th>2</th>\n",
       "      <td>C Class</td>\n",
       "      <td>2020.0</td>\n",
       "      <td>37,899</td>\n",
       "      <td>Automatic</td>\n",
       "      <td>NaN</td>\n",
       "      <td>Diesel</td>\n",
       "      <td>2</td>\n",
       "      <td>500</td>\n",
       "      <td>NaN</td>\n",
       "      <td>NaN</td>\n",
       "      <td>/ad/25142894</td>\n",
       "    </tr>\n",
       "    <tr>\n",
       "      <th>3</th>\n",
       "      <td>C Class</td>\n",
       "      <td>2019.0</td>\n",
       "      <td>30,399</td>\n",
       "      <td>Automatic</td>\n",
       "      <td>NaN</td>\n",
       "      <td>Diesel</td>\n",
       "      <td>2</td>\n",
       "      <td>5,000</td>\n",
       "      <td>NaN</td>\n",
       "      <td>NaN</td>\n",
       "      <td>/ad/24942816</td>\n",
       "    </tr>\n",
       "    <tr>\n",
       "      <th>4</th>\n",
       "      <td>C Class</td>\n",
       "      <td>2019.0</td>\n",
       "      <td>29,899</td>\n",
       "      <td>Automatic</td>\n",
       "      <td>NaN</td>\n",
       "      <td>Diesel</td>\n",
       "      <td>2</td>\n",
       "      <td>4,500</td>\n",
       "      <td>NaN</td>\n",
       "      <td>NaN</td>\n",
       "      <td>/ad/24913660</td>\n",
       "    </tr>\n",
       "  </tbody>\n",
       "</table>\n",
       "</div>"
      ],
      "text/plain": [
       "      model    year    price transmission mileage fuel type engine size  \\\n",
       "0   C Class  2020.0   30,495    Automatic     NaN    Diesel           2   \n",
       "1   C Class  2020.0   29,989    Automatic     NaN    Petrol         1.5   \n",
       "2   C Class  2020.0   37,899    Automatic     NaN    Diesel           2   \n",
       "3   C Class  2019.0   30,399    Automatic     NaN    Diesel           2   \n",
       "4   C Class  2019.0   29,899    Automatic     NaN    Diesel           2   \n",
       "\n",
       "  mileage2 fuel type2 engine size2     reference  \n",
       "0    1,200        NaN          NaN  /ad/25017331  \n",
       "1    1,000        NaN          NaN  /ad/25043746  \n",
       "2      500        NaN          NaN  /ad/25142894  \n",
       "3    5,000        NaN          NaN  /ad/24942816  \n",
       "4    4,500        NaN          NaN  /ad/24913660  "
      ]
     },
     "execution_count": 16,
     "metadata": {},
     "output_type": "execute_result"
    }
   ],
   "source": [
    "clean_df.head()"
   ]
  },
  {
   "cell_type": "code",
   "execution_count": 17,
   "metadata": {
    "colab": {
     "base_uri": "https://localhost:8080/",
     "height": 306
    },
    "id": "AnpwZy85BJl6",
    "outputId": "f3f7f55a-a8ba-45b1-c123-d62c6effee1c"
   },
   "outputs": [
    {
     "data": {
      "text/html": [
       "<div>\n",
       "<style scoped>\n",
       "    .dataframe tbody tr th:only-of-type {\n",
       "        vertical-align: middle;\n",
       "    }\n",
       "\n",
       "    .dataframe tbody tr th {\n",
       "        vertical-align: top;\n",
       "    }\n",
       "\n",
       "    .dataframe thead th {\n",
       "        text-align: right;\n",
       "    }\n",
       "</style>\n",
       "<table border=\"1\" class=\"dataframe\">\n",
       "  <thead>\n",
       "    <tr style=\"text-align: right;\">\n",
       "      <th></th>\n",
       "      <th>model</th>\n",
       "      <th>year</th>\n",
       "      <th>price</th>\n",
       "      <th>transmission</th>\n",
       "      <th>mileage</th>\n",
       "      <th>fuel type</th>\n",
       "      <th>engine size</th>\n",
       "      <th>mileage2</th>\n",
       "      <th>fuel type2</th>\n",
       "      <th>engine size2</th>\n",
       "      <th>reference</th>\n",
       "    </tr>\n",
       "  </thead>\n",
       "  <tbody>\n",
       "    <tr>\n",
       "      <th>0</th>\n",
       "      <td>C Class</td>\n",
       "      <td>2020.0</td>\n",
       "      <td>30495</td>\n",
       "      <td>Automatic</td>\n",
       "      <td>NaN</td>\n",
       "      <td>Diesel</td>\n",
       "      <td>2</td>\n",
       "      <td>1,200</td>\n",
       "      <td>NaN</td>\n",
       "      <td>NaN</td>\n",
       "      <td>/ad/25017331</td>\n",
       "    </tr>\n",
       "    <tr>\n",
       "      <th>1</th>\n",
       "      <td>C Class</td>\n",
       "      <td>2020.0</td>\n",
       "      <td>29989</td>\n",
       "      <td>Automatic</td>\n",
       "      <td>NaN</td>\n",
       "      <td>Petrol</td>\n",
       "      <td>1.5</td>\n",
       "      <td>1,000</td>\n",
       "      <td>NaN</td>\n",
       "      <td>NaN</td>\n",
       "      <td>/ad/25043746</td>\n",
       "    </tr>\n",
       "    <tr>\n",
       "      <th>2</th>\n",
       "      <td>C Class</td>\n",
       "      <td>2020.0</td>\n",
       "      <td>37899</td>\n",
       "      <td>Automatic</td>\n",
       "      <td>NaN</td>\n",
       "      <td>Diesel</td>\n",
       "      <td>2</td>\n",
       "      <td>500</td>\n",
       "      <td>NaN</td>\n",
       "      <td>NaN</td>\n",
       "      <td>/ad/25142894</td>\n",
       "    </tr>\n",
       "    <tr>\n",
       "      <th>3</th>\n",
       "      <td>C Class</td>\n",
       "      <td>2019.0</td>\n",
       "      <td>30399</td>\n",
       "      <td>Automatic</td>\n",
       "      <td>NaN</td>\n",
       "      <td>Diesel</td>\n",
       "      <td>2</td>\n",
       "      <td>5,000</td>\n",
       "      <td>NaN</td>\n",
       "      <td>NaN</td>\n",
       "      <td>/ad/24942816</td>\n",
       "    </tr>\n",
       "    <tr>\n",
       "      <th>4</th>\n",
       "      <td>C Class</td>\n",
       "      <td>2019.0</td>\n",
       "      <td>29899</td>\n",
       "      <td>Automatic</td>\n",
       "      <td>NaN</td>\n",
       "      <td>Diesel</td>\n",
       "      <td>2</td>\n",
       "      <td>4,500</td>\n",
       "      <td>NaN</td>\n",
       "      <td>NaN</td>\n",
       "      <td>/ad/24913660</td>\n",
       "    </tr>\n",
       "  </tbody>\n",
       "</table>\n",
       "</div>"
      ],
      "text/plain": [
       "      model    year   price transmission mileage fuel type engine size  \\\n",
       "0   C Class  2020.0   30495    Automatic     NaN    Diesel           2   \n",
       "1   C Class  2020.0   29989    Automatic     NaN    Petrol         1.5   \n",
       "2   C Class  2020.0   37899    Automatic     NaN    Diesel           2   \n",
       "3   C Class  2019.0   30399    Automatic     NaN    Diesel           2   \n",
       "4   C Class  2019.0   29899    Automatic     NaN    Diesel           2   \n",
       "\n",
       "  mileage2 fuel type2 engine size2     reference  \n",
       "0    1,200        NaN          NaN  /ad/25017331  \n",
       "1    1,000        NaN          NaN  /ad/25043746  \n",
       "2      500        NaN          NaN  /ad/25142894  \n",
       "3    5,000        NaN          NaN  /ad/24942816  \n",
       "4    4,500        NaN          NaN  /ad/24913660  "
      ]
     },
     "execution_count": 17,
     "metadata": {},
     "output_type": "execute_result"
    }
   ],
   "source": [
    "#Replace comma character with empt space at price column\n",
    "clean_df['price'] = clean_df['price'].str.replace(',','')\n",
    "clean_df.head()"
   ]
  },
  {
   "cell_type": "code",
   "execution_count": 18,
   "metadata": {
    "colab": {
     "base_uri": "https://localhost:8080/"
    },
    "id": "ToddT39C3lxR",
    "outputId": "e52900a0-1eb0-40d4-a227-2622e5063ea2"
   },
   "outputs": [
    {
     "data": {
      "text/plain": [
       "model              0\n",
       "year               3\n",
       "price              0\n",
       "transmission       0\n",
       "mileage           99\n",
       "fuel type       2578\n",
       "engine size       65\n",
       "mileage2          17\n",
       "fuel type2        99\n",
       "engine size2      99\n",
       "reference          0\n",
       "dtype: int64"
      ]
     },
     "execution_count": 18,
     "metadata": {},
     "output_type": "execute_result"
    }
   ],
   "source": [
    "clean_df.isna().sum()"
   ]
  },
  {
   "cell_type": "code",
   "execution_count": 19,
   "metadata": {
    "colab": {
     "base_uri": "https://localhost:8080/"
    },
    "id": "2olVLK6WRMgI",
    "outputId": "f6134b21-4061-411d-ee53-c5a0c4d12e99"
   },
   "outputs": [
    {
     "data": {
      "text/plain": [
       "model            object\n",
       "year            float64\n",
       "price            object\n",
       "transmission     object\n",
       "mileage          object\n",
       "fuel type        object\n",
       "engine size      object\n",
       "mileage2         object\n",
       "fuel type2       object\n",
       "engine size2     object\n",
       "reference        object\n",
       "dtype: object"
      ]
     },
     "execution_count": 19,
     "metadata": {},
     "output_type": "execute_result"
    }
   ],
   "source": [
    "clean_df.dtypes"
   ]
  },
  {
   "cell_type": "code",
   "execution_count": 20,
   "metadata": {
    "id": "Cxv_z3y2RhAt"
   },
   "outputs": [],
   "source": [
    "#Change data type of price into numeric using pd.to_numeric()\n",
    "clean_df['price'] = pd.to_numeric(clean_df['price'])"
   ]
  },
  {
   "cell_type": "code",
   "execution_count": 21,
   "metadata": {
    "colab": {
     "base_uri": "https://localhost:8080/"
    },
    "id": "Avn-aWG6RsU5",
    "outputId": "a69f4e1f-554d-4734-f05f-07c01bfdf7a7"
   },
   "outputs": [
    {
     "data": {
      "text/plain": [
       "model            object\n",
       "year            float64\n",
       "price             int64\n",
       "transmission     object\n",
       "mileage          object\n",
       "fuel type        object\n",
       "engine size      object\n",
       "mileage2         object\n",
       "fuel type2       object\n",
       "engine size2     object\n",
       "reference        object\n",
       "dtype: object"
      ]
     },
     "execution_count": 21,
     "metadata": {},
     "output_type": "execute_result"
    }
   ],
   "source": [
    "clean_df.dtypes"
   ]
  },
  {
   "cell_type": "markdown",
   "metadata": {
    "id": "cMROzCxaBNcr"
   },
   "source": [
    "### Step 3.3 - Handling non-valid column names"
   ]
  },
  {
   "cell_type": "code",
   "execution_count": 22,
   "metadata": {
    "colab": {
     "base_uri": "https://localhost:8080/",
     "height": 309
    },
    "id": "-B-2xleaBQdo",
    "outputId": "24c78a47-d78c-426c-a186-c397d3263c92"
   },
   "outputs": [
    {
     "data": {
      "text/html": [
       "<div>\n",
       "<style scoped>\n",
       "    .dataframe tbody tr th:only-of-type {\n",
       "        vertical-align: middle;\n",
       "    }\n",
       "\n",
       "    .dataframe tbody tr th {\n",
       "        vertical-align: top;\n",
       "    }\n",
       "\n",
       "    .dataframe thead th {\n",
       "        text-align: right;\n",
       "    }\n",
       "</style>\n",
       "<table border=\"1\" class=\"dataframe\">\n",
       "  <thead>\n",
       "    <tr style=\"text-align: right;\">\n",
       "      <th></th>\n",
       "      <th>model</th>\n",
       "      <th>year</th>\n",
       "      <th>price</th>\n",
       "      <th>transmission</th>\n",
       "      <th>mileage</th>\n",
       "      <th>fuel_type</th>\n",
       "      <th>engine_size</th>\n",
       "      <th>mileage2</th>\n",
       "      <th>fuel_type2</th>\n",
       "      <th>engine_size2</th>\n",
       "      <th>reference</th>\n",
       "    </tr>\n",
       "  </thead>\n",
       "  <tbody>\n",
       "    <tr>\n",
       "      <th>0</th>\n",
       "      <td>C Class</td>\n",
       "      <td>2020.0</td>\n",
       "      <td>30495</td>\n",
       "      <td>Automatic</td>\n",
       "      <td>NaN</td>\n",
       "      <td>Diesel</td>\n",
       "      <td>2</td>\n",
       "      <td>1,200</td>\n",
       "      <td>NaN</td>\n",
       "      <td>NaN</td>\n",
       "      <td>/ad/25017331</td>\n",
       "    </tr>\n",
       "    <tr>\n",
       "      <th>1</th>\n",
       "      <td>C Class</td>\n",
       "      <td>2020.0</td>\n",
       "      <td>29989</td>\n",
       "      <td>Automatic</td>\n",
       "      <td>NaN</td>\n",
       "      <td>Petrol</td>\n",
       "      <td>1.5</td>\n",
       "      <td>1,000</td>\n",
       "      <td>NaN</td>\n",
       "      <td>NaN</td>\n",
       "      <td>/ad/25043746</td>\n",
       "    </tr>\n",
       "    <tr>\n",
       "      <th>2</th>\n",
       "      <td>C Class</td>\n",
       "      <td>2020.0</td>\n",
       "      <td>37899</td>\n",
       "      <td>Automatic</td>\n",
       "      <td>NaN</td>\n",
       "      <td>Diesel</td>\n",
       "      <td>2</td>\n",
       "      <td>500</td>\n",
       "      <td>NaN</td>\n",
       "      <td>NaN</td>\n",
       "      <td>/ad/25142894</td>\n",
       "    </tr>\n",
       "    <tr>\n",
       "      <th>3</th>\n",
       "      <td>C Class</td>\n",
       "      <td>2019.0</td>\n",
       "      <td>30399</td>\n",
       "      <td>Automatic</td>\n",
       "      <td>NaN</td>\n",
       "      <td>Diesel</td>\n",
       "      <td>2</td>\n",
       "      <td>5,000</td>\n",
       "      <td>NaN</td>\n",
       "      <td>NaN</td>\n",
       "      <td>/ad/24942816</td>\n",
       "    </tr>\n",
       "    <tr>\n",
       "      <th>4</th>\n",
       "      <td>C Class</td>\n",
       "      <td>2019.0</td>\n",
       "      <td>29899</td>\n",
       "      <td>Automatic</td>\n",
       "      <td>NaN</td>\n",
       "      <td>Diesel</td>\n",
       "      <td>2</td>\n",
       "      <td>4,500</td>\n",
       "      <td>NaN</td>\n",
       "      <td>NaN</td>\n",
       "      <td>/ad/24913660</td>\n",
       "    </tr>\n",
       "  </tbody>\n",
       "</table>\n",
       "</div>"
      ],
      "text/plain": [
       "      model    year  price transmission mileage fuel_type engine_size  \\\n",
       "0   C Class  2020.0  30495    Automatic     NaN    Diesel           2   \n",
       "1   C Class  2020.0  29989    Automatic     NaN    Petrol         1.5   \n",
       "2   C Class  2020.0  37899    Automatic     NaN    Diesel           2   \n",
       "3   C Class  2019.0  30399    Automatic     NaN    Diesel           2   \n",
       "4   C Class  2019.0  29899    Automatic     NaN    Diesel           2   \n",
       "\n",
       "  mileage2 fuel_type2 engine_size2     reference  \n",
       "0    1,200        NaN          NaN  /ad/25017331  \n",
       "1    1,000        NaN          NaN  /ad/25043746  \n",
       "2      500        NaN          NaN  /ad/25142894  \n",
       "3    5,000        NaN          NaN  /ad/24942816  \n",
       "4    4,500        NaN          NaN  /ad/24913660  "
      ]
     },
     "execution_count": 22,
     "metadata": {},
     "output_type": "execute_result"
    }
   ],
   "source": [
    "#Replace “fuel type”, “fuel type2”, “engine size”, and “engine size2” columns names for \n",
    "# “fuel_type”, “fuel_type2”, “engine_size” and “engine_size2” respectively.\n",
    "clean_df.rename(columns={'fuel type':'fuel_type',\n",
    "                          'fuel type2':'fuel_type2',\n",
    "                          'engine size':'engine_size',\n",
    "                          'engine size2':'engine_size2'}, \n",
    "                 inplace=True)\n",
    "clean_df.head()"
   ]
  },
  {
   "cell_type": "markdown",
   "metadata": {
    "id": "_c1maSsEBT2y"
   },
   "source": [
    "### Step 3.4 - Handling missing values in columns: fuel_type"
   ]
  },
  {
   "cell_type": "code",
   "execution_count": 23,
   "metadata": {
    "colab": {
     "base_uri": "https://localhost:8080/"
    },
    "id": "SuVQCZPgSRWo",
    "outputId": "a030137b-6444-4d52-b467-bf733ca58922"
   },
   "outputs": [
    {
     "data": {
      "text/plain": [
       "model              0\n",
       "year               3\n",
       "price              0\n",
       "transmission       0\n",
       "mileage           99\n",
       "fuel_type       2578\n",
       "engine_size       65\n",
       "mileage2          17\n",
       "fuel_type2        99\n",
       "engine_size2      99\n",
       "reference          0\n",
       "dtype: int64"
      ]
     },
     "execution_count": 23,
     "metadata": {},
     "output_type": "execute_result"
    }
   ],
   "source": [
    "#Check for missing values in fuel type columns\n",
    "clean_df.isna().sum()"
   ]
  },
  {
   "cell_type": "code",
   "execution_count": 24,
   "metadata": {
    "colab": {
     "base_uri": "https://localhost:8080/",
     "height": 309
    },
    "id": "ETu-qtSaBXgw",
    "outputId": "95160f73-e954-4861-fa82-cb985cd9eb58"
   },
   "outputs": [
    {
     "data": {
      "text/html": [
       "<div>\n",
       "<style scoped>\n",
       "    .dataframe tbody tr th:only-of-type {\n",
       "        vertical-align: middle;\n",
       "    }\n",
       "\n",
       "    .dataframe tbody tr th {\n",
       "        vertical-align: top;\n",
       "    }\n",
       "\n",
       "    .dataframe thead th {\n",
       "        text-align: right;\n",
       "    }\n",
       "</style>\n",
       "<table border=\"1\" class=\"dataframe\">\n",
       "  <thead>\n",
       "    <tr style=\"text-align: right;\">\n",
       "      <th></th>\n",
       "      <th>model</th>\n",
       "      <th>year</th>\n",
       "      <th>price</th>\n",
       "      <th>transmission</th>\n",
       "      <th>mileage</th>\n",
       "      <th>fuel_type</th>\n",
       "      <th>engine_size</th>\n",
       "      <th>mileage2</th>\n",
       "      <th>fuel_type2</th>\n",
       "      <th>engine_size2</th>\n",
       "      <th>reference</th>\n",
       "    </tr>\n",
       "  </thead>\n",
       "  <tbody>\n",
       "    <tr>\n",
       "      <th>0</th>\n",
       "      <td>C Class</td>\n",
       "      <td>2020.0</td>\n",
       "      <td>30495</td>\n",
       "      <td>Automatic</td>\n",
       "      <td>NaN</td>\n",
       "      <td>Diesel</td>\n",
       "      <td>2</td>\n",
       "      <td>1,200</td>\n",
       "      <td>Diesel</td>\n",
       "      <td>NaN</td>\n",
       "      <td>/ad/25017331</td>\n",
       "    </tr>\n",
       "    <tr>\n",
       "      <th>1</th>\n",
       "      <td>C Class</td>\n",
       "      <td>2020.0</td>\n",
       "      <td>29989</td>\n",
       "      <td>Automatic</td>\n",
       "      <td>NaN</td>\n",
       "      <td>Petrol</td>\n",
       "      <td>1.5</td>\n",
       "      <td>1,000</td>\n",
       "      <td>Petrol</td>\n",
       "      <td>NaN</td>\n",
       "      <td>/ad/25043746</td>\n",
       "    </tr>\n",
       "    <tr>\n",
       "      <th>2</th>\n",
       "      <td>C Class</td>\n",
       "      <td>2020.0</td>\n",
       "      <td>37899</td>\n",
       "      <td>Automatic</td>\n",
       "      <td>NaN</td>\n",
       "      <td>Diesel</td>\n",
       "      <td>2</td>\n",
       "      <td>500</td>\n",
       "      <td>Diesel</td>\n",
       "      <td>NaN</td>\n",
       "      <td>/ad/25142894</td>\n",
       "    </tr>\n",
       "    <tr>\n",
       "      <th>3</th>\n",
       "      <td>C Class</td>\n",
       "      <td>2019.0</td>\n",
       "      <td>30399</td>\n",
       "      <td>Automatic</td>\n",
       "      <td>NaN</td>\n",
       "      <td>Diesel</td>\n",
       "      <td>2</td>\n",
       "      <td>5,000</td>\n",
       "      <td>Diesel</td>\n",
       "      <td>NaN</td>\n",
       "      <td>/ad/24942816</td>\n",
       "    </tr>\n",
       "    <tr>\n",
       "      <th>4</th>\n",
       "      <td>C Class</td>\n",
       "      <td>2019.0</td>\n",
       "      <td>29899</td>\n",
       "      <td>Automatic</td>\n",
       "      <td>NaN</td>\n",
       "      <td>Diesel</td>\n",
       "      <td>2</td>\n",
       "      <td>4,500</td>\n",
       "      <td>Diesel</td>\n",
       "      <td>NaN</td>\n",
       "      <td>/ad/24913660</td>\n",
       "    </tr>\n",
       "  </tbody>\n",
       "</table>\n",
       "</div>"
      ],
      "text/plain": [
       "      model    year  price transmission mileage fuel_type engine_size  \\\n",
       "0   C Class  2020.0  30495    Automatic     NaN    Diesel           2   \n",
       "1   C Class  2020.0  29989    Automatic     NaN    Petrol         1.5   \n",
       "2   C Class  2020.0  37899    Automatic     NaN    Diesel           2   \n",
       "3   C Class  2019.0  30399    Automatic     NaN    Diesel           2   \n",
       "4   C Class  2019.0  29899    Automatic     NaN    Diesel           2   \n",
       "\n",
       "  mileage2 fuel_type2 engine_size2     reference  \n",
       "0    1,200     Diesel          NaN  /ad/25017331  \n",
       "1    1,000     Petrol          NaN  /ad/25043746  \n",
       "2      500     Diesel          NaN  /ad/25142894  \n",
       "3    5,000     Diesel          NaN  /ad/24942816  \n",
       "4    4,500     Diesel          NaN  /ad/24913660  "
      ]
     },
     "execution_count": 24,
     "metadata": {},
     "output_type": "execute_result"
    }
   ],
   "source": [
    "#fill nan values in column fuel_type2 with values from column fuel_type\n",
    "clean_df['fuel_type2'] = clean_df.fuel_type2.fillna(clean_df.fuel_type)\n",
    "clean_df.head()"
   ]
  },
  {
   "cell_type": "code",
   "execution_count": 25,
   "metadata": {
    "colab": {
     "base_uri": "https://localhost:8080/"
    },
    "id": "Qi3LdYCSBaAn",
    "outputId": "fc22c448-26b1-4562-ec61-f5415eee395a"
   },
   "outputs": [
    {
     "data": {
      "text/plain": [
       "model              0\n",
       "year               3\n",
       "price              0\n",
       "transmission       0\n",
       "mileage           99\n",
       "fuel_type       2578\n",
       "engine_size       65\n",
       "mileage2          17\n",
       "fuel_type2         0\n",
       "engine_size2      99\n",
       "reference          0\n",
       "dtype: int64"
      ]
     },
     "execution_count": 25,
     "metadata": {},
     "output_type": "execute_result"
    }
   ],
   "source": [
    "clean_df.isna().sum()"
   ]
  },
  {
   "cell_type": "code",
   "execution_count": 26,
   "metadata": {
    "colab": {
     "base_uri": "https://localhost:8080/",
     "height": 202
    },
    "id": "eDpYQwS-BcAP",
    "outputId": "4608e890-3c2f-4812-df74-1495fcd69a36"
   },
   "outputs": [
    {
     "data": {
      "text/html": [
       "<div>\n",
       "<style scoped>\n",
       "    .dataframe tbody tr th:only-of-type {\n",
       "        vertical-align: middle;\n",
       "    }\n",
       "\n",
       "    .dataframe tbody tr th {\n",
       "        vertical-align: top;\n",
       "    }\n",
       "\n",
       "    .dataframe thead th {\n",
       "        text-align: right;\n",
       "    }\n",
       "</style>\n",
       "<table border=\"1\" class=\"dataframe\">\n",
       "  <thead>\n",
       "    <tr style=\"text-align: right;\">\n",
       "      <th></th>\n",
       "      <th>model</th>\n",
       "      <th>year</th>\n",
       "      <th>price</th>\n",
       "      <th>transmission</th>\n",
       "      <th>mileage</th>\n",
       "      <th>engine_size</th>\n",
       "      <th>mileage2</th>\n",
       "      <th>fuel_type2</th>\n",
       "      <th>engine_size2</th>\n",
       "      <th>reference</th>\n",
       "    </tr>\n",
       "  </thead>\n",
       "  <tbody>\n",
       "    <tr>\n",
       "      <th>0</th>\n",
       "      <td>C Class</td>\n",
       "      <td>2020.0</td>\n",
       "      <td>30495</td>\n",
       "      <td>Automatic</td>\n",
       "      <td>NaN</td>\n",
       "      <td>2</td>\n",
       "      <td>1,200</td>\n",
       "      <td>Diesel</td>\n",
       "      <td>NaN</td>\n",
       "      <td>/ad/25017331</td>\n",
       "    </tr>\n",
       "    <tr>\n",
       "      <th>1</th>\n",
       "      <td>C Class</td>\n",
       "      <td>2020.0</td>\n",
       "      <td>29989</td>\n",
       "      <td>Automatic</td>\n",
       "      <td>NaN</td>\n",
       "      <td>1.5</td>\n",
       "      <td>1,000</td>\n",
       "      <td>Petrol</td>\n",
       "      <td>NaN</td>\n",
       "      <td>/ad/25043746</td>\n",
       "    </tr>\n",
       "    <tr>\n",
       "      <th>2</th>\n",
       "      <td>C Class</td>\n",
       "      <td>2020.0</td>\n",
       "      <td>37899</td>\n",
       "      <td>Automatic</td>\n",
       "      <td>NaN</td>\n",
       "      <td>2</td>\n",
       "      <td>500</td>\n",
       "      <td>Diesel</td>\n",
       "      <td>NaN</td>\n",
       "      <td>/ad/25142894</td>\n",
       "    </tr>\n",
       "    <tr>\n",
       "      <th>3</th>\n",
       "      <td>C Class</td>\n",
       "      <td>2019.0</td>\n",
       "      <td>30399</td>\n",
       "      <td>Automatic</td>\n",
       "      <td>NaN</td>\n",
       "      <td>2</td>\n",
       "      <td>5,000</td>\n",
       "      <td>Diesel</td>\n",
       "      <td>NaN</td>\n",
       "      <td>/ad/24942816</td>\n",
       "    </tr>\n",
       "    <tr>\n",
       "      <th>4</th>\n",
       "      <td>C Class</td>\n",
       "      <td>2019.0</td>\n",
       "      <td>29899</td>\n",
       "      <td>Automatic</td>\n",
       "      <td>NaN</td>\n",
       "      <td>2</td>\n",
       "      <td>4,500</td>\n",
       "      <td>Diesel</td>\n",
       "      <td>NaN</td>\n",
       "      <td>/ad/24913660</td>\n",
       "    </tr>\n",
       "  </tbody>\n",
       "</table>\n",
       "</div>"
      ],
      "text/plain": [
       "      model    year  price transmission mileage engine_size mileage2  \\\n",
       "0   C Class  2020.0  30495    Automatic     NaN           2    1,200   \n",
       "1   C Class  2020.0  29989    Automatic     NaN         1.5    1,000   \n",
       "2   C Class  2020.0  37899    Automatic     NaN           2      500   \n",
       "3   C Class  2019.0  30399    Automatic     NaN           2    5,000   \n",
       "4   C Class  2019.0  29899    Automatic     NaN           2    4,500   \n",
       "\n",
       "  fuel_type2 engine_size2     reference  \n",
       "0     Diesel          NaN  /ad/25017331  \n",
       "1     Petrol          NaN  /ad/25043746  \n",
       "2     Diesel          NaN  /ad/25142894  \n",
       "3     Diesel          NaN  /ad/24942816  \n",
       "4     Diesel          NaN  /ad/24913660  "
      ]
     },
     "execution_count": 26,
     "metadata": {},
     "output_type": "execute_result"
    }
   ],
   "source": [
    "#since fuel_type still has a lot of missing values, we can drop this column\n",
    "clean_df = clean_df.drop(columns=['fuel_type'],axis=1)\n",
    "clean_df.head()"
   ]
  },
  {
   "cell_type": "code",
   "execution_count": 27,
   "metadata": {
    "colab": {
     "base_uri": "https://localhost:8080/"
    },
    "id": "TenHY95EBe3Q",
    "outputId": "a22f52c8-2602-4411-e3d1-c712a3c7db7b"
   },
   "outputs": [
    {
     "data": {
      "text/plain": [
       "(3907, 10)"
      ]
     },
     "execution_count": 27,
     "metadata": {},
     "output_type": "execute_result"
    }
   ],
   "source": [
    "clean_df.shape"
   ]
  },
  {
   "cell_type": "code",
   "execution_count": 28,
   "metadata": {
    "colab": {
     "base_uri": "https://localhost:8080/"
    },
    "id": "SydqTjKo31Fk",
    "outputId": "6cfc8ac7-9696-49ab-cfd6-34bc16d9cae4"
   },
   "outputs": [
    {
     "data": {
      "text/plain": [
       "model            0\n",
       "year             3\n",
       "price            0\n",
       "transmission     0\n",
       "mileage         99\n",
       "engine_size     65\n",
       "mileage2        17\n",
       "fuel_type2       0\n",
       "engine_size2    99\n",
       "reference        0\n",
       "dtype: int64"
      ]
     },
     "execution_count": 28,
     "metadata": {},
     "output_type": "execute_result"
    }
   ],
   "source": [
    "clean_df.isna().sum()"
   ]
  },
  {
   "cell_type": "code",
   "execution_count": 29,
   "metadata": {
    "id": "IzcZBYSHTBR_"
   },
   "outputs": [],
   "source": [
    "#Rename fuel_type2 column into fuel_type\n",
    "clean_df.rename(columns={'fuel_type2':'fuel_type'},inplace=True)"
   ]
  },
  {
   "cell_type": "markdown",
   "metadata": {
    "id": "yPQvNXBwBhBY"
   },
   "source": [
    "### Step 3.5 - Handling missing values and comma format in columns: mileage"
   ]
  },
  {
   "cell_type": "code",
   "execution_count": 30,
   "metadata": {
    "colab": {
     "base_uri": "https://localhost:8080/",
     "height": 202
    },
    "id": "jZIuSj0eBkxQ",
    "outputId": "d5040021-baed-4d94-9ad1-e61546d51807"
   },
   "outputs": [
    {
     "data": {
      "text/html": [
       "<div>\n",
       "<style scoped>\n",
       "    .dataframe tbody tr th:only-of-type {\n",
       "        vertical-align: middle;\n",
       "    }\n",
       "\n",
       "    .dataframe tbody tr th {\n",
       "        vertical-align: top;\n",
       "    }\n",
       "\n",
       "    .dataframe thead th {\n",
       "        text-align: right;\n",
       "    }\n",
       "</style>\n",
       "<table border=\"1\" class=\"dataframe\">\n",
       "  <thead>\n",
       "    <tr style=\"text-align: right;\">\n",
       "      <th></th>\n",
       "      <th>model</th>\n",
       "      <th>year</th>\n",
       "      <th>price</th>\n",
       "      <th>transmission</th>\n",
       "      <th>mileage</th>\n",
       "      <th>engine_size</th>\n",
       "      <th>mileage2</th>\n",
       "      <th>fuel_type</th>\n",
       "      <th>engine_size2</th>\n",
       "      <th>reference</th>\n",
       "    </tr>\n",
       "  </thead>\n",
       "  <tbody>\n",
       "    <tr>\n",
       "      <th>0</th>\n",
       "      <td>C Class</td>\n",
       "      <td>2020.0</td>\n",
       "      <td>30495</td>\n",
       "      <td>Automatic</td>\n",
       "      <td>1,200</td>\n",
       "      <td>2</td>\n",
       "      <td>1,200</td>\n",
       "      <td>Diesel</td>\n",
       "      <td>NaN</td>\n",
       "      <td>/ad/25017331</td>\n",
       "    </tr>\n",
       "    <tr>\n",
       "      <th>1</th>\n",
       "      <td>C Class</td>\n",
       "      <td>2020.0</td>\n",
       "      <td>29989</td>\n",
       "      <td>Automatic</td>\n",
       "      <td>1,000</td>\n",
       "      <td>1.5</td>\n",
       "      <td>1,000</td>\n",
       "      <td>Petrol</td>\n",
       "      <td>NaN</td>\n",
       "      <td>/ad/25043746</td>\n",
       "    </tr>\n",
       "    <tr>\n",
       "      <th>2</th>\n",
       "      <td>C Class</td>\n",
       "      <td>2020.0</td>\n",
       "      <td>37899</td>\n",
       "      <td>Automatic</td>\n",
       "      <td>500</td>\n",
       "      <td>2</td>\n",
       "      <td>500</td>\n",
       "      <td>Diesel</td>\n",
       "      <td>NaN</td>\n",
       "      <td>/ad/25142894</td>\n",
       "    </tr>\n",
       "    <tr>\n",
       "      <th>3</th>\n",
       "      <td>C Class</td>\n",
       "      <td>2019.0</td>\n",
       "      <td>30399</td>\n",
       "      <td>Automatic</td>\n",
       "      <td>5,000</td>\n",
       "      <td>2</td>\n",
       "      <td>5,000</td>\n",
       "      <td>Diesel</td>\n",
       "      <td>NaN</td>\n",
       "      <td>/ad/24942816</td>\n",
       "    </tr>\n",
       "    <tr>\n",
       "      <th>4</th>\n",
       "      <td>C Class</td>\n",
       "      <td>2019.0</td>\n",
       "      <td>29899</td>\n",
       "      <td>Automatic</td>\n",
       "      <td>4,500</td>\n",
       "      <td>2</td>\n",
       "      <td>4,500</td>\n",
       "      <td>Diesel</td>\n",
       "      <td>NaN</td>\n",
       "      <td>/ad/24913660</td>\n",
       "    </tr>\n",
       "  </tbody>\n",
       "</table>\n",
       "</div>"
      ],
      "text/plain": [
       "      model    year  price transmission mileage engine_size mileage2  \\\n",
       "0   C Class  2020.0  30495    Automatic   1,200           2    1,200   \n",
       "1   C Class  2020.0  29989    Automatic   1,000         1.5    1,000   \n",
       "2   C Class  2020.0  37899    Automatic     500           2      500   \n",
       "3   C Class  2019.0  30399    Automatic   5,000           2    5,000   \n",
       "4   C Class  2019.0  29899    Automatic   4,500           2    4,500   \n",
       "\n",
       "  fuel_type engine_size2     reference  \n",
       "0    Diesel          NaN  /ad/25017331  \n",
       "1    Petrol          NaN  /ad/25043746  \n",
       "2    Diesel          NaN  /ad/25142894  \n",
       "3    Diesel          NaN  /ad/24942816  \n",
       "4    Diesel          NaN  /ad/24913660  "
      ]
     },
     "execution_count": 30,
     "metadata": {},
     "output_type": "execute_result"
    }
   ],
   "source": [
    "#fill nan values in column mileage with values from column mileage2\n",
    "clean_df['mileage'] = clean_df.mileage.fillna(clean_df.mileage2)\n",
    "clean_df.head()"
   ]
  },
  {
   "cell_type": "code",
   "execution_count": 31,
   "metadata": {
    "colab": {
     "base_uri": "https://localhost:8080/"
    },
    "id": "FJFwmqEVUAAW",
    "outputId": "e66e0ae6-315c-410f-eed8-8a074d60573f"
   },
   "outputs": [
    {
     "data": {
      "text/plain": [
       "model            0\n",
       "year             3\n",
       "price            0\n",
       "transmission     0\n",
       "mileage          0\n",
       "engine_size     65\n",
       "mileage2        17\n",
       "fuel_type        0\n",
       "engine_size2    99\n",
       "reference        0\n",
       "dtype: int64"
      ]
     },
     "execution_count": 31,
     "metadata": {},
     "output_type": "execute_result"
    }
   ],
   "source": [
    "clean_df.isna().sum()"
   ]
  },
  {
   "cell_type": "code",
   "execution_count": 32,
   "metadata": {
    "colab": {
     "base_uri": "https://localhost:8080/",
     "height": 202
    },
    "id": "5fON9LNcBnGy",
    "outputId": "c8f58cef-bd28-4db1-ccf7-e214b0fba900"
   },
   "outputs": [
    {
     "data": {
      "text/html": [
       "<div>\n",
       "<style scoped>\n",
       "    .dataframe tbody tr th:only-of-type {\n",
       "        vertical-align: middle;\n",
       "    }\n",
       "\n",
       "    .dataframe tbody tr th {\n",
       "        vertical-align: top;\n",
       "    }\n",
       "\n",
       "    .dataframe thead th {\n",
       "        text-align: right;\n",
       "    }\n",
       "</style>\n",
       "<table border=\"1\" class=\"dataframe\">\n",
       "  <thead>\n",
       "    <tr style=\"text-align: right;\">\n",
       "      <th></th>\n",
       "      <th>model</th>\n",
       "      <th>year</th>\n",
       "      <th>price</th>\n",
       "      <th>transmission</th>\n",
       "      <th>mileage</th>\n",
       "      <th>engine_size</th>\n",
       "      <th>mileage2</th>\n",
       "      <th>fuel_type</th>\n",
       "      <th>engine_size2</th>\n",
       "      <th>reference</th>\n",
       "    </tr>\n",
       "  </thead>\n",
       "  <tbody>\n",
       "    <tr>\n",
       "      <th>0</th>\n",
       "      <td>C Class</td>\n",
       "      <td>2020.0</td>\n",
       "      <td>30495</td>\n",
       "      <td>Automatic</td>\n",
       "      <td>1200</td>\n",
       "      <td>2</td>\n",
       "      <td>1,200</td>\n",
       "      <td>Diesel</td>\n",
       "      <td>NaN</td>\n",
       "      <td>/ad/25017331</td>\n",
       "    </tr>\n",
       "    <tr>\n",
       "      <th>1</th>\n",
       "      <td>C Class</td>\n",
       "      <td>2020.0</td>\n",
       "      <td>29989</td>\n",
       "      <td>Automatic</td>\n",
       "      <td>1000</td>\n",
       "      <td>1.5</td>\n",
       "      <td>1,000</td>\n",
       "      <td>Petrol</td>\n",
       "      <td>NaN</td>\n",
       "      <td>/ad/25043746</td>\n",
       "    </tr>\n",
       "    <tr>\n",
       "      <th>2</th>\n",
       "      <td>C Class</td>\n",
       "      <td>2020.0</td>\n",
       "      <td>37899</td>\n",
       "      <td>Automatic</td>\n",
       "      <td>500</td>\n",
       "      <td>2</td>\n",
       "      <td>500</td>\n",
       "      <td>Diesel</td>\n",
       "      <td>NaN</td>\n",
       "      <td>/ad/25142894</td>\n",
       "    </tr>\n",
       "    <tr>\n",
       "      <th>3</th>\n",
       "      <td>C Class</td>\n",
       "      <td>2019.0</td>\n",
       "      <td>30399</td>\n",
       "      <td>Automatic</td>\n",
       "      <td>5000</td>\n",
       "      <td>2</td>\n",
       "      <td>5,000</td>\n",
       "      <td>Diesel</td>\n",
       "      <td>NaN</td>\n",
       "      <td>/ad/24942816</td>\n",
       "    </tr>\n",
       "    <tr>\n",
       "      <th>4</th>\n",
       "      <td>C Class</td>\n",
       "      <td>2019.0</td>\n",
       "      <td>29899</td>\n",
       "      <td>Automatic</td>\n",
       "      <td>4500</td>\n",
       "      <td>2</td>\n",
       "      <td>4,500</td>\n",
       "      <td>Diesel</td>\n",
       "      <td>NaN</td>\n",
       "      <td>/ad/24913660</td>\n",
       "    </tr>\n",
       "  </tbody>\n",
       "</table>\n",
       "</div>"
      ],
      "text/plain": [
       "      model    year  price transmission mileage engine_size mileage2  \\\n",
       "0   C Class  2020.0  30495    Automatic    1200           2    1,200   \n",
       "1   C Class  2020.0  29989    Automatic    1000         1.5    1,000   \n",
       "2   C Class  2020.0  37899    Automatic     500           2      500   \n",
       "3   C Class  2019.0  30399    Automatic    5000           2    5,000   \n",
       "4   C Class  2019.0  29899    Automatic    4500           2    4,500   \n",
       "\n",
       "  fuel_type engine_size2     reference  \n",
       "0    Diesel          NaN  /ad/25017331  \n",
       "1    Petrol          NaN  /ad/25043746  \n",
       "2    Diesel          NaN  /ad/25142894  \n",
       "3    Diesel          NaN  /ad/24942816  \n",
       "4    Diesel          NaN  /ad/24913660  "
      ]
     },
     "execution_count": 32,
     "metadata": {},
     "output_type": "execute_result"
    }
   ],
   "source": [
    "#Replace comma character with empt space at mileage column\n",
    "clean_df['mileage'] = clean_df['mileage'].str.replace(',','')\n",
    "clean_df.head()"
   ]
  },
  {
   "cell_type": "code",
   "execution_count": 33,
   "metadata": {
    "colab": {
     "base_uri": "https://localhost:8080/",
     "height": 202
    },
    "id": "yOYVdJFDBpGe",
    "outputId": "c3f3e67a-7f80-4952-da8d-ba16925b44a9"
   },
   "outputs": [
    {
     "data": {
      "text/html": [
       "<div>\n",
       "<style scoped>\n",
       "    .dataframe tbody tr th:only-of-type {\n",
       "        vertical-align: middle;\n",
       "    }\n",
       "\n",
       "    .dataframe tbody tr th {\n",
       "        vertical-align: top;\n",
       "    }\n",
       "\n",
       "    .dataframe thead th {\n",
       "        text-align: right;\n",
       "    }\n",
       "</style>\n",
       "<table border=\"1\" class=\"dataframe\">\n",
       "  <thead>\n",
       "    <tr style=\"text-align: right;\">\n",
       "      <th></th>\n",
       "      <th>model</th>\n",
       "      <th>year</th>\n",
       "      <th>price</th>\n",
       "      <th>transmission</th>\n",
       "      <th>mileage</th>\n",
       "      <th>engine_size</th>\n",
       "      <th>fuel_type</th>\n",
       "      <th>engine_size2</th>\n",
       "      <th>reference</th>\n",
       "    </tr>\n",
       "  </thead>\n",
       "  <tbody>\n",
       "    <tr>\n",
       "      <th>0</th>\n",
       "      <td>C Class</td>\n",
       "      <td>2020.0</td>\n",
       "      <td>30495</td>\n",
       "      <td>Automatic</td>\n",
       "      <td>1200</td>\n",
       "      <td>2</td>\n",
       "      <td>Diesel</td>\n",
       "      <td>NaN</td>\n",
       "      <td>/ad/25017331</td>\n",
       "    </tr>\n",
       "    <tr>\n",
       "      <th>1</th>\n",
       "      <td>C Class</td>\n",
       "      <td>2020.0</td>\n",
       "      <td>29989</td>\n",
       "      <td>Automatic</td>\n",
       "      <td>1000</td>\n",
       "      <td>1.5</td>\n",
       "      <td>Petrol</td>\n",
       "      <td>NaN</td>\n",
       "      <td>/ad/25043746</td>\n",
       "    </tr>\n",
       "    <tr>\n",
       "      <th>2</th>\n",
       "      <td>C Class</td>\n",
       "      <td>2020.0</td>\n",
       "      <td>37899</td>\n",
       "      <td>Automatic</td>\n",
       "      <td>500</td>\n",
       "      <td>2</td>\n",
       "      <td>Diesel</td>\n",
       "      <td>NaN</td>\n",
       "      <td>/ad/25142894</td>\n",
       "    </tr>\n",
       "    <tr>\n",
       "      <th>3</th>\n",
       "      <td>C Class</td>\n",
       "      <td>2019.0</td>\n",
       "      <td>30399</td>\n",
       "      <td>Automatic</td>\n",
       "      <td>5000</td>\n",
       "      <td>2</td>\n",
       "      <td>Diesel</td>\n",
       "      <td>NaN</td>\n",
       "      <td>/ad/24942816</td>\n",
       "    </tr>\n",
       "    <tr>\n",
       "      <th>4</th>\n",
       "      <td>C Class</td>\n",
       "      <td>2019.0</td>\n",
       "      <td>29899</td>\n",
       "      <td>Automatic</td>\n",
       "      <td>4500</td>\n",
       "      <td>2</td>\n",
       "      <td>Diesel</td>\n",
       "      <td>NaN</td>\n",
       "      <td>/ad/24913660</td>\n",
       "    </tr>\n",
       "  </tbody>\n",
       "</table>\n",
       "</div>"
      ],
      "text/plain": [
       "      model    year  price transmission mileage engine_size fuel_type  \\\n",
       "0   C Class  2020.0  30495    Automatic    1200           2    Diesel   \n",
       "1   C Class  2020.0  29989    Automatic    1000         1.5    Petrol   \n",
       "2   C Class  2020.0  37899    Automatic     500           2    Diesel   \n",
       "3   C Class  2019.0  30399    Automatic    5000           2    Diesel   \n",
       "4   C Class  2019.0  29899    Automatic    4500           2    Diesel   \n",
       "\n",
       "  engine_size2     reference  \n",
       "0          NaN  /ad/25017331  \n",
       "1          NaN  /ad/25043746  \n",
       "2          NaN  /ad/25142894  \n",
       "3          NaN  /ad/24942816  \n",
       "4          NaN  /ad/24913660  "
      ]
     },
     "execution_count": 33,
     "metadata": {},
     "output_type": "execute_result"
    }
   ],
   "source": [
    "# drop the mileage2 column\n",
    "clean_df = clean_df.drop(columns=['mileage2'],axis=1)\n",
    "clean_df.head()"
   ]
  },
  {
   "cell_type": "code",
   "execution_count": 34,
   "metadata": {
    "colab": {
     "base_uri": "https://localhost:8080/"
    },
    "id": "7pw8KMtb72Ea",
    "outputId": "2f6c74df-2270-4531-e3c1-c4a9b445a91a"
   },
   "outputs": [
    {
     "data": {
      "text/plain": [
       "(3907, 9)"
      ]
     },
     "execution_count": 34,
     "metadata": {},
     "output_type": "execute_result"
    }
   ],
   "source": [
    "clean_df.shape"
   ]
  },
  {
   "cell_type": "code",
   "execution_count": 35,
   "metadata": {
    "colab": {
     "base_uri": "https://localhost:8080/"
    },
    "id": "A6vRyMg02F8c",
    "outputId": "bc588619-7669-46a5-d626-7ac1aceff354"
   },
   "outputs": [
    {
     "data": {
      "text/plain": [
       "model            0\n",
       "year             3\n",
       "price            0\n",
       "transmission     0\n",
       "mileage          0\n",
       "engine_size     65\n",
       "fuel_type        0\n",
       "engine_size2    99\n",
       "reference        0\n",
       "dtype: int64"
      ]
     },
     "execution_count": 35,
     "metadata": {},
     "output_type": "execute_result"
    }
   ],
   "source": [
    "# check existing NaN values in the dataset\n",
    "clean_df.isna().sum()"
   ]
  },
  {
   "cell_type": "code",
   "execution_count": 36,
   "metadata": {
    "id": "U7Np29nUUxIP"
   },
   "outputs": [],
   "source": [
    "#Convert mileage data type to numerical\n",
    "clean_df['mileage'] = pd.to_numeric(clean_df['mileage'],errors='coerce')"
   ]
  },
  {
   "cell_type": "code",
   "execution_count": 37,
   "metadata": {
    "colab": {
     "base_uri": "https://localhost:8080/"
    },
    "id": "6I6sFuZ6VRZM",
    "outputId": "6783f7df-2843-4fd2-f2c7-aa74adbc8593"
   },
   "outputs": [
    {
     "data": {
      "text/plain": [
       "model            object\n",
       "year            float64\n",
       "price             int64\n",
       "transmission     object\n",
       "mileage         float64\n",
       "engine_size      object\n",
       "fuel_type        object\n",
       "engine_size2     object\n",
       "reference        object\n",
       "dtype: object"
      ]
     },
     "execution_count": 37,
     "metadata": {},
     "output_type": "execute_result"
    }
   ],
   "source": [
    "clean_df.dtypes"
   ]
  },
  {
   "cell_type": "markdown",
   "metadata": {
    "id": "uxMQXQqe4Bnq"
   },
   "source": [
    "### Step 3.6 - Handling missing values and different value standard in columns: engine_size "
   ]
  },
  {
   "cell_type": "code",
   "execution_count": 38,
   "metadata": {
    "colab": {
     "base_uri": "https://localhost:8080/",
     "height": 202
    },
    "id": "YmSEAU5Mezjp",
    "outputId": "f842e6e7-f594-4820-9e20-1ad5bfe8a16f"
   },
   "outputs": [
    {
     "data": {
      "text/html": [
       "<div>\n",
       "<style scoped>\n",
       "    .dataframe tbody tr th:only-of-type {\n",
       "        vertical-align: middle;\n",
       "    }\n",
       "\n",
       "    .dataframe tbody tr th {\n",
       "        vertical-align: top;\n",
       "    }\n",
       "\n",
       "    .dataframe thead th {\n",
       "        text-align: right;\n",
       "    }\n",
       "</style>\n",
       "<table border=\"1\" class=\"dataframe\">\n",
       "  <thead>\n",
       "    <tr style=\"text-align: right;\">\n",
       "      <th></th>\n",
       "      <th>model</th>\n",
       "      <th>year</th>\n",
       "      <th>price</th>\n",
       "      <th>transmission</th>\n",
       "      <th>mileage</th>\n",
       "      <th>engine_size</th>\n",
       "      <th>fuel_type</th>\n",
       "      <th>engine_size2</th>\n",
       "      <th>reference</th>\n",
       "    </tr>\n",
       "  </thead>\n",
       "  <tbody>\n",
       "    <tr>\n",
       "      <th>0</th>\n",
       "      <td>C Class</td>\n",
       "      <td>2020.0</td>\n",
       "      <td>30495</td>\n",
       "      <td>Automatic</td>\n",
       "      <td>1200.0</td>\n",
       "      <td>2</td>\n",
       "      <td>Diesel</td>\n",
       "      <td>2</td>\n",
       "      <td>/ad/25017331</td>\n",
       "    </tr>\n",
       "    <tr>\n",
       "      <th>1</th>\n",
       "      <td>C Class</td>\n",
       "      <td>2020.0</td>\n",
       "      <td>29989</td>\n",
       "      <td>Automatic</td>\n",
       "      <td>1000.0</td>\n",
       "      <td>1.5</td>\n",
       "      <td>Petrol</td>\n",
       "      <td>1.5</td>\n",
       "      <td>/ad/25043746</td>\n",
       "    </tr>\n",
       "    <tr>\n",
       "      <th>2</th>\n",
       "      <td>C Class</td>\n",
       "      <td>2020.0</td>\n",
       "      <td>37899</td>\n",
       "      <td>Automatic</td>\n",
       "      <td>500.0</td>\n",
       "      <td>2</td>\n",
       "      <td>Diesel</td>\n",
       "      <td>2</td>\n",
       "      <td>/ad/25142894</td>\n",
       "    </tr>\n",
       "    <tr>\n",
       "      <th>3</th>\n",
       "      <td>C Class</td>\n",
       "      <td>2019.0</td>\n",
       "      <td>30399</td>\n",
       "      <td>Automatic</td>\n",
       "      <td>5000.0</td>\n",
       "      <td>2</td>\n",
       "      <td>Diesel</td>\n",
       "      <td>2</td>\n",
       "      <td>/ad/24942816</td>\n",
       "    </tr>\n",
       "    <tr>\n",
       "      <th>4</th>\n",
       "      <td>C Class</td>\n",
       "      <td>2019.0</td>\n",
       "      <td>29899</td>\n",
       "      <td>Automatic</td>\n",
       "      <td>4500.0</td>\n",
       "      <td>2</td>\n",
       "      <td>Diesel</td>\n",
       "      <td>2</td>\n",
       "      <td>/ad/24913660</td>\n",
       "    </tr>\n",
       "  </tbody>\n",
       "</table>\n",
       "</div>"
      ],
      "text/plain": [
       "      model    year  price transmission  mileage engine_size fuel_type  \\\n",
       "0   C Class  2020.0  30495    Automatic   1200.0           2    Diesel   \n",
       "1   C Class  2020.0  29989    Automatic   1000.0         1.5    Petrol   \n",
       "2   C Class  2020.0  37899    Automatic    500.0           2    Diesel   \n",
       "3   C Class  2019.0  30399    Automatic   5000.0           2    Diesel   \n",
       "4   C Class  2019.0  29899    Automatic   4500.0           2    Diesel   \n",
       "\n",
       "  engine_size2     reference  \n",
       "0            2  /ad/25017331  \n",
       "1          1.5  /ad/25043746  \n",
       "2            2  /ad/25142894  \n",
       "3            2  /ad/24942816  \n",
       "4            2  /ad/24913660  "
      ]
     },
     "execution_count": 38,
     "metadata": {},
     "output_type": "execute_result"
    }
   ],
   "source": [
    "#fill the missing values in engine_size2 with values from the engine_size column\n",
    "clean_df['engine_size2']=clean_df['engine_size2'].fillna(clean_df.engine_size)\n",
    "clean_df.head()"
   ]
  },
  {
   "cell_type": "code",
   "execution_count": 39,
   "metadata": {
    "colab": {
     "base_uri": "https://localhost:8080/"
    },
    "id": "kdHZIXp5Vi-z",
    "outputId": "795af888-89e5-4543-9011-e7700186136f"
   },
   "outputs": [
    {
     "data": {
      "text/plain": [
       "model            0\n",
       "year             3\n",
       "price            0\n",
       "transmission     0\n",
       "mileage          4\n",
       "engine_size     65\n",
       "fuel_type        0\n",
       "engine_size2     0\n",
       "reference        0\n",
       "dtype: int64"
      ]
     },
     "execution_count": 39,
     "metadata": {},
     "output_type": "execute_result"
    }
   ],
   "source": [
    "# check existing NaN values in the dataset\n",
    "clean_df.isna().sum()"
   ]
  },
  {
   "cell_type": "markdown",
   "metadata": {
    "id": "fkJQWAZHV8cx"
   },
   "source": [
    "After converting the mileage column into numerical, 4 null datapoints are found. But they are going to be dropped in step 3.7 as it is not an expressive number and would not make a relevant impact in the analysis."
   ]
  },
  {
   "cell_type": "code",
   "execution_count": 40,
   "metadata": {
    "id": "oBZdDGWs1YMt"
   },
   "outputs": [],
   "source": [
    "#convert engine_size2 column into numeric\n",
    "clean_df['engine_size2'] = pd.to_numeric(clean_df['engine_size2'],errors='coerce')\n",
    "clean_df['engine_size2'] = clean_df['engine_size2'].apply(lambda x: round(x/1000, 1) if x > 1000 else round(x, 1))\n"
   ]
  },
  {
   "cell_type": "code",
   "execution_count": 41,
   "metadata": {
    "colab": {
     "base_uri": "https://localhost:8080/",
     "height": 202
    },
    "id": "vYFzCere1uQm",
    "outputId": "f8510078-80cd-469f-f0e5-b83dcbce55f6"
   },
   "outputs": [
    {
     "data": {
      "text/html": [
       "<div>\n",
       "<style scoped>\n",
       "    .dataframe tbody tr th:only-of-type {\n",
       "        vertical-align: middle;\n",
       "    }\n",
       "\n",
       "    .dataframe tbody tr th {\n",
       "        vertical-align: top;\n",
       "    }\n",
       "\n",
       "    .dataframe thead th {\n",
       "        text-align: right;\n",
       "    }\n",
       "</style>\n",
       "<table border=\"1\" class=\"dataframe\">\n",
       "  <thead>\n",
       "    <tr style=\"text-align: right;\">\n",
       "      <th></th>\n",
       "      <th>model</th>\n",
       "      <th>year</th>\n",
       "      <th>price</th>\n",
       "      <th>transmission</th>\n",
       "      <th>mileage</th>\n",
       "      <th>engine_size</th>\n",
       "      <th>fuel_type</th>\n",
       "      <th>engine_size2</th>\n",
       "      <th>reference</th>\n",
       "    </tr>\n",
       "  </thead>\n",
       "  <tbody>\n",
       "    <tr>\n",
       "      <th>0</th>\n",
       "      <td>C Class</td>\n",
       "      <td>2020.0</td>\n",
       "      <td>30495</td>\n",
       "      <td>Automatic</td>\n",
       "      <td>1200.0</td>\n",
       "      <td>2</td>\n",
       "      <td>Diesel</td>\n",
       "      <td>2.0</td>\n",
       "      <td>/ad/25017331</td>\n",
       "    </tr>\n",
       "    <tr>\n",
       "      <th>1</th>\n",
       "      <td>C Class</td>\n",
       "      <td>2020.0</td>\n",
       "      <td>29989</td>\n",
       "      <td>Automatic</td>\n",
       "      <td>1000.0</td>\n",
       "      <td>1.5</td>\n",
       "      <td>Petrol</td>\n",
       "      <td>1.5</td>\n",
       "      <td>/ad/25043746</td>\n",
       "    </tr>\n",
       "    <tr>\n",
       "      <th>2</th>\n",
       "      <td>C Class</td>\n",
       "      <td>2020.0</td>\n",
       "      <td>37899</td>\n",
       "      <td>Automatic</td>\n",
       "      <td>500.0</td>\n",
       "      <td>2</td>\n",
       "      <td>Diesel</td>\n",
       "      <td>2.0</td>\n",
       "      <td>/ad/25142894</td>\n",
       "    </tr>\n",
       "    <tr>\n",
       "      <th>3</th>\n",
       "      <td>C Class</td>\n",
       "      <td>2019.0</td>\n",
       "      <td>30399</td>\n",
       "      <td>Automatic</td>\n",
       "      <td>5000.0</td>\n",
       "      <td>2</td>\n",
       "      <td>Diesel</td>\n",
       "      <td>2.0</td>\n",
       "      <td>/ad/24942816</td>\n",
       "    </tr>\n",
       "    <tr>\n",
       "      <th>4</th>\n",
       "      <td>C Class</td>\n",
       "      <td>2019.0</td>\n",
       "      <td>29899</td>\n",
       "      <td>Automatic</td>\n",
       "      <td>4500.0</td>\n",
       "      <td>2</td>\n",
       "      <td>Diesel</td>\n",
       "      <td>2.0</td>\n",
       "      <td>/ad/24913660</td>\n",
       "    </tr>\n",
       "  </tbody>\n",
       "</table>\n",
       "</div>"
      ],
      "text/plain": [
       "      model    year  price transmission  mileage engine_size fuel_type  \\\n",
       "0   C Class  2020.0  30495    Automatic   1200.0           2    Diesel   \n",
       "1   C Class  2020.0  29989    Automatic   1000.0         1.5    Petrol   \n",
       "2   C Class  2020.0  37899    Automatic    500.0           2    Diesel   \n",
       "3   C Class  2019.0  30399    Automatic   5000.0           2    Diesel   \n",
       "4   C Class  2019.0  29899    Automatic   4500.0           2    Diesel   \n",
       "\n",
       "   engine_size2     reference  \n",
       "0           2.0  /ad/25017331  \n",
       "1           1.5  /ad/25043746  \n",
       "2           2.0  /ad/25142894  \n",
       "3           2.0  /ad/24942816  \n",
       "4           2.0  /ad/24913660  "
      ]
     },
     "execution_count": 41,
     "metadata": {},
     "output_type": "execute_result"
    }
   ],
   "source": [
    "clean_df.head()"
   ]
  },
  {
   "cell_type": "code",
   "execution_count": 42,
   "metadata": {
    "colab": {
     "base_uri": "https://localhost:8080/"
    },
    "id": "wr9V8iX6a8Vz",
    "outputId": "f259f72f-add6-48df-b91e-e7db7b709c08"
   },
   "outputs": [
    {
     "data": {
      "text/plain": [
       "(3907, 8)"
      ]
     },
     "execution_count": 42,
     "metadata": {},
     "output_type": "execute_result"
    }
   ],
   "source": [
    "#drop column engine_size.\n",
    "clean_df= clean_df.drop(columns=['engine_size'],axis=1)\n",
    "clean_df.shape"
   ]
  },
  {
   "cell_type": "code",
   "execution_count": 43,
   "metadata": {
    "colab": {
     "base_uri": "https://localhost:8080/"
    },
    "id": "ulj8rV4032v7",
    "outputId": "555ce883-2218-4388-9017-17e6b0076c0d"
   },
   "outputs": [
    {
     "data": {
      "text/plain": [
       "(3907, 8)"
      ]
     },
     "execution_count": 43,
     "metadata": {},
     "output_type": "execute_result"
    }
   ],
   "source": [
    "#rename columns\n",
    "clean_df.rename(columns={'engine_size2':'engine_size'},inplace=True)\n",
    "clean_df.shape"
   ]
  },
  {
   "cell_type": "markdown",
   "metadata": {
    "id": "fiqEzlwW4acb"
   },
   "source": [
    "### Step 3.7 - Handling wrong data type: year "
   ]
  },
  {
   "cell_type": "code",
   "execution_count": 44,
   "metadata": {
    "colab": {
     "base_uri": "https://localhost:8080/"
    },
    "id": "PAW7MppKSudf",
    "outputId": "8be48083-8b63-44e9-8737-ba0c6d2d5353"
   },
   "outputs": [
    {
     "data": {
      "text/plain": [
       "model            object\n",
       "year            float64\n",
       "price             int64\n",
       "transmission     object\n",
       "mileage         float64\n",
       "fuel_type        object\n",
       "engine_size     float64\n",
       "reference        object\n",
       "dtype: object"
      ]
     },
     "execution_count": 44,
     "metadata": {},
     "output_type": "execute_result"
    }
   ],
   "source": [
    "clean_df.dtypes"
   ]
  },
  {
   "cell_type": "code",
   "execution_count": 45,
   "metadata": {
    "colab": {
     "base_uri": "https://localhost:8080/"
    },
    "id": "7x1vjcZnzbym",
    "outputId": "fa58017e-a4e7-415d-fa03-29f0a15a7515"
   },
   "outputs": [
    {
     "data": {
      "text/plain": [
       "model           0\n",
       "year            3\n",
       "price           0\n",
       "transmission    0\n",
       "mileage         4\n",
       "fuel_type       0\n",
       "engine_size     2\n",
       "reference       0\n",
       "dtype: int64"
      ]
     },
     "execution_count": 45,
     "metadata": {},
     "output_type": "execute_result"
    }
   ],
   "source": [
    "# check existing NaN values in the dataset\n",
    "clean_df.isna().sum()"
   ]
  },
  {
   "cell_type": "code",
   "execution_count": 46,
   "metadata": {
    "id": "FfByQSKe1P6U"
   },
   "outputs": [],
   "source": [
    "# remove NaN values in the dataset\n",
    "clean_df = clean_df.dropna()"
   ]
  },
  {
   "cell_type": "code",
   "execution_count": 47,
   "metadata": {
    "colab": {
     "base_uri": "https://localhost:8080/"
    },
    "id": "XuAFw1gv1a_E",
    "outputId": "0c1577d6-64d0-4096-f791-8bba7b90d44e"
   },
   "outputs": [
    {
     "data": {
      "text/plain": [
       "model           0\n",
       "year            0\n",
       "price           0\n",
       "transmission    0\n",
       "mileage         0\n",
       "fuel_type       0\n",
       "engine_size     0\n",
       "reference       0\n",
       "dtype: int64"
      ]
     },
     "execution_count": 47,
     "metadata": {},
     "output_type": "execute_result"
    }
   ],
   "source": [
    "# check existing NaN values in the dataset\n",
    "clean_df.isna().sum()"
   ]
  },
  {
   "cell_type": "code",
   "execution_count": 50,
   "metadata": {
    "colab": {
     "base_uri": "https://localhost:8080/"
    },
    "id": "x7T3jb-k50r1",
    "outputId": "41169248-6286-4353-8faa-114db58e2f73"
   },
   "outputs": [
    {
     "data": {
      "text/plain": [
       "(3898, 8)"
      ]
     },
     "execution_count": 50,
     "metadata": {},
     "output_type": "execute_result"
    }
   ],
   "source": [
    "# change the data type of the year column into integer format\n",
    "clean_df['year'] = clean_df['year'].astype('int64')\n",
    "clean_df.shape"
   ]
  },
  {
   "cell_type": "code",
   "execution_count": 51,
   "metadata": {
    "colab": {
     "base_uri": "https://localhost:8080/"
    },
    "id": "NCNApzC95bRk",
    "outputId": "074b8022-7a4c-4389-fb94-97138406de18"
   },
   "outputs": [
    {
     "data": {
      "text/plain": [
       "model            object\n",
       "year              int64\n",
       "price             int64\n",
       "transmission     object\n",
       "mileage         float64\n",
       "fuel_type        object\n",
       "engine_size     float64\n",
       "reference        object\n",
       "dtype: object"
      ]
     },
     "execution_count": 51,
     "metadata": {},
     "output_type": "execute_result"
    }
   ],
   "source": [
    "clean_df.dtypes # show data type"
   ]
  },
  {
   "cell_type": "markdown",
   "metadata": {
    "id": "JBF9d-V54ji3"
   },
   "source": [
    "### Step 3.8 - Handling unneeded columns "
   ]
  },
  {
   "cell_type": "code",
   "execution_count": 52,
   "metadata": {
    "colab": {
     "base_uri": "https://localhost:8080/"
    },
    "id": "BOkNDqzK6Aiz",
    "outputId": "4ba420cc-c02b-4d00-b4ed-ab76c2c08325"
   },
   "outputs": [
    {
     "data": {
      "text/plain": [
       "(3898, 6)"
      ]
     },
     "execution_count": 52,
     "metadata": {},
     "output_type": "execute_result"
    }
   ],
   "source": [
    "clean_df = clean_df.drop(columns=['model', 'reference'])\n",
    "clean_df.shape"
   ]
  },
  {
   "cell_type": "markdown",
   "metadata": {
    "id": "RycoAbGU4rVo"
   },
   "source": [
    "### Step 3.9 - Handling categorical data "
   ]
  },
  {
   "cell_type": "code",
   "execution_count": 54,
   "metadata": {
    "colab": {
     "base_uri": "https://localhost:8080/",
     "height": 202
    },
    "id": "oozMbTYe6iLW",
    "outputId": "b0fcb657-d4d6-42ef-bea3-22bc4ab65616"
   },
   "outputs": [
    {
     "data": {
      "text/html": [
       "<div>\n",
       "<style scoped>\n",
       "    .dataframe tbody tr th:only-of-type {\n",
       "        vertical-align: middle;\n",
       "    }\n",
       "\n",
       "    .dataframe tbody tr th {\n",
       "        vertical-align: top;\n",
       "    }\n",
       "\n",
       "    .dataframe thead th {\n",
       "        text-align: right;\n",
       "    }\n",
       "</style>\n",
       "<table border=\"1\" class=\"dataframe\">\n",
       "  <thead>\n",
       "    <tr style=\"text-align: right;\">\n",
       "      <th></th>\n",
       "      <th>year</th>\n",
       "      <th>price</th>\n",
       "      <th>transmission</th>\n",
       "      <th>mileage</th>\n",
       "      <th>fuel_type</th>\n",
       "      <th>engine_size</th>\n",
       "      <th>Automatic</th>\n",
       "      <th>Manual</th>\n",
       "      <th>Other</th>\n",
       "      <th>Semi-Auto</th>\n",
       "    </tr>\n",
       "  </thead>\n",
       "  <tbody>\n",
       "    <tr>\n",
       "      <th>0</th>\n",
       "      <td>2020</td>\n",
       "      <td>30495</td>\n",
       "      <td>Automatic</td>\n",
       "      <td>1200.0</td>\n",
       "      <td>Diesel</td>\n",
       "      <td>2.0</td>\n",
       "      <td>1</td>\n",
       "      <td>0</td>\n",
       "      <td>0</td>\n",
       "      <td>0</td>\n",
       "    </tr>\n",
       "    <tr>\n",
       "      <th>1</th>\n",
       "      <td>2020</td>\n",
       "      <td>29989</td>\n",
       "      <td>Automatic</td>\n",
       "      <td>1000.0</td>\n",
       "      <td>Petrol</td>\n",
       "      <td>1.5</td>\n",
       "      <td>1</td>\n",
       "      <td>0</td>\n",
       "      <td>0</td>\n",
       "      <td>0</td>\n",
       "    </tr>\n",
       "    <tr>\n",
       "      <th>2</th>\n",
       "      <td>2020</td>\n",
       "      <td>37899</td>\n",
       "      <td>Automatic</td>\n",
       "      <td>500.0</td>\n",
       "      <td>Diesel</td>\n",
       "      <td>2.0</td>\n",
       "      <td>1</td>\n",
       "      <td>0</td>\n",
       "      <td>0</td>\n",
       "      <td>0</td>\n",
       "    </tr>\n",
       "    <tr>\n",
       "      <th>3</th>\n",
       "      <td>2019</td>\n",
       "      <td>30399</td>\n",
       "      <td>Automatic</td>\n",
       "      <td>5000.0</td>\n",
       "      <td>Diesel</td>\n",
       "      <td>2.0</td>\n",
       "      <td>1</td>\n",
       "      <td>0</td>\n",
       "      <td>0</td>\n",
       "      <td>0</td>\n",
       "    </tr>\n",
       "    <tr>\n",
       "      <th>4</th>\n",
       "      <td>2019</td>\n",
       "      <td>29899</td>\n",
       "      <td>Automatic</td>\n",
       "      <td>4500.0</td>\n",
       "      <td>Diesel</td>\n",
       "      <td>2.0</td>\n",
       "      <td>1</td>\n",
       "      <td>0</td>\n",
       "      <td>0</td>\n",
       "      <td>0</td>\n",
       "    </tr>\n",
       "  </tbody>\n",
       "</table>\n",
       "</div>"
      ],
      "text/plain": [
       "   year  price transmission  mileage fuel_type  engine_size  Automatic  \\\n",
       "0  2020  30495    Automatic   1200.0    Diesel          2.0          1   \n",
       "1  2020  29989    Automatic   1000.0    Petrol          1.5          1   \n",
       "2  2020  37899    Automatic    500.0    Diesel          2.0          1   \n",
       "3  2019  30399    Automatic   5000.0    Diesel          2.0          1   \n",
       "4  2019  29899    Automatic   4500.0    Diesel          2.0          1   \n",
       "\n",
       "   Manual  Other  Semi-Auto  \n",
       "0       0      0          0  \n",
       "1       0      0          0  \n",
       "2       0      0          0  \n",
       "3       0      0          0  \n",
       "4       0      0          0  "
      ]
     },
     "execution_count": 54,
     "metadata": {},
     "output_type": "execute_result"
    }
   ],
   "source": [
    "# change categorial data of transmission into dummy values\n",
    "transmission = pd.get_dummies(clean_df['transmission']) # to get the dummy values and store in a variable called transmission\n",
    "clean_df = clean_df.join(transmission) # add the dummy values to new columns\n",
    "clean_df.head()"
   ]
  },
  {
   "cell_type": "code",
   "execution_count": 55,
   "metadata": {
    "colab": {
     "base_uri": "https://localhost:8080/",
     "height": 986
    },
    "id": "VA2Shl8HcO97",
    "outputId": "59de5dd9-1841-4d7d-9dcc-7731ebfd8e44"
   },
   "outputs": [
    {
     "data": {
      "text/html": [
       "<div>\n",
       "<style scoped>\n",
       "    .dataframe tbody tr th:only-of-type {\n",
       "        vertical-align: middle;\n",
       "    }\n",
       "\n",
       "    .dataframe tbody tr th {\n",
       "        vertical-align: top;\n",
       "    }\n",
       "\n",
       "    .dataframe thead th {\n",
       "        text-align: right;\n",
       "    }\n",
       "</style>\n",
       "<table border=\"1\" class=\"dataframe\">\n",
       "  <thead>\n",
       "    <tr style=\"text-align: right;\">\n",
       "      <th></th>\n",
       "      <th>year</th>\n",
       "      <th>price</th>\n",
       "      <th>transmission</th>\n",
       "      <th>mileage</th>\n",
       "      <th>fuel_type</th>\n",
       "      <th>engine_size</th>\n",
       "      <th>Automatic</th>\n",
       "      <th>Manual</th>\n",
       "      <th>OtherTransmission</th>\n",
       "      <th>Semi-Auto</th>\n",
       "    </tr>\n",
       "  </thead>\n",
       "  <tbody>\n",
       "    <tr>\n",
       "      <th>0</th>\n",
       "      <td>2020</td>\n",
       "      <td>30495</td>\n",
       "      <td>Automatic</td>\n",
       "      <td>1200.0</td>\n",
       "      <td>Diesel</td>\n",
       "      <td>2.0</td>\n",
       "      <td>1</td>\n",
       "      <td>0</td>\n",
       "      <td>0</td>\n",
       "      <td>0</td>\n",
       "    </tr>\n",
       "    <tr>\n",
       "      <th>1</th>\n",
       "      <td>2020</td>\n",
       "      <td>29989</td>\n",
       "      <td>Automatic</td>\n",
       "      <td>1000.0</td>\n",
       "      <td>Petrol</td>\n",
       "      <td>1.5</td>\n",
       "      <td>1</td>\n",
       "      <td>0</td>\n",
       "      <td>0</td>\n",
       "      <td>0</td>\n",
       "    </tr>\n",
       "    <tr>\n",
       "      <th>2</th>\n",
       "      <td>2020</td>\n",
       "      <td>37899</td>\n",
       "      <td>Automatic</td>\n",
       "      <td>500.0</td>\n",
       "      <td>Diesel</td>\n",
       "      <td>2.0</td>\n",
       "      <td>1</td>\n",
       "      <td>0</td>\n",
       "      <td>0</td>\n",
       "      <td>0</td>\n",
       "    </tr>\n",
       "    <tr>\n",
       "      <th>3</th>\n",
       "      <td>2019</td>\n",
       "      <td>30399</td>\n",
       "      <td>Automatic</td>\n",
       "      <td>5000.0</td>\n",
       "      <td>Diesel</td>\n",
       "      <td>2.0</td>\n",
       "      <td>1</td>\n",
       "      <td>0</td>\n",
       "      <td>0</td>\n",
       "      <td>0</td>\n",
       "    </tr>\n",
       "    <tr>\n",
       "      <th>4</th>\n",
       "      <td>2019</td>\n",
       "      <td>29899</td>\n",
       "      <td>Automatic</td>\n",
       "      <td>4500.0</td>\n",
       "      <td>Diesel</td>\n",
       "      <td>2.0</td>\n",
       "      <td>1</td>\n",
       "      <td>0</td>\n",
       "      <td>0</td>\n",
       "      <td>0</td>\n",
       "    </tr>\n",
       "    <tr>\n",
       "      <th>5</th>\n",
       "      <td>2020</td>\n",
       "      <td>30999</td>\n",
       "      <td>Automatic</td>\n",
       "      <td>1000.0</td>\n",
       "      <td>Diesel</td>\n",
       "      <td>2.0</td>\n",
       "      <td>1</td>\n",
       "      <td>0</td>\n",
       "      <td>0</td>\n",
       "      <td>0</td>\n",
       "    </tr>\n",
       "    <tr>\n",
       "      <th>6</th>\n",
       "      <td>2020</td>\n",
       "      <td>35999</td>\n",
       "      <td>Automatic</td>\n",
       "      <td>500.0</td>\n",
       "      <td>Diesel</td>\n",
       "      <td>2.0</td>\n",
       "      <td>1</td>\n",
       "      <td>0</td>\n",
       "      <td>0</td>\n",
       "      <td>0</td>\n",
       "    </tr>\n",
       "    <tr>\n",
       "      <th>7</th>\n",
       "      <td>2019</td>\n",
       "      <td>37990</td>\n",
       "      <td>Automatic</td>\n",
       "      <td>1412.0</td>\n",
       "      <td>Petrol</td>\n",
       "      <td>3.0</td>\n",
       "      <td>1</td>\n",
       "      <td>0</td>\n",
       "      <td>0</td>\n",
       "      <td>0</td>\n",
       "    </tr>\n",
       "    <tr>\n",
       "      <th>8</th>\n",
       "      <td>2019</td>\n",
       "      <td>28990</td>\n",
       "      <td>Automatic</td>\n",
       "      <td>3569.0</td>\n",
       "      <td>Diesel</td>\n",
       "      <td>2.0</td>\n",
       "      <td>1</td>\n",
       "      <td>0</td>\n",
       "      <td>0</td>\n",
       "      <td>0</td>\n",
       "    </tr>\n",
       "    <tr>\n",
       "      <th>9</th>\n",
       "      <td>2019</td>\n",
       "      <td>28990</td>\n",
       "      <td>Automatic</td>\n",
       "      <td>3635.0</td>\n",
       "      <td>Diesel</td>\n",
       "      <td>2.0</td>\n",
       "      <td>1</td>\n",
       "      <td>0</td>\n",
       "      <td>0</td>\n",
       "      <td>0</td>\n",
       "    </tr>\n",
       "    <tr>\n",
       "      <th>10</th>\n",
       "      <td>2013</td>\n",
       "      <td>9995</td>\n",
       "      <td>Automatic</td>\n",
       "      <td>44900.0</td>\n",
       "      <td>Petrol</td>\n",
       "      <td>1.6</td>\n",
       "      <td>1</td>\n",
       "      <td>0</td>\n",
       "      <td>0</td>\n",
       "      <td>0</td>\n",
       "    </tr>\n",
       "    <tr>\n",
       "      <th>11</th>\n",
       "      <td>2012</td>\n",
       "      <td>6995</td>\n",
       "      <td>Automatic</td>\n",
       "      <td>88200.0</td>\n",
       "      <td>Diesel</td>\n",
       "      <td>2.1</td>\n",
       "      <td>1</td>\n",
       "      <td>0</td>\n",
       "      <td>0</td>\n",
       "      <td>0</td>\n",
       "    </tr>\n",
       "    <tr>\n",
       "      <th>12</th>\n",
       "      <td>2012</td>\n",
       "      <td>7495</td>\n",
       "      <td>Automatic</td>\n",
       "      <td>115000.0</td>\n",
       "      <td>Diesel</td>\n",
       "      <td>2.1</td>\n",
       "      <td>1</td>\n",
       "      <td>0</td>\n",
       "      <td>0</td>\n",
       "      <td>0</td>\n",
       "    </tr>\n",
       "    <tr>\n",
       "      <th>13</th>\n",
       "      <td>2011</td>\n",
       "      <td>8995</td>\n",
       "      <td>Automatic</td>\n",
       "      <td>69250.0</td>\n",
       "      <td>Diesel</td>\n",
       "      <td>2.1</td>\n",
       "      <td>1</td>\n",
       "      <td>0</td>\n",
       "      <td>0</td>\n",
       "      <td>0</td>\n",
       "    </tr>\n",
       "    <tr>\n",
       "      <th>14</th>\n",
       "      <td>2015</td>\n",
       "      <td>14995</td>\n",
       "      <td>Automatic</td>\n",
       "      <td>49850.0</td>\n",
       "      <td>Diesel</td>\n",
       "      <td>2.1</td>\n",
       "      <td>1</td>\n",
       "      <td>0</td>\n",
       "      <td>0</td>\n",
       "      <td>0</td>\n",
       "    </tr>\n",
       "    <tr>\n",
       "      <th>15</th>\n",
       "      <td>2013</td>\n",
       "      <td>8595</td>\n",
       "      <td>Automatic</td>\n",
       "      <td>82685.0</td>\n",
       "      <td>Diesel</td>\n",
       "      <td>2.1</td>\n",
       "      <td>1</td>\n",
       "      <td>0</td>\n",
       "      <td>0</td>\n",
       "      <td>0</td>\n",
       "    </tr>\n",
       "    <tr>\n",
       "      <th>16</th>\n",
       "      <td>2016</td>\n",
       "      <td>19250</td>\n",
       "      <td>Semi-Auto</td>\n",
       "      <td>32506.0</td>\n",
       "      <td>Diesel</td>\n",
       "      <td>2.1</td>\n",
       "      <td>0</td>\n",
       "      <td>0</td>\n",
       "      <td>0</td>\n",
       "      <td>1</td>\n",
       "    </tr>\n",
       "    <tr>\n",
       "      <th>17</th>\n",
       "      <td>2017</td>\n",
       "      <td>23500</td>\n",
       "      <td>Semi-Auto</td>\n",
       "      <td>17000.0</td>\n",
       "      <td>Diesel</td>\n",
       "      <td>2.1</td>\n",
       "      <td>0</td>\n",
       "      <td>0</td>\n",
       "      <td>0</td>\n",
       "      <td>1</td>\n",
       "    </tr>\n",
       "    <tr>\n",
       "      <th>18</th>\n",
       "      <td>2018</td>\n",
       "      <td>24995</td>\n",
       "      <td>Semi-Auto</td>\n",
       "      <td>17744.0</td>\n",
       "      <td>Diesel</td>\n",
       "      <td>2.0</td>\n",
       "      <td>0</td>\n",
       "      <td>0</td>\n",
       "      <td>0</td>\n",
       "      <td>1</td>\n",
       "    </tr>\n",
       "    <tr>\n",
       "      <th>19</th>\n",
       "      <td>2016</td>\n",
       "      <td>29995</td>\n",
       "      <td>Semi-Auto</td>\n",
       "      <td>64291.0</td>\n",
       "      <td>Petrol</td>\n",
       "      <td>4.0</td>\n",
       "      <td>0</td>\n",
       "      <td>0</td>\n",
       "      <td>0</td>\n",
       "      <td>1</td>\n",
       "    </tr>\n",
       "    <tr>\n",
       "      <th>20</th>\n",
       "      <td>2014</td>\n",
       "      <td>17990</td>\n",
       "      <td>Automatic</td>\n",
       "      <td>41011.0</td>\n",
       "      <td>Petrol</td>\n",
       "      <td>2.0</td>\n",
       "      <td>1</td>\n",
       "      <td>0</td>\n",
       "      <td>0</td>\n",
       "      <td>0</td>\n",
       "    </tr>\n",
       "    <tr>\n",
       "      <th>21</th>\n",
       "      <td>2016</td>\n",
       "      <td>14477</td>\n",
       "      <td>Automatic</td>\n",
       "      <td>72000.0</td>\n",
       "      <td>Diesel</td>\n",
       "      <td>1.6</td>\n",
       "      <td>1</td>\n",
       "      <td>0</td>\n",
       "      <td>0</td>\n",
       "      <td>0</td>\n",
       "    </tr>\n",
       "    <tr>\n",
       "      <th>22</th>\n",
       "      <td>2013</td>\n",
       "      <td>10977</td>\n",
       "      <td>Automatic</td>\n",
       "      <td>72000.0</td>\n",
       "      <td>Diesel</td>\n",
       "      <td>2.1</td>\n",
       "      <td>1</td>\n",
       "      <td>0</td>\n",
       "      <td>0</td>\n",
       "      <td>0</td>\n",
       "    </tr>\n",
       "    <tr>\n",
       "      <th>23</th>\n",
       "      <td>2016</td>\n",
       "      <td>17977</td>\n",
       "      <td>Automatic</td>\n",
       "      <td>40000.0</td>\n",
       "      <td>Diesel</td>\n",
       "      <td>1.6</td>\n",
       "      <td>1</td>\n",
       "      <td>0</td>\n",
       "      <td>0</td>\n",
       "      <td>0</td>\n",
       "    </tr>\n",
       "    <tr>\n",
       "      <th>24</th>\n",
       "      <td>2015</td>\n",
       "      <td>12790</td>\n",
       "      <td>Automatic</td>\n",
       "      <td>52000.0</td>\n",
       "      <td>Diesel</td>\n",
       "      <td>2.1</td>\n",
       "      <td>1</td>\n",
       "      <td>0</td>\n",
       "      <td>0</td>\n",
       "      <td>0</td>\n",
       "    </tr>\n",
       "    <tr>\n",
       "      <th>26</th>\n",
       "      <td>2017</td>\n",
       "      <td>14488</td>\n",
       "      <td>Automatic</td>\n",
       "      <td>66472.0</td>\n",
       "      <td>Diesel</td>\n",
       "      <td>2.1</td>\n",
       "      <td>1</td>\n",
       "      <td>0</td>\n",
       "      <td>0</td>\n",
       "      <td>0</td>\n",
       "    </tr>\n",
       "    <tr>\n",
       "      <th>27</th>\n",
       "      <td>2011</td>\n",
       "      <td>7500</td>\n",
       "      <td>Manual</td>\n",
       "      <td>91000.0</td>\n",
       "      <td>Diesel</td>\n",
       "      <td>2.1</td>\n",
       "      <td>0</td>\n",
       "      <td>1</td>\n",
       "      <td>0</td>\n",
       "      <td>0</td>\n",
       "    </tr>\n",
       "    <tr>\n",
       "      <th>28</th>\n",
       "      <td>2013</td>\n",
       "      <td>9750</td>\n",
       "      <td>Automatic</td>\n",
       "      <td>69700.0</td>\n",
       "      <td>Diesel</td>\n",
       "      <td>2.1</td>\n",
       "      <td>1</td>\n",
       "      <td>0</td>\n",
       "      <td>0</td>\n",
       "      <td>0</td>\n",
       "    </tr>\n",
       "    <tr>\n",
       "      <th>29</th>\n",
       "      <td>2015</td>\n",
       "      <td>15995</td>\n",
       "      <td>Automatic</td>\n",
       "      <td>39000.0</td>\n",
       "      <td>Diesel</td>\n",
       "      <td>1.6</td>\n",
       "      <td>1</td>\n",
       "      <td>0</td>\n",
       "      <td>0</td>\n",
       "      <td>0</td>\n",
       "    </tr>\n",
       "    <tr>\n",
       "      <th>30</th>\n",
       "      <td>2016</td>\n",
       "      <td>15675</td>\n",
       "      <td>Manual</td>\n",
       "      <td>39287.0</td>\n",
       "      <td>Diesel</td>\n",
       "      <td>2.1</td>\n",
       "      <td>0</td>\n",
       "      <td>1</td>\n",
       "      <td>0</td>\n",
       "      <td>0</td>\n",
       "    </tr>\n",
       "  </tbody>\n",
       "</table>\n",
       "</div>"
      ],
      "text/plain": [
       "    year  price transmission   mileage fuel_type  engine_size  Automatic  \\\n",
       "0   2020  30495    Automatic    1200.0    Diesel          2.0          1   \n",
       "1   2020  29989    Automatic    1000.0    Petrol          1.5          1   \n",
       "2   2020  37899    Automatic     500.0    Diesel          2.0          1   \n",
       "3   2019  30399    Automatic    5000.0    Diesel          2.0          1   \n",
       "4   2019  29899    Automatic    4500.0    Diesel          2.0          1   \n",
       "5   2020  30999    Automatic    1000.0    Diesel          2.0          1   \n",
       "6   2020  35999    Automatic     500.0    Diesel          2.0          1   \n",
       "7   2019  37990    Automatic    1412.0    Petrol          3.0          1   \n",
       "8   2019  28990    Automatic    3569.0    Diesel          2.0          1   \n",
       "9   2019  28990    Automatic    3635.0    Diesel          2.0          1   \n",
       "10  2013   9995    Automatic   44900.0    Petrol          1.6          1   \n",
       "11  2012   6995    Automatic   88200.0    Diesel          2.1          1   \n",
       "12  2012   7495    Automatic  115000.0    Diesel          2.1          1   \n",
       "13  2011   8995    Automatic   69250.0    Diesel          2.1          1   \n",
       "14  2015  14995    Automatic   49850.0    Diesel          2.1          1   \n",
       "15  2013   8595    Automatic   82685.0    Diesel          2.1          1   \n",
       "16  2016  19250    Semi-Auto   32506.0    Diesel          2.1          0   \n",
       "17  2017  23500    Semi-Auto   17000.0    Diesel          2.1          0   \n",
       "18  2018  24995    Semi-Auto   17744.0    Diesel          2.0          0   \n",
       "19  2016  29995    Semi-Auto   64291.0    Petrol          4.0          0   \n",
       "20  2014  17990    Automatic   41011.0    Petrol          2.0          1   \n",
       "21  2016  14477    Automatic   72000.0    Diesel          1.6          1   \n",
       "22  2013  10977    Automatic   72000.0    Diesel          2.1          1   \n",
       "23  2016  17977    Automatic   40000.0    Diesel          1.6          1   \n",
       "24  2015  12790    Automatic   52000.0    Diesel          2.1          1   \n",
       "26  2017  14488    Automatic   66472.0    Diesel          2.1          1   \n",
       "27  2011   7500       Manual   91000.0    Diesel          2.1          0   \n",
       "28  2013   9750    Automatic   69700.0    Diesel          2.1          1   \n",
       "29  2015  15995    Automatic   39000.0    Diesel          1.6          1   \n",
       "30  2016  15675       Manual   39287.0    Diesel          2.1          0   \n",
       "\n",
       "    Manual  OtherTransmission  Semi-Auto  \n",
       "0        0                  0          0  \n",
       "1        0                  0          0  \n",
       "2        0                  0          0  \n",
       "3        0                  0          0  \n",
       "4        0                  0          0  \n",
       "5        0                  0          0  \n",
       "6        0                  0          0  \n",
       "7        0                  0          0  \n",
       "8        0                  0          0  \n",
       "9        0                  0          0  \n",
       "10       0                  0          0  \n",
       "11       0                  0          0  \n",
       "12       0                  0          0  \n",
       "13       0                  0          0  \n",
       "14       0                  0          0  \n",
       "15       0                  0          0  \n",
       "16       0                  0          1  \n",
       "17       0                  0          1  \n",
       "18       0                  0          1  \n",
       "19       0                  0          1  \n",
       "20       0                  0          0  \n",
       "21       0                  0          0  \n",
       "22       0                  0          0  \n",
       "23       0                  0          0  \n",
       "24       0                  0          0  \n",
       "26       0                  0          0  \n",
       "27       1                  0          0  \n",
       "28       0                  0          0  \n",
       "29       0                  0          0  \n",
       "30       1                  0          0  "
      ]
     },
     "execution_count": 55,
     "metadata": {},
     "output_type": "execute_result"
    }
   ],
   "source": [
    "# rename the column name of 'Other' (a dummy value of transmission column) into 'OtherTransmission' since fuel_type column has a dummy value named 'Other' too\n",
    "clean_df.rename(columns={'Other' : 'OtherTransmission'}, inplace=True)\n",
    "clean_df.head(30)"
   ]
  },
  {
   "cell_type": "code",
   "execution_count": 56,
   "metadata": {
    "colab": {
     "base_uri": "https://localhost:8080/"
    },
    "id": "wQBwMuiacz60",
    "outputId": "cc8043dc-47de-480f-b728-05a38c29cfea"
   },
   "outputs": [
    {
     "data": {
      "text/plain": [
       "year                 0\n",
       "price                0\n",
       "transmission         0\n",
       "mileage              0\n",
       "fuel_type            0\n",
       "engine_size          0\n",
       "Automatic            0\n",
       "Manual               0\n",
       "OtherTransmission    0\n",
       "Semi-Auto            0\n",
       "dtype: int64"
      ]
     },
     "execution_count": 56,
     "metadata": {},
     "output_type": "execute_result"
    }
   ],
   "source": [
    "clean_df.isna().sum()"
   ]
  },
  {
   "cell_type": "code",
   "execution_count": 57,
   "metadata": {
    "colab": {
     "base_uri": "https://localhost:8080/",
     "height": 239
    },
    "id": "x7PDQ3t_62SJ",
    "outputId": "fe37d731-f8de-4d93-a85b-f92560b36215"
   },
   "outputs": [
    {
     "data": {
      "text/html": [
       "<div>\n",
       "<style scoped>\n",
       "    .dataframe tbody tr th:only-of-type {\n",
       "        vertical-align: middle;\n",
       "    }\n",
       "\n",
       "    .dataframe tbody tr th {\n",
       "        vertical-align: top;\n",
       "    }\n",
       "\n",
       "    .dataframe thead th {\n",
       "        text-align: right;\n",
       "    }\n",
       "</style>\n",
       "<table border=\"1\" class=\"dataframe\">\n",
       "  <thead>\n",
       "    <tr style=\"text-align: right;\">\n",
       "      <th></th>\n",
       "      <th>year</th>\n",
       "      <th>price</th>\n",
       "      <th>transmission</th>\n",
       "      <th>mileage</th>\n",
       "      <th>fuel_type</th>\n",
       "      <th>engine_size</th>\n",
       "      <th>Automatic</th>\n",
       "      <th>Manual</th>\n",
       "      <th>OtherTransmission</th>\n",
       "      <th>Semi-Auto</th>\n",
       "      <th>Diesel</th>\n",
       "      <th>Hybrid</th>\n",
       "      <th>Other</th>\n",
       "      <th>Petrol</th>\n",
       "    </tr>\n",
       "  </thead>\n",
       "  <tbody>\n",
       "    <tr>\n",
       "      <th>0</th>\n",
       "      <td>2020</td>\n",
       "      <td>30495</td>\n",
       "      <td>Automatic</td>\n",
       "      <td>1200.0</td>\n",
       "      <td>Diesel</td>\n",
       "      <td>2.0</td>\n",
       "      <td>1</td>\n",
       "      <td>0</td>\n",
       "      <td>0</td>\n",
       "      <td>0</td>\n",
       "      <td>1</td>\n",
       "      <td>0</td>\n",
       "      <td>0</td>\n",
       "      <td>0</td>\n",
       "    </tr>\n",
       "    <tr>\n",
       "      <th>1</th>\n",
       "      <td>2020</td>\n",
       "      <td>29989</td>\n",
       "      <td>Automatic</td>\n",
       "      <td>1000.0</td>\n",
       "      <td>Petrol</td>\n",
       "      <td>1.5</td>\n",
       "      <td>1</td>\n",
       "      <td>0</td>\n",
       "      <td>0</td>\n",
       "      <td>0</td>\n",
       "      <td>0</td>\n",
       "      <td>0</td>\n",
       "      <td>0</td>\n",
       "      <td>1</td>\n",
       "    </tr>\n",
       "    <tr>\n",
       "      <th>2</th>\n",
       "      <td>2020</td>\n",
       "      <td>37899</td>\n",
       "      <td>Automatic</td>\n",
       "      <td>500.0</td>\n",
       "      <td>Diesel</td>\n",
       "      <td>2.0</td>\n",
       "      <td>1</td>\n",
       "      <td>0</td>\n",
       "      <td>0</td>\n",
       "      <td>0</td>\n",
       "      <td>1</td>\n",
       "      <td>0</td>\n",
       "      <td>0</td>\n",
       "      <td>0</td>\n",
       "    </tr>\n",
       "    <tr>\n",
       "      <th>3</th>\n",
       "      <td>2019</td>\n",
       "      <td>30399</td>\n",
       "      <td>Automatic</td>\n",
       "      <td>5000.0</td>\n",
       "      <td>Diesel</td>\n",
       "      <td>2.0</td>\n",
       "      <td>1</td>\n",
       "      <td>0</td>\n",
       "      <td>0</td>\n",
       "      <td>0</td>\n",
       "      <td>1</td>\n",
       "      <td>0</td>\n",
       "      <td>0</td>\n",
       "      <td>0</td>\n",
       "    </tr>\n",
       "    <tr>\n",
       "      <th>4</th>\n",
       "      <td>2019</td>\n",
       "      <td>29899</td>\n",
       "      <td>Automatic</td>\n",
       "      <td>4500.0</td>\n",
       "      <td>Diesel</td>\n",
       "      <td>2.0</td>\n",
       "      <td>1</td>\n",
       "      <td>0</td>\n",
       "      <td>0</td>\n",
       "      <td>0</td>\n",
       "      <td>1</td>\n",
       "      <td>0</td>\n",
       "      <td>0</td>\n",
       "      <td>0</td>\n",
       "    </tr>\n",
       "  </tbody>\n",
       "</table>\n",
       "</div>"
      ],
      "text/plain": [
       "   year  price transmission  mileage fuel_type  engine_size  Automatic  \\\n",
       "0  2020  30495    Automatic   1200.0    Diesel          2.0          1   \n",
       "1  2020  29989    Automatic   1000.0    Petrol          1.5          1   \n",
       "2  2020  37899    Automatic    500.0    Diesel          2.0          1   \n",
       "3  2019  30399    Automatic   5000.0    Diesel          2.0          1   \n",
       "4  2019  29899    Automatic   4500.0    Diesel          2.0          1   \n",
       "\n",
       "   Manual  OtherTransmission  Semi-Auto  Diesel  Hybrid  Other  Petrol  \n",
       "0       0                  0          0       1       0      0       0  \n",
       "1       0                  0          0       0       0      0       1  \n",
       "2       0                  0          0       1       0      0       0  \n",
       "3       0                  0          0       1       0      0       0  \n",
       "4       0                  0          0       1       0      0       0  "
      ]
     },
     "execution_count": 57,
     "metadata": {},
     "output_type": "execute_result"
    }
   ],
   "source": [
    "# Process categories data for fuel type\n",
    "fuel_type = pd.get_dummies(clean_df['fuel_type'])\n",
    "clean_df = clean_df.join(fuel_type)\n",
    "clean_df.head()"
   ]
  },
  {
   "cell_type": "code",
   "execution_count": 58,
   "metadata": {
    "colab": {
     "base_uri": "https://localhost:8080/",
     "height": 1000
    },
    "id": "MCtg9rg01gA9",
    "outputId": "35a4e0f3-9746-47a4-ca1f-86a85bd6502b"
   },
   "outputs": [
    {
     "data": {
      "text/html": [
       "<div>\n",
       "<style scoped>\n",
       "    .dataframe tbody tr th:only-of-type {\n",
       "        vertical-align: middle;\n",
       "    }\n",
       "\n",
       "    .dataframe tbody tr th {\n",
       "        vertical-align: top;\n",
       "    }\n",
       "\n",
       "    .dataframe thead th {\n",
       "        text-align: right;\n",
       "    }\n",
       "</style>\n",
       "<table border=\"1\" class=\"dataframe\">\n",
       "  <thead>\n",
       "    <tr style=\"text-align: right;\">\n",
       "      <th></th>\n",
       "      <th>year</th>\n",
       "      <th>price</th>\n",
       "      <th>transmission</th>\n",
       "      <th>mileage</th>\n",
       "      <th>fuel_type</th>\n",
       "      <th>engine_size</th>\n",
       "      <th>Automatic</th>\n",
       "      <th>Manual</th>\n",
       "      <th>OtherTransmission</th>\n",
       "      <th>Semi-Auto</th>\n",
       "      <th>Diesel</th>\n",
       "      <th>Hybrid</th>\n",
       "      <th>OtherFuel</th>\n",
       "      <th>Petrol</th>\n",
       "    </tr>\n",
       "  </thead>\n",
       "  <tbody>\n",
       "    <tr>\n",
       "      <th>0</th>\n",
       "      <td>2020</td>\n",
       "      <td>30495</td>\n",
       "      <td>Automatic</td>\n",
       "      <td>1200.0</td>\n",
       "      <td>Diesel</td>\n",
       "      <td>2.0</td>\n",
       "      <td>1</td>\n",
       "      <td>0</td>\n",
       "      <td>0</td>\n",
       "      <td>0</td>\n",
       "      <td>1</td>\n",
       "      <td>0</td>\n",
       "      <td>0</td>\n",
       "      <td>0</td>\n",
       "    </tr>\n",
       "    <tr>\n",
       "      <th>1</th>\n",
       "      <td>2020</td>\n",
       "      <td>29989</td>\n",
       "      <td>Automatic</td>\n",
       "      <td>1000.0</td>\n",
       "      <td>Petrol</td>\n",
       "      <td>1.5</td>\n",
       "      <td>1</td>\n",
       "      <td>0</td>\n",
       "      <td>0</td>\n",
       "      <td>0</td>\n",
       "      <td>0</td>\n",
       "      <td>0</td>\n",
       "      <td>0</td>\n",
       "      <td>1</td>\n",
       "    </tr>\n",
       "    <tr>\n",
       "      <th>2</th>\n",
       "      <td>2020</td>\n",
       "      <td>37899</td>\n",
       "      <td>Automatic</td>\n",
       "      <td>500.0</td>\n",
       "      <td>Diesel</td>\n",
       "      <td>2.0</td>\n",
       "      <td>1</td>\n",
       "      <td>0</td>\n",
       "      <td>0</td>\n",
       "      <td>0</td>\n",
       "      <td>1</td>\n",
       "      <td>0</td>\n",
       "      <td>0</td>\n",
       "      <td>0</td>\n",
       "    </tr>\n",
       "    <tr>\n",
       "      <th>3</th>\n",
       "      <td>2019</td>\n",
       "      <td>30399</td>\n",
       "      <td>Automatic</td>\n",
       "      <td>5000.0</td>\n",
       "      <td>Diesel</td>\n",
       "      <td>2.0</td>\n",
       "      <td>1</td>\n",
       "      <td>0</td>\n",
       "      <td>0</td>\n",
       "      <td>0</td>\n",
       "      <td>1</td>\n",
       "      <td>0</td>\n",
       "      <td>0</td>\n",
       "      <td>0</td>\n",
       "    </tr>\n",
       "    <tr>\n",
       "      <th>4</th>\n",
       "      <td>2019</td>\n",
       "      <td>29899</td>\n",
       "      <td>Automatic</td>\n",
       "      <td>4500.0</td>\n",
       "      <td>Diesel</td>\n",
       "      <td>2.0</td>\n",
       "      <td>1</td>\n",
       "      <td>0</td>\n",
       "      <td>0</td>\n",
       "      <td>0</td>\n",
       "      <td>1</td>\n",
       "      <td>0</td>\n",
       "      <td>0</td>\n",
       "      <td>0</td>\n",
       "    </tr>\n",
       "    <tr>\n",
       "      <th>5</th>\n",
       "      <td>2020</td>\n",
       "      <td>30999</td>\n",
       "      <td>Automatic</td>\n",
       "      <td>1000.0</td>\n",
       "      <td>Diesel</td>\n",
       "      <td>2.0</td>\n",
       "      <td>1</td>\n",
       "      <td>0</td>\n",
       "      <td>0</td>\n",
       "      <td>0</td>\n",
       "      <td>1</td>\n",
       "      <td>0</td>\n",
       "      <td>0</td>\n",
       "      <td>0</td>\n",
       "    </tr>\n",
       "    <tr>\n",
       "      <th>6</th>\n",
       "      <td>2020</td>\n",
       "      <td>35999</td>\n",
       "      <td>Automatic</td>\n",
       "      <td>500.0</td>\n",
       "      <td>Diesel</td>\n",
       "      <td>2.0</td>\n",
       "      <td>1</td>\n",
       "      <td>0</td>\n",
       "      <td>0</td>\n",
       "      <td>0</td>\n",
       "      <td>1</td>\n",
       "      <td>0</td>\n",
       "      <td>0</td>\n",
       "      <td>0</td>\n",
       "    </tr>\n",
       "    <tr>\n",
       "      <th>7</th>\n",
       "      <td>2019</td>\n",
       "      <td>37990</td>\n",
       "      <td>Automatic</td>\n",
       "      <td>1412.0</td>\n",
       "      <td>Petrol</td>\n",
       "      <td>3.0</td>\n",
       "      <td>1</td>\n",
       "      <td>0</td>\n",
       "      <td>0</td>\n",
       "      <td>0</td>\n",
       "      <td>0</td>\n",
       "      <td>0</td>\n",
       "      <td>0</td>\n",
       "      <td>1</td>\n",
       "    </tr>\n",
       "    <tr>\n",
       "      <th>8</th>\n",
       "      <td>2019</td>\n",
       "      <td>28990</td>\n",
       "      <td>Automatic</td>\n",
       "      <td>3569.0</td>\n",
       "      <td>Diesel</td>\n",
       "      <td>2.0</td>\n",
       "      <td>1</td>\n",
       "      <td>0</td>\n",
       "      <td>0</td>\n",
       "      <td>0</td>\n",
       "      <td>1</td>\n",
       "      <td>0</td>\n",
       "      <td>0</td>\n",
       "      <td>0</td>\n",
       "    </tr>\n",
       "    <tr>\n",
       "      <th>9</th>\n",
       "      <td>2019</td>\n",
       "      <td>28990</td>\n",
       "      <td>Automatic</td>\n",
       "      <td>3635.0</td>\n",
       "      <td>Diesel</td>\n",
       "      <td>2.0</td>\n",
       "      <td>1</td>\n",
       "      <td>0</td>\n",
       "      <td>0</td>\n",
       "      <td>0</td>\n",
       "      <td>1</td>\n",
       "      <td>0</td>\n",
       "      <td>0</td>\n",
       "      <td>0</td>\n",
       "    </tr>\n",
       "    <tr>\n",
       "      <th>10</th>\n",
       "      <td>2013</td>\n",
       "      <td>9995</td>\n",
       "      <td>Automatic</td>\n",
       "      <td>44900.0</td>\n",
       "      <td>Petrol</td>\n",
       "      <td>1.6</td>\n",
       "      <td>1</td>\n",
       "      <td>0</td>\n",
       "      <td>0</td>\n",
       "      <td>0</td>\n",
       "      <td>0</td>\n",
       "      <td>0</td>\n",
       "      <td>0</td>\n",
       "      <td>1</td>\n",
       "    </tr>\n",
       "    <tr>\n",
       "      <th>11</th>\n",
       "      <td>2012</td>\n",
       "      <td>6995</td>\n",
       "      <td>Automatic</td>\n",
       "      <td>88200.0</td>\n",
       "      <td>Diesel</td>\n",
       "      <td>2.1</td>\n",
       "      <td>1</td>\n",
       "      <td>0</td>\n",
       "      <td>0</td>\n",
       "      <td>0</td>\n",
       "      <td>1</td>\n",
       "      <td>0</td>\n",
       "      <td>0</td>\n",
       "      <td>0</td>\n",
       "    </tr>\n",
       "    <tr>\n",
       "      <th>12</th>\n",
       "      <td>2012</td>\n",
       "      <td>7495</td>\n",
       "      <td>Automatic</td>\n",
       "      <td>115000.0</td>\n",
       "      <td>Diesel</td>\n",
       "      <td>2.1</td>\n",
       "      <td>1</td>\n",
       "      <td>0</td>\n",
       "      <td>0</td>\n",
       "      <td>0</td>\n",
       "      <td>1</td>\n",
       "      <td>0</td>\n",
       "      <td>0</td>\n",
       "      <td>0</td>\n",
       "    </tr>\n",
       "    <tr>\n",
       "      <th>13</th>\n",
       "      <td>2011</td>\n",
       "      <td>8995</td>\n",
       "      <td>Automatic</td>\n",
       "      <td>69250.0</td>\n",
       "      <td>Diesel</td>\n",
       "      <td>2.1</td>\n",
       "      <td>1</td>\n",
       "      <td>0</td>\n",
       "      <td>0</td>\n",
       "      <td>0</td>\n",
       "      <td>1</td>\n",
       "      <td>0</td>\n",
       "      <td>0</td>\n",
       "      <td>0</td>\n",
       "    </tr>\n",
       "    <tr>\n",
       "      <th>14</th>\n",
       "      <td>2015</td>\n",
       "      <td>14995</td>\n",
       "      <td>Automatic</td>\n",
       "      <td>49850.0</td>\n",
       "      <td>Diesel</td>\n",
       "      <td>2.1</td>\n",
       "      <td>1</td>\n",
       "      <td>0</td>\n",
       "      <td>0</td>\n",
       "      <td>0</td>\n",
       "      <td>1</td>\n",
       "      <td>0</td>\n",
       "      <td>0</td>\n",
       "      <td>0</td>\n",
       "    </tr>\n",
       "    <tr>\n",
       "      <th>15</th>\n",
       "      <td>2013</td>\n",
       "      <td>8595</td>\n",
       "      <td>Automatic</td>\n",
       "      <td>82685.0</td>\n",
       "      <td>Diesel</td>\n",
       "      <td>2.1</td>\n",
       "      <td>1</td>\n",
       "      <td>0</td>\n",
       "      <td>0</td>\n",
       "      <td>0</td>\n",
       "      <td>1</td>\n",
       "      <td>0</td>\n",
       "      <td>0</td>\n",
       "      <td>0</td>\n",
       "    </tr>\n",
       "    <tr>\n",
       "      <th>16</th>\n",
       "      <td>2016</td>\n",
       "      <td>19250</td>\n",
       "      <td>Semi-Auto</td>\n",
       "      <td>32506.0</td>\n",
       "      <td>Diesel</td>\n",
       "      <td>2.1</td>\n",
       "      <td>0</td>\n",
       "      <td>0</td>\n",
       "      <td>0</td>\n",
       "      <td>1</td>\n",
       "      <td>1</td>\n",
       "      <td>0</td>\n",
       "      <td>0</td>\n",
       "      <td>0</td>\n",
       "    </tr>\n",
       "    <tr>\n",
       "      <th>17</th>\n",
       "      <td>2017</td>\n",
       "      <td>23500</td>\n",
       "      <td>Semi-Auto</td>\n",
       "      <td>17000.0</td>\n",
       "      <td>Diesel</td>\n",
       "      <td>2.1</td>\n",
       "      <td>0</td>\n",
       "      <td>0</td>\n",
       "      <td>0</td>\n",
       "      <td>1</td>\n",
       "      <td>1</td>\n",
       "      <td>0</td>\n",
       "      <td>0</td>\n",
       "      <td>0</td>\n",
       "    </tr>\n",
       "    <tr>\n",
       "      <th>18</th>\n",
       "      <td>2018</td>\n",
       "      <td>24995</td>\n",
       "      <td>Semi-Auto</td>\n",
       "      <td>17744.0</td>\n",
       "      <td>Diesel</td>\n",
       "      <td>2.0</td>\n",
       "      <td>0</td>\n",
       "      <td>0</td>\n",
       "      <td>0</td>\n",
       "      <td>1</td>\n",
       "      <td>1</td>\n",
       "      <td>0</td>\n",
       "      <td>0</td>\n",
       "      <td>0</td>\n",
       "    </tr>\n",
       "    <tr>\n",
       "      <th>19</th>\n",
       "      <td>2016</td>\n",
       "      <td>29995</td>\n",
       "      <td>Semi-Auto</td>\n",
       "      <td>64291.0</td>\n",
       "      <td>Petrol</td>\n",
       "      <td>4.0</td>\n",
       "      <td>0</td>\n",
       "      <td>0</td>\n",
       "      <td>0</td>\n",
       "      <td>1</td>\n",
       "      <td>0</td>\n",
       "      <td>0</td>\n",
       "      <td>0</td>\n",
       "      <td>1</td>\n",
       "    </tr>\n",
       "    <tr>\n",
       "      <th>20</th>\n",
       "      <td>2014</td>\n",
       "      <td>17990</td>\n",
       "      <td>Automatic</td>\n",
       "      <td>41011.0</td>\n",
       "      <td>Petrol</td>\n",
       "      <td>2.0</td>\n",
       "      <td>1</td>\n",
       "      <td>0</td>\n",
       "      <td>0</td>\n",
       "      <td>0</td>\n",
       "      <td>0</td>\n",
       "      <td>0</td>\n",
       "      <td>0</td>\n",
       "      <td>1</td>\n",
       "    </tr>\n",
       "    <tr>\n",
       "      <th>21</th>\n",
       "      <td>2016</td>\n",
       "      <td>14477</td>\n",
       "      <td>Automatic</td>\n",
       "      <td>72000.0</td>\n",
       "      <td>Diesel</td>\n",
       "      <td>1.6</td>\n",
       "      <td>1</td>\n",
       "      <td>0</td>\n",
       "      <td>0</td>\n",
       "      <td>0</td>\n",
       "      <td>1</td>\n",
       "      <td>0</td>\n",
       "      <td>0</td>\n",
       "      <td>0</td>\n",
       "    </tr>\n",
       "    <tr>\n",
       "      <th>22</th>\n",
       "      <td>2013</td>\n",
       "      <td>10977</td>\n",
       "      <td>Automatic</td>\n",
       "      <td>72000.0</td>\n",
       "      <td>Diesel</td>\n",
       "      <td>2.1</td>\n",
       "      <td>1</td>\n",
       "      <td>0</td>\n",
       "      <td>0</td>\n",
       "      <td>0</td>\n",
       "      <td>1</td>\n",
       "      <td>0</td>\n",
       "      <td>0</td>\n",
       "      <td>0</td>\n",
       "    </tr>\n",
       "    <tr>\n",
       "      <th>23</th>\n",
       "      <td>2016</td>\n",
       "      <td>17977</td>\n",
       "      <td>Automatic</td>\n",
       "      <td>40000.0</td>\n",
       "      <td>Diesel</td>\n",
       "      <td>1.6</td>\n",
       "      <td>1</td>\n",
       "      <td>0</td>\n",
       "      <td>0</td>\n",
       "      <td>0</td>\n",
       "      <td>1</td>\n",
       "      <td>0</td>\n",
       "      <td>0</td>\n",
       "      <td>0</td>\n",
       "    </tr>\n",
       "    <tr>\n",
       "      <th>24</th>\n",
       "      <td>2015</td>\n",
       "      <td>12790</td>\n",
       "      <td>Automatic</td>\n",
       "      <td>52000.0</td>\n",
       "      <td>Diesel</td>\n",
       "      <td>2.1</td>\n",
       "      <td>1</td>\n",
       "      <td>0</td>\n",
       "      <td>0</td>\n",
       "      <td>0</td>\n",
       "      <td>1</td>\n",
       "      <td>0</td>\n",
       "      <td>0</td>\n",
       "      <td>0</td>\n",
       "    </tr>\n",
       "    <tr>\n",
       "      <th>26</th>\n",
       "      <td>2017</td>\n",
       "      <td>14488</td>\n",
       "      <td>Automatic</td>\n",
       "      <td>66472.0</td>\n",
       "      <td>Diesel</td>\n",
       "      <td>2.1</td>\n",
       "      <td>1</td>\n",
       "      <td>0</td>\n",
       "      <td>0</td>\n",
       "      <td>0</td>\n",
       "      <td>1</td>\n",
       "      <td>0</td>\n",
       "      <td>0</td>\n",
       "      <td>0</td>\n",
       "    </tr>\n",
       "    <tr>\n",
       "      <th>27</th>\n",
       "      <td>2011</td>\n",
       "      <td>7500</td>\n",
       "      <td>Manual</td>\n",
       "      <td>91000.0</td>\n",
       "      <td>Diesel</td>\n",
       "      <td>2.1</td>\n",
       "      <td>0</td>\n",
       "      <td>1</td>\n",
       "      <td>0</td>\n",
       "      <td>0</td>\n",
       "      <td>1</td>\n",
       "      <td>0</td>\n",
       "      <td>0</td>\n",
       "      <td>0</td>\n",
       "    </tr>\n",
       "    <tr>\n",
       "      <th>28</th>\n",
       "      <td>2013</td>\n",
       "      <td>9750</td>\n",
       "      <td>Automatic</td>\n",
       "      <td>69700.0</td>\n",
       "      <td>Diesel</td>\n",
       "      <td>2.1</td>\n",
       "      <td>1</td>\n",
       "      <td>0</td>\n",
       "      <td>0</td>\n",
       "      <td>0</td>\n",
       "      <td>1</td>\n",
       "      <td>0</td>\n",
       "      <td>0</td>\n",
       "      <td>0</td>\n",
       "    </tr>\n",
       "    <tr>\n",
       "      <th>29</th>\n",
       "      <td>2015</td>\n",
       "      <td>15995</td>\n",
       "      <td>Automatic</td>\n",
       "      <td>39000.0</td>\n",
       "      <td>Diesel</td>\n",
       "      <td>1.6</td>\n",
       "      <td>1</td>\n",
       "      <td>0</td>\n",
       "      <td>0</td>\n",
       "      <td>0</td>\n",
       "      <td>1</td>\n",
       "      <td>0</td>\n",
       "      <td>0</td>\n",
       "      <td>0</td>\n",
       "    </tr>\n",
       "    <tr>\n",
       "      <th>30</th>\n",
       "      <td>2016</td>\n",
       "      <td>15675</td>\n",
       "      <td>Manual</td>\n",
       "      <td>39287.0</td>\n",
       "      <td>Diesel</td>\n",
       "      <td>2.1</td>\n",
       "      <td>0</td>\n",
       "      <td>1</td>\n",
       "      <td>0</td>\n",
       "      <td>0</td>\n",
       "      <td>1</td>\n",
       "      <td>0</td>\n",
       "      <td>0</td>\n",
       "      <td>0</td>\n",
       "    </tr>\n",
       "  </tbody>\n",
       "</table>\n",
       "</div>"
      ],
      "text/plain": [
       "    year  price transmission   mileage fuel_type  engine_size  Automatic  \\\n",
       "0   2020  30495    Automatic    1200.0    Diesel          2.0          1   \n",
       "1   2020  29989    Automatic    1000.0    Petrol          1.5          1   \n",
       "2   2020  37899    Automatic     500.0    Diesel          2.0          1   \n",
       "3   2019  30399    Automatic    5000.0    Diesel          2.0          1   \n",
       "4   2019  29899    Automatic    4500.0    Diesel          2.0          1   \n",
       "5   2020  30999    Automatic    1000.0    Diesel          2.0          1   \n",
       "6   2020  35999    Automatic     500.0    Diesel          2.0          1   \n",
       "7   2019  37990    Automatic    1412.0    Petrol          3.0          1   \n",
       "8   2019  28990    Automatic    3569.0    Diesel          2.0          1   \n",
       "9   2019  28990    Automatic    3635.0    Diesel          2.0          1   \n",
       "10  2013   9995    Automatic   44900.0    Petrol          1.6          1   \n",
       "11  2012   6995    Automatic   88200.0    Diesel          2.1          1   \n",
       "12  2012   7495    Automatic  115000.0    Diesel          2.1          1   \n",
       "13  2011   8995    Automatic   69250.0    Diesel          2.1          1   \n",
       "14  2015  14995    Automatic   49850.0    Diesel          2.1          1   \n",
       "15  2013   8595    Automatic   82685.0    Diesel          2.1          1   \n",
       "16  2016  19250    Semi-Auto   32506.0    Diesel          2.1          0   \n",
       "17  2017  23500    Semi-Auto   17000.0    Diesel          2.1          0   \n",
       "18  2018  24995    Semi-Auto   17744.0    Diesel          2.0          0   \n",
       "19  2016  29995    Semi-Auto   64291.0    Petrol          4.0          0   \n",
       "20  2014  17990    Automatic   41011.0    Petrol          2.0          1   \n",
       "21  2016  14477    Automatic   72000.0    Diesel          1.6          1   \n",
       "22  2013  10977    Automatic   72000.0    Diesel          2.1          1   \n",
       "23  2016  17977    Automatic   40000.0    Diesel          1.6          1   \n",
       "24  2015  12790    Automatic   52000.0    Diesel          2.1          1   \n",
       "26  2017  14488    Automatic   66472.0    Diesel          2.1          1   \n",
       "27  2011   7500       Manual   91000.0    Diesel          2.1          0   \n",
       "28  2013   9750    Automatic   69700.0    Diesel          2.1          1   \n",
       "29  2015  15995    Automatic   39000.0    Diesel          1.6          1   \n",
       "30  2016  15675       Manual   39287.0    Diesel          2.1          0   \n",
       "\n",
       "    Manual  OtherTransmission  Semi-Auto  Diesel  Hybrid  OtherFuel  Petrol  \n",
       "0        0                  0          0       1       0          0       0  \n",
       "1        0                  0          0       0       0          0       1  \n",
       "2        0                  0          0       1       0          0       0  \n",
       "3        0                  0          0       1       0          0       0  \n",
       "4        0                  0          0       1       0          0       0  \n",
       "5        0                  0          0       1       0          0       0  \n",
       "6        0                  0          0       1       0          0       0  \n",
       "7        0                  0          0       0       0          0       1  \n",
       "8        0                  0          0       1       0          0       0  \n",
       "9        0                  0          0       1       0          0       0  \n",
       "10       0                  0          0       0       0          0       1  \n",
       "11       0                  0          0       1       0          0       0  \n",
       "12       0                  0          0       1       0          0       0  \n",
       "13       0                  0          0       1       0          0       0  \n",
       "14       0                  0          0       1       0          0       0  \n",
       "15       0                  0          0       1       0          0       0  \n",
       "16       0                  0          1       1       0          0       0  \n",
       "17       0                  0          1       1       0          0       0  \n",
       "18       0                  0          1       1       0          0       0  \n",
       "19       0                  0          1       0       0          0       1  \n",
       "20       0                  0          0       0       0          0       1  \n",
       "21       0                  0          0       1       0          0       0  \n",
       "22       0                  0          0       1       0          0       0  \n",
       "23       0                  0          0       1       0          0       0  \n",
       "24       0                  0          0       1       0          0       0  \n",
       "26       0                  0          0       1       0          0       0  \n",
       "27       1                  0          0       1       0          0       0  \n",
       "28       0                  0          0       1       0          0       0  \n",
       "29       0                  0          0       1       0          0       0  \n",
       "30       1                  0          0       1       0          0       0  "
      ]
     },
     "execution_count": 58,
     "metadata": {},
     "output_type": "execute_result"
    }
   ],
   "source": [
    "# rename the new column name of 'Other' into 'OtherFuel' \n",
    "clean_df.rename(columns={'Other' : 'OtherFuel'}, inplace=True)\n",
    "clean_df.head(30)"
   ]
  },
  {
   "cell_type": "code",
   "execution_count": 59,
   "metadata": {
    "colab": {
     "base_uri": "https://localhost:8080/"
    },
    "id": "O7FbSqOVgCF6",
    "outputId": "86d5d6bf-1f6d-4666-e338-aa2db10b96a5"
   },
   "outputs": [
    {
     "name": "stdout",
     "output_type": "stream",
     "text": [
      "Clean dataset with 3898 data points 14 variable each.\n"
     ]
    }
   ],
   "source": [
    "print(\"Clean dataset with {} data points {} variable each.\".format(*clean_df.shape))"
   ]
  },
  {
   "cell_type": "code",
   "execution_count": 60,
   "metadata": {
    "colab": {
     "base_uri": "https://localhost:8080/"
    },
    "id": "LeAuPib-Ar0z",
    "outputId": "d41f72b6-b549-4a9d-ff89-c83fb972b4b5"
   },
   "outputs": [
    {
     "data": {
      "text/plain": [
       "year                   int64\n",
       "price                  int64\n",
       "transmission          object\n",
       "mileage              float64\n",
       "fuel_type             object\n",
       "engine_size          float64\n",
       "Automatic              uint8\n",
       "Manual                 uint8\n",
       "OtherTransmission      uint8\n",
       "Semi-Auto              uint8\n",
       "Diesel                 uint8\n",
       "Hybrid                 uint8\n",
       "OtherFuel              uint8\n",
       "Petrol                 uint8\n",
       "dtype: object"
      ]
     },
     "execution_count": 60,
     "metadata": {},
     "output_type": "execute_result"
    }
   ],
   "source": [
    "clean_df.dtypes"
   ]
  },
  {
   "cell_type": "markdown",
   "metadata": {
    "id": "0mGkCPVEF4mH"
   },
   "source": [
    "### Step 3.10 - Saving the cleaned data into csv"
   ]
  },
  {
   "cell_type": "code",
   "execution_count": 61,
   "metadata": {
    "id": "nuwGYVWjeVIY"
   },
   "outputs": [],
   "source": [
    "clean_df.to_csv('cleaned_data_Group2.csv', index=False)"
   ]
  },
  {
   "cell_type": "markdown",
   "metadata": {
    "id": "ZYkFyGDo5qNI"
   },
   "source": [
    "# 4. Exploratory Data Analysis and Visualization"
   ]
  },
  {
   "cell_type": "code",
   "execution_count": 62,
   "metadata": {
    "colab": {
     "base_uri": "https://localhost:8080/",
     "height": 314
    },
    "id": "-oB9iInOu8Pl",
    "outputId": "a1443786-2fd7-4ed8-f930-02637124716e"
   },
   "outputs": [
    {
     "data": {
      "text/html": [
       "<div>\n",
       "<style scoped>\n",
       "    .dataframe tbody tr th:only-of-type {\n",
       "        vertical-align: middle;\n",
       "    }\n",
       "\n",
       "    .dataframe tbody tr th {\n",
       "        vertical-align: top;\n",
       "    }\n",
       "\n",
       "    .dataframe thead th {\n",
       "        text-align: right;\n",
       "    }\n",
       "</style>\n",
       "<table border=\"1\" class=\"dataframe\">\n",
       "  <thead>\n",
       "    <tr style=\"text-align: right;\">\n",
       "      <th></th>\n",
       "      <th>year</th>\n",
       "      <th>price</th>\n",
       "      <th>mileage</th>\n",
       "      <th>engine_size</th>\n",
       "      <th>Automatic</th>\n",
       "      <th>Manual</th>\n",
       "      <th>OtherTransmission</th>\n",
       "      <th>Semi-Auto</th>\n",
       "      <th>Diesel</th>\n",
       "      <th>Hybrid</th>\n",
       "      <th>OtherFuel</th>\n",
       "      <th>Petrol</th>\n",
       "    </tr>\n",
       "  </thead>\n",
       "  <tbody>\n",
       "    <tr>\n",
       "      <th>count</th>\n",
       "      <td>3898.000000</td>\n",
       "      <td>3898.000000</td>\n",
       "      <td>3898.000000</td>\n",
       "      <td>3898.000000</td>\n",
       "      <td>3898.000000</td>\n",
       "      <td>3898.000000</td>\n",
       "      <td>3898.000000</td>\n",
       "      <td>3898.000000</td>\n",
       "      <td>3898.000000</td>\n",
       "      <td>3898.000000</td>\n",
       "      <td>3898.000000</td>\n",
       "      <td>3898.000000</td>\n",
       "    </tr>\n",
       "    <tr>\n",
       "      <th>mean</th>\n",
       "      <td>2017.341714</td>\n",
       "      <td>23679.720369</td>\n",
       "      <td>22373.116727</td>\n",
       "      <td>2.036762</td>\n",
       "      <td>0.417394</td>\n",
       "      <td>0.051052</td>\n",
       "      <td>0.000257</td>\n",
       "      <td>0.531298</td>\n",
       "      <td>0.600051</td>\n",
       "      <td>0.038738</td>\n",
       "      <td>0.001539</td>\n",
       "      <td>0.359672</td>\n",
       "    </tr>\n",
       "    <tr>\n",
       "      <th>std</th>\n",
       "      <td>2.204856</td>\n",
       "      <td>8954.941562</td>\n",
       "      <td>22589.323398</td>\n",
       "      <td>0.487930</td>\n",
       "      <td>0.493192</td>\n",
       "      <td>0.220132</td>\n",
       "      <td>0.016017</td>\n",
       "      <td>0.499083</td>\n",
       "      <td>0.489950</td>\n",
       "      <td>0.192994</td>\n",
       "      <td>0.039208</td>\n",
       "      <td>0.479966</td>\n",
       "    </tr>\n",
       "    <tr>\n",
       "      <th>min</th>\n",
       "      <td>1991.000000</td>\n",
       "      <td>1290.000000</td>\n",
       "      <td>1.000000</td>\n",
       "      <td>0.000000</td>\n",
       "      <td>0.000000</td>\n",
       "      <td>0.000000</td>\n",
       "      <td>0.000000</td>\n",
       "      <td>0.000000</td>\n",
       "      <td>0.000000</td>\n",
       "      <td>0.000000</td>\n",
       "      <td>0.000000</td>\n",
       "      <td>0.000000</td>\n",
       "    </tr>\n",
       "    <tr>\n",
       "      <th>25%</th>\n",
       "      <td>2016.000000</td>\n",
       "      <td>17691.250000</td>\n",
       "      <td>6000.000000</td>\n",
       "      <td>2.000000</td>\n",
       "      <td>0.000000</td>\n",
       "      <td>0.000000</td>\n",
       "      <td>0.000000</td>\n",
       "      <td>0.000000</td>\n",
       "      <td>0.000000</td>\n",
       "      <td>0.000000</td>\n",
       "      <td>0.000000</td>\n",
       "      <td>0.000000</td>\n",
       "    </tr>\n",
       "    <tr>\n",
       "      <th>50%</th>\n",
       "      <td>2018.000000</td>\n",
       "      <td>22980.000000</td>\n",
       "      <td>14638.000000</td>\n",
       "      <td>2.000000</td>\n",
       "      <td>0.000000</td>\n",
       "      <td>0.000000</td>\n",
       "      <td>0.000000</td>\n",
       "      <td>1.000000</td>\n",
       "      <td>1.000000</td>\n",
       "      <td>0.000000</td>\n",
       "      <td>0.000000</td>\n",
       "      <td>0.000000</td>\n",
       "    </tr>\n",
       "    <tr>\n",
       "      <th>75%</th>\n",
       "      <td>2019.000000</td>\n",
       "      <td>28900.000000</td>\n",
       "      <td>32440.000000</td>\n",
       "      <td>2.100000</td>\n",
       "      <td>1.000000</td>\n",
       "      <td>0.000000</td>\n",
       "      <td>0.000000</td>\n",
       "      <td>1.000000</td>\n",
       "      <td>1.000000</td>\n",
       "      <td>0.000000</td>\n",
       "      <td>0.000000</td>\n",
       "      <td>1.000000</td>\n",
       "    </tr>\n",
       "    <tr>\n",
       "      <th>max</th>\n",
       "      <td>2020.000000</td>\n",
       "      <td>88995.000000</td>\n",
       "      <td>173000.000000</td>\n",
       "      <td>6.200000</td>\n",
       "      <td>1.000000</td>\n",
       "      <td>1.000000</td>\n",
       "      <td>1.000000</td>\n",
       "      <td>1.000000</td>\n",
       "      <td>1.000000</td>\n",
       "      <td>1.000000</td>\n",
       "      <td>1.000000</td>\n",
       "      <td>1.000000</td>\n",
       "    </tr>\n",
       "  </tbody>\n",
       "</table>\n",
       "</div>"
      ],
      "text/plain": [
       "              year         price        mileage  engine_size    Automatic  \\\n",
       "count  3898.000000   3898.000000    3898.000000  3898.000000  3898.000000   \n",
       "mean   2017.341714  23679.720369   22373.116727     2.036762     0.417394   \n",
       "std       2.204856   8954.941562   22589.323398     0.487930     0.493192   \n",
       "min    1991.000000   1290.000000       1.000000     0.000000     0.000000   \n",
       "25%    2016.000000  17691.250000    6000.000000     2.000000     0.000000   \n",
       "50%    2018.000000  22980.000000   14638.000000     2.000000     0.000000   \n",
       "75%    2019.000000  28900.000000   32440.000000     2.100000     1.000000   \n",
       "max    2020.000000  88995.000000  173000.000000     6.200000     1.000000   \n",
       "\n",
       "            Manual  OtherTransmission    Semi-Auto       Diesel       Hybrid  \\\n",
       "count  3898.000000        3898.000000  3898.000000  3898.000000  3898.000000   \n",
       "mean      0.051052           0.000257     0.531298     0.600051     0.038738   \n",
       "std       0.220132           0.016017     0.499083     0.489950     0.192994   \n",
       "min       0.000000           0.000000     0.000000     0.000000     0.000000   \n",
       "25%       0.000000           0.000000     0.000000     0.000000     0.000000   \n",
       "50%       0.000000           0.000000     1.000000     1.000000     0.000000   \n",
       "75%       0.000000           0.000000     1.000000     1.000000     0.000000   \n",
       "max       1.000000           1.000000     1.000000     1.000000     1.000000   \n",
       "\n",
       "         OtherFuel       Petrol  \n",
       "count  3898.000000  3898.000000  \n",
       "mean      0.001539     0.359672  \n",
       "std       0.039208     0.479966  \n",
       "min       0.000000     0.000000  \n",
       "25%       0.000000     0.000000  \n",
       "50%       0.000000     0.000000  \n",
       "75%       0.000000     1.000000  \n",
       "max       1.000000     1.000000  "
      ]
     },
     "execution_count": 62,
     "metadata": {},
     "output_type": "execute_result"
    }
   ],
   "source": [
    "#Observe the clean dataset statistics\n",
    "clean_df.describe()"
   ]
  },
  {
   "cell_type": "markdown",
   "metadata": {},
   "source": [
    "#### Relationship between mileage and the price?"
   ]
  },
  {
   "cell_type": "code",
   "execution_count": 63,
   "metadata": {
    "colab": {
     "base_uri": "https://localhost:8080/",
     "height": 313
    },
    "id": "UewFbPJZx2ET",
    "outputId": "c561bd7d-cc6d-496b-f294-b5d87e032a25"
   },
   "outputs": [
    {
     "data": {
      "text/plain": [
       "Text(0.5, 1.0, 'Price vs Mileage count')"
      ]
     },
     "execution_count": 63,
     "metadata": {},
     "output_type": "execute_result"
    },
    {
     "data": {
      "image/png": "[encoded data removed]",
      "text/plain": [
       "<Figure size 432x288 with 1 Axes>"
      ]
     },
     "metadata": {
      "needs_background": "light"
     },
     "output_type": "display_data"
    }
   ],
   "source": [
    "#Is there any relationship between the average price of used cars and the mileage count? \n",
    "plt.scatter(clean_df.mileage, clean_df.price)\n",
    "plt.title('Price vs Mileage count')"
   ]
  },
  {
   "cell_type": "markdown",
   "metadata": {
    "pycharm": {
     "name": "#%% md\n"
    }
   },
   "source": [
    "#### Comments:\n",
    "As illustrated, the higher the mileage count, the lower will be the price the car may cost. As an outlier, there is one data point of price over 80000 that will be removed for the analysis."
   ]
  },
  {
   "cell_type": "code",
   "execution_count": 65,
   "metadata": {},
   "outputs": [
    {
     "data": {
      "text/plain": [
       "Text(0, 0.5, 'Price')"
      ]
     },
     "execution_count": 65,
     "metadata": {},
     "output_type": "execute_result"
    },
    {
     "data": {
      "image/png": "[encoded data removed]",
      "text/plain": [
       "<Figure size 432x288 with 1 Axes>"
      ]
     },
     "metadata": {
      "needs_background": "light"
     },
     "output_type": "display_data"
    }
   ],
   "source": [
    "clean_df.drop(clean_df.loc[clean_df[\"price\"]>80000].index, inplace=True) \n",
    "plt.scatter(clean_df.mileage, clean_df.price)\n",
    "plt.title('Price vs Mileage count (without Outliers)')\n",
    "plt.xlabel('Mileage')\n",
    "plt.ylabel('Price')\n",
    "#plt.savefig('mileage vs price.png', dpi=400, bbox_inches='tight')"
   ]
  },
  {
   "cell_type": "markdown",
   "metadata": {},
   "source": [
    "#### Relationship between year and the price?"
   ]
  },
  {
   "cell_type": "code",
   "execution_count": 66,
   "metadata": {
    "colab": {
     "base_uri": "https://localhost:8080/",
     "height": 313
    },
    "id": "Mh4LW5KczOey",
    "outputId": "114f5006-c065-421c-9ce9-9e17050999c4"
   },
   "outputs": [
    {
     "data": {
      "text/plain": [
       "Text(0.5, 1.0, 'Price vs Year')"
      ]
     },
     "execution_count": 66,
     "metadata": {},
     "output_type": "execute_result"
    },
    {
     "data": {
      "image/png": "[encoded data removed]",
      "text/plain": [
       "<Figure size 432x288 with 1 Axes>"
      ]
     },
     "metadata": {
      "needs_background": "light"
     },
     "output_type": "display_data"
    }
   ],
   "source": [
    "#Is there any relationship between the average price of used cars and the year it was manufactured?\n",
    "plt.scatter(clean_df.year, clean_df.price)\n",
    "plt.title('Price vs Year')\n"
   ]
  },
  {
   "cell_type": "markdown",
   "metadata": {},
   "source": [
    "#### Comments:\n",
    "As we can see, the price is negatively affected by the increase of year value. The Older the Car, the cheaper it will cost."
   ]
  },
  {
   "cell_type": "markdown",
   "metadata": {},
   "source": [
    "#### Relationship between engine size and the price?"
   ]
  },
  {
   "cell_type": "code",
   "execution_count": 67,
   "metadata": {
    "colab": {
     "base_uri": "https://localhost:8080/",
     "height": 313
    },
    "id": "suRdEJPp3ZPO",
    "outputId": "81d5b9ab-efaa-4ddd-cfbb-cce897f58ce9"
   },
   "outputs": [
    {
     "data": {
      "text/plain": [
       "Text(0.5, 1.0, 'Price vs Engine Size')"
      ]
     },
     "execution_count": 67,
     "metadata": {},
     "output_type": "execute_result"
    },
    {
     "data": {
      "image/png": "[encoded data removed]",
      "text/plain": [
       "<Figure size 432x288 with 1 Axes>"
      ]
     },
     "metadata": {
      "needs_background": "light"
     },
     "output_type": "display_data"
    }
   ],
   "source": [
    "#Is there any relationship between the average price of used cars and the engine size?\n",
    "plt.scatter(clean_df.engine_size, clean_df.price)\n",
    "plt.title('Price vs Engine Size')"
   ]
  },
  {
   "cell_type": "markdown",
   "metadata": {},
   "source": [
    "#### Comments:\n",
    "Similarly to mileage, we can see that there is an outlier beyond point 5 where the price suddenly decreases. That could be excluded for the sake of this analysis. "
   ]
  },
  {
   "cell_type": "code",
   "execution_count": 68,
   "metadata": {},
   "outputs": [],
   "source": [
    "#Exclude outlier\n",
    "clean_df.drop(clean_df.loc[clean_df[\"engine_size\"]>5].index,inplace=True)"
   ]
  },
  {
   "cell_type": "code",
   "execution_count": 69,
   "metadata": {},
   "outputs": [
    {
     "data": {
      "text/plain": [
       "Text(0.5, 1.0, 'Price vs Engine Size (without outlier)')"
      ]
     },
     "execution_count": 69,
     "metadata": {},
     "output_type": "execute_result"
    },
    {
     "data": {
      "image/png": "[encoded data removed]",
      "text/plain": [
       "<Figure size 432x288 with 1 Axes>"
      ]
     },
     "metadata": {
      "needs_background": "light"
     },
     "output_type": "display_data"
    }
   ],
   "source": [
    "#Relationship plot after dropping outlier\n",
    "plt.scatter(clean_df.engine_size, clean_df.price)\n",
    "plt.title('Price vs Engine Size (without outlier)')"
   ]
  },
  {
   "cell_type": "markdown",
   "metadata": {},
   "source": [
    "#### Relationship between fuel type  and the price?"
   ]
  },
  {
   "cell_type": "code",
   "execution_count": 70,
   "metadata": {},
   "outputs": [
    {
     "data": {
      "text/plain": [
       "Text(0.5, 1.0, 'Price vs Fuel Type')"
      ]
     },
     "execution_count": 70,
     "metadata": {},
     "output_type": "execute_result"
    },
    {
     "data": {
      "image/png": "[encoded data removed]",
      "text/plain": [
       "<Figure size 432x288 with 1 Axes>"
      ]
     },
     "metadata": {
      "needs_background": "light"
     },
     "output_type": "display_data"
    }
   ],
   "source": [
    "#Is there any relationship between the average price of used cars and the fuel type?\n",
    "plt.scatter(clean_df.fuel_type, clean_df.price)\n",
    "plt.title('Price vs Fuel Type')"
   ]
  },
  {
   "cell_type": "markdown",
   "metadata": {
    "pycharm": {
     "name": "#%% md\n"
    }
   },
   "source": [
    "#### Comments:\n",
    "We can observe, the car fuel type do not independently affect the price variation."
   ]
  },
  {
   "cell_type": "code",
   "execution_count": 71,
   "metadata": {
    "colab": {
     "base_uri": "https://localhost:8080/",
     "height": 874
    },
    "id": "lfZZp6f84upg",
    "outputId": "eef3f1a6-11f4-4c39-831d-6a8868ff6e7f"
   },
   "outputs": [
    {
     "data": {
      "image/png": "[encoded data removed]",
      "text/plain": [
       "<Figure size 2160x2160 with 156 Axes>"
      ]
     },
     "metadata": {
      "needs_background": "light"
     },
     "output_type": "display_data"
    }
   ],
   "source": [
    "#More general visualizations of the data\n",
    "sns.pairplot(clean_df[['year', 'mileage', 'engine_size', 'Automatic', 'Manual', 'OtherTransmission',\n",
    "        'Semi-Auto', 'Diesel', 'Hybrid', 'OtherFuel', 'Petrol','price']], height=2.5)\n",
    "plt.tight_layout()"
   ]
  },
  {
   "cell_type": "code",
   "execution_count": 72,
   "metadata": {
    "colab": {
     "base_uri": "https://localhost:8080/",
     "height": 454
    },
    "id": "zeh-_f-m44MV",
    "outputId": "0fc6219f-1dcb-485c-ace0-58a739132b43"
   },
   "outputs": [
    {
     "data": {
      "text/html": [
       "<div>\n",
       "<style scoped>\n",
       "    .dataframe tbody tr th:only-of-type {\n",
       "        vertical-align: middle;\n",
       "    }\n",
       "\n",
       "    .dataframe tbody tr th {\n",
       "        vertical-align: top;\n",
       "    }\n",
       "\n",
       "    .dataframe thead th {\n",
       "        text-align: right;\n",
       "    }\n",
       "</style>\n",
       "<table border=\"1\" class=\"dataframe\">\n",
       "  <thead>\n",
       "    <tr style=\"text-align: right;\">\n",
       "      <th></th>\n",
       "      <th>year</th>\n",
       "      <th>price</th>\n",
       "      <th>mileage</th>\n",
       "      <th>engine_size</th>\n",
       "      <th>Automatic</th>\n",
       "      <th>Manual</th>\n",
       "      <th>OtherTransmission</th>\n",
       "      <th>Semi-Auto</th>\n",
       "      <th>Diesel</th>\n",
       "      <th>Hybrid</th>\n",
       "      <th>OtherFuel</th>\n",
       "      <th>Petrol</th>\n",
       "    </tr>\n",
       "  </thead>\n",
       "  <tbody>\n",
       "    <tr>\n",
       "      <th>year</th>\n",
       "      <td>1.000000</td>\n",
       "      <td>0.682994</td>\n",
       "      <td>-0.776060</td>\n",
       "      <td>-0.129176</td>\n",
       "      <td>-0.200500</td>\n",
       "      <td>-0.168941</td>\n",
       "      <td>-0.039363</td>\n",
       "      <td>0.274009</td>\n",
       "      <td>-0.143429</td>\n",
       "      <td>-0.098698</td>\n",
       "      <td>-0.009422</td>\n",
       "      <td>0.187041</td>\n",
       "    </tr>\n",
       "    <tr>\n",
       "      <th>price</th>\n",
       "      <td>0.682994</td>\n",
       "      <td>1.000000</td>\n",
       "      <td>-0.682491</td>\n",
       "      <td>0.413022</td>\n",
       "      <td>-0.096540</td>\n",
       "      <td>-0.242487</td>\n",
       "      <td>-0.021030</td>\n",
       "      <td>0.203181</td>\n",
       "      <td>-0.255191</td>\n",
       "      <td>-0.112566</td>\n",
       "      <td>-0.016599</td>\n",
       "      <td>0.307357</td>\n",
       "    </tr>\n",
       "    <tr>\n",
       "      <th>mileage</th>\n",
       "      <td>-0.776060</td>\n",
       "      <td>-0.682491</td>\n",
       "      <td>1.000000</td>\n",
       "      <td>0.089013</td>\n",
       "      <td>0.181919</td>\n",
       "      <td>0.221090</td>\n",
       "      <td>0.015870</td>\n",
       "      <td>-0.277928</td>\n",
       "      <td>0.180800</td>\n",
       "      <td>0.190922</td>\n",
       "      <td>0.045296</td>\n",
       "      <td>-0.265329</td>\n",
       "    </tr>\n",
       "    <tr>\n",
       "      <th>engine_size</th>\n",
       "      <td>-0.129176</td>\n",
       "      <td>0.413022</td>\n",
       "      <td>0.089013</td>\n",
       "      <td>1.000000</td>\n",
       "      <td>0.081257</td>\n",
       "      <td>-0.049206</td>\n",
       "      <td>0.035736</td>\n",
       "      <td>-0.059705</td>\n",
       "      <td>-0.004088</td>\n",
       "      <td>0.003171</td>\n",
       "      <td>-0.002235</td>\n",
       "      <td>0.003079</td>\n",
       "    </tr>\n",
       "    <tr>\n",
       "      <th>Automatic</th>\n",
       "      <td>-0.200500</td>\n",
       "      <td>-0.096540</td>\n",
       "      <td>0.181919</td>\n",
       "      <td>0.081257</td>\n",
       "      <td>1.000000</td>\n",
       "      <td>-0.196538</td>\n",
       "      <td>-0.013573</td>\n",
       "      <td>-0.900871</td>\n",
       "      <td>0.022723</td>\n",
       "      <td>0.089149</td>\n",
       "      <td>0.046484</td>\n",
       "      <td>-0.062957</td>\n",
       "    </tr>\n",
       "    <tr>\n",
       "      <th>Manual</th>\n",
       "      <td>-0.168941</td>\n",
       "      <td>-0.242487</td>\n",
       "      <td>0.221090</td>\n",
       "      <td>-0.049206</td>\n",
       "      <td>-0.196538</td>\n",
       "      <td>1.000000</td>\n",
       "      <td>-0.003727</td>\n",
       "      <td>-0.247397</td>\n",
       "      <td>0.029147</td>\n",
       "      <td>-0.046713</td>\n",
       "      <td>-0.009136</td>\n",
       "      <td>-0.010184</td>\n",
       "    </tr>\n",
       "    <tr>\n",
       "      <th>OtherTransmission</th>\n",
       "      <td>-0.039363</td>\n",
       "      <td>-0.021030</td>\n",
       "      <td>0.015870</td>\n",
       "      <td>0.035736</td>\n",
       "      <td>-0.013573</td>\n",
       "      <td>-0.003727</td>\n",
       "      <td>1.000000</td>\n",
       "      <td>-0.017085</td>\n",
       "      <td>0.013048</td>\n",
       "      <td>-0.003226</td>\n",
       "      <td>-0.000631</td>\n",
       "      <td>-0.011973</td>\n",
       "    </tr>\n",
       "    <tr>\n",
       "      <th>Semi-Auto</th>\n",
       "      <td>0.274009</td>\n",
       "      <td>0.203181</td>\n",
       "      <td>-0.277928</td>\n",
       "      <td>-0.059705</td>\n",
       "      <td>-0.900871</td>\n",
       "      <td>-0.247397</td>\n",
       "      <td>-0.017085</td>\n",
       "      <td>1.000000</td>\n",
       "      <td>-0.035747</td>\n",
       "      <td>-0.067353</td>\n",
       "      <td>-0.041876</td>\n",
       "      <td>0.067092</td>\n",
       "    </tr>\n",
       "    <tr>\n",
       "      <th>Diesel</th>\n",
       "      <td>-0.143429</td>\n",
       "      <td>-0.255191</td>\n",
       "      <td>0.180800</td>\n",
       "      <td>-0.004088</td>\n",
       "      <td>0.022723</td>\n",
       "      <td>0.029147</td>\n",
       "      <td>0.013048</td>\n",
       "      <td>-0.035747</td>\n",
       "      <td>1.000000</td>\n",
       "      <td>-0.247237</td>\n",
       "      <td>-0.048354</td>\n",
       "      <td>-0.917604</td>\n",
       "    </tr>\n",
       "    <tr>\n",
       "      <th>Hybrid</th>\n",
       "      <td>-0.098698</td>\n",
       "      <td>-0.112566</td>\n",
       "      <td>0.190922</td>\n",
       "      <td>0.003171</td>\n",
       "      <td>0.089149</td>\n",
       "      <td>-0.046713</td>\n",
       "      <td>-0.003226</td>\n",
       "      <td>-0.067353</td>\n",
       "      <td>-0.247237</td>\n",
       "      <td>1.000000</td>\n",
       "      <td>-0.007907</td>\n",
       "      <td>-0.150047</td>\n",
       "    </tr>\n",
       "    <tr>\n",
       "      <th>OtherFuel</th>\n",
       "      <td>-0.009422</td>\n",
       "      <td>-0.016599</td>\n",
       "      <td>0.045296</td>\n",
       "      <td>-0.002235</td>\n",
       "      <td>0.046484</td>\n",
       "      <td>-0.009136</td>\n",
       "      <td>-0.000631</td>\n",
       "      <td>-0.041876</td>\n",
       "      <td>-0.048354</td>\n",
       "      <td>-0.007907</td>\n",
       "      <td>1.000000</td>\n",
       "      <td>-0.029346</td>\n",
       "    </tr>\n",
       "    <tr>\n",
       "      <th>Petrol</th>\n",
       "      <td>0.187041</td>\n",
       "      <td>0.307357</td>\n",
       "      <td>-0.265329</td>\n",
       "      <td>0.003079</td>\n",
       "      <td>-0.062957</td>\n",
       "      <td>-0.010184</td>\n",
       "      <td>-0.011973</td>\n",
       "      <td>0.067092</td>\n",
       "      <td>-0.917604</td>\n",
       "      <td>-0.150047</td>\n",
       "      <td>-0.029346</td>\n",
       "      <td>1.000000</td>\n",
       "    </tr>\n",
       "  </tbody>\n",
       "</table>\n",
       "</div>"
      ],
      "text/plain": [
       "                       year     price   mileage  engine_size  Automatic  \\\n",
       "year               1.000000  0.682994 -0.776060    -0.129176  -0.200500   \n",
       "price              0.682994  1.000000 -0.682491     0.413022  -0.096540   \n",
       "mileage           -0.776060 -0.682491  1.000000     0.089013   0.181919   \n",
       "engine_size       -0.129176  0.413022  0.089013     1.000000   0.081257   \n",
       "Automatic         -0.200500 -0.096540  0.181919     0.081257   1.000000   \n",
       "Manual            -0.168941 -0.242487  0.221090    -0.049206  -0.196538   \n",
       "OtherTransmission -0.039363 -0.021030  0.015870     0.035736  -0.013573   \n",
       "Semi-Auto          0.274009  0.203181 -0.277928    -0.059705  -0.900871   \n",
       "Diesel            -0.143429 -0.255191  0.180800    -0.004088   0.022723   \n",
       "Hybrid            -0.098698 -0.112566  0.190922     0.003171   0.089149   \n",
       "OtherFuel         -0.009422 -0.016599  0.045296    -0.002235   0.046484   \n",
       "Petrol             0.187041  0.307357 -0.265329     0.003079  -0.062957   \n",
       "\n",
       "                     Manual  OtherTransmission  Semi-Auto    Diesel    Hybrid  \\\n",
       "year              -0.168941          -0.039363   0.274009 -0.143429 -0.098698   \n",
       "price             -0.242487          -0.021030   0.203181 -0.255191 -0.112566   \n",
       "mileage            0.221090           0.015870  -0.277928  0.180800  0.190922   \n",
       "engine_size       -0.049206           0.035736  -0.059705 -0.004088  0.003171   \n",
       "Automatic         -0.196538          -0.013573  -0.900871  0.022723  0.089149   \n",
       "Manual             1.000000          -0.003727  -0.247397  0.029147 -0.046713   \n",
       "OtherTransmission -0.003727           1.000000  -0.017085  0.013048 -0.003226   \n",
       "Semi-Auto         -0.247397          -0.017085   1.000000 -0.035747 -0.067353   \n",
       "Diesel             0.029147           0.013048  -0.035747  1.000000 -0.247237   \n",
       "Hybrid            -0.046713          -0.003226  -0.067353 -0.247237  1.000000   \n",
       "OtherFuel         -0.009136          -0.000631  -0.041876 -0.048354 -0.007907   \n",
       "Petrol            -0.010184          -0.011973   0.067092 -0.917604 -0.150047   \n",
       "\n",
       "                   OtherFuel    Petrol  \n",
       "year               -0.009422  0.187041  \n",
       "price              -0.016599  0.307357  \n",
       "mileage             0.045296 -0.265329  \n",
       "engine_size        -0.002235  0.003079  \n",
       "Automatic           0.046484 -0.062957  \n",
       "Manual             -0.009136 -0.010184  \n",
       "OtherTransmission  -0.000631 -0.011973  \n",
       "Semi-Auto          -0.041876  0.067092  \n",
       "Diesel             -0.048354 -0.917604  \n",
       "Hybrid             -0.007907 -0.150047  \n",
       "OtherFuel           1.000000 -0.029346  \n",
       "Petrol             -0.029346  1.000000  "
      ]
     },
     "execution_count": 72,
     "metadata": {},
     "output_type": "execute_result"
    }
   ],
   "source": [
    "# Obtain Correlations coefficients\n",
    "clean_df.corr()"
   ]
  },
  {
   "cell_type": "code",
   "execution_count": 73,
   "metadata": {
    "id": "89zv3qlL5m-Y"
   },
   "outputs": [],
   "source": [
    "#Select only numericalvariables to visualize heatmap\n",
    "num_var = clean_df[['year', 'mileage', 'engine_size','price']]"
   ]
  },
  {
   "cell_type": "code",
   "execution_count": 74,
   "metadata": {
    "colab": {
     "base_uri": "https://localhost:8080/",
     "height": 361
    },
    "id": "sPFysYLG5D4k",
    "outputId": "a830a108-af0d-425c-937f-83f513a7b454"
   },
   "outputs": [
    {
     "data": {
      "image/png": "[encoded data removed]",
      "text/plain": [
       "<Figure size 432x288 with 2 Axes>"
      ]
     },
     "metadata": {},
     "output_type": "display_data"
    }
   ],
   "source": [
    "#Correlations heatmap\n",
    "cm = np.corrcoef(num_var.values.T)\n",
    "sns.set(font_scale=1.5)\n",
    "hm = sns.heatmap(cm,\n",
    "               cbar=True,\n",
    "               annot=True,\n",
    "               square=True,\n",
    "               fmt='.2f',\n",
    "               annot_kws={'size':15},\n",
    "               yticklabels=num_var.columns,\n",
    "               xticklabels=num_var.columns)"
   ]
  },
  {
   "cell_type": "markdown",
   "metadata": {},
   "source": [
    "#### Comments:\n",
    "We can see in the heat map, there is a high negative correlation (-0.78) among the variables year and mileage,indicating the higher the year the smaller will be the milleage count; also with mileage and price (-0.68) which can imply that the higher the mileage count the smaller will be the price value. But there is a high positive correlation between year and price (0.68) which confirms the hypothesis that the newer the car the more expensive it will be."
   ]
  },
  {
   "cell_type": "markdown",
   "metadata": {
    "id": "nBCrpa615sZT"
   },
   "source": [
    "# 5. Feature Observation and Hypothesis"
   ]
  },
  {
   "cell_type": "code",
   "execution_count": 75,
   "metadata": {},
   "outputs": [
    {
     "data": {
      "text/html": [
       "<div>\n",
       "<style scoped>\n",
       "    .dataframe tbody tr th:only-of-type {\n",
       "        vertical-align: middle;\n",
       "    }\n",
       "\n",
       "    .dataframe tbody tr th {\n",
       "        vertical-align: top;\n",
       "    }\n",
       "\n",
       "    .dataframe thead th {\n",
       "        text-align: right;\n",
       "    }\n",
       "</style>\n",
       "<table border=\"1\" class=\"dataframe\">\n",
       "  <thead>\n",
       "    <tr style=\"text-align: right;\">\n",
       "      <th></th>\n",
       "      <th>year</th>\n",
       "      <th>price</th>\n",
       "      <th>mileage</th>\n",
       "      <th>engine_size</th>\n",
       "      <th>Automatic</th>\n",
       "      <th>Manual</th>\n",
       "      <th>OtherTransmission</th>\n",
       "      <th>Semi-Auto</th>\n",
       "      <th>Diesel</th>\n",
       "      <th>Hybrid</th>\n",
       "      <th>OtherFuel</th>\n",
       "      <th>Petrol</th>\n",
       "    </tr>\n",
       "  </thead>\n",
       "  <tbody>\n",
       "    <tr>\n",
       "      <th>count</th>\n",
       "      <td>3886.000000</td>\n",
       "      <td>3886.000000</td>\n",
       "      <td>3886.000000</td>\n",
       "      <td>3886.000000</td>\n",
       "      <td>3886.000000</td>\n",
       "      <td>3886.000000</td>\n",
       "      <td>3886.000000</td>\n",
       "      <td>3886.000000</td>\n",
       "      <td>3886.000000</td>\n",
       "      <td>3886.000000</td>\n",
       "      <td>3886.000000</td>\n",
       "      <td>3886.000000</td>\n",
       "    </tr>\n",
       "    <tr>\n",
       "      <th>mean</th>\n",
       "      <td>2017.356408</td>\n",
       "      <td>23665.792589</td>\n",
       "      <td>22315.686052</td>\n",
       "      <td>2.024884</td>\n",
       "      <td>0.417138</td>\n",
       "      <td>0.051209</td>\n",
       "      <td>0.000257</td>\n",
       "      <td>0.531395</td>\n",
       "      <td>0.601904</td>\n",
       "      <td>0.038857</td>\n",
       "      <td>0.001544</td>\n",
       "      <td>0.357694</td>\n",
       "    </tr>\n",
       "    <tr>\n",
       "      <th>std</th>\n",
       "      <td>2.183439</td>\n",
       "      <td>8904.608344</td>\n",
       "      <td>22576.158703</td>\n",
       "      <td>0.437838</td>\n",
       "      <td>0.493150</td>\n",
       "      <td>0.220453</td>\n",
       "      <td>0.016042</td>\n",
       "      <td>0.499078</td>\n",
       "      <td>0.489568</td>\n",
       "      <td>0.193280</td>\n",
       "      <td>0.039269</td>\n",
       "      <td>0.479383</td>\n",
       "    </tr>\n",
       "    <tr>\n",
       "      <th>min</th>\n",
       "      <td>1991.000000</td>\n",
       "      <td>1290.000000</td>\n",
       "      <td>1.000000</td>\n",
       "      <td>0.000000</td>\n",
       "      <td>0.000000</td>\n",
       "      <td>0.000000</td>\n",
       "      <td>0.000000</td>\n",
       "      <td>0.000000</td>\n",
       "      <td>0.000000</td>\n",
       "      <td>0.000000</td>\n",
       "      <td>0.000000</td>\n",
       "      <td>0.000000</td>\n",
       "    </tr>\n",
       "    <tr>\n",
       "      <th>25%</th>\n",
       "      <td>2016.000000</td>\n",
       "      <td>17690.000000</td>\n",
       "      <td>6000.000000</td>\n",
       "      <td>2.000000</td>\n",
       "      <td>0.000000</td>\n",
       "      <td>0.000000</td>\n",
       "      <td>0.000000</td>\n",
       "      <td>0.000000</td>\n",
       "      <td>0.000000</td>\n",
       "      <td>0.000000</td>\n",
       "      <td>0.000000</td>\n",
       "      <td>0.000000</td>\n",
       "    </tr>\n",
       "    <tr>\n",
       "      <th>50%</th>\n",
       "      <td>2018.000000</td>\n",
       "      <td>22980.000000</td>\n",
       "      <td>14606.000000</td>\n",
       "      <td>2.000000</td>\n",
       "      <td>0.000000</td>\n",
       "      <td>0.000000</td>\n",
       "      <td>0.000000</td>\n",
       "      <td>1.000000</td>\n",
       "      <td>1.000000</td>\n",
       "      <td>0.000000</td>\n",
       "      <td>0.000000</td>\n",
       "      <td>0.000000</td>\n",
       "    </tr>\n",
       "    <tr>\n",
       "      <th>75%</th>\n",
       "      <td>2019.000000</td>\n",
       "      <td>28900.000000</td>\n",
       "      <td>32344.500000</td>\n",
       "      <td>2.100000</td>\n",
       "      <td>1.000000</td>\n",
       "      <td>0.000000</td>\n",
       "      <td>0.000000</td>\n",
       "      <td>1.000000</td>\n",
       "      <td>1.000000</td>\n",
       "      <td>0.000000</td>\n",
       "      <td>0.000000</td>\n",
       "      <td>1.000000</td>\n",
       "    </tr>\n",
       "    <tr>\n",
       "      <th>max</th>\n",
       "      <td>2020.000000</td>\n",
       "      <td>69995.000000</td>\n",
       "      <td>173000.000000</td>\n",
       "      <td>4.000000</td>\n",
       "      <td>1.000000</td>\n",
       "      <td>1.000000</td>\n",
       "      <td>1.000000</td>\n",
       "      <td>1.000000</td>\n",
       "      <td>1.000000</td>\n",
       "      <td>1.000000</td>\n",
       "      <td>1.000000</td>\n",
       "      <td>1.000000</td>\n",
       "    </tr>\n",
       "  </tbody>\n",
       "</table>\n",
       "</div>"
      ],
      "text/plain": [
       "              year         price        mileage  engine_size    Automatic  \\\n",
       "count  3886.000000   3886.000000    3886.000000  3886.000000  3886.000000   \n",
       "mean   2017.356408  23665.792589   22315.686052     2.024884     0.417138   \n",
       "std       2.183439   8904.608344   22576.158703     0.437838     0.493150   \n",
       "min    1991.000000   1290.000000       1.000000     0.000000     0.000000   \n",
       "25%    2016.000000  17690.000000    6000.000000     2.000000     0.000000   \n",
       "50%    2018.000000  22980.000000   14606.000000     2.000000     0.000000   \n",
       "75%    2019.000000  28900.000000   32344.500000     2.100000     1.000000   \n",
       "max    2020.000000  69995.000000  173000.000000     4.000000     1.000000   \n",
       "\n",
       "            Manual  OtherTransmission    Semi-Auto       Diesel       Hybrid  \\\n",
       "count  3886.000000        3886.000000  3886.000000  3886.000000  3886.000000   \n",
       "mean      0.051209           0.000257     0.531395     0.601904     0.038857   \n",
       "std       0.220453           0.016042     0.499078     0.489568     0.193280   \n",
       "min       0.000000           0.000000     0.000000     0.000000     0.000000   \n",
       "25%       0.000000           0.000000     0.000000     0.000000     0.000000   \n",
       "50%       0.000000           0.000000     1.000000     1.000000     0.000000   \n",
       "75%       0.000000           0.000000     1.000000     1.000000     0.000000   \n",
       "max       1.000000           1.000000     1.000000     1.000000     1.000000   \n",
       "\n",
       "         OtherFuel       Petrol  \n",
       "count  3886.000000  3886.000000  \n",
       "mean      0.001544     0.357694  \n",
       "std       0.039269     0.479383  \n",
       "min       0.000000     0.000000  \n",
       "25%       0.000000     0.000000  \n",
       "50%       0.000000     0.000000  \n",
       "75%       0.000000     1.000000  \n",
       "max       1.000000     1.000000  "
      ]
     },
     "execution_count": 75,
     "metadata": {},
     "output_type": "execute_result"
    }
   ],
   "source": [
    "#Observe the clean dataset statistics\n",
    "clean_df.describe()"
   ]
  },
  {
   "cell_type": "markdown",
   "metadata": {},
   "source": [
    "## Feature observation\n",
    "1. As we can observe here, engize_size after cleaning has value minimum of 0, it's quite illogical as no car may have. Hence, it should be cleaned.\n",
    "2. there are some outliers with the year as the minimum year is 1991, while the 1st quartile of year is 2016, median is 2018, 3rd IQR is 2019, so we will drop these outliers"
   ]
  },
  {
   "cell_type": "code",
   "execution_count": 76,
   "metadata": {},
   "outputs": [
    {
     "data": {
      "text/plain": [
       "Text(0.5, 1.0, 'Price vs Year')"
      ]
     },
     "execution_count": 76,
     "metadata": {},
     "output_type": "execute_result"
    },
    {
     "data": {
      "image/png": "[encoded data removed]",
      "text/plain": [
       "<Figure size 432x288 with 1 Axes>"
      ]
     },
     "metadata": {},
     "output_type": "display_data"
    }
   ],
   "source": [
    "#Is there any relationship between the average price of used cars and the year it was manufactured?\n",
    "plt.scatter(clean_df.year, clean_df.price)\n",
    "plt.title('Price vs Year')\n",
    "#=> drop outlier for the year before 2000"
   ]
  },
  {
   "cell_type": "code",
   "execution_count": 77,
   "metadata": {},
   "outputs": [],
   "source": [
    "# drop rows that has 0 value in engine_size column\n",
    "clean_df.drop(clean_df.loc[clean_df[\"engine_size\"]==0].index, inplace=True)\n"
   ]
  },
  {
   "cell_type": "code",
   "execution_count": 78,
   "metadata": {},
   "outputs": [
    {
     "data": {
      "text/html": [
       "<div>\n",
       "<style scoped>\n",
       "    .dataframe tbody tr th:only-of-type {\n",
       "        vertical-align: middle;\n",
       "    }\n",
       "\n",
       "    .dataframe tbody tr th {\n",
       "        vertical-align: top;\n",
       "    }\n",
       "\n",
       "    .dataframe thead th {\n",
       "        text-align: right;\n",
       "    }\n",
       "</style>\n",
       "<table border=\"1\" class=\"dataframe\">\n",
       "  <thead>\n",
       "    <tr style=\"text-align: right;\">\n",
       "      <th></th>\n",
       "      <th>year</th>\n",
       "      <th>price</th>\n",
       "      <th>transmission</th>\n",
       "      <th>mileage</th>\n",
       "      <th>fuel_type</th>\n",
       "      <th>engine_size</th>\n",
       "      <th>Automatic</th>\n",
       "      <th>Manual</th>\n",
       "      <th>OtherTransmission</th>\n",
       "      <th>Semi-Auto</th>\n",
       "      <th>Diesel</th>\n",
       "      <th>Hybrid</th>\n",
       "      <th>OtherFuel</th>\n",
       "      <th>Petrol</th>\n",
       "    </tr>\n",
       "  </thead>\n",
       "  <tbody>\n",
       "    <tr>\n",
       "      <th>0</th>\n",
       "      <td>2020</td>\n",
       "      <td>30495</td>\n",
       "      <td>Automatic</td>\n",
       "      <td>1200.0</td>\n",
       "      <td>Diesel</td>\n",
       "      <td>2.0</td>\n",
       "      <td>1</td>\n",
       "      <td>0</td>\n",
       "      <td>0</td>\n",
       "      <td>0</td>\n",
       "      <td>1</td>\n",
       "      <td>0</td>\n",
       "      <td>0</td>\n",
       "      <td>0</td>\n",
       "    </tr>\n",
       "    <tr>\n",
       "      <th>1</th>\n",
       "      <td>2020</td>\n",
       "      <td>29989</td>\n",
       "      <td>Automatic</td>\n",
       "      <td>1000.0</td>\n",
       "      <td>Petrol</td>\n",
       "      <td>1.5</td>\n",
       "      <td>1</td>\n",
       "      <td>0</td>\n",
       "      <td>0</td>\n",
       "      <td>0</td>\n",
       "      <td>0</td>\n",
       "      <td>0</td>\n",
       "      <td>0</td>\n",
       "      <td>1</td>\n",
       "    </tr>\n",
       "    <tr>\n",
       "      <th>2</th>\n",
       "      <td>2020</td>\n",
       "      <td>37899</td>\n",
       "      <td>Automatic</td>\n",
       "      <td>500.0</td>\n",
       "      <td>Diesel</td>\n",
       "      <td>2.0</td>\n",
       "      <td>1</td>\n",
       "      <td>0</td>\n",
       "      <td>0</td>\n",
       "      <td>0</td>\n",
       "      <td>1</td>\n",
       "      <td>0</td>\n",
       "      <td>0</td>\n",
       "      <td>0</td>\n",
       "    </tr>\n",
       "    <tr>\n",
       "      <th>3</th>\n",
       "      <td>2019</td>\n",
       "      <td>30399</td>\n",
       "      <td>Automatic</td>\n",
       "      <td>5000.0</td>\n",
       "      <td>Diesel</td>\n",
       "      <td>2.0</td>\n",
       "      <td>1</td>\n",
       "      <td>0</td>\n",
       "      <td>0</td>\n",
       "      <td>0</td>\n",
       "      <td>1</td>\n",
       "      <td>0</td>\n",
       "      <td>0</td>\n",
       "      <td>0</td>\n",
       "    </tr>\n",
       "    <tr>\n",
       "      <th>4</th>\n",
       "      <td>2019</td>\n",
       "      <td>29899</td>\n",
       "      <td>Automatic</td>\n",
       "      <td>4500.0</td>\n",
       "      <td>Diesel</td>\n",
       "      <td>2.0</td>\n",
       "      <td>1</td>\n",
       "      <td>0</td>\n",
       "      <td>0</td>\n",
       "      <td>0</td>\n",
       "      <td>1</td>\n",
       "      <td>0</td>\n",
       "      <td>0</td>\n",
       "      <td>0</td>\n",
       "    </tr>\n",
       "    <tr>\n",
       "      <th>...</th>\n",
       "      <td>...</td>\n",
       "      <td>...</td>\n",
       "      <td>...</td>\n",
       "      <td>...</td>\n",
       "      <td>...</td>\n",
       "      <td>...</td>\n",
       "      <td>...</td>\n",
       "      <td>...</td>\n",
       "      <td>...</td>\n",
       "      <td>...</td>\n",
       "      <td>...</td>\n",
       "      <td>...</td>\n",
       "      <td>...</td>\n",
       "      <td>...</td>\n",
       "    </tr>\n",
       "    <tr>\n",
       "      <th>3902</th>\n",
       "      <td>2017</td>\n",
       "      <td>14700</td>\n",
       "      <td>Manual</td>\n",
       "      <td>31357.0</td>\n",
       "      <td>Diesel</td>\n",
       "      <td>1.6</td>\n",
       "      <td>0</td>\n",
       "      <td>1</td>\n",
       "      <td>0</td>\n",
       "      <td>0</td>\n",
       "      <td>1</td>\n",
       "      <td>0</td>\n",
       "      <td>0</td>\n",
       "      <td>0</td>\n",
       "    </tr>\n",
       "    <tr>\n",
       "      <th>3903</th>\n",
       "      <td>2018</td>\n",
       "      <td>18500</td>\n",
       "      <td>Automatic</td>\n",
       "      <td>28248.0</td>\n",
       "      <td>Diesel</td>\n",
       "      <td>2.1</td>\n",
       "      <td>1</td>\n",
       "      <td>0</td>\n",
       "      <td>0</td>\n",
       "      <td>0</td>\n",
       "      <td>1</td>\n",
       "      <td>0</td>\n",
       "      <td>0</td>\n",
       "      <td>0</td>\n",
       "    </tr>\n",
       "    <tr>\n",
       "      <th>3904</th>\n",
       "      <td>2014</td>\n",
       "      <td>11900</td>\n",
       "      <td>Manual</td>\n",
       "      <td>48055.0</td>\n",
       "      <td>Diesel</td>\n",
       "      <td>2.1</td>\n",
       "      <td>0</td>\n",
       "      <td>1</td>\n",
       "      <td>0</td>\n",
       "      <td>0</td>\n",
       "      <td>1</td>\n",
       "      <td>0</td>\n",
       "      <td>0</td>\n",
       "      <td>0</td>\n",
       "    </tr>\n",
       "    <tr>\n",
       "      <th>3905</th>\n",
       "      <td>2014</td>\n",
       "      <td>11300</td>\n",
       "      <td>Automatic</td>\n",
       "      <td>49865.0</td>\n",
       "      <td>Diesel</td>\n",
       "      <td>2.1</td>\n",
       "      <td>1</td>\n",
       "      <td>0</td>\n",
       "      <td>0</td>\n",
       "      <td>0</td>\n",
       "      <td>1</td>\n",
       "      <td>0</td>\n",
       "      <td>0</td>\n",
       "      <td>0</td>\n",
       "    </tr>\n",
       "    <tr>\n",
       "      <th>3906</th>\n",
       "      <td>2014</td>\n",
       "      <td>14800</td>\n",
       "      <td>Automatic</td>\n",
       "      <td>55445.0</td>\n",
       "      <td>Diesel</td>\n",
       "      <td>2.1</td>\n",
       "      <td>1</td>\n",
       "      <td>0</td>\n",
       "      <td>0</td>\n",
       "      <td>0</td>\n",
       "      <td>1</td>\n",
       "      <td>0</td>\n",
       "      <td>0</td>\n",
       "      <td>0</td>\n",
       "    </tr>\n",
       "  </tbody>\n",
       "</table>\n",
       "<p>3882 rows × 14 columns</p>\n",
       "</div>"
      ],
      "text/plain": [
       "      year  price transmission  mileage fuel_type  engine_size  Automatic  \\\n",
       "0     2020  30495    Automatic   1200.0    Diesel          2.0          1   \n",
       "1     2020  29989    Automatic   1000.0    Petrol          1.5          1   \n",
       "2     2020  37899    Automatic    500.0    Diesel          2.0          1   \n",
       "3     2019  30399    Automatic   5000.0    Diesel          2.0          1   \n",
       "4     2019  29899    Automatic   4500.0    Diesel          2.0          1   \n",
       "...    ...    ...          ...      ...       ...          ...        ...   \n",
       "3902  2017  14700       Manual  31357.0    Diesel          1.6          0   \n",
       "3903  2018  18500    Automatic  28248.0    Diesel          2.1          1   \n",
       "3904  2014  11900       Manual  48055.0    Diesel          2.1          0   \n",
       "3905  2014  11300    Automatic  49865.0    Diesel          2.1          1   \n",
       "3906  2014  14800    Automatic  55445.0    Diesel          2.1          1   \n",
       "\n",
       "      Manual  OtherTransmission  Semi-Auto  Diesel  Hybrid  OtherFuel  Petrol  \n",
       "0          0                  0          0       1       0          0       0  \n",
       "1          0                  0          0       0       0          0       1  \n",
       "2          0                  0          0       1       0          0       0  \n",
       "3          0                  0          0       1       0          0       0  \n",
       "4          0                  0          0       1       0          0       0  \n",
       "...      ...                ...        ...     ...     ...        ...     ...  \n",
       "3902       1                  0          0       1       0          0       0  \n",
       "3903       0                  0          0       1       0          0       0  \n",
       "3904       1                  0          0       1       0          0       0  \n",
       "3905       0                  0          0       1       0          0       0  \n",
       "3906       0                  0          0       1       0          0       0  \n",
       "\n",
       "[3882 rows x 14 columns]"
      ]
     },
     "execution_count": 78,
     "metadata": {},
     "output_type": "execute_result"
    }
   ],
   "source": [
    "## drop rows which have value in year columns less than 2000, drop the ouliers\n",
    "clean_df.drop(clean_df.loc[clean_df[\"year\"]<2000].index, inplace=True)\n",
    "clean_df"
   ]
  },
  {
   "cell_type": "code",
   "execution_count": 79,
   "metadata": {},
   "outputs": [
    {
     "data": {
      "text/html": [
       "<div>\n",
       "<style scoped>\n",
       "    .dataframe tbody tr th:only-of-type {\n",
       "        vertical-align: middle;\n",
       "    }\n",
       "\n",
       "    .dataframe tbody tr th {\n",
       "        vertical-align: top;\n",
       "    }\n",
       "\n",
       "    .dataframe thead th {\n",
       "        text-align: right;\n",
       "    }\n",
       "</style>\n",
       "<table border=\"1\" class=\"dataframe\">\n",
       "  <thead>\n",
       "    <tr style=\"text-align: right;\">\n",
       "      <th></th>\n",
       "      <th>year</th>\n",
       "      <th>price</th>\n",
       "      <th>mileage</th>\n",
       "      <th>engine_size</th>\n",
       "      <th>Automatic</th>\n",
       "      <th>Manual</th>\n",
       "      <th>OtherTransmission</th>\n",
       "      <th>Semi-Auto</th>\n",
       "      <th>Diesel</th>\n",
       "      <th>Hybrid</th>\n",
       "      <th>OtherFuel</th>\n",
       "      <th>Petrol</th>\n",
       "    </tr>\n",
       "  </thead>\n",
       "  <tbody>\n",
       "    <tr>\n",
       "      <th>count</th>\n",
       "      <td>3882.000000</td>\n",
       "      <td>3882.000000</td>\n",
       "      <td>3882.000000</td>\n",
       "      <td>3882.000000</td>\n",
       "      <td>3882.000000</td>\n",
       "      <td>3882.000000</td>\n",
       "      <td>3882.000000</td>\n",
       "      <td>3882.000000</td>\n",
       "      <td>3882.000000</td>\n",
       "      <td>3882.000000</td>\n",
       "      <td>3882.000000</td>\n",
       "      <td>3882.000000</td>\n",
       "    </tr>\n",
       "    <tr>\n",
       "      <th>mean</th>\n",
       "      <td>2017.374807</td>\n",
       "      <td>23683.675940</td>\n",
       "      <td>22199.560536</td>\n",
       "      <td>2.024755</td>\n",
       "      <td>0.416795</td>\n",
       "      <td>0.051005</td>\n",
       "      <td>0.000258</td>\n",
       "      <td>0.531942</td>\n",
       "      <td>0.602267</td>\n",
       "      <td>0.038897</td>\n",
       "      <td>0.001546</td>\n",
       "      <td>0.357290</td>\n",
       "    </tr>\n",
       "    <tr>\n",
       "      <th>std</th>\n",
       "      <td>2.089202</td>\n",
       "      <td>8890.254624</td>\n",
       "      <td>22245.106676</td>\n",
       "      <td>0.435843</td>\n",
       "      <td>0.493092</td>\n",
       "      <td>0.220036</td>\n",
       "      <td>0.016050</td>\n",
       "      <td>0.499043</td>\n",
       "      <td>0.489493</td>\n",
       "      <td>0.193376</td>\n",
       "      <td>0.039289</td>\n",
       "      <td>0.479263</td>\n",
       "    </tr>\n",
       "    <tr>\n",
       "      <th>min</th>\n",
       "      <td>2002.000000</td>\n",
       "      <td>1295.000000</td>\n",
       "      <td>1.000000</td>\n",
       "      <td>1.500000</td>\n",
       "      <td>0.000000</td>\n",
       "      <td>0.000000</td>\n",
       "      <td>0.000000</td>\n",
       "      <td>0.000000</td>\n",
       "      <td>0.000000</td>\n",
       "      <td>0.000000</td>\n",
       "      <td>0.000000</td>\n",
       "      <td>0.000000</td>\n",
       "    </tr>\n",
       "    <tr>\n",
       "      <th>25%</th>\n",
       "      <td>2016.000000</td>\n",
       "      <td>17699.000000</td>\n",
       "      <td>6000.000000</td>\n",
       "      <td>2.000000</td>\n",
       "      <td>0.000000</td>\n",
       "      <td>0.000000</td>\n",
       "      <td>0.000000</td>\n",
       "      <td>0.000000</td>\n",
       "      <td>0.000000</td>\n",
       "      <td>0.000000</td>\n",
       "      <td>0.000000</td>\n",
       "      <td>0.000000</td>\n",
       "    </tr>\n",
       "    <tr>\n",
       "      <th>50%</th>\n",
       "      <td>2018.000000</td>\n",
       "      <td>22980.000000</td>\n",
       "      <td>14572.000000</td>\n",
       "      <td>2.000000</td>\n",
       "      <td>0.000000</td>\n",
       "      <td>0.000000</td>\n",
       "      <td>0.000000</td>\n",
       "      <td>1.000000</td>\n",
       "      <td>1.000000</td>\n",
       "      <td>0.000000</td>\n",
       "      <td>0.000000</td>\n",
       "      <td>0.000000</td>\n",
       "    </tr>\n",
       "    <tr>\n",
       "      <th>75%</th>\n",
       "      <td>2019.000000</td>\n",
       "      <td>28900.000000</td>\n",
       "      <td>32214.500000</td>\n",
       "      <td>2.100000</td>\n",
       "      <td>1.000000</td>\n",
       "      <td>0.000000</td>\n",
       "      <td>0.000000</td>\n",
       "      <td>1.000000</td>\n",
       "      <td>1.000000</td>\n",
       "      <td>0.000000</td>\n",
       "      <td>0.000000</td>\n",
       "      <td>1.000000</td>\n",
       "    </tr>\n",
       "    <tr>\n",
       "      <th>max</th>\n",
       "      <td>2020.000000</td>\n",
       "      <td>69995.000000</td>\n",
       "      <td>170000.000000</td>\n",
       "      <td>4.000000</td>\n",
       "      <td>1.000000</td>\n",
       "      <td>1.000000</td>\n",
       "      <td>1.000000</td>\n",
       "      <td>1.000000</td>\n",
       "      <td>1.000000</td>\n",
       "      <td>1.000000</td>\n",
       "      <td>1.000000</td>\n",
       "      <td>1.000000</td>\n",
       "    </tr>\n",
       "  </tbody>\n",
       "</table>\n",
       "</div>"
      ],
      "text/plain": [
       "              year         price        mileage  engine_size    Automatic  \\\n",
       "count  3882.000000   3882.000000    3882.000000  3882.000000  3882.000000   \n",
       "mean   2017.374807  23683.675940   22199.560536     2.024755     0.416795   \n",
       "std       2.089202   8890.254624   22245.106676     0.435843     0.493092   \n",
       "min    2002.000000   1295.000000       1.000000     1.500000     0.000000   \n",
       "25%    2016.000000  17699.000000    6000.000000     2.000000     0.000000   \n",
       "50%    2018.000000  22980.000000   14572.000000     2.000000     0.000000   \n",
       "75%    2019.000000  28900.000000   32214.500000     2.100000     1.000000   \n",
       "max    2020.000000  69995.000000  170000.000000     4.000000     1.000000   \n",
       "\n",
       "            Manual  OtherTransmission    Semi-Auto       Diesel       Hybrid  \\\n",
       "count  3882.000000        3882.000000  3882.000000  3882.000000  3882.000000   \n",
       "mean      0.051005           0.000258     0.531942     0.602267     0.038897   \n",
       "std       0.220036           0.016050     0.499043     0.489493     0.193376   \n",
       "min       0.000000           0.000000     0.000000     0.000000     0.000000   \n",
       "25%       0.000000           0.000000     0.000000     0.000000     0.000000   \n",
       "50%       0.000000           0.000000     1.000000     1.000000     0.000000   \n",
       "75%       0.000000           0.000000     1.000000     1.000000     0.000000   \n",
       "max       1.000000           1.000000     1.000000     1.000000     1.000000   \n",
       "\n",
       "         OtherFuel       Petrol  \n",
       "count  3882.000000  3882.000000  \n",
       "mean      0.001546     0.357290  \n",
       "std       0.039289     0.479263  \n",
       "min       0.000000     0.000000  \n",
       "25%       0.000000     0.000000  \n",
       "50%       0.000000     0.000000  \n",
       "75%       0.000000     1.000000  \n",
       "max       1.000000     1.000000  "
      ]
     },
     "execution_count": 79,
     "metadata": {},
     "output_type": "execute_result"
    }
   ],
   "source": [
    "clean_df.describe()"
   ]
  },
  {
   "cell_type": "code",
   "execution_count": 80,
   "metadata": {},
   "outputs": [
    {
     "data": {
      "text/plain": [
       "<matplotlib.axes._subplots.AxesSubplot at 0x1bcc7038c48>"
      ]
     },
     "execution_count": 80,
     "metadata": {},
     "output_type": "execute_result"
    },
    {
     "data": {
      "image/png": "[encoded data removed]",
      "text/plain": [
       "<Figure size 1080x1440 with 5 Axes>"
      ]
     },
     "metadata": {
      "needs_background": "light"
     },
     "output_type": "display_data"
    }
   ],
   "source": [
    "import seaborn as sns\n",
    "%matplotlib inline\n",
    "\n",
    "plt.figure(figsize=[15,20])\n",
    "plt.subplot(421)\n",
    "sns.lineplot(x='mileage',y='price',data=clean_df)\n",
    "\n",
    "plt.subplot(422)\n",
    "sns.lineplot(x='year',y='price',data=clean_df)\n",
    "\n",
    "plt.subplot(423)\n",
    "sns.countplot('fuel_type',hue='transmission',data=clean_df)\n",
    "plt.legend(loc='upper right')\n",
    "\n",
    "plt.subplot(424)\n",
    "sns.barplot(x='fuel_type',y='price',data=clean_df)\n",
    "\n",
    "plt.subplot(425)\n",
    "sns.boxplot(x='transmission',y='price',data=clean_df)"
   ]
  },
  {
   "cell_type": "markdown",
   "metadata": {},
   "source": [
    "#### From the data visualization, we can make some inital hypothesis:\n",
    "* The higher the mileage count, the lower the price will be. It's reasonable that car that has been riden longer distances (greater mialge count), will cheaper to purchase.\n",
    "* The newer the car is (the more recent is its year of manufacte), the higher will be the cost.\n",
    "* Tramission type Manuel can cause cars to be cheaper in the market whem compared to automatic and semi-auto types."
   ]
  },
  {
   "cell_type": "markdown",
   "metadata": {
    "id": "O3ixOaCfvy0k"
   },
   "source": [
    "# 6. Training Models"
   ]
  },
  {
   "cell_type": "markdown",
   "metadata": {
    "id": "UobA1PS1wJea"
   },
   "source": [
    "### Useful Functions"
   ]
  },
  {
   "cell_type": "code",
   "execution_count": 81,
   "metadata": {
    "colab": {
     "base_uri": "https://localhost:8080/",
     "height": 606
    },
    "id": "55lu48225wzo",
    "outputId": "310ee0aa-3181-4992-c95f-69c358b82740"
   },
   "outputs": [],
   "source": [
    "def plot_pred_act(y_pred, y_test):\n",
    "    # plot the prediction vs actual(y test or ground truth)\n",
    "    plt.scatter(y_pred, y_test, alpha=.7, color='b')\n",
    "    plt.plot(y_test, y_test, color='r')\n",
    "    plt.xlabel('Predicted Price')\n",
    "    plt.ylabel('Actual Price')\n",
    "    plt.title('Linear Regression Model')\n",
    "    plt.rcParams['figure.figsize'] = [15, 10]\n",
    "    plt.show()\n",
    "    \n",
    "def print_metrics(rmse_train, r2_train, rmse_test, r2_test):\n",
    "    print(\"The model performance for the training set\")\n",
    "    print(\"-------------------------------------------\")\n",
    "    print(f\"RMSE of training set is {rmse_train:.3f}\")\n",
    "    print(f\"R2 score of training set is {r2_train:.3f}\")\n",
    "\n",
    "    print(\"\\n\")\n",
    "\n",
    "    print(\"The model performance for the test set\")\n",
    "    print(\"-------------------------------------------\")\n",
    "    print(f\"RMSE of test set is {rmse_test:.3f}\")\n",
    "    print(f\"R2 score of test set is {r2_test:.3f}\")\n",
    "\n",
    "    print(\"The model plot for test set for predictions x actual prices\")\n",
    "    print(\"-------------------------------------------\")\n",
    "    \n",
    "def regression_model(X_train, y_train, X_test, y_test, model, print_output=True, show_plot=True):\n",
    "    \"\"\"Generic function to train and measure performance of a regression model\"\"\"\n",
    "    model.fit(X_train, y_train)\n",
    "    y_train_predicted = model.predict(X_train)\n",
    "    y_test_predicted = model.predict(X_test)\n",
    "    \n",
    "    # evaluating the model on training dataset\n",
    "    rmse_train = np.sqrt(mean_squared_error(y_train, y_train_predicted))\n",
    "    r2_train = r2_score(y_train, y_train_predicted)\n",
    "\n",
    "    # evaluating the model on test dataset\n",
    "    rmse_test = np.sqrt(mean_squared_error(y_test, y_test_predicted))\n",
    "    r2_test = r2_score(y_test, y_test_predicted)\n",
    "\n",
    "    if print_output:\n",
    "        print_metrics(rmse_train, r2_train, rmse_test, r2_test)\n",
    "    if show_plot:\n",
    "        plot_pred_act(y_test_predicted, y_test)\n",
    "    return rmse_train, r2_train, rmse_test, r2_test"
   ]
  },
  {
   "cell_type": "markdown",
   "metadata": {},
   "source": [
    "### Splitting Dataset"
   ]
  },
  {
   "cell_type": "markdown",
   "metadata": {
    "id": "jRLuI7LYymMM"
   },
   "source": [
    "Loading Cleaned CSV"
   ]
  },
  {
   "cell_type": "code",
   "execution_count": 82,
   "metadata": {},
   "outputs": [],
   "source": [
    "# Constant Variables\n",
    "SEED=42"
   ]
  },
  {
   "cell_type": "code",
   "execution_count": 83,
   "metadata": {
    "id": "Gxtglh4MXJke"
   },
   "outputs": [
    {
     "data": {
      "text/html": [
       "<div>\n",
       "<style scoped>\n",
       "    .dataframe tbody tr th:only-of-type {\n",
       "        vertical-align: middle;\n",
       "    }\n",
       "\n",
       "    .dataframe tbody tr th {\n",
       "        vertical-align: top;\n",
       "    }\n",
       "\n",
       "    .dataframe thead th {\n",
       "        text-align: right;\n",
       "    }\n",
       "</style>\n",
       "<table border=\"1\" class=\"dataframe\">\n",
       "  <thead>\n",
       "    <tr style=\"text-align: right;\">\n",
       "      <th></th>\n",
       "      <th>model</th>\n",
       "      <th>year</th>\n",
       "      <th>transmission</th>\n",
       "      <th>mileage</th>\n",
       "      <th>fuelType</th>\n",
       "      <th>engineSize</th>\n",
       "      <th>Automatic</th>\n",
       "      <th>Manual</th>\n",
       "      <th>OtherTransmission</th>\n",
       "      <th>Semi-Auto</th>\n",
       "      <th>Diesel</th>\n",
       "      <th>Hybrid</th>\n",
       "      <th>OtherFuel</th>\n",
       "      <th>Petrol</th>\n",
       "      <th>price</th>\n",
       "    </tr>\n",
       "  </thead>\n",
       "  <tbody>\n",
       "    <tr>\n",
       "      <th>0</th>\n",
       "      <td>C Class</td>\n",
       "      <td>2020</td>\n",
       "      <td>Automatic</td>\n",
       "      <td>1200</td>\n",
       "      <td>Diesel</td>\n",
       "      <td>2.0</td>\n",
       "      <td>1</td>\n",
       "      <td>0</td>\n",
       "      <td>0</td>\n",
       "      <td>0</td>\n",
       "      <td>1</td>\n",
       "      <td>0</td>\n",
       "      <td>0</td>\n",
       "      <td>0</td>\n",
       "      <td>30495</td>\n",
       "    </tr>\n",
       "    <tr>\n",
       "      <th>1</th>\n",
       "      <td>C Class</td>\n",
       "      <td>2020</td>\n",
       "      <td>Automatic</td>\n",
       "      <td>1000</td>\n",
       "      <td>Petrol</td>\n",
       "      <td>1.5</td>\n",
       "      <td>1</td>\n",
       "      <td>0</td>\n",
       "      <td>0</td>\n",
       "      <td>0</td>\n",
       "      <td>0</td>\n",
       "      <td>0</td>\n",
       "      <td>0</td>\n",
       "      <td>1</td>\n",
       "      <td>29989</td>\n",
       "    </tr>\n",
       "    <tr>\n",
       "      <th>2</th>\n",
       "      <td>C Class</td>\n",
       "      <td>2020</td>\n",
       "      <td>Automatic</td>\n",
       "      <td>500</td>\n",
       "      <td>Diesel</td>\n",
       "      <td>2.0</td>\n",
       "      <td>1</td>\n",
       "      <td>0</td>\n",
       "      <td>0</td>\n",
       "      <td>0</td>\n",
       "      <td>1</td>\n",
       "      <td>0</td>\n",
       "      <td>0</td>\n",
       "      <td>0</td>\n",
       "      <td>37899</td>\n",
       "    </tr>\n",
       "    <tr>\n",
       "      <th>3</th>\n",
       "      <td>C Class</td>\n",
       "      <td>2019</td>\n",
       "      <td>Automatic</td>\n",
       "      <td>5000</td>\n",
       "      <td>Diesel</td>\n",
       "      <td>2.0</td>\n",
       "      <td>1</td>\n",
       "      <td>0</td>\n",
       "      <td>0</td>\n",
       "      <td>0</td>\n",
       "      <td>1</td>\n",
       "      <td>0</td>\n",
       "      <td>0</td>\n",
       "      <td>0</td>\n",
       "      <td>30399</td>\n",
       "    </tr>\n",
       "    <tr>\n",
       "      <th>4</th>\n",
       "      <td>C Class</td>\n",
       "      <td>2019</td>\n",
       "      <td>Automatic</td>\n",
       "      <td>4500</td>\n",
       "      <td>Diesel</td>\n",
       "      <td>2.0</td>\n",
       "      <td>1</td>\n",
       "      <td>0</td>\n",
       "      <td>0</td>\n",
       "      <td>0</td>\n",
       "      <td>1</td>\n",
       "      <td>0</td>\n",
       "      <td>0</td>\n",
       "      <td>0</td>\n",
       "      <td>29899</td>\n",
       "    </tr>\n",
       "    <tr>\n",
       "      <th>...</th>\n",
       "      <td>...</td>\n",
       "      <td>...</td>\n",
       "      <td>...</td>\n",
       "      <td>...</td>\n",
       "      <td>...</td>\n",
       "      <td>...</td>\n",
       "      <td>...</td>\n",
       "      <td>...</td>\n",
       "      <td>...</td>\n",
       "      <td>...</td>\n",
       "      <td>...</td>\n",
       "      <td>...</td>\n",
       "      <td>...</td>\n",
       "      <td>...</td>\n",
       "      <td>...</td>\n",
       "    </tr>\n",
       "    <tr>\n",
       "      <th>3894</th>\n",
       "      <td>C Class</td>\n",
       "      <td>2017</td>\n",
       "      <td>Manual</td>\n",
       "      <td>31357</td>\n",
       "      <td>Diesel</td>\n",
       "      <td>1.6</td>\n",
       "      <td>0</td>\n",
       "      <td>1</td>\n",
       "      <td>0</td>\n",
       "      <td>0</td>\n",
       "      <td>1</td>\n",
       "      <td>0</td>\n",
       "      <td>0</td>\n",
       "      <td>0</td>\n",
       "      <td>14700</td>\n",
       "    </tr>\n",
       "    <tr>\n",
       "      <th>3895</th>\n",
       "      <td>C Class</td>\n",
       "      <td>2018</td>\n",
       "      <td>Automatic</td>\n",
       "      <td>28248</td>\n",
       "      <td>Diesel</td>\n",
       "      <td>2.1</td>\n",
       "      <td>1</td>\n",
       "      <td>0</td>\n",
       "      <td>0</td>\n",
       "      <td>0</td>\n",
       "      <td>1</td>\n",
       "      <td>0</td>\n",
       "      <td>0</td>\n",
       "      <td>0</td>\n",
       "      <td>18500</td>\n",
       "    </tr>\n",
       "    <tr>\n",
       "      <th>3896</th>\n",
       "      <td>C Class</td>\n",
       "      <td>2014</td>\n",
       "      <td>Manual</td>\n",
       "      <td>48055</td>\n",
       "      <td>Diesel</td>\n",
       "      <td>2.1</td>\n",
       "      <td>0</td>\n",
       "      <td>1</td>\n",
       "      <td>0</td>\n",
       "      <td>0</td>\n",
       "      <td>1</td>\n",
       "      <td>0</td>\n",
       "      <td>0</td>\n",
       "      <td>0</td>\n",
       "      <td>11900</td>\n",
       "    </tr>\n",
       "    <tr>\n",
       "      <th>3897</th>\n",
       "      <td>C Class</td>\n",
       "      <td>2014</td>\n",
       "      <td>Automatic</td>\n",
       "      <td>49865</td>\n",
       "      <td>Diesel</td>\n",
       "      <td>2.1</td>\n",
       "      <td>1</td>\n",
       "      <td>0</td>\n",
       "      <td>0</td>\n",
       "      <td>0</td>\n",
       "      <td>1</td>\n",
       "      <td>0</td>\n",
       "      <td>0</td>\n",
       "      <td>0</td>\n",
       "      <td>11300</td>\n",
       "    </tr>\n",
       "    <tr>\n",
       "      <th>3898</th>\n",
       "      <td>C Class</td>\n",
       "      <td>2014</td>\n",
       "      <td>Automatic</td>\n",
       "      <td>55445</td>\n",
       "      <td>Diesel</td>\n",
       "      <td>2.1</td>\n",
       "      <td>1</td>\n",
       "      <td>0</td>\n",
       "      <td>0</td>\n",
       "      <td>0</td>\n",
       "      <td>1</td>\n",
       "      <td>0</td>\n",
       "      <td>0</td>\n",
       "      <td>0</td>\n",
       "      <td>14800</td>\n",
       "    </tr>\n",
       "  </tbody>\n",
       "</table>\n",
       "<p>3899 rows × 15 columns</p>\n",
       "</div>"
      ],
      "text/plain": [
       "         model  year transmission  mileage fuelType  engineSize  Automatic  \\\n",
       "0      C Class  2020    Automatic     1200   Diesel         2.0          1   \n",
       "1      C Class  2020    Automatic     1000   Petrol         1.5          1   \n",
       "2      C Class  2020    Automatic      500   Diesel         2.0          1   \n",
       "3      C Class  2019    Automatic     5000   Diesel         2.0          1   \n",
       "4      C Class  2019    Automatic     4500   Diesel         2.0          1   \n",
       "...        ...   ...          ...      ...      ...         ...        ...   \n",
       "3894   C Class  2017       Manual    31357   Diesel         1.6          0   \n",
       "3895   C Class  2018    Automatic    28248   Diesel         2.1          1   \n",
       "3896   C Class  2014       Manual    48055   Diesel         2.1          0   \n",
       "3897   C Class  2014    Automatic    49865   Diesel         2.1          1   \n",
       "3898   C Class  2014    Automatic    55445   Diesel         2.1          1   \n",
       "\n",
       "      Manual  OtherTransmission  Semi-Auto  Diesel  Hybrid  OtherFuel  Petrol  \\\n",
       "0          0                  0          0       1       0          0       0   \n",
       "1          0                  0          0       0       0          0       1   \n",
       "2          0                  0          0       1       0          0       0   \n",
       "3          0                  0          0       1       0          0       0   \n",
       "4          0                  0          0       1       0          0       0   \n",
       "...      ...                ...        ...     ...     ...        ...     ...   \n",
       "3894       1                  0          0       1       0          0       0   \n",
       "3895       0                  0          0       1       0          0       0   \n",
       "3896       1                  0          0       1       0          0       0   \n",
       "3897       0                  0          0       1       0          0       0   \n",
       "3898       0                  0          0       1       0          0       0   \n",
       "\n",
       "      price  \n",
       "0     30495  \n",
       "1     29989  \n",
       "2     37899  \n",
       "3     30399  \n",
       "4     29899  \n",
       "...     ...  \n",
       "3894  14700  \n",
       "3895  18500  \n",
       "3896  11900  \n",
       "3897  11300  \n",
       "3898  14800  \n",
       "\n",
       "[3899 rows x 15 columns]"
      ]
     },
     "execution_count": 83,
     "metadata": {},
     "output_type": "execute_result"
    }
   ],
   "source": [
    "PATH = 'cleaned_data.csv'; df = pd.read_csv(PATH, index_col=0); df\n",
    "#PATH = 'cleaned_data_Group2.csv'; df = pd.read_csv(PATH); df"
   ]
  },
  {
   "cell_type": "markdown",
   "metadata": {
    "id": "BJYGDOSx0XsQ"
   },
   "source": [
    "Selecting useful columns to be used as input: **indep_var** and to be predicted: **dep_var**\n"
   ]
  },
  {
   "cell_type": "code",
   "execution_count": 84,
   "metadata": {
    "id": "5v_GI3Y5BH-t"
   },
   "outputs": [],
   "source": [
    "indep_var = ['year', 'mileage', 'engineSize', 'Automatic', 'Manual', 'OtherTransmission', # independent vars\n",
    "        'Semi-Auto', 'Diesel', 'Hybrid', 'OtherFuel', 'Petrol']\n",
    "dep_var = 'price' # dependent var"
   ]
  },
  {
   "cell_type": "markdown",
   "metadata": {
    "id": "p26HUA4Q5vg6"
   },
   "source": [
    "Split Train and Test sets chosen randomly, 20% full dataset for Test and 80% for Train\n",
    "\n",
    "Splitting both **Train** and **Test** sets into **X** dependent and **y** the independent variables dataframes for each"
   ]
  },
  {
   "cell_type": "code",
   "execution_count": 85,
   "metadata": {
    "colab": {
     "base_uri": "https://localhost:8080/"
    },
    "id": "rO0Dz7UGxAFf",
    "outputId": "ab48f0dd-3d88-450b-d923-7aee677c68df"
   },
   "outputs": [],
   "source": [
    "X_train, X_test, y_train, y_test = train_test_split(df[indep_var], df[dep_var], test_size=0.2, random_state = 42)"
   ]
  },
  {
   "cell_type": "markdown",
   "metadata": {
    "colab": {
     "base_uri": "https://localhost:8080/"
    },
    "id": "oSvdFLqux3nu",
    "outputId": "8c3af173-0c02-469e-f27d-6da356c64ed5",
    "pycharm": {
     "name": "#%% md\n"
    }
   },
   "source": [
    "## 6.1 A Simple Linear Regression Model"
   ]
  },
  {
   "cell_type": "code",
   "execution_count": 86,
   "metadata": {
    "colab": {
     "base_uri": "https://localhost:8080/"
    },
    "id": "irTCtHvHyDyU",
    "outputId": "be8d8841-f0b5-4232-e518-67d84c0a7d11"
   },
   "outputs": [
    {
     "name": "stdout",
     "output_type": "stream",
     "text": [
      "Linear Regression Model object Created\n"
     ]
    }
   ],
   "source": [
    "# Creating linear regression object\n",
    "regr = LinearRegression()\n",
    "print(\"Linear Regression Model object Created\")"
   ]
  },
  {
   "cell_type": "code",
   "execution_count": 87,
   "metadata": {
    "colab": {
     "base_uri": "https://localhost:8080/"
    },
    "id": "wVXJNGVxH32o",
    "outputId": "2f89b427-0efb-4d8d-f4b6-07acbf9fb644"
   },
   "outputs": [
    {
     "name": "stdout",
     "output_type": "stream",
     "text": [
      "Linear Regression Model Trained\n"
     ]
    }
   ],
   "source": [
    "# Training the Model\n",
    "regr.fit(X_train, y_train)\n",
    "print(\"Linear Regression Model Trained\")"
   ]
  },
  {
   "cell_type": "code",
   "execution_count": 88,
   "metadata": {
    "colab": {
     "base_uri": "https://localhost:8080/"
    },
    "id": "yeK27up58LHT",
    "outputId": "1e6ee483-91c5-456c-99ee-163dcc789db5"
   },
   "outputs": [
    {
     "name": "stdout",
     "output_type": "stream",
     "text": [
      "Predictions in Testset Calculated\n"
     ]
    }
   ],
   "source": [
    "# getting the predictions on Test set\n",
    "y_pred = regr.predict(X_test)\n",
    "print(\"Predictions in Testset Calculated\")"
   ]
  },
  {
   "cell_type": "code",
   "execution_count": 89,
   "metadata": {
    "id": "dhxg5IWuHaLt",
    "pycharm": {
     "name": "#%%\n"
    }
   },
   "outputs": [
    {
     "name": "stdout",
     "output_type": "stream",
     "text": [
      "RMSE is 4404.295476072169\n"
     ]
    }
   ],
   "source": [
    "# Checking the Roots Mean Squared Error\n",
    "mse = mean_squared_error(y_test, y_pred)\n",
    "print(f\"RMSE is {mse**0.5}\")"
   ]
  },
  {
   "cell_type": "code",
   "execution_count": 90,
   "metadata": {
    "colab": {
     "base_uri": "https://localhost:8080/",
     "height": 318
    },
    "id": "PTngFtBO8sen",
    "outputId": "7b8a414f-1528-465e-e805-8673a56340eb"
   },
   "outputs": [
    {
     "name": "stdout",
     "output_type": "stream",
     "text": [
      "R2 Train Score is 0.76\n",
      "\n",
      "R2 Test Score is 0.777605488387421\n",
      "\n"
     ]
    }
   ],
   "source": [
    "# Checking the Score\n",
    "r2 = regr.score(X_train, y_train)\n",
    "print(f\"R2 Train Score is {r2:.2f}\\n\")\n",
    "r2 = regr.score(X_test, y_test)\n",
    "print(f\"R2 Test Score is {r2}\\n\")"
   ]
  },
  {
   "cell_type": "markdown",
   "metadata": {
    "id": "s-6D0svpIyEy"
   },
   "source": [
    "#### Comments: \n",
    "Considering that the R2 score is a metric that goes from 0 ( Bad ) to 1 (Best).\n",
    "A score of 0.77 means that the model is ok, but A Linear model is the simplest model for prediction, let's try a better one."
   ]
  },
  {
   "cell_type": "markdown",
   "metadata": {
    "id": "4SydPjkwMgSU",
    "pycharm": {
     "name": "#%% md\n"
    }
   },
   "source": [
    "Plotting the predictions vs actual prices"
   ]
  },
  {
   "cell_type": "code",
   "execution_count": 91,
   "metadata": {
    "colab": {
     "base_uri": "https://localhost:8080/",
     "height": 704
    },
    "id": "i6dSIw244BZ2",
    "outputId": "8fed940d-c950-43ef-c688-868c2203cdd3"
   },
   "outputs": [
    {
     "data": {
      "image/png": "[encoded data removed]",
      "text/plain": [
       "<Figure size 432x288 with 1 Axes>"
      ]
     },
     "metadata": {
      "needs_background": "light"
     },
     "output_type": "display_data"
    }
   ],
   "source": [
    "plot_pred_act(y_pred, y_test)"
   ]
  },
  {
   "cell_type": "markdown",
   "metadata": {
    "id": "pFA89H1a50hV"
   },
   "source": [
    "#### Comments:\n",
    "Looking at the Plot we can see that somes minor cases get a negative predictions what is not realistic and the values are a little bit to the right,most are near the red line that would be the goal, a really linear model."
   ]
  },
  {
   "cell_type": "markdown",
   "metadata": {},
   "source": [
    "So let's define a linear regression function for further use and comparison"
   ]
  },
  {
   "cell_type": "code",
   "execution_count": 92,
   "metadata": {},
   "outputs": [],
   "source": [
    "# probably will delete\n",
    "def linear_regression_model(X_train, y_train, X_test, y_test, print_output=True):\n",
    "    \"\"\"Creates a Linear Regression model for the given  X_train, y_train, X_test, y_test\"\"\"\n",
    "    \n",
    "    regr = LinearRegression()\n",
    "    regr.fit(X_train, y_train)\n",
    "    y_train_predicted = regr.predict(X_train)\n",
    "    y_test_predicted = regr.predict(X_test)\n",
    "    \n",
    "    # evaluating the model on training dataset\n",
    "    rmse_train = np.sqrt(mean_squared_error(y_train, y_train_predicted))\n",
    "    r2_train = r2_score(y_train, y_train_predicted)\n",
    "\n",
    "    # evaluating the model on test dataset\n",
    "    rmse_test = np.sqrt(mean_squared_error(y_test, y_test_predicted))\n",
    "    r2_test = r2_score(y_test, y_test_predicted)\n",
    "\n",
    "    if print_output:\n",
    "        print_metrics(rmse_train, r2_train, rmse_test, r2_test)\n",
    "        plot_pred_act(y_test_predicted, y_test)\n",
    "    return rmse_train, r2_train, rmse_test, r2_test"
   ]
  },
  {
   "cell_type": "code",
   "execution_count": 93,
   "metadata": {},
   "outputs": [
    {
     "data": {
      "text/plain": [
       "(4309.030190713749, 0.7635300773612165, 4404.295476072169, 0.777605488387421)"
      ]
     },
     "execution_count": 93,
     "metadata": {},
     "output_type": "execute_result"
    }
   ],
   "source": [
    "linear_regression_model(X_train, y_train, X_test, y_test, False)"
   ]
  },
  {
   "cell_type": "markdown",
   "metadata": {
    "id": "PTo458PJOqxR",
    "pycharm": {
     "name": "#%% md\n"
    }
   },
   "source": [
    "## 6.2 Linear Regression Model with Lasso/Ridge"
   ]
  },
  {
   "cell_type": "markdown",
   "metadata": {},
   "source": [
    "### 6.2.1 Linear Regression Model with Lasso"
   ]
  },
  {
   "cell_type": "code",
   "execution_count": 94,
   "metadata": {
    "id": "CpylNXqLM7v2"
   },
   "outputs": [
    {
     "name": "stdout",
     "output_type": "stream",
     "text": [
      "Linear Regression with Lasso  Model object Created\n"
     ]
    }
   ],
   "source": [
    "# creating the Lasso object\n",
    "clf_lasso = Lasso(alpha=0.1, random_state=SEED)\n",
    "print(\"Linear Regression with Lasso  Model object Created\")"
   ]
  },
  {
   "cell_type": "code",
   "execution_count": 95,
   "metadata": {
    "id": "MEKFdVIk51ko"
   },
   "outputs": [
    {
     "name": "stdout",
     "output_type": "stream",
     "text": [
      "Linear Regression with Lasso  Model Trained\n"
     ]
    }
   ],
   "source": [
    "clf_lasso.fit(X_train, y_train)\n",
    "print(\"Linear Regression with Lasso  Model Trained\")"
   ]
  },
  {
   "cell_type": "code",
   "execution_count": 96,
   "metadata": {
    "colab": {
     "base_uri": "https://localhost:8080/"
    },
    "id": "qiu1HLuqNpsh",
    "outputId": "4e5b0a99-3ef3-406f-c8a0-cb2d814f37de"
   },
   "outputs": [
    {
     "name": "stdout",
     "output_type": "stream",
     "text": [
      "Predictions in Testset Calculated\n"
     ]
    }
   ],
   "source": [
    "# getting the predictions on Test set\n",
    "y_pred = clf_lasso.predict(X_test)\n",
    "print(\"Predictions in Testset Calculated\")"
   ]
  },
  {
   "cell_type": "code",
   "execution_count": 97,
   "metadata": {
    "id": "Q8UtsIJN52tf",
    "pycharm": {
     "name": "#%%\n"
    }
   },
   "outputs": [
    {
     "name": "stdout",
     "output_type": "stream",
     "text": [
      "R2 Train Score is 0.76\n",
      "\n",
      "R2 Test Score is 0.7775918148058172\n",
      "\n"
     ]
    }
   ],
   "source": [
    "# Checking the Score\n",
    "r2 = clf_lasso.score(X_train, y_train)\n",
    "print(f\"R2 Train Score is {r2:.2f}\\n\")\n",
    "r2 = clf_lasso.score(X_test, y_test)\n",
    "print(f\"R2 Test Score is {r2}\\n\")"
   ]
  },
  {
   "cell_type": "code",
   "execution_count": 98,
   "metadata": {
    "id": "yu534T_d53pX"
   },
   "outputs": [
    {
     "data": {
      "image/png": "[encoded data removed]",
      "text/plain": [
       "<Figure size 1080x720 with 1 Axes>"
      ]
     },
     "metadata": {
      "needs_background": "light"
     },
     "output_type": "display_data"
    }
   ],
   "source": [
    "# plot the prediction vs actual\n",
    "actual_values = y_test\n",
    "plt.scatter(y_pred, actual_values, alpha=.7, color='b')\n",
    "plt.plot(actual_values, actual_values, color='r')\n",
    "plt.xlabel('Predicted Price')\n",
    "plt.ylabel('Actual Price')\n",
    "plt.title('Linear Regression Model')\n",
    "plt.rcParams['figure.figsize'] = [15, 10]\n",
    "plt.show()"
   ]
  },
  {
   "cell_type": "code",
   "execution_count": 99,
   "metadata": {
    "colab": {
     "base_uri": "https://localhost:8080/"
    },
    "id": "wnUUX07uwGxQ",
    "outputId": "dc1e245b-381f-4efe-fc12-1dd6840dc16f"
   },
   "outputs": [
    {
     "name": "stdout",
     "output_type": "stream",
     "text": [
      "RMSE is 4404.43086962914\n"
     ]
    }
   ],
   "source": [
    "# Checking the Roots Mean Squared Error\n",
    "rmse = np.sqrt(mean_squared_error(y_test, y_pred))\n",
    "print(f\"RMSE is {rmse}\")"
   ]
  },
  {
   "cell_type": "markdown",
   "metadata": {},
   "source": [
    "Let's define a function to create lasso model for further use"
   ]
  },
  {
   "cell_type": "markdown",
   "metadata": {
    "id": "yV7yfUrVOcUu",
    "pycharm": {
     "name": "#%% md\n"
    }
   },
   "source": [
    " Now let's run Lasso trying more parameters for alpha and check the results"
   ]
  },
  {
   "cell_type": "code",
   "execution_count": 100,
   "metadata": {
    "pycharm": {
     "name": "#%%\n"
    }
   },
   "outputs": [
    {
     "name": "stderr",
     "output_type": "stream",
     "text": [
      "C:\\ProgramData\\Anaconda3\\lib\\site-packages\\sklearn\\linear_model\\_coordinate_descent.py:476: ConvergenceWarning: Objective did not converge. You might want to increase the number of iterations. Duality gap: 13305304492.18103, tolerance: 24490550.04888086\n",
      "  positive)\n"
     ]
    },
    {
     "data": {
      "text/html": [
       "<div>\n",
       "<style scoped>\n",
       "    .dataframe tbody tr th:only-of-type {\n",
       "        vertical-align: middle;\n",
       "    }\n",
       "\n",
       "    .dataframe tbody tr th {\n",
       "        vertical-align: top;\n",
       "    }\n",
       "\n",
       "    .dataframe thead th {\n",
       "        text-align: right;\n",
       "    }\n",
       "</style>\n",
       "<table border=\"1\" class=\"dataframe\">\n",
       "  <thead>\n",
       "    <tr style=\"text-align: right;\">\n",
       "      <th></th>\n",
       "      <th>alpha</th>\n",
       "      <th>RMSE Train</th>\n",
       "      <th>R2 Train</th>\n",
       "      <th>RMSE Test</th>\n",
       "      <th>R2 Test</th>\n",
       "    </tr>\n",
       "  </thead>\n",
       "  <tbody>\n",
       "    <tr>\n",
       "      <th>0</th>\n",
       "      <td>0.1</td>\n",
       "      <td>4309.034635</td>\n",
       "      <td>0.763530</td>\n",
       "      <td>4404.430870</td>\n",
       "      <td>0.777592</td>\n",
       "    </tr>\n",
       "    <tr>\n",
       "      <th>1</th>\n",
       "      <td>0.2</td>\n",
       "      <td>4309.047762</td>\n",
       "      <td>0.763528</td>\n",
       "      <td>4404.502435</td>\n",
       "      <td>0.777585</td>\n",
       "    </tr>\n",
       "    <tr>\n",
       "      <th>2</th>\n",
       "      <td>0.3</td>\n",
       "      <td>4309.069921</td>\n",
       "      <td>0.763526</td>\n",
       "      <td>4404.607276</td>\n",
       "      <td>0.777574</td>\n",
       "    </tr>\n",
       "    <tr>\n",
       "      <th>3</th>\n",
       "      <td>0.4</td>\n",
       "      <td>4309.100821</td>\n",
       "      <td>0.763522</td>\n",
       "      <td>4404.713895</td>\n",
       "      <td>0.777563</td>\n",
       "    </tr>\n",
       "    <tr>\n",
       "      <th>4</th>\n",
       "      <td>0.5</td>\n",
       "      <td>4309.140550</td>\n",
       "      <td>0.763518</td>\n",
       "      <td>4404.821856</td>\n",
       "      <td>0.777552</td>\n",
       "    </tr>\n",
       "    <tr>\n",
       "      <th>5</th>\n",
       "      <td>0.6</td>\n",
       "      <td>4309.189107</td>\n",
       "      <td>0.763513</td>\n",
       "      <td>4404.931158</td>\n",
       "      <td>0.777541</td>\n",
       "    </tr>\n",
       "    <tr>\n",
       "      <th>6</th>\n",
       "      <td>0.7</td>\n",
       "      <td>4309.246498</td>\n",
       "      <td>0.763506</td>\n",
       "      <td>4405.041796</td>\n",
       "      <td>0.777530</td>\n",
       "    </tr>\n",
       "    <tr>\n",
       "      <th>7</th>\n",
       "      <td>0.8</td>\n",
       "      <td>4309.312711</td>\n",
       "      <td>0.763499</td>\n",
       "      <td>4405.153781</td>\n",
       "      <td>0.777519</td>\n",
       "    </tr>\n",
       "    <tr>\n",
       "      <th>8</th>\n",
       "      <td>0.9</td>\n",
       "      <td>4309.387749</td>\n",
       "      <td>0.763491</td>\n",
       "      <td>4405.267109</td>\n",
       "      <td>0.777507</td>\n",
       "    </tr>\n",
       "    <tr>\n",
       "      <th>9</th>\n",
       "      <td>1.0</td>\n",
       "      <td>4309.471621</td>\n",
       "      <td>0.763482</td>\n",
       "      <td>4405.381774</td>\n",
       "      <td>0.777496</td>\n",
       "    </tr>\n",
       "    <tr>\n",
       "      <th>10</th>\n",
       "      <td>1.1</td>\n",
       "      <td>4309.564315</td>\n",
       "      <td>0.763471</td>\n",
       "      <td>4405.497783</td>\n",
       "      <td>0.777484</td>\n",
       "    </tr>\n",
       "    <tr>\n",
       "      <th>11</th>\n",
       "      <td>1.2</td>\n",
       "      <td>4309.665833</td>\n",
       "      <td>0.763460</td>\n",
       "      <td>4405.615134</td>\n",
       "      <td>0.777472</td>\n",
       "    </tr>\n",
       "    <tr>\n",
       "      <th>12</th>\n",
       "      <td>1.3</td>\n",
       "      <td>4309.776178</td>\n",
       "      <td>0.763448</td>\n",
       "      <td>4405.733825</td>\n",
       "      <td>0.777460</td>\n",
       "    </tr>\n",
       "    <tr>\n",
       "      <th>13</th>\n",
       "      <td>1.4</td>\n",
       "      <td>4309.895355</td>\n",
       "      <td>0.763435</td>\n",
       "      <td>4405.853856</td>\n",
       "      <td>0.777448</td>\n",
       "    </tr>\n",
       "    <tr>\n",
       "      <th>14</th>\n",
       "      <td>1.5</td>\n",
       "      <td>4310.003879</td>\n",
       "      <td>0.763423</td>\n",
       "      <td>4405.953552</td>\n",
       "      <td>0.777438</td>\n",
       "    </tr>\n",
       "    <tr>\n",
       "      <th>15</th>\n",
       "      <td>1.6</td>\n",
       "      <td>4310.117719</td>\n",
       "      <td>0.763411</td>\n",
       "      <td>4406.055241</td>\n",
       "      <td>0.777428</td>\n",
       "    </tr>\n",
       "    <tr>\n",
       "      <th>16</th>\n",
       "      <td>1.7</td>\n",
       "      <td>4310.238900</td>\n",
       "      <td>0.763397</td>\n",
       "      <td>4406.157076</td>\n",
       "      <td>0.777417</td>\n",
       "    </tr>\n",
       "    <tr>\n",
       "      <th>17</th>\n",
       "      <td>1.8</td>\n",
       "      <td>4310.321579</td>\n",
       "      <td>0.763388</td>\n",
       "      <td>4406.245208</td>\n",
       "      <td>0.777409</td>\n",
       "    </tr>\n",
       "    <tr>\n",
       "      <th>18</th>\n",
       "      <td>1.9</td>\n",
       "      <td>4310.361015</td>\n",
       "      <td>0.763384</td>\n",
       "      <td>4406.319792</td>\n",
       "      <td>0.777401</td>\n",
       "    </tr>\n",
       "    <tr>\n",
       "      <th>19</th>\n",
       "      <td>2.0</td>\n",
       "      <td>4310.378196</td>\n",
       "      <td>0.763382</td>\n",
       "      <td>4406.365302</td>\n",
       "      <td>0.777396</td>\n",
       "    </tr>\n",
       "  </tbody>\n",
       "</table>\n",
       "</div>"
      ],
      "text/plain": [
       "    alpha   RMSE Train  R2 Train    RMSE Test   R2 Test\n",
       "0     0.1  4309.034635  0.763530  4404.430870  0.777592\n",
       "1     0.2  4309.047762  0.763528  4404.502435  0.777585\n",
       "2     0.3  4309.069921  0.763526  4404.607276  0.777574\n",
       "3     0.4  4309.100821  0.763522  4404.713895  0.777563\n",
       "4     0.5  4309.140550  0.763518  4404.821856  0.777552\n",
       "5     0.6  4309.189107  0.763513  4404.931158  0.777541\n",
       "6     0.7  4309.246498  0.763506  4405.041796  0.777530\n",
       "7     0.8  4309.312711  0.763499  4405.153781  0.777519\n",
       "8     0.9  4309.387749  0.763491  4405.267109  0.777507\n",
       "9     1.0  4309.471621  0.763482  4405.381774  0.777496\n",
       "10    1.1  4309.564315  0.763471  4405.497783  0.777484\n",
       "11    1.2  4309.665833  0.763460  4405.615134  0.777472\n",
       "12    1.3  4309.776178  0.763448  4405.733825  0.777460\n",
       "13    1.4  4309.895355  0.763435  4405.853856  0.777448\n",
       "14    1.5  4310.003879  0.763423  4405.953552  0.777438\n",
       "15    1.6  4310.117719  0.763411  4406.055241  0.777428\n",
       "16    1.7  4310.238900  0.763397  4406.157076  0.777417\n",
       "17    1.8  4310.321579  0.763388  4406.245208  0.777409\n",
       "18    1.9  4310.361015  0.763384  4406.319792  0.777401\n",
       "19    2.0  4310.378196  0.763382  4406.365302  0.777396"
      ]
     },
     "execution_count": 100,
     "metadata": {},
     "output_type": "execute_result"
    }
   ],
   "source": [
    "alphas = np.linspace(0.1, 2, 20)\n",
    "metrics = {\"alpha\":[], \"RMSE Train\":[], \"R2 Train\":[], \"RMSE Test\":[], \"R2 Test\":[]}\n",
    "for alpha in alphas:\n",
    "    #print(f\"Lasso model alpha: {alpha}\" )\n",
    "    clf_lasso = Lasso(alpha=alpha, random_state=SEED)\n",
    "    x, y, z, w = regression_model(X_train, y_train, X_test, y_test, clf_lasso, print_output=False, show_plot=False)\n",
    "    metrics[\"alpha\"].append(alpha)\n",
    "    metrics[\"RMSE Train\"].append(x)\n",
    "    metrics[\"R2 Train\"].append(y)\n",
    "    metrics[\"RMSE Test\"].append(z)\n",
    "    metrics[\"R2 Test\"].append(w)\n",
    "pd.DataFrame(metrics)"
   ]
  },
  {
   "cell_type": "markdown",
   "metadata": {},
   "source": [
    "### 6.2.2 Linear Regression Model Ridge"
   ]
  },
  {
   "cell_type": "code",
   "execution_count": 101,
   "metadata": {},
   "outputs": [
    {
     "name": "stdout",
     "output_type": "stream",
     "text": [
      "Lasso model alpha: 1e-06\n",
      "The model performance for the training set\n",
      "-------------------------------------------\n",
      "RMSE of training set is 4309.030\n",
      "R2 score of training set is 0.764\n",
      "\n",
      "\n",
      "The model performance for the test set\n",
      "-------------------------------------------\n",
      "RMSE of test set is 4404.295\n",
      "R2 score of test set is 0.778\n",
      "The model plot for test set for predictions x actual prices\n",
      "-------------------------------------------\n",
      "---------------------------------------------------------------------------------------------------------------------------------\n",
      "Lasso model alpha: 1.2365439999999996\n",
      "The model performance for the training set\n",
      "-------------------------------------------\n",
      "RMSE of training set is 4309.248\n",
      "R2 score of training set is 0.764\n",
      "\n",
      "\n",
      "The model performance for the test set\n",
      "-------------------------------------------\n",
      "RMSE of test set is 4405.906\n",
      "R2 score of test set is 0.777\n",
      "The model plot for test set for predictions x actual prices\n",
      "-------------------------------------------\n",
      "---------------------------------------------------------------------------------------------------------------------------------\n",
      "Lasso model alpha: 4.941729\n",
      "The model performance for the training set\n",
      "-------------------------------------------\n",
      "RMSE of training set is 4309.709\n",
      "R2 score of training set is 0.763\n",
      "\n",
      "\n",
      "The model performance for the test set\n",
      "-------------------------------------------\n",
      "RMSE of test set is 4410.081\n",
      "R2 score of test set is 0.777\n",
      "The model plot for test set for predictions x actual prices\n",
      "-------------------------------------------\n",
      "---------------------------------------------------------------------------------------------------------------------------------\n",
      "Lasso model alpha: 11.115556\n",
      "The model performance for the training set\n",
      "-------------------------------------------\n",
      "RMSE of training set is 4310.305\n",
      "R2 score of training set is 0.763\n",
      "\n",
      "\n",
      "The model performance for the test set\n",
      "-------------------------------------------\n",
      "RMSE of test set is 4416.935\n",
      "R2 score of test set is 0.776\n",
      "The model plot for test set for predictions x actual prices\n",
      "-------------------------------------------\n",
      "---------------------------------------------------------------------------------------------------------------------------------\n",
      "Lasso model alpha: 19.758025000000004\n",
      "The model performance for the training set\n",
      "-------------------------------------------\n",
      "RMSE of training set is 4311.487\n",
      "R2 score of training set is 0.763\n",
      "\n",
      "\n",
      "The model performance for the test set\n",
      "-------------------------------------------\n",
      "RMSE of test set is 4426.725\n",
      "R2 score of test set is 0.775\n",
      "The model plot for test set for predictions x actual prices\n",
      "-------------------------------------------\n",
      "---------------------------------------------------------------------------------------------------------------------------------\n",
      "Lasso model alpha: 30.869136\n",
      "The model performance for the training set\n",
      "-------------------------------------------\n",
      "RMSE of training set is 4313.736\n",
      "R2 score of training set is 0.763\n",
      "\n",
      "\n",
      "The model performance for the test set\n",
      "-------------------------------------------\n",
      "RMSE of test set is 4439.662\n",
      "R2 score of test set is 0.774\n",
      "The model plot for test set for predictions x actual prices\n",
      "-------------------------------------------\n",
      "---------------------------------------------------------------------------------------------------------------------------------\n",
      "Lasso model alpha: 44.44888900000001\n",
      "The model performance for the training set\n",
      "-------------------------------------------\n",
      "RMSE of training set is 4317.534\n",
      "R2 score of training set is 0.763\n",
      "\n",
      "\n",
      "The model performance for the test set\n",
      "-------------------------------------------\n",
      "RMSE of test set is 4455.934\n",
      "R2 score of test set is 0.772\n",
      "The model plot for test set for predictions x actual prices\n",
      "-------------------------------------------\n",
      "---------------------------------------------------------------------------------------------------------------------------------\n",
      "Lasso model alpha: 60.49728400000001\n",
      "The model performance for the training set\n",
      "-------------------------------------------\n",
      "RMSE of training set is 4323.341\n",
      "R2 score of training set is 0.762\n",
      "\n",
      "\n",
      "The model performance for the test set\n",
      "-------------------------------------------\n",
      "RMSE of test set is 4475.687\n",
      "R2 score of test set is 0.770\n",
      "The model plot for test set for predictions x actual prices\n",
      "-------------------------------------------\n",
      "---------------------------------------------------------------------------------------------------------------------------------\n",
      "Lasso model alpha: 79.014321\n",
      "The model performance for the training set\n",
      "-------------------------------------------\n",
      "RMSE of training set is 4331.570\n",
      "R2 score of training set is 0.761\n",
      "\n",
      "\n",
      "The model performance for the test set\n",
      "-------------------------------------------\n",
      "RMSE of test set is 4499.006\n",
      "R2 score of test set is 0.768\n",
      "The model plot for test set for predictions x actual prices\n",
      "-------------------------------------------\n",
      "---------------------------------------------------------------------------------------------------------------------------------\n",
      "Lasso model alpha: 100.0\n",
      "The model performance for the training set\n",
      "-------------------------------------------\n",
      "RMSE of training set is 4342.557\n",
      "R2 score of training set is 0.760\n",
      "\n",
      "\n",
      "The model performance for the test set\n",
      "-------------------------------------------\n",
      "RMSE of test set is 4525.906\n",
      "R2 score of test set is 0.765\n",
      "The model plot for test set for predictions x actual prices\n",
      "-------------------------------------------\n",
      "---------------------------------------------------------------------------------------------------------------------------------\n"
     ]
    },
    {
     "name": "stderr",
     "output_type": "stream",
     "text": [
      "C:\\ProgramData\\Anaconda3\\lib\\site-packages\\sklearn\\linear_model\\_ridge.py:148: LinAlgWarning: Ill-conditioned matrix (rcond=6.41918e-19): result may not be accurate.\n",
      "  overwrite_a=True).T\n"
     ]
    }
   ],
   "source": [
    "alphas = np.linspace(0.001, 10, 10)**2\n",
    "np.exp\n",
    "for alpha in alphas:\n",
    "    print(f\"Lasso model alpha: {alpha}\" )\n",
    "    clf_ridge = Ridge(alpha=alpha, random_state=SEED)\n",
    "    regression_model(X_train, y_train, X_test, y_test, clf_ridge, show_plot=False)\n",
    "    print(\"---------------------------------------------------------------------------------------------------------------------------------\")"
   ]
  },
  {
   "cell_type": "markdown",
   "metadata": {},
   "source": [
    "## 6.3 Polynomial Regression Model (with Lasso/Ridge)"
   ]
  },
  {
   "cell_type": "markdown",
   "metadata": {},
   "source": [
    "Defining method to Create the Polynomial regression model calculate the RMSE, r2 score, plot the graph actual prices x predictions"
   ]
  },
  {
   "cell_type": "code",
   "execution_count": 102,
   "metadata": {},
   "outputs": [],
   "source": [
    "def polynomial_regression_model(degree, X_train, Y_train, X_test, Y_test, model, print_output=True, show_plot=False):\n",
    "    \"Creates a polynomial regression model for the given degree and X_train,Y_train, X_test, Y_test\"\n",
    "\n",
    "    poly_features = PolynomialFeatures(degree=degree)\n",
    "\n",
    "    # transforms the existing features to higher degree features.\n",
    "    X_train_poly = poly_features.fit_transform(X_train)\n",
    "\n",
    "    # fit the transformed features to Linear Regression\n",
    "    model.fit(X_train_poly, Y_train)\n",
    "\n",
    "    # predicting on training data-set\n",
    "    y_train_predicted = model.predict(X_train_poly)\n",
    "\n",
    "    # predicting on test data-set\n",
    "    y_test_predict = model.predict(poly_features.fit_transform(X_test))\n",
    "\n",
    "    # evaluating the model on training dataset\n",
    "    rmse_train = np.sqrt(mean_squared_error(Y_train, y_train_predicted))\n",
    "    r2_train = r2_score(Y_train, y_train_predicted)\n",
    "\n",
    "    # evaluating the model on test dataset\n",
    "    rmse_test = np.sqrt(mean_squared_error(Y_test, y_test_predict))\n",
    "    r2_test = r2_score(Y_test, y_test_predict)\n",
    "\n",
    "    if print_output:\n",
    "        print_metrics(rmse_train, r2_train, rmse_test, r2_test)\n",
    "    if show_plot:\n",
    "        plot_pred_act(y_test_predict, Y_test)\n",
    "    \n",
    "    return rmse_train, r2_train, rmse_test, r2_test"
   ]
  },
  {
   "cell_type": "code",
   "execution_count": 103,
   "metadata": {
    "pycharm": {
     "name": "#%%\n"
    }
   },
   "outputs": [],
   "source": [
    "def create_polynomial_regression_model(degree, X_train, Y_train, X_test, Y_test, print_output=True, show_plot=False):\n",
    "    \"Creates a polynomial regression model for the given degree and X_train,Y_train, X_test, Y_test\"\n",
    "\n",
    "    poly_features = PolynomialFeatures(degree=degree)\n",
    "\n",
    "    # transforms the existing features to higher degree features.\n",
    "    X_train_poly = poly_features.fit_transform(X_train)\n",
    "\n",
    "    # fit the transformed features to Linear Regression\n",
    "    poly_model = LinearRegression()\n",
    "    poly_model.fit(X_train_poly, Y_train)\n",
    "\n",
    "    # predicting on training data-set\n",
    "    y_train_predicted = poly_model.predict(X_train_poly)\n",
    "\n",
    "    # predicting on test data-set\n",
    "    y_test_predict = poly_model.predict(poly_features.fit_transform(X_test))\n",
    "\n",
    "    # evaluating the model on training dataset\n",
    "    rmse_train = np.sqrt(mean_squared_error(Y_train, y_train_predicted))\n",
    "    r2_train = r2_score(Y_train, y_train_predicted)\n",
    "\n",
    "    # evaluating the model on test dataset\n",
    "    rmse_test = np.sqrt(mean_squared_error(Y_test, y_test_predict))\n",
    "    r2_test = r2_score(Y_test, y_test_predict)\n",
    "\n",
    "    if print_output:\n",
    "        print_metrics(rmse_train, r2_train, rmse_test, r2_test)\n",
    "    if show_plot:\n",
    "        plot_pred_act(y_test_predict, Y_test)"
   ]
  },
  {
   "cell_type": "code",
   "execution_count": 104,
   "metadata": {},
   "outputs": [
    {
     "name": "stdout",
     "output_type": "stream",
     "text": [
      "The model performance for the training set\n",
      "-------------------------------------------\n",
      "RMSE of training set is 4309.030\n",
      "R2 score of training set is 0.764\n",
      "\n",
      "\n",
      "The model performance for the test set\n",
      "-------------------------------------------\n",
      "RMSE of test set is 4404.295\n",
      "R2 score of test set is 0.778\n",
      "The model plot for test set for predictions x actual prices\n",
      "-------------------------------------------\n",
      "The model performance for the training set\n",
      "-------------------------------------------\n",
      "RMSE of training set is 3233.140\n",
      "R2 score of training set is 0.867\n",
      "\n",
      "\n",
      "The model performance for the test set\n",
      "-------------------------------------------\n",
      "RMSE of test set is 3222.995\n",
      "R2 score of test set is 0.881\n",
      "The model plot for test set for predictions x actual prices\n",
      "-------------------------------------------\n",
      "The model performance for the training set\n",
      "-------------------------------------------\n",
      "RMSE of training set is 2872.676\n",
      "R2 score of training set is 0.895\n",
      "\n",
      "\n",
      "The model performance for the test set\n",
      "-------------------------------------------\n",
      "RMSE of test set is 2984.350\n",
      "R2 score of test set is 0.898\n",
      "The model plot for test set for predictions x actual prices\n",
      "-------------------------------------------\n",
      "The model performance for the training set\n",
      "-------------------------------------------\n",
      "RMSE of training set is 2880.884\n",
      "R2 score of training set is 0.894\n",
      "\n",
      "\n",
      "The model performance for the test set\n",
      "-------------------------------------------\n",
      "RMSE of test set is 3002.993\n",
      "R2 score of test set is 0.897\n",
      "The model plot for test set for predictions x actual prices\n",
      "-------------------------------------------\n",
      "The model performance for the training set\n",
      "-------------------------------------------\n",
      "RMSE of training set is 3744.483\n",
      "R2 score of training set is 0.821\n",
      "\n",
      "\n",
      "The model performance for the test set\n",
      "-------------------------------------------\n",
      "RMSE of test set is 5306.770\n",
      "R2 score of test set is 0.677\n",
      "The model plot for test set for predictions x actual prices\n",
      "-------------------------------------------\n",
      "The model performance for the training set\n",
      "-------------------------------------------\n",
      "RMSE of training set is 3040.621\n",
      "R2 score of training set is 0.882\n",
      "\n",
      "\n",
      "The model performance for the test set\n",
      "-------------------------------------------\n",
      "RMSE of test set is 6465.340\n",
      "R2 score of test set is 0.521\n",
      "The model plot for test set for predictions x actual prices\n",
      "-------------------------------------------\n"
     ]
    }
   ],
   "source": [
    "degrees = np.linspace(1,6,6)\n",
    "for degree in degrees:\n",
    "    create_polynomial_regression_model(int(degree), X_train, y_train, X_test, y_test)\n"
   ]
  },
  {
   "cell_type": "markdown",
   "metadata": {},
   "source": [
    "#### let's try different deegrees examples and compare the results."
   ]
  },
  {
   "cell_type": "markdown",
   "metadata": {},
   "source": [
    "Degree = 2"
   ]
  },
  {
   "cell_type": "markdown",
   "metadata": {},
   "source": [
    "Using polynomial of degree 2 gives a better result than previous linear models,\n",
    "RMSE of 3233 and\n",
    "R2 Score of 0.881 in Test Set\n",
    "let's keep increasing the deegree ans see what happens..."
   ]
  },
  {
   "cell_type": "markdown",
   "metadata": {},
   "source": [
    "Degree = 3"
   ]
  },
  {
   "cell_type": "code",
   "execution_count": 105,
   "metadata": {
    "pycharm": {
     "name": "#%%\n"
    }
   },
   "outputs": [
    {
     "name": "stdout",
     "output_type": "stream",
     "text": [
      "The model performance for the training set\n",
      "-------------------------------------------\n",
      "RMSE of training set is 2872.676\n",
      "R2 score of training set is 0.895\n",
      "\n",
      "\n",
      "The model performance for the test set\n",
      "-------------------------------------------\n",
      "RMSE of test set is 2984.350\n",
      "R2 score of test set is 0.898\n",
      "The model plot for test set for predictions x actual prices\n",
      "-------------------------------------------\n"
     ]
    }
   ],
   "source": [
    "create_polynomial_regression_model(3, X_train, y_train, X_test, y_test)"
   ]
  },
  {
   "cell_type": "markdown",
   "metadata": {},
   "source": [
    "#### Comments:\n",
    "We can see that using a Degree of 3 gives a much better result that the previous polynomial deegree = 2 model.\n",
    "What happens if we keep increading the deegree of polynom?"
   ]
  },
  {
   "cell_type": "markdown",
   "metadata": {},
   "source": [
    "Let's see Degree = 4"
   ]
  },
  {
   "cell_type": "code",
   "execution_count": 106,
   "metadata": {
    "pycharm": {
     "name": "#%%\n"
    }
   },
   "outputs": [
    {
     "name": "stdout",
     "output_type": "stream",
     "text": [
      "The model performance for the training set\n",
      "-------------------------------------------\n",
      "RMSE of training set is 2880.884\n",
      "R2 score of training set is 0.894\n",
      "\n",
      "\n",
      "The model performance for the test set\n",
      "-------------------------------------------\n",
      "RMSE of test set is 3002.993\n",
      "R2 score of test set is 0.897\n",
      "The model plot for test set for predictions x actual prices\n",
      "-------------------------------------------\n"
     ]
    }
   ],
   "source": [
    "create_polynomial_regression_model(4, X_train, y_train, X_test, y_test)"
   ]
  },
  {
   "cell_type": "markdown",
   "metadata": {},
   "source": [
    "#### Comments:\n",
    "Using a polynom deegre = 4 we reach a different situation, the RMSE on training was improved compared to the degree=3 model, but the RMSE on test set decreased comparing to the deegree=3 model which tell us that this model is overffiting and if we keep increasing the deegre, it will improve perfoemance on training set but decrease on test set!"
   ]
  },
  {
   "cell_type": "markdown",
   "metadata": {},
   "source": [
    "The conslusion using the polynomial is that the degree = 3 fits better than other models"
   ]
  },
  {
   "cell_type": "markdown",
   "metadata": {},
   "source": [
    "### Polynomial model with Lasso "
   ]
  },
  {
   "cell_type": "code",
   "execution_count": null,
   "metadata": {},
   "outputs": [],
   "source": []
  },
  {
   "cell_type": "code",
   "execution_count": 107,
   "metadata": {},
   "outputs": [
    {
     "name": "stderr",
     "output_type": "stream",
     "text": [
      "C:\\ProgramData\\Anaconda3\\lib\\site-packages\\sklearn\\linear_model\\_coordinate_descent.py:476: ConvergenceWarning: Objective did not converge. You might want to increase the number of iterations. Duality gap: 18277216368.246677, tolerance: 24490550.04888086\n",
      "  positive)\n",
      "C:\\ProgramData\\Anaconda3\\lib\\site-packages\\sklearn\\linear_model\\_coordinate_descent.py:476: ConvergenceWarning: Objective did not converge. You might want to increase the number of iterations. Duality gap: 13838890987.404152, tolerance: 24490550.04888086\n",
      "  positive)\n",
      "C:\\ProgramData\\Anaconda3\\lib\\site-packages\\sklearn\\linear_model\\_coordinate_descent.py:476: ConvergenceWarning: Objective did not converge. You might want to increase the number of iterations. Duality gap: 12964929033.509954, tolerance: 24490550.04888086\n",
      "  positive)\n",
      "C:\\ProgramData\\Anaconda3\\lib\\site-packages\\sklearn\\linear_model\\_coordinate_descent.py:476: ConvergenceWarning: Objective did not converge. You might want to increase the number of iterations. Duality gap: 12619222158.317627, tolerance: 24490550.04888086\n",
      "  positive)\n",
      "C:\\ProgramData\\Anaconda3\\lib\\site-packages\\sklearn\\linear_model\\_coordinate_descent.py:476: ConvergenceWarning: Objective did not converge. You might want to increase the number of iterations. Duality gap: 12378924892.604485, tolerance: 24490550.04888086\n",
      "  positive)\n"
     ]
    },
    {
     "data": {
      "text/html": [
       "<div>\n",
       "<style scoped>\n",
       "    .dataframe tbody tr th:only-of-type {\n",
       "        vertical-align: middle;\n",
       "    }\n",
       "\n",
       "    .dataframe tbody tr th {\n",
       "        vertical-align: top;\n",
       "    }\n",
       "\n",
       "    .dataframe thead th {\n",
       "        text-align: right;\n",
       "    }\n",
       "</style>\n",
       "<table border=\"1\" class=\"dataframe\">\n",
       "  <thead>\n",
       "    <tr style=\"text-align: right;\">\n",
       "      <th></th>\n",
       "      <th>Degree</th>\n",
       "      <th>RMSE Train</th>\n",
       "      <th>R2 Train</th>\n",
       "      <th>RMSE Test</th>\n",
       "      <th>R2 Test</th>\n",
       "    </tr>\n",
       "  </thead>\n",
       "  <tbody>\n",
       "    <tr>\n",
       "      <th>0</th>\n",
       "      <td>1</td>\n",
       "      <td>4309.034635</td>\n",
       "      <td>0.763530</td>\n",
       "      <td>4404.430870</td>\n",
       "      <td>0.777592</td>\n",
       "    </tr>\n",
       "    <tr>\n",
       "      <th>1</th>\n",
       "      <td>2</td>\n",
       "      <td>3421.270131</td>\n",
       "      <td>0.850930</td>\n",
       "      <td>3503.508244</td>\n",
       "      <td>0.859273</td>\n",
       "    </tr>\n",
       "    <tr>\n",
       "      <th>2</th>\n",
       "      <td>3</td>\n",
       "      <td>2976.085774</td>\n",
       "      <td>0.887200</td>\n",
       "      <td>3123.493452</td>\n",
       "      <td>0.888146</td>\n",
       "    </tr>\n",
       "    <tr>\n",
       "      <th>3</th>\n",
       "      <td>4</td>\n",
       "      <td>2881.492984</td>\n",
       "      <td>0.894257</td>\n",
       "      <td>2954.012627</td>\n",
       "      <td>0.899955</td>\n",
       "    </tr>\n",
       "    <tr>\n",
       "      <th>4</th>\n",
       "      <td>5</td>\n",
       "      <td>2842.983851</td>\n",
       "      <td>0.897064</td>\n",
       "      <td>2934.004645</td>\n",
       "      <td>0.901306</td>\n",
       "    </tr>\n",
       "    <tr>\n",
       "      <th>5</th>\n",
       "      <td>6</td>\n",
       "      <td>2815.730640</td>\n",
       "      <td>0.899028</td>\n",
       "      <td>3034.852006</td>\n",
       "      <td>0.894404</td>\n",
       "    </tr>\n",
       "  </tbody>\n",
       "</table>\n",
       "</div>"
      ],
      "text/plain": [
       "   Degree   RMSE Train  R2 Train    RMSE Test   R2 Test\n",
       "0       1  4309.034635  0.763530  4404.430870  0.777592\n",
       "1       2  3421.270131  0.850930  3503.508244  0.859273\n",
       "2       3  2976.085774  0.887200  3123.493452  0.888146\n",
       "3       4  2881.492984  0.894257  2954.012627  0.899955\n",
       "4       5  2842.983851  0.897064  2934.004645  0.901306\n",
       "5       6  2815.730640  0.899028  3034.852006  0.894404"
      ]
     },
     "execution_count": 107,
     "metadata": {},
     "output_type": "execute_result"
    }
   ],
   "source": [
    "metrics = {\"Degree\":[], \"RMSE Train\":[], \"R2 Train\":[], \"RMSE Test\":[], \"R2 Test\":[]}\n",
    "for degree in [1, 2, 3, 4, 5, 6]:\n",
    "    #print(f\"Degree: {degree}\" )\n",
    "    x, y, z, w = polynomial_regression_model(degree, X_train, y_train, X_test, y_test, Lasso(alpha=0.1, random_state=SEED), print_output=False, show_plot=False)\n",
    "    metrics[\"Degree\"].append(degree)\n",
    "    metrics[\"RMSE Train\"].append(x)\n",
    "    metrics[\"R2 Train\"].append(y)\n",
    "    metrics[\"RMSE Test\"].append(z)\n",
    "    metrics[\"R2 Test\"].append(w)\n",
    "pd.DataFrame(metrics)"
   ]
  },
  {
   "cell_type": "markdown",
   "metadata": {},
   "source": [
    "### Polynomial Model With Ridge"
   ]
  },
  {
   "cell_type": "code",
   "execution_count": 108,
   "metadata": {},
   "outputs": [
    {
     "name": "stderr",
     "output_type": "stream",
     "text": [
      "C:\\ProgramData\\Anaconda3\\lib\\site-packages\\sklearn\\linear_model\\_ridge.py:148: LinAlgWarning: Ill-conditioned matrix (rcond=3.9737e-24): result may not be accurate.\n",
      "  overwrite_a=True).T\n",
      "C:\\ProgramData\\Anaconda3\\lib\\site-packages\\sklearn\\linear_model\\_ridge.py:190: UserWarning: Singular matrix in solving dual problem. Using least-squares solution instead.\n",
      "  warnings.warn(\"Singular matrix in solving dual problem. Using \"\n",
      "C:\\ProgramData\\Anaconda3\\lib\\site-packages\\sklearn\\linear_model\\_ridge.py:190: UserWarning: Singular matrix in solving dual problem. Using least-squares solution instead.\n",
      "  warnings.warn(\"Singular matrix in solving dual problem. Using \"\n"
     ]
    },
    {
     "data": {
      "text/html": [
       "<div>\n",
       "<style scoped>\n",
       "    .dataframe tbody tr th:only-of-type {\n",
       "        vertical-align: middle;\n",
       "    }\n",
       "\n",
       "    .dataframe tbody tr th {\n",
       "        vertical-align: top;\n",
       "    }\n",
       "\n",
       "    .dataframe thead th {\n",
       "        text-align: right;\n",
       "    }\n",
       "</style>\n",
       "<table border=\"1\" class=\"dataframe\">\n",
       "  <thead>\n",
       "    <tr style=\"text-align: right;\">\n",
       "      <th></th>\n",
       "      <th>Degree</th>\n",
       "      <th>RMSE Train</th>\n",
       "      <th>R2 Train</th>\n",
       "      <th>RMSE Test</th>\n",
       "      <th>R2 Test</th>\n",
       "    </tr>\n",
       "  </thead>\n",
       "  <tbody>\n",
       "    <tr>\n",
       "      <th>0</th>\n",
       "      <td>1</td>\n",
       "      <td>4309.034681</td>\n",
       "      <td>0.763530</td>\n",
       "      <td>4404.444689</td>\n",
       "      <td>0.777590</td>\n",
       "    </tr>\n",
       "    <tr>\n",
       "      <th>1</th>\n",
       "      <td>2</td>\n",
       "      <td>3276.522980</td>\n",
       "      <td>0.863276</td>\n",
       "      <td>3320.012618</td>\n",
       "      <td>0.873628</td>\n",
       "    </tr>\n",
       "    <tr>\n",
       "      <th>2</th>\n",
       "      <td>3</td>\n",
       "      <td>2961.322456</td>\n",
       "      <td>0.888317</td>\n",
       "      <td>3097.633837</td>\n",
       "      <td>0.889990</td>\n",
       "    </tr>\n",
       "    <tr>\n",
       "      <th>3</th>\n",
       "      <td>4</td>\n",
       "      <td>2942.702351</td>\n",
       "      <td>0.889717</td>\n",
       "      <td>3477.855024</td>\n",
       "      <td>0.861326</td>\n",
       "    </tr>\n",
       "    <tr>\n",
       "      <th>4</th>\n",
       "      <td>5</td>\n",
       "      <td>6166.793492</td>\n",
       "      <td>0.515676</td>\n",
       "      <td>6681.058959</td>\n",
       "      <td>0.488245</td>\n",
       "    </tr>\n",
       "    <tr>\n",
       "      <th>5</th>\n",
       "      <td>6</td>\n",
       "      <td>6943.819550</td>\n",
       "      <td>0.385936</td>\n",
       "      <td>7548.609507</td>\n",
       "      <td>0.346711</td>\n",
       "    </tr>\n",
       "  </tbody>\n",
       "</table>\n",
       "</div>"
      ],
      "text/plain": [
       "   Degree   RMSE Train  R2 Train    RMSE Test   R2 Test\n",
       "0       1  4309.034681  0.763530  4404.444689  0.777590\n",
       "1       2  3276.522980  0.863276  3320.012618  0.873628\n",
       "2       3  2961.322456  0.888317  3097.633837  0.889990\n",
       "3       4  2942.702351  0.889717  3477.855024  0.861326\n",
       "4       5  6166.793492  0.515676  6681.058959  0.488245\n",
       "5       6  6943.819550  0.385936  7548.609507  0.346711"
      ]
     },
     "execution_count": 108,
     "metadata": {},
     "output_type": "execute_result"
    }
   ],
   "source": [
    "metrics = {\"Degree\":[], \"RMSE Train\":[], \"R2 Train\":[], \"RMSE Test\":[], \"R2 Test\":[]}\n",
    "for degree in [1, 2, 3, 4, 5, 6]:\n",
    "    #print(f\"Degree: {degree}\" )\n",
    "    x, y, z, w = polynomial_regression_model(degree, X_train, y_train, X_test, y_test, Ridge(alpha=0.1, random_state=SEED), print_output=False, show_plot=False)\n",
    "    metrics[\"Degree\"].append(degree)\n",
    "    metrics[\"RMSE Train\"].append(x)\n",
    "    metrics[\"R2 Train\"].append(y)\n",
    "    metrics[\"RMSE Test\"].append(z)\n",
    "    metrics[\"R2 Test\"].append(w)\n",
    "pd.DataFrame(metrics)"
   ]
  },
  {
   "cell_type": "code",
   "execution_count": null,
   "metadata": {},
   "outputs": [],
   "source": []
  }
 ],
 "metadata": {
  "colab": {
   "collapsed_sections": [],
   "name": "CSIS3290_MiniProject1.ipynb",
   "provenance": [],
   "toc_visible": true
  },
  "kernelspec": {
   "display_name": "Python 3",
   "language": "python",
   "name": "python3"
  },
  "language_info": {
   "codemirror_mode": {
    "name": "ipython",
    "version": 3
   },
   "file_extension": ".py",
   "mimetype": "text/x-python",
   "name": "python",
   "nbconvert_exporter": "python",
   "pygments_lexer": "ipython3",
   "version": "3.7.6"
  }
 },
 "nbformat": 4,
 "nbformat_minor": 4
}
